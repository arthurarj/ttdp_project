{
 "cells": [
  {
   "cell_type": "code",
   "execution_count": 1,
   "metadata": {},
   "outputs": [],
   "source": [
    "import pickle as pkl\n",
    "import pandas as pd\n",
    "import numpy as np\n",
    "import matplotlib.pyplot as plt\n",
    "import seaborn as sns\n",
    "\n",
    "from sklearn import metrics\n",
    "from sklearn.model_selection import train_test_split\n",
    "\n",
    "import sys\n",
    "from IPython.display import clear_output\n",
    "\n",
    "%run utils/feature-extractor/feat_extraction.py\n",
    "%run utils/utils_data_cleaning.py\n",
    "%run utils/utils_line_supercover.py"
   ]
  },
  {
   "cell_type": "markdown",
   "metadata": {},
   "source": [
    "### Load data"
   ]
  },
  {
   "cell_type": "code",
   "execution_count": 2,
   "metadata": {},
   "outputs": [
    {
     "data": {
      "text/html": [
       "<div>\n",
       "<style scoped>\n",
       "    .dataframe tbody tr th:only-of-type {\n",
       "        vertical-align: middle;\n",
       "    }\n",
       "\n",
       "    .dataframe tbody tr th {\n",
       "        vertical-align: top;\n",
       "    }\n",
       "\n",
       "    .dataframe thead th {\n",
       "        text-align: right;\n",
       "    }\n",
       "</style>\n",
       "<table border=\"1\" class=\"dataframe\">\n",
       "  <thead>\n",
       "    <tr style=\"text-align: right;\">\n",
       "      <th></th>\n",
       "      <th>index</th>\n",
       "      <th>pu_t</th>\n",
       "      <th>do_t</th>\n",
       "      <th>trip_dist</th>\n",
       "      <th>pu_lon</th>\n",
       "      <th>pu_lat</th>\n",
       "      <th>do_lon</th>\n",
       "      <th>do_lat</th>\n",
       "      <th>duration</th>\n",
       "      <th>vec_dist</th>\n",
       "      <th>trip_ratio</th>\n",
       "    </tr>\n",
       "  </thead>\n",
       "  <tbody>\n",
       "    <tr>\n",
       "      <th>0</th>\n",
       "      <td>0</td>\n",
       "      <td>2016-02-16 19:56:06</td>\n",
       "      <td>2016-02-16 20:10:46</td>\n",
       "      <td>8.53</td>\n",
       "      <td>-73.995750</td>\n",
       "      <td>40.764488</td>\n",
       "      <td>-73.926292</td>\n",
       "      <td>40.867458</td>\n",
       "      <td>880</td>\n",
       "      <td>7.983998</td>\n",
       "      <td>1.068387</td>\n",
       "    </tr>\n",
       "    <tr>\n",
       "      <th>1</th>\n",
       "      <td>1</td>\n",
       "      <td>2016-02-11 10:23:41</td>\n",
       "      <td>2016-02-11 10:45:04</td>\n",
       "      <td>1.95</td>\n",
       "      <td>-73.994110</td>\n",
       "      <td>40.751068</td>\n",
       "      <td>-73.993401</td>\n",
       "      <td>40.736019</td>\n",
       "      <td>1283</td>\n",
       "      <td>1.039087</td>\n",
       "      <td>1.876648</td>\n",
       "    </tr>\n",
       "    <tr>\n",
       "      <th>2</th>\n",
       "      <td>2</td>\n",
       "      <td>2016-02-21 14:21:57</td>\n",
       "      <td>2016-02-21 14:30:07</td>\n",
       "      <td>0.50</td>\n",
       "      <td>-73.973160</td>\n",
       "      <td>40.752728</td>\n",
       "      <td>-73.982178</td>\n",
       "      <td>40.756962</td>\n",
       "      <td>490</td>\n",
       "      <td>0.556130</td>\n",
       "      <td>0.899070</td>\n",
       "    </tr>\n",
       "    <tr>\n",
       "      <th>3</th>\n",
       "      <td>3</td>\n",
       "      <td>2016-02-11 22:51:59</td>\n",
       "      <td>2016-02-11 22:57:41</td>\n",
       "      <td>1.30</td>\n",
       "      <td>-73.991280</td>\n",
       "      <td>40.744808</td>\n",
       "      <td>-73.985909</td>\n",
       "      <td>40.731178</td>\n",
       "      <td>342</td>\n",
       "      <td>0.981839</td>\n",
       "      <td>1.324045</td>\n",
       "    </tr>\n",
       "    <tr>\n",
       "      <th>4</th>\n",
       "      <td>4</td>\n",
       "      <td>2016-02-13 18:32:08</td>\n",
       "      <td>2016-02-13 18:43:51</td>\n",
       "      <td>1.50</td>\n",
       "      <td>-73.992897</td>\n",
       "      <td>40.741280</td>\n",
       "      <td>-73.975967</td>\n",
       "      <td>40.748734</td>\n",
       "      <td>703</td>\n",
       "      <td>1.026608</td>\n",
       "      <td>1.461123</td>\n",
       "    </tr>\n",
       "  </tbody>\n",
       "</table>\n",
       "</div>"
      ],
      "text/plain": [
       "   index                pu_t                do_t  trip_dist     pu_lon  \\\n",
       "0      0 2016-02-16 19:56:06 2016-02-16 20:10:46       8.53 -73.995750   \n",
       "1      1 2016-02-11 10:23:41 2016-02-11 10:45:04       1.95 -73.994110   \n",
       "2      2 2016-02-21 14:21:57 2016-02-21 14:30:07       0.50 -73.973160   \n",
       "3      3 2016-02-11 22:51:59 2016-02-11 22:57:41       1.30 -73.991280   \n",
       "4      4 2016-02-13 18:32:08 2016-02-13 18:43:51       1.50 -73.992897   \n",
       "\n",
       "      pu_lat     do_lon     do_lat  duration  vec_dist  trip_ratio  \n",
       "0  40.764488 -73.926292  40.867458       880  7.983998    1.068387  \n",
       "1  40.751068 -73.993401  40.736019      1283  1.039087    1.876648  \n",
       "2  40.752728 -73.982178  40.756962       490  0.556130    0.899070  \n",
       "3  40.744808 -73.985909  40.731178       342  0.981839    1.324045  \n",
       "4  40.741280 -73.975967  40.748734       703  1.026608    1.461123  "
      ]
     },
     "execution_count": 2,
     "metadata": {},
     "output_type": "execute_result"
    }
   ],
   "source": [
    "dataset = pkl.load(open('../data/dataset_10M.pkl', 'rb'))\n",
    "dataset.head()"
   ]
  },
  {
   "cell_type": "code",
   "execution_count": 3,
   "metadata": {},
   "outputs": [
    {
     "data": {
      "text/html": [
       "<div>\n",
       "<style scoped>\n",
       "    .dataframe tbody tr th:only-of-type {\n",
       "        vertical-align: middle;\n",
       "    }\n",
       "\n",
       "    .dataframe tbody tr th {\n",
       "        vertical-align: top;\n",
       "    }\n",
       "\n",
       "    .dataframe thead th {\n",
       "        text-align: right;\n",
       "    }\n",
       "</style>\n",
       "<table border=\"1\" class=\"dataframe\">\n",
       "  <thead>\n",
       "    <tr style=\"text-align: right;\">\n",
       "      <th></th>\n",
       "      <th>trip_dist</th>\n",
       "    </tr>\n",
       "  </thead>\n",
       "  <tbody>\n",
       "    <tr>\n",
       "      <th>0</th>\n",
       "      <td>8.53</td>\n",
       "    </tr>\n",
       "    <tr>\n",
       "      <th>1</th>\n",
       "      <td>1.95</td>\n",
       "    </tr>\n",
       "    <tr>\n",
       "      <th>2</th>\n",
       "      <td>0.50</td>\n",
       "    </tr>\n",
       "    <tr>\n",
       "      <th>3</th>\n",
       "      <td>1.30</td>\n",
       "    </tr>\n",
       "    <tr>\n",
       "      <th>4</th>\n",
       "      <td>1.50</td>\n",
       "    </tr>\n",
       "  </tbody>\n",
       "</table>\n",
       "</div>"
      ],
      "text/plain": [
       "   trip_dist\n",
       "0       8.53\n",
       "1       1.95\n",
       "2       0.50\n",
       "3       1.30\n",
       "4       1.50"
      ]
     },
     "execution_count": 3,
     "metadata": {},
     "output_type": "execute_result"
    }
   ],
   "source": [
    "# Output \n",
    "output = dataset[['trip_dist']]\n",
    "output.head()"
   ]
  },
  {
   "cell_type": "markdown",
   "metadata": {},
   "source": [
    "### 1. Linear Model"
   ]
  },
  {
   "cell_type": "markdown",
   "metadata": {},
   "source": [
    "#### Extract feature"
   ]
  },
  {
   "cell_type": "code",
   "execution_count": 4,
   "metadata": {},
   "outputs": [
    {
     "name": "stdout",
     "output_type": "stream",
     "text": [
      "Extracting VectorDistance Features...\n"
     ]
    },
    {
     "data": {
      "text/html": [
       "<div>\n",
       "<style scoped>\n",
       "    .dataframe tbody tr th:only-of-type {\n",
       "        vertical-align: middle;\n",
       "    }\n",
       "\n",
       "    .dataframe tbody tr th {\n",
       "        vertical-align: top;\n",
       "    }\n",
       "\n",
       "    .dataframe thead th {\n",
       "        text-align: right;\n",
       "    }\n",
       "</style>\n",
       "<table border=\"1\" class=\"dataframe\">\n",
       "  <thead>\n",
       "    <tr style=\"text-align: right;\">\n",
       "      <th></th>\n",
       "      <th>vec_dist</th>\n",
       "    </tr>\n",
       "  </thead>\n",
       "  <tbody>\n",
       "    <tr>\n",
       "      <th>0</th>\n",
       "      <td>7.983998</td>\n",
       "    </tr>\n",
       "    <tr>\n",
       "      <th>1</th>\n",
       "      <td>1.039087</td>\n",
       "    </tr>\n",
       "    <tr>\n",
       "      <th>2</th>\n",
       "      <td>0.556130</td>\n",
       "    </tr>\n",
       "    <tr>\n",
       "      <th>3</th>\n",
       "      <td>0.981839</td>\n",
       "    </tr>\n",
       "    <tr>\n",
       "      <th>4</th>\n",
       "      <td>1.026608</td>\n",
       "    </tr>\n",
       "  </tbody>\n",
       "</table>\n",
       "</div>"
      ],
      "text/plain": [
       "   vec_dist\n",
       "0  7.983998\n",
       "1  1.039087\n",
       "2  0.556130\n",
       "3  0.981839\n",
       "4  1.026608"
      ]
     },
     "execution_count": 4,
     "metadata": {},
     "output_type": "execute_result"
    }
   ],
   "source": [
    "# Instantiate a (concrete) component\n",
    "featExtractor = FeatureExtractor(dataset=dataset)\n",
    "\n",
    "# Decorate with features\n",
    "featExtractor = VectorDistanceFeature(featExtractor)\n",
    "\n",
    "# Extract them\n",
    "features = featExtractor.getFeatures()\n",
    "features.head()"
   ]
  },
  {
   "cell_type": "markdown",
   "metadata": {},
   "source": [
    "#### Train/Test Split"
   ]
  },
  {
   "cell_type": "code",
   "execution_count": 5,
   "metadata": {},
   "outputs": [
    {
     "name": "stdout",
     "output_type": "stream",
     "text": [
      "Train size = 7000000\n",
      "Test size = 3000000\n"
     ]
    }
   ],
   "source": [
    "X_train, X_test, y_train, y_test = train_test_split(np.array(features), np.array(output), test_size=0.3, random_state=42)\n",
    "\n",
    "test_size = len(y_test)\n",
    "train_size = len(y_train)\n",
    "print('Train size =', train_size)\n",
    "print('Test size =', test_size)"
   ]
  },
  {
   "cell_type": "markdown",
   "metadata": {},
   "source": [
    "#### Train"
   ]
  },
  {
   "cell_type": "code",
   "execution_count": 6,
   "metadata": {},
   "outputs": [
    {
     "data": {
      "text/plain": [
       "1.3090175661026477"
      ]
     },
     "execution_count": 6,
     "metadata": {},
     "output_type": "execute_result"
    }
   ],
   "source": [
    "linear_model = np.median(y_train / X_train)\n",
    "linear_model"
   ]
  },
  {
   "cell_type": "markdown",
   "metadata": {},
   "source": [
    "#### Test and Evaluate"
   ]
  },
  {
   "cell_type": "code",
   "execution_count": 7,
   "metadata": {},
   "outputs": [
    {
     "name": "stdout",
     "output_type": "stream",
     "text": [
      "RMSE = 0.9221532900606446\n",
      "Mean Relative Deviation = 15.34%\n"
     ]
    }
   ],
   "source": [
    "y_pred = linear_model * X_test\n",
    "print('RMSE =', np.sqrt(metrics.mean_squared_error(y_test, y_pred)))\n",
    "\n",
    "mean_relative_deviation = np.mean(np.abs(y_pred - y_test)/y_test)\n",
    "print('Mean Relative Deviation = {0:.2f}%'.format(mean_relative_deviation * 100))"
   ]
  },
  {
   "cell_type": "markdown",
   "metadata": {},
   "source": [
    "### 2. Grid-based Model"
   ]
  },
  {
   "cell_type": "markdown",
   "metadata": {},
   "source": [
    "#### Extract feature"
   ]
  },
  {
   "cell_type": "code",
   "execution_count": 8,
   "metadata": {},
   "outputs": [
    {
     "name": "stdout",
     "output_type": "stream",
     "text": [
      "Extracting Coordinates Features...\n",
      "Extracting VectorDistance Features...\n",
      "Extracting TripDistanceRatio Features...\n"
     ]
    },
    {
     "data": {
      "text/html": [
       "<div>\n",
       "<style scoped>\n",
       "    .dataframe tbody tr th:only-of-type {\n",
       "        vertical-align: middle;\n",
       "    }\n",
       "\n",
       "    .dataframe tbody tr th {\n",
       "        vertical-align: top;\n",
       "    }\n",
       "\n",
       "    .dataframe thead th {\n",
       "        text-align: right;\n",
       "    }\n",
       "</style>\n",
       "<table border=\"1\" class=\"dataframe\">\n",
       "  <thead>\n",
       "    <tr style=\"text-align: right;\">\n",
       "      <th></th>\n",
       "      <th>pu_lon</th>\n",
       "      <th>pu_lat</th>\n",
       "      <th>do_lon</th>\n",
       "      <th>do_lat</th>\n",
       "      <th>vec_dist</th>\n",
       "      <th>trip_ratio</th>\n",
       "    </tr>\n",
       "  </thead>\n",
       "  <tbody>\n",
       "    <tr>\n",
       "      <th>0</th>\n",
       "      <td>-73.995750</td>\n",
       "      <td>40.764488</td>\n",
       "      <td>-73.926292</td>\n",
       "      <td>40.867458</td>\n",
       "      <td>7.983998</td>\n",
       "      <td>1.068387</td>\n",
       "    </tr>\n",
       "    <tr>\n",
       "      <th>1</th>\n",
       "      <td>-73.994110</td>\n",
       "      <td>40.751068</td>\n",
       "      <td>-73.993401</td>\n",
       "      <td>40.736019</td>\n",
       "      <td>1.039087</td>\n",
       "      <td>1.876648</td>\n",
       "    </tr>\n",
       "    <tr>\n",
       "      <th>2</th>\n",
       "      <td>-73.973160</td>\n",
       "      <td>40.752728</td>\n",
       "      <td>-73.982178</td>\n",
       "      <td>40.756962</td>\n",
       "      <td>0.556130</td>\n",
       "      <td>0.899070</td>\n",
       "    </tr>\n",
       "    <tr>\n",
       "      <th>3</th>\n",
       "      <td>-73.991280</td>\n",
       "      <td>40.744808</td>\n",
       "      <td>-73.985909</td>\n",
       "      <td>40.731178</td>\n",
       "      <td>0.981839</td>\n",
       "      <td>1.324045</td>\n",
       "    </tr>\n",
       "    <tr>\n",
       "      <th>4</th>\n",
       "      <td>-73.992897</td>\n",
       "      <td>40.741280</td>\n",
       "      <td>-73.975967</td>\n",
       "      <td>40.748734</td>\n",
       "      <td>1.026608</td>\n",
       "      <td>1.461123</td>\n",
       "    </tr>\n",
       "  </tbody>\n",
       "</table>\n",
       "</div>"
      ],
      "text/plain": [
       "      pu_lon     pu_lat     do_lon     do_lat  vec_dist  trip_ratio\n",
       "0 -73.995750  40.764488 -73.926292  40.867458  7.983998    1.068387\n",
       "1 -73.994110  40.751068 -73.993401  40.736019  1.039087    1.876648\n",
       "2 -73.973160  40.752728 -73.982178  40.756962  0.556130    0.899070\n",
       "3 -73.991280  40.744808 -73.985909  40.731178  0.981839    1.324045\n",
       "4 -73.992897  40.741280 -73.975967  40.748734  1.026608    1.461123"
      ]
     },
     "execution_count": 8,
     "metadata": {},
     "output_type": "execute_result"
    }
   ],
   "source": [
    "# Instantiate a (concrete) component\n",
    "featExtractor = FeatureExtractor(dataset=dataset)\n",
    "\n",
    "# Decorate with features\n",
    "featExtractor = CoordinatesFeature(featExtractor)\n",
    "featExtractor = VectorDistanceFeature(featExtractor)\n",
    "featExtractor = TripDistanceRatioFeature(featExtractor)\n",
    "\n",
    "# Extract them\n",
    "features = featExtractor.getFeatures()\n",
    "features.head()"
   ]
  },
  {
   "cell_type": "markdown",
   "metadata": {},
   "source": [
    "#### Train/Test Split"
   ]
  },
  {
   "cell_type": "code",
   "execution_count": 9,
   "metadata": {},
   "outputs": [
    {
     "name": "stdout",
     "output_type": "stream",
     "text": [
      "Train size = 7000000\n",
      "Test size = 3000000\n"
     ]
    }
   ],
   "source": [
    "X_train, X_test, y_train, y_test = train_test_split(features, output, test_size=0.3, random_state=42)\n",
    "\n",
    "X_train = np.array(X_train)\n",
    "X_test = np.array(X_test)\n",
    "\n",
    "y_test = np.array(y_test.trip_dist)\n",
    "\n",
    "test_size = len(y_test)\n",
    "train_size = len(y_train)\n",
    "print('Train size =', train_size)\n",
    "print('Test size =', test_size)"
   ]
  },
  {
   "cell_type": "markdown",
   "metadata": {},
   "source": [
    "#### Instantiate grids"
   ]
  },
  {
   "cell_type": "code",
   "execution_count": 10,
   "metadata": {},
   "outputs": [],
   "source": [
    "%run utils/utils_line_supercover.py\n",
    "sizes = [20, 40, 100, 150, 200, 300]\n",
    "region = (LAT_NORTH, LAT_SOUTH, LON_EAST, LON_WEST)\n",
    "\n",
    "gMaps = []\n",
    "median_maps = []\n",
    "\n",
    "gMaps = [GridMap(size=(s,s), bbox=region) for s in sizes]"
   ]
  },
  {
   "cell_type": "markdown",
   "metadata": {},
   "source": [
    "#### Fit to data"
   ]
  },
  {
   "cell_type": "code",
   "execution_count": 11,
   "metadata": {},
   "outputs": [
    {
     "name": "stdout",
     "output_type": "stream",
     "text": [
      "Started fitting grid of size 20x20\n",
      "Normalizing data...\n",
      "Building assigning map...\n",
      "Time spent: 214.98803471722084\n",
      "Reducing map...\n",
      "Finished.\n",
      "\n",
      "Started fitting grid of size 40x40\n",
      "Normalizing data...\n",
      "Building assigning map...\n",
      "Time spent: 244.0797511216049\n",
      "Reducing map...\n",
      "Finished.\n",
      "\n",
      "Started fitting grid of size 100x100\n",
      "Normalizing data...\n",
      "Building assigning map...\n",
      "Time spent: 351.83148321321966\n",
      "Reducing map...\n",
      "Finished.\n",
      "\n",
      "Started fitting grid of size 150x150\n",
      "Normalizing data...\n",
      "Building assigning map...\n",
      "Time spent: 429.751751981355\n",
      "Reducing map...\n",
      "Finished.\n",
      "\n",
      "Started fitting grid of size 200x200\n",
      "Normalizing data...\n",
      "Building assigning map...\n",
      "Time spent: 516.1457648487337\n",
      "Reducing map...\n",
      "Finished.\n",
      "\n",
      "Started fitting grid of size 300x300\n",
      "Normalizing data...\n",
      "Building assigning map...\n",
      "Time spent: 682.256936627117\n",
      "Reducing map...\n",
      "Finished.\n",
      "\n"
     ]
    }
   ],
   "source": [
    "median_maps = [gMap.fitGrid(X_train, func='median') for gMap in gMaps]"
   ]
  },
  {
   "cell_type": "markdown",
   "metadata": {},
   "source": [
    "#### Dump models"
   ]
  },
  {
   "cell_type": "code",
   "execution_count": 18,
   "metadata": {},
   "outputs": [],
   "source": [
    "for i, size in enumerate(sizes):\n",
    "    pkl.dump(gMaps[i], open('../distance_models/grid_trip_distance_model_{0}.mdl'.format(size), 'wb'))"
   ]
  },
  {
   "cell_type": "markdown",
   "metadata": {},
   "source": [
    "#### Prediction"
   ]
  },
  {
   "cell_type": "code",
   "execution_count": 19,
   "metadata": {},
   "outputs": [
    {
     "name": "stdout",
     "output_type": "stream",
     "text": [
      "Started prediction on grid of size 20x20\n",
      "Normalizing data...\n",
      "Prediction has started.\n",
      "Finished.\n",
      "\n",
      "Started prediction on grid of size 40x40\n",
      "Normalizing data...\n",
      "Prediction has started.\n",
      "Finished.\n",
      "\n",
      "Started prediction on grid of size 100x100\n",
      "Normalizing data...\n",
      "Prediction has started.\n",
      "Finished.\n",
      "\n",
      "Started prediction on grid of size 150x150\n",
      "Normalizing data...\n",
      "Prediction has started.\n",
      "Finished.\n",
      "\n",
      "Started prediction on grid of size 200x200\n",
      "Normalizing data...\n",
      "Prediction has started.\n",
      "Finished.\n",
      "\n",
      "Started prediction on grid of size 300x300\n",
      "Normalizing data...\n",
      "Prediction has started.\n",
      "Finished.\n",
      "\n"
     ]
    }
   ],
   "source": [
    "y_pred = [np.array(gMap.predictFactor(X_test)) * X_test[:,-2] for gMap in gMaps]"
   ]
  },
  {
   "cell_type": "code",
   "execution_count": 20,
   "metadata": {},
   "outputs": [
    {
     "name": "stdout",
     "output_type": "stream",
     "text": [
      "Size 20: RMSE = 0.8063359144503112\n",
      "Size 20: Mean Relative Deviation = 14.86%\n",
      "\n",
      "Size 40: RMSE = 0.7861908750722753\n",
      "Size 40: Mean Relative Deviation = 14.68%\n",
      "\n",
      "Size 100: RMSE = 0.7710428675236605\n",
      "Size 100: Mean Relative Deviation = 14.40%\n",
      "\n",
      "Size 150: RMSE = 0.7682078981788114\n",
      "Size 150: Mean Relative Deviation = 14.32%\n",
      "\n",
      "Size 200: RMSE = 0.7668762595485951\n",
      "Size 200: Mean Relative Deviation = 14.28%\n",
      "\n",
      "Size 300: RMSE = 0.7656540017370421\n",
      "Size 300: Mean Relative Deviation = 14.24%\n",
      "\n"
     ]
    }
   ],
   "source": [
    "for i in range(len(sizes)):\n",
    "    mean_relative_deviation = np.mean(np.abs(y_pred[i] - y_test)/y_test)\n",
    "    print('Size {0}: RMSE = {1}'.format(sizes[i], np.sqrt(metrics.mean_squared_error(y_test, y_pred[i]))))\n",
    "    print('Size {0}: Mean Relative Deviation = {1:.2f}%'.format(sizes[i], mean_relative_deviation * 100))\n",
    "    print()"
   ]
  },
  {
   "cell_type": "code",
   "execution_count": 31,
   "metadata": {},
   "outputs": [],
   "source": [
    "mdl = pkl.load(open('../distance_models/grid_trip_distance_model_300.mdl', 'rb')).grid_model\n",
    "\n",
    "clipped_mdl = mdl.copy()"
   ]
  },
  {
   "cell_type": "code",
   "execution_count": 35,
   "metadata": {},
   "outputs": [],
   "source": [
    "clipped_mdl[clipped_mdl > 4] = 4"
   ]
  },
  {
   "cell_type": "code",
   "execution_count": 38,
   "metadata": {},
   "outputs": [
    {
     "data": {
      "image/png": "[encoded data removed]",
      "text/plain": [
       "<Figure size 432x288 with 1 Axes>"
      ]
     },
     "metadata": {
      "needs_background": "light"
     },
     "output_type": "display_data"
    }
   ],
   "source": [
    "clipped_mdl_vec  =  clipped_mdl[~np.isnan( clipped_mdl)]\n",
    "\n",
    "plt.hist(clipped_mdl_vec, bins=50, log=True)\n",
    "plt.show()"
   ]
  },
  {
   "cell_type": "code",
   "execution_count": 37,
   "metadata": {},
   "outputs": [
    {
     "data": {
      "image/png": "[encoded data removed]",
      "text/plain": [
       "<Figure size 432x288 with 1 Axes>"
      ]
     },
     "metadata": {
      "needs_background": "light"
     },
     "output_type": "display_data"
    }
   ],
   "source": [
    "mdl_vec  =  mdl[~np.isnan( mdl)]\n",
    "\n",
    "plt.hist(mdl_vec, bins=50, log=True)\n",
    "plt.show()"
   ]
  }
 ],
 "metadata": {
  "kernelspec": {
   "display_name": "Python 3",
   "language": "python",
   "name": "python3"
  },
  "language_info": {
   "codemirror_mode": {
    "name": "ipython",
    "version": 3
   },
   "file_extension": ".py",
   "mimetype": "text/x-python",
   "name": "python",
   "nbconvert_exporter": "python",
   "pygments_lexer": "ipython3",
   "version": "3.6.6"
  }
 },
 "nbformat": 4,
 "nbformat_minor": 2
}
