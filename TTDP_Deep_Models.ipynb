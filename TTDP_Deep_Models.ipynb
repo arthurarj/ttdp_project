{
 "cells": [
  {
   "cell_type": "code",
   "execution_count": 123,
   "metadata": {},
   "outputs": [],
   "source": [
    "import pickle as pkl\n",
    "import pandas as pd\n",
    "import numpy as np\n",
    "\n",
    "from IPython.display import clear_output\n",
    "\n",
    "%run utils/utils_metrics.py"
   ]
  },
  {
   "cell_type": "markdown",
   "metadata": {},
   "source": [
    "### Load data"
   ]
  },
  {
   "cell_type": "code",
   "execution_count": 2,
   "metadata": {},
   "outputs": [
    {
     "data": {
      "text/html": [
       "<div>\n",
       "<style scoped>\n",
       "    .dataframe tbody tr th:only-of-type {\n",
       "        vertical-align: middle;\n",
       "    }\n",
       "\n",
       "    .dataframe tbody tr th {\n",
       "        vertical-align: top;\n",
       "    }\n",
       "\n",
       "    .dataframe thead th {\n",
       "        text-align: right;\n",
       "    }\n",
       "</style>\n",
       "<table border=\"1\" class=\"dataframe\">\n",
       "  <thead>\n",
       "    <tr style=\"text-align: right;\">\n",
       "      <th></th>\n",
       "      <th>pu_lon</th>\n",
       "      <th>pu_lat</th>\n",
       "      <th>do_lon</th>\n",
       "      <th>do_lat</th>\n",
       "      <th>vec_dist</th>\n",
       "      <th>grid_trip_dist</th>\n",
       "      <th>avg_hour_sin</th>\n",
       "      <th>avg_hour_cos</th>\n",
       "      <th>week_day_sin</th>\n",
       "      <th>week_day_cos</th>\n",
       "      <th>duration</th>\n",
       "    </tr>\n",
       "  </thead>\n",
       "  <tbody>\n",
       "    <tr>\n",
       "      <th>0</th>\n",
       "      <td>-0.618153</td>\n",
       "      <td>0.438220</td>\n",
       "      <td>1.350339</td>\n",
       "      <td>3.926724</td>\n",
       "      <td>2.505878</td>\n",
       "      <td>1.943777</td>\n",
       "      <td>-0.866025</td>\n",
       "      <td>5.000000e-01</td>\n",
       "      <td>0.781831</td>\n",
       "      <td>0.623490</td>\n",
       "      <td>0.148974</td>\n",
       "    </tr>\n",
       "    <tr>\n",
       "      <th>1</th>\n",
       "      <td>-0.571665</td>\n",
       "      <td>-0.016438</td>\n",
       "      <td>-0.551556</td>\n",
       "      <td>-0.526279</td>\n",
       "      <td>-0.443558</td>\n",
       "      <td>-0.434851</td>\n",
       "      <td>0.500000</td>\n",
       "      <td>-8.660254e-01</td>\n",
       "      <td>0.433884</td>\n",
       "      <td>-0.900969</td>\n",
       "      <td>0.822718</td>\n",
       "    </tr>\n",
       "    <tr>\n",
       "      <th>2</th>\n",
       "      <td>0.022083</td>\n",
       "      <td>0.039781</td>\n",
       "      <td>-0.233493</td>\n",
       "      <td>0.183234</td>\n",
       "      <td>-0.648665</td>\n",
       "      <td>-0.619845</td>\n",
       "      <td>-0.500000</td>\n",
       "      <td>-8.660254e-01</td>\n",
       "      <td>-0.781831</td>\n",
       "      <td>0.623490</td>\n",
       "      <td>-0.503036</td>\n",
       "    </tr>\n",
       "    <tr>\n",
       "      <th>3</th>\n",
       "      <td>-0.491446</td>\n",
       "      <td>-0.228516</td>\n",
       "      <td>-0.339226</td>\n",
       "      <td>-0.690281</td>\n",
       "      <td>-0.467870</td>\n",
       "      <td>-0.452716</td>\n",
       "      <td>-0.500000</td>\n",
       "      <td>8.660254e-01</td>\n",
       "      <td>0.433884</td>\n",
       "      <td>-0.900969</td>\n",
       "      <td>-0.750465</td>\n",
       "    </tr>\n",
       "    <tr>\n",
       "      <th>4</th>\n",
       "      <td>-0.537286</td>\n",
       "      <td>-0.348061</td>\n",
       "      <td>-0.057487</td>\n",
       "      <td>-0.095531</td>\n",
       "      <td>-0.448858</td>\n",
       "      <td>-0.441419</td>\n",
       "      <td>-1.000000</td>\n",
       "      <td>-1.836970e-16</td>\n",
       "      <td>-0.974928</td>\n",
       "      <td>-0.222521</td>\n",
       "      <td>-0.146938</td>\n",
       "    </tr>\n",
       "  </tbody>\n",
       "</table>\n",
       "</div>"
      ],
      "text/plain": [
       "     pu_lon    pu_lat    do_lon  ...  week_day_sin  week_day_cos  duration\n",
       "0 -0.618153  0.438220  1.350339  ...      0.781831      0.623490  0.148974\n",
       "1 -0.571665 -0.016438 -0.551556  ...      0.433884     -0.900969  0.822718\n",
       "2  0.022083  0.039781 -0.233493  ...     -0.781831      0.623490 -0.503036\n",
       "3 -0.491446 -0.228516 -0.339226  ...      0.433884     -0.900969 -0.750465\n",
       "4 -0.537286 -0.348061 -0.057487  ...     -0.974928     -0.222521 -0.146938\n",
       "\n",
       "[5 rows x 11 columns]"
      ]
     },
     "execution_count": 2,
     "metadata": {},
     "output_type": "execute_result"
    }
   ],
   "source": [
    "output_scaler = pkl.load(open('../features_extracted/scalers/out_scaler.scl', 'rb'))\n",
    "dataset = pkl.load(open('../features_extracted/taxi_trip_data_normalized_10M.dat', 'rb'))\n",
    "dataset.head()"
   ]
  },
  {
   "cell_type": "code",
   "execution_count": 7,
   "metadata": {},
   "outputs": [
    {
     "data": {
      "text/plain": [
       "(9999848, 11)"
      ]
     },
     "execution_count": 7,
     "metadata": {},
     "output_type": "execute_result"
    }
   ],
   "source": [
    "dataset['denorm_duration'] = output_scaler.inverse_transform(dataset.duration)\n",
    "dataset.drop(dataset[dataset.denorm_duration == 0].index, inplace=True)\n",
    "dataset.reset_index(inplace=True)\n",
    "dataset.drop('index', axis=1, inplace=True)\n",
    "dataset.drop('denorm_duration', axis=1, inplace=True)\n",
    "dataset.shape"
   ]
  },
  {
   "cell_type": "markdown",
   "metadata": {},
   "source": [
    "### Splitting data"
   ]
  },
  {
   "cell_type": "code",
   "execution_count": 25,
   "metadata": {},
   "outputs": [
    {
     "name": "stdout",
     "output_type": "stream",
     "text": [
      "Train/Valid/Test = 6999893 / 1999970 / 999985\n"
     ]
    }
   ],
   "source": [
    "n_feats = dataset.shape[1] - 1\n",
    "\n",
    "train_p = 0.7\n",
    "valid_p = 0.2\n",
    "\n",
    "train_data, validation_data, test_data = np.split(dataset.sample(frac=1, random_state=2112), \n",
    "                                              [int(train_p * len(dataset)), \n",
    "                                               int((train_p + valid_p) * len(dataset))])\n",
    "# Train data\n",
    "X_train = train_data[train_data.columns[:-1]]\n",
    "y_train = train_data[train_data.columns[-1]]\n",
    "\n",
    "# Validation data\n",
    "X_valid = validation_data[validation_data.columns[:-1]]\n",
    "y_valid = validation_data[validation_data.columns[-1]]\n",
    "\n",
    "# Testing data\n",
    "X_test = test_data[test_data.columns[:-1]]\n",
    "y_test = test_data[test_data.columns[-1]]\n",
    "y_test_denorm = output_scaler.inverse_transform(y_test).reshape(-1,1)\n",
    "\n",
    "print('Train/Valid/Test = {0} / {1} / {2}'.format(len(train_data), len(validation_data), len(test_data)))"
   ]
  },
  {
   "cell_type": "markdown",
   "metadata": {},
   "source": [
    "### Build model"
   ]
  },
  {
   "cell_type": "code",
   "execution_count": 148,
   "metadata": {},
   "outputs": [],
   "source": [
    "from keras.models import Sequential\n",
    "from keras.layers import Dense\n",
    "from keras import optimizers\n",
    "\n",
    "from time import time\n",
    "from tensorflow.python.keras.callbacks import TensorBoard"
   ]
  },
  {
   "cell_type": "code",
   "execution_count": 164,
   "metadata": {},
   "outputs": [],
   "source": [
    "import tensorflow as tf\n",
    "\n",
    "def huber_loss(y_true, y_pred):\n",
    "    return tf.losses.huber_loss(y_true,y_pred)"
   ]
  },
  {
   "cell_type": "code",
   "execution_count": 170,
   "metadata": {},
   "outputs": [
    {
     "name": "stdout",
     "output_type": "stream",
     "text": [
      "_________________________________________________________________\n",
      "Layer (type)                 Output Shape              Param #   \n",
      "=================================================================\n",
      "dense_79 (Dense)             (None, 200)               2200      \n",
      "_________________________________________________________________\n",
      "dense_80 (Dense)             (None, 200)               40200     \n",
      "_________________________________________________________________\n",
      "dense_81 (Dense)             (None, 100)               20100     \n",
      "_________________________________________________________________\n",
      "dense_82 (Dense)             (None, 100)               10100     \n",
      "_________________________________________________________________\n",
      "dense_83 (Dense)             (None, 50)                5050      \n",
      "_________________________________________________________________\n",
      "dense_84 (Dense)             (None, 50)                2550      \n",
      "_________________________________________________________________\n",
      "dense_85 (Dense)             (None, 50)                2550      \n",
      "_________________________________________________________________\n",
      "dense_86 (Dense)             (None, 1)                 51        \n",
      "=================================================================\n",
      "Total params: 82,801\n",
      "Trainable params: 82,801\n",
      "Non-trainable params: 0\n",
      "_________________________________________________________________\n"
     ]
    }
   ],
   "source": [
    "def build_model():\n",
    "    \n",
    "    model = Sequential()\n",
    "    \n",
    "    model.add(Dense(200, activation  = tf.nn.relu, input_shape = (n_feats,)))\n",
    "    model.add(Dense(200, activation='relu'))\n",
    "    model.add(Dense(100, activation='relu'))\n",
    "    model.add(Dense(100, activation='relu'))\n",
    "    model.add(Dense(50, activation='relu'))\n",
    "    model.add(Dense(50, activation='relu'))\n",
    "    model.add(Dense(50, activation='relu'))\n",
    "    model.add(Dense(1))\n",
    "    \n",
    "    opt = optimizers.Adam(lr=0.001)\n",
    "\n",
    "    model.compile(loss=huber_loss,\n",
    "                  optimizer=opt,\n",
    "                  metrics=['mae'])\n",
    "    return model\n",
    "\n",
    "model = build_model()\n",
    "model.summary()"
   ]
  },
  {
   "cell_type": "markdown",
   "metadata": {},
   "source": [
    "### 5. Training"
   ]
  },
  {
   "cell_type": "code",
   "execution_count": 171,
   "metadata": {},
   "outputs": [
    {
     "name": "stdout",
     "output_type": "stream",
     "text": [
      "Train on 6999893 samples, validate on 1999970 samples\n",
      "Epoch 1/50\n",
      "6999893/6999893 [==============================] - 461s 66us/step - loss: 0.0850 - mean_absolute_error: 0.2837 - val_loss: 0.0808 - val_mean_absolute_error: 0.2736\n",
      "Epoch 2/50\n",
      "6999893/6999893 [==============================] - 456s 65us/step - loss: 0.0804 - mean_absolute_error: 0.2740 - val_loss: 0.0799 - val_mean_absolute_error: 0.2701\n",
      "Epoch 3/50\n",
      "6999893/6999893 [==============================] - 435s 62us/step - loss: 0.0792 - mean_absolute_error: 0.2714 - val_loss: 0.0786 - val_mean_absolute_error: 0.2708\n",
      "Epoch 4/50\n",
      "6999893/6999893 [==============================] - 435s 62us/step - loss: 0.0785 - mean_absolute_error: 0.2699 - val_loss: 0.0780 - val_mean_absolute_error: 0.2705\n",
      "Epoch 5/50\n",
      "6999893/6999893 [==============================] - 435s 62us/step - loss: 0.0780 - mean_absolute_error: 0.2687 - val_loss: 0.0775 - val_mean_absolute_error: 0.2677\n",
      "Epoch 6/50\n",
      "6999893/6999893 [==============================] - 435s 62us/step - loss: 0.0777 - mean_absolute_error: 0.2679 - val_loss: 0.0776 - val_mean_absolute_error: 0.2659\n",
      "Epoch 7/50\n",
      "6999893/6999893 [==============================] - 437s 62us/step - loss: 0.0774 - mean_absolute_error: 0.2673 - val_loss: 0.0772 - val_mean_absolute_error: 0.2705\n",
      "Epoch 8/50\n",
      "6999893/6999893 [==============================] - 437s 62us/step - loss: 0.0772 - mean_absolute_error: 0.2668 - val_loss: 0.0770 - val_mean_absolute_error: 0.2636\n",
      "Epoch 9/50\n",
      "6999893/6999893 [==============================] - 437s 62us/step - loss: 0.0770 - mean_absolute_error: 0.2663 - val_loss: 0.0775 - val_mean_absolute_error: 0.2733\n",
      "Epoch 10/50\n",
      "6999893/6999893 [==============================] - 438s 63us/step - loss: 0.0769 - mean_absolute_error: 0.2660 - val_loss: 0.0776 - val_mean_absolute_error: 0.2635\n",
      "Epoch 11/50\n",
      "6999893/6999893 [==============================] - 437s 62us/step - loss: 0.0768 - mean_absolute_error: 0.2657 - val_loss: 0.0769 - val_mean_absolute_error: 0.2676\n",
      "Epoch 12/50\n",
      "6999893/6999893 [==============================] - 436s 62us/step - loss: 0.0767 - mean_absolute_error: 0.2656 - val_loss: 0.0775 - val_mean_absolute_error: 0.2666\n",
      "Epoch 13/50\n",
      "6999893/6999893 [==============================] - 437s 62us/step - loss: 0.0765 - mean_absolute_error: 0.2652 - val_loss: 0.0767 - val_mean_absolute_error: 0.2679\n",
      "Epoch 14/50\n",
      "6999893/6999893 [==============================] - 436s 62us/step - loss: 0.0764 - mean_absolute_error: 0.2648 - val_loss: 0.0766 - val_mean_absolute_error: 0.2608\n",
      "Epoch 15/50\n",
      "6999893/6999893 [==============================] - 436s 62us/step - loss: 0.0763 - mean_absolute_error: 0.2647 - val_loss: 0.0766 - val_mean_absolute_error: 0.2629\n",
      "Epoch 16/50\n",
      "6999893/6999893 [==============================] - 436s 62us/step - loss: 0.0763 - mean_absolute_error: 0.2645 - val_loss: 0.0762 - val_mean_absolute_error: 0.2663\n",
      "Epoch 17/50\n",
      "6999893/6999893 [==============================] - 433s 62us/step - loss: 0.0762 - mean_absolute_error: 0.2644 - val_loss: 0.0767 - val_mean_absolute_error: 0.2615\n",
      "Epoch 18/50\n",
      "6999893/6999893 [==============================] - 434s 62us/step - loss: 0.0761 - mean_absolute_error: 0.2642 - val_loss: 0.0769 - val_mean_absolute_error: 0.2668\n",
      "Epoch 19/50\n",
      "6999893/6999893 [==============================] - 434s 62us/step - loss: 0.0760 - mean_absolute_error: 0.2640 - val_loss: 0.0766 - val_mean_absolute_error: 0.2605\n",
      "Epoch 20/50\n",
      "6999893/6999893 [==============================] - 436s 62us/step - loss: 0.0760 - mean_absolute_error: 0.2639 - val_loss: 0.0765 - val_mean_absolute_error: 0.2610\n",
      "Epoch 21/50\n",
      "6999893/6999893 [==============================] - 436s 62us/step - loss: 0.0760 - mean_absolute_error: 0.2638 - val_loss: 0.0763 - val_mean_absolute_error: 0.2682\n",
      "Epoch 22/50\n",
      "6999893/6999893 [==============================] - 436s 62us/step - loss: 0.0760 - mean_absolute_error: 0.2639 - val_loss: 0.0762 - val_mean_absolute_error: 0.2618\n",
      "Epoch 23/50\n",
      "6999893/6999893 [==============================] - 436s 62us/step - loss: 0.0760 - mean_absolute_error: 0.2639 - val_loss: 0.0768 - val_mean_absolute_error: 0.2606\n",
      "Epoch 24/50\n",
      "6999893/6999893 [==============================] - 436s 62us/step - loss: 0.0760 - mean_absolute_error: 0.2638 - val_loss: 0.0771 - val_mean_absolute_error: 0.2595\n",
      "Epoch 25/50\n",
      "6999893/6999893 [==============================] - 436s 62us/step - loss: 0.0760 - mean_absolute_error: 0.2638 - val_loss: 0.0761 - val_mean_absolute_error: 0.2622\n",
      "Epoch 26/50\n",
      "6999893/6999893 [==============================] - 436s 62us/step - loss: 0.0759 - mean_absolute_error: 0.2636 - val_loss: 0.0766 - val_mean_absolute_error: 0.2597\n",
      "Epoch 27/50\n",
      "6999893/6999893 [==============================] - 436s 62us/step - loss: 0.0759 - mean_absolute_error: 0.2636 - val_loss: 0.0767 - val_mean_absolute_error: 0.2599\n",
      "Epoch 28/50\n",
      "6999893/6999893 [==============================] - 436s 62us/step - loss: 0.0758 - mean_absolute_error: 0.2635 - val_loss: 0.0762 - val_mean_absolute_error: 0.2687\n",
      "Epoch 29/50\n",
      "6999893/6999893 [==============================] - 436s 62us/step - loss: 0.0758 - mean_absolute_error: 0.2634 - val_loss: 0.0762 - val_mean_absolute_error: 0.2603\n",
      "Epoch 30/50\n",
      "6999893/6999893 [==============================] - 436s 62us/step - loss: 0.0757 - mean_absolute_error: 0.2633 - val_loss: 0.0759 - val_mean_absolute_error: 0.2608\n",
      "Epoch 31/50\n",
      "6999893/6999893 [==============================] - 436s 62us/step - loss: 0.0758 - mean_absolute_error: 0.2633 - val_loss: 0.0759 - val_mean_absolute_error: 0.2610\n",
      "Epoch 32/50\n",
      "6999893/6999893 [==============================] - 436s 62us/step - loss: 0.0757 - mean_absolute_error: 0.2631 - val_loss: 0.0761 - val_mean_absolute_error: 0.2643\n",
      "Epoch 33/50\n",
      "6999893/6999893 [==============================] - 436s 62us/step - loss: 0.0758 - mean_absolute_error: 0.2632 - val_loss: 0.0759 - val_mean_absolute_error: 0.2619\n",
      "Epoch 34/50\n",
      "6999893/6999893 [==============================] - 437s 62us/step - loss: 0.0757 - mean_absolute_error: 0.2631 - val_loss: 0.0766 - val_mean_absolute_error: 0.2699\n",
      "Epoch 35/50\n",
      "6999893/6999893 [==============================] - 438s 63us/step - loss: 0.0756 - mean_absolute_error: 0.2629 - val_loss: 0.0765 - val_mean_absolute_error: 0.2719\n",
      "Epoch 36/50\n",
      "6999893/6999893 [==============================] - 436s 62us/step - loss: 0.0756 - mean_absolute_error: 0.2628 - val_loss: 0.0758 - val_mean_absolute_error: 0.2649\n",
      "Epoch 37/50\n",
      "6999893/6999893 [==============================] - 437s 62us/step - loss: 0.0755 - mean_absolute_error: 0.2627 - val_loss: 0.0767 - val_mean_absolute_error: 0.2725\n",
      "Epoch 38/50\n",
      "6999893/6999893 [==============================] - 436s 62us/step - loss: 0.0755 - mean_absolute_error: 0.2628 - val_loss: 0.0767 - val_mean_absolute_error: 0.2591\n",
      "Epoch 39/50\n",
      "6999893/6999893 [==============================] - 436s 62us/step - loss: 0.0754 - mean_absolute_error: 0.2627 - val_loss: 0.0761 - val_mean_absolute_error: 0.2656\n",
      "Epoch 40/50\n",
      "6999893/6999893 [==============================] - 436s 62us/step - loss: 0.0754 - mean_absolute_error: 0.2626 - val_loss: 0.0781 - val_mean_absolute_error: 0.2625\n",
      "Epoch 41/50\n",
      "6999893/6999893 [==============================] - 437s 62us/step - loss: 0.0755 - mean_absolute_error: 0.2626 - val_loss: 0.0786 - val_mean_absolute_error: 0.2823\n",
      "Epoch 42/50\n",
      "6999893/6999893 [==============================] - 437s 62us/step - loss: 0.0754 - mean_absolute_error: 0.2626 - val_loss: 0.0761 - val_mean_absolute_error: 0.2598\n",
      "Epoch 43/50\n",
      "6999893/6999893 [==============================] - 437s 62us/step - loss: 0.0753 - mean_absolute_error: 0.2624 - val_loss: 0.0761 - val_mean_absolute_error: 0.2597\n",
      "Epoch 44/50\n",
      "6999893/6999893 [==============================] - 436s 62us/step - loss: 0.0755 - mean_absolute_error: 0.2625 - val_loss: 0.0765 - val_mean_absolute_error: 0.2583\n",
      "Epoch 45/50\n",
      "6999893/6999893 [==============================] - 436s 62us/step - loss: 0.0755 - mean_absolute_error: 0.2625 - val_loss: 0.0758 - val_mean_absolute_error: 0.2603\n",
      "Epoch 46/50\n",
      "6999893/6999893 [==============================] - 436s 62us/step - loss: 0.0753 - mean_absolute_error: 0.2623 - val_loss: 0.0765 - val_mean_absolute_error: 0.2672\n",
      "Epoch 47/50\n",
      "6999893/6999893 [==============================] - 433s 62us/step - loss: 0.0752 - mean_absolute_error: 0.2622 - val_loss: 0.0758 - val_mean_absolute_error: 0.2592\n",
      "Epoch 48/50\n",
      "6999893/6999893 [==============================] - 433s 62us/step - loss: 0.0752 - mean_absolute_error: 0.2621 - val_loss: 0.0755 - val_mean_absolute_error: 0.2606\n",
      "Epoch 49/50\n",
      "6999893/6999893 [==============================] - 433s 62us/step - loss: 0.0752 - mean_absolute_error: 0.2621 - val_loss: 0.0757 - val_mean_absolute_error: 0.2640\n",
      "Epoch 50/50\n",
      "6999893/6999893 [==============================] - 434s 62us/step - loss: 0.0752 - mean_absolute_error: 0.2621 - val_loss: 0.0754 - val_mean_absolute_error: 0.2596\n"
     ]
    }
   ],
   "source": [
    "EPOCHS = 25*2\n",
    "BATCH_SIZE = 64\n",
    "\n",
    "tensorboard = TensorBoard(log_dir='logs/{}'.format(time()))\n",
    "\n",
    "# Store training stats\n",
    "history = model.fit(X_train,\n",
    "                    y_train,\n",
    "                    epochs=EPOCHS,\n",
    "                    validation_data=(X_valid, y_valid),\n",
    "                    verbose=1,\n",
    "                    batch_size=BATCH_SIZE,\n",
    "                    callbacks=[tensorboard]\n",
    "                   )\n",
    "                    #, callbacks=[PrintDot()])"
   ]
  },
  {
   "cell_type": "code",
   "execution_count": 151,
   "metadata": {},
   "outputs": [
    {
     "name": "stdout",
     "output_type": "stream",
     "text": [
      "Train on 6999893 samples, validate on 1999970 samples\n",
      "Epoch 1/25\n",
      "6999893/6999893 [==============================] - 363s 52us/step - loss: 0.2084 - mean_absolute_error: 0.2905 - val_loss: 0.1990 - val_mean_absolute_error: 0.2858\n",
      "Epoch 2/25\n",
      "6999893/6999893 [==============================] - 366s 52us/step - loss: 0.1973 - mean_absolute_error: 0.2810 - val_loss: 0.1962 - val_mean_absolute_error: 0.2740\n",
      "Epoch 3/25\n",
      "6999893/6999893 [==============================] - 365s 52us/step - loss: 0.1946 - mean_absolute_error: 0.2785 - val_loss: 0.1931 - val_mean_absolute_error: 0.2798\n",
      "Epoch 4/25\n",
      "6999893/6999893 [==============================] - 363s 52us/step - loss: 0.1929 - mean_absolute_error: 0.2770 - val_loss: 0.1939 - val_mean_absolute_error: 0.2766\n",
      "Epoch 5/25\n",
      "6999893/6999893 [==============================] - 363s 52us/step - loss: 0.1918 - mean_absolute_error: 0.2760 - val_loss: 0.1910 - val_mean_absolute_error: 0.2774\n",
      "Epoch 6/25\n",
      "6999893/6999893 [==============================] - 362s 52us/step - loss: 0.1911 - mean_absolute_error: 0.2754 - val_loss: 0.1903 - val_mean_absolute_error: 0.2706\n",
      "Epoch 7/25\n",
      "6999893/6999893 [==============================] - 362s 52us/step - loss: 0.1904 - mean_absolute_error: 0.2748 - val_loss: 0.1899 - val_mean_absolute_error: 0.2748\n",
      "Epoch 8/25\n",
      "6999893/6999893 [==============================] - 361s 52us/step - loss: 0.1900 - mean_absolute_error: 0.2745 - val_loss: 0.1902 - val_mean_absolute_error: 0.2774\n",
      "Epoch 9/25\n",
      "6999893/6999893 [==============================] - 362s 52us/step - loss: 0.1897 - mean_absolute_error: 0.2741 - val_loss: 0.1903 - val_mean_absolute_error: 0.2730\n",
      "Epoch 10/25\n",
      "6999893/6999893 [==============================] - 362s 52us/step - loss: 0.1894 - mean_absolute_error: 0.2739 - val_loss: 0.1899 - val_mean_absolute_error: 0.2690\n",
      "Epoch 11/25\n",
      "6999893/6999893 [==============================] - 363s 52us/step - loss: 0.1891 - mean_absolute_error: 0.2736 - val_loss: 0.1887 - val_mean_absolute_error: 0.2726\n",
      "Epoch 12/25\n",
      "6999893/6999893 [==============================] - 362s 52us/step - loss: 0.1889 - mean_absolute_error: 0.2734 - val_loss: 0.1916 - val_mean_absolute_error: 0.2726\n",
      "Epoch 13/25\n",
      "6999893/6999893 [==============================] - 361s 52us/step - loss: 0.1886 - mean_absolute_error: 0.2733 - val_loss: 0.1905 - val_mean_absolute_error: 0.2853\n",
      "Epoch 14/25\n",
      "6999893/6999893 [==============================] - 363s 52us/step - loss: 0.1885 - mean_absolute_error: 0.2731 - val_loss: 0.1882 - val_mean_absolute_error: 0.2745\n",
      "Epoch 15/25\n",
      "6999893/6999893 [==============================] - 366s 52us/step - loss: 0.1883 - mean_absolute_error: 0.2728 - val_loss: 0.1902 - val_mean_absolute_error: 0.2686\n",
      "Epoch 16/25\n",
      "6999893/6999893 [==============================] - 363s 52us/step - loss: 0.1881 - mean_absolute_error: 0.2727 - val_loss: 0.1894 - val_mean_absolute_error: 0.2680\n",
      "Epoch 17/25\n",
      "6999893/6999893 [==============================] - 363s 52us/step - loss: 0.1879 - mean_absolute_error: 0.2726 - val_loss: 0.1893 - val_mean_absolute_error: 0.2774\n",
      "Epoch 18/25\n",
      "6999893/6999893 [==============================] - 363s 52us/step - loss: 0.1877 - mean_absolute_error: 0.2724 - val_loss: 0.1878 - val_mean_absolute_error: 0.2683\n",
      "Epoch 19/25\n",
      "6999893/6999893 [==============================] - 362s 52us/step - loss: 0.1876 - mean_absolute_error: 0.2723 - val_loss: 0.1897 - val_mean_absolute_error: 0.2668\n",
      "Epoch 20/25\n",
      "6999893/6999893 [==============================] - 363s 52us/step - loss: 0.1875 - mean_absolute_error: 0.2722 - val_loss: 0.1926 - val_mean_absolute_error: 0.2722\n",
      "Epoch 21/25\n",
      "6999893/6999893 [==============================] - 360s 51us/step - loss: 0.1874 - mean_absolute_error: 0.2721 - val_loss: 0.1881 - val_mean_absolute_error: 0.2714\n",
      "Epoch 22/25\n",
      "6999893/6999893 [==============================] - 360s 51us/step - loss: 0.1872 - mean_absolute_error: 0.2720 - val_loss: 0.1875 - val_mean_absolute_error: 0.2737\n",
      "Epoch 23/25\n",
      "6999893/6999893 [==============================] - 359s 51us/step - loss: 0.1872 - mean_absolute_error: 0.2719 - val_loss: 0.1935 - val_mean_absolute_error: 0.2708\n",
      "Epoch 24/25\n",
      "6999893/6999893 [==============================] - 362s 52us/step - loss: 0.1871 - mean_absolute_error: 0.2718 - val_loss: 0.1867 - val_mean_absolute_error: 0.2675\n",
      "Epoch 25/25\n",
      "6999893/6999893 [==============================] - 357s 51us/step - loss: 0.1870 - mean_absolute_error: 0.2717 - val_loss: 0.1875 - val_mean_absolute_error: 0.2770\n"
     ]
    }
   ],
   "source": [
    "EPOCHS = 25\n",
    "BATCH_SIZE = 64\n",
    "\n",
    "tensorboard = TensorBoard(log_dir='logs/{}'.format(time()))\n",
    "\n",
    "# Store training stats\n",
    "history = model.fit(X_train,\n",
    "                    y_train,\n",
    "                    epochs=EPOCHS,\n",
    "                    validation_data=(X_valid, y_valid),\n",
    "                    verbose=1,\n",
    "                    batch_size=BATCH_SIZE,\n",
    "                    callbacks=[tensorboard]\n",
    "                   )\n",
    "                    #, callbacks=[PrintDot()])"
   ]
  },
  {
   "cell_type": "code",
   "execution_count": 152,
   "metadata": {},
   "outputs": [],
   "source": [
    "y_pred = model.predict(X_test)\n",
    "y_pred_denorm = output_scaler.inverse_transform(y_pred)"
   ]
  },
  {
   "cell_type": "code",
   "execution_count": 154,
   "metadata": {},
   "outputs": [
    {
     "data": {
      "image/png": "[encoded data removed]",
      "text/plain": [
       "<Figure size 720x360 with 1 Axes>"
      ]
     },
     "metadata": {},
     "output_type": "display_data"
    },
    {
     "data": {
      "image/png": "[encoded data removed]",
      "text/plain": [
       "<Figure size 1152x432 with 1 Axes>"
      ]
     },
     "metadata": {},
     "output_type": "display_data"
    }
   ],
   "source": [
    "import matplotlib.pyplot as plt\n",
    "\n",
    "index_y_test = np.argsort(y_test_denorm,axis=0)\n",
    "\n",
    "plt.figure(figsize=(10,5))\n",
    "plt.hist(y_pred_denorm - y_test_denorm, bins='auto',log=True)\n",
    "plt.show()\n",
    "\n",
    "plt.figure(figsize=(16,6))\n",
    "plt.plot(y_pred_denorm[index_y_test[:],:].ravel())\n",
    "plt.plot(y_test_denorm[index_y_test[:],:].ravel())\n",
    "plt.show()"
   ]
  },
  {
   "cell_type": "markdown",
   "metadata": {},
   "source": [
    "### Computing metrics"
   ]
  },
  {
   "cell_type": "code",
   "execution_count": 155,
   "metadata": {},
   "outputs": [
    {
     "data": {
      "text/html": [
       "<div>\n",
       "<style scoped>\n",
       "    .dataframe tbody tr th:only-of-type {\n",
       "        vertical-align: middle;\n",
       "    }\n",
       "\n",
       "    .dataframe tbody tr th {\n",
       "        vertical-align: top;\n",
       "    }\n",
       "\n",
       "    .dataframe thead th {\n",
       "        text-align: right;\n",
       "    }\n",
       "</style>\n",
       "<table border=\"1\" class=\"dataframe\">\n",
       "  <thead>\n",
       "    <tr style=\"text-align: right;\">\n",
       "      <th></th>\n",
       "      <th>Exp. Var.</th>\n",
       "      <th>RMSLE</th>\n",
       "      <th>MAPE</th>\n",
       "      <th>MdAPE</th>\n",
       "      <th>MAE</th>\n",
       "      <th>MdAE</th>\n",
       "    </tr>\n",
       "  </thead>\n",
       "  <tbody>\n",
       "    <tr>\n",
       "      <th>Model</th>\n",
       "      <td>0.812342</td>\n",
       "      <td>0.328455</td>\n",
       "      <td>0.277299</td>\n",
       "      <td>0.189566</td>\n",
       "      <td>166.043888</td>\n",
       "      <td>115.432983</td>\n",
       "    </tr>\n",
       "  </tbody>\n",
       "</table>\n",
       "</div>"
      ],
      "text/plain": [
       "       Exp. Var.     RMSLE      MAPE     MdAPE         MAE        MdAE\n",
       "Model   0.812342  0.328455  0.277299  0.189566  166.043888  115.432983"
      ]
     },
     "execution_count": 155,
     "metadata": {},
     "output_type": "execute_result"
    }
   ],
   "source": [
    "y_pred_denorm_clipped = y_pred_denorm.clip(min=0)\n",
    "y_pred_clipped = output_scaler.transform(y_pred_denorm_clipped) \n",
    "\n",
    "compute_metrics(y_true = y_test.values, \n",
    "                y_pred = y_pred_clipped,\n",
    "                y_true_denorm = y_test_denorm, \n",
    "                y_pred_denorm = y_pred_denorm_clipped,\n",
    "                indices=['Model'])"
   ]
  },
  {
   "cell_type": "code",
   "execution_count": 122,
   "metadata": {},
   "outputs": [
    {
     "data": {
      "text/html": [
       "<div>\n",
       "<style scoped>\n",
       "    .dataframe tbody tr th:only-of-type {\n",
       "        vertical-align: middle;\n",
       "    }\n",
       "\n",
       "    .dataframe tbody tr th {\n",
       "        vertical-align: top;\n",
       "    }\n",
       "\n",
       "    .dataframe thead th {\n",
       "        text-align: right;\n",
       "    }\n",
       "</style>\n",
       "<table border=\"1\" class=\"dataframe\">\n",
       "  <thead>\n",
       "    <tr style=\"text-align: right;\">\n",
       "      <th></th>\n",
       "      <th>Exp. Var.</th>\n",
       "      <th>RMSLE</th>\n",
       "      <th>MAPE</th>\n",
       "      <th>MdAPE</th>\n",
       "      <th>MAE</th>\n",
       "      <th>MdAE</th>\n",
       "    </tr>\n",
       "  </thead>\n",
       "  <tbody>\n",
       "    <tr>\n",
       "      <th>Model</th>\n",
       "      <td>0.80691</td>\n",
       "      <td>0.331294</td>\n",
       "      <td>0.275276</td>\n",
       "      <td>0.186238</td>\n",
       "      <td>166.647117</td>\n",
       "      <td>113.17276</td>\n",
       "    </tr>\n",
       "  </tbody>\n",
       "</table>\n",
       "</div>"
      ],
      "text/plain": [
       "       Exp. Var.     RMSLE      MAPE     MdAPE         MAE       MdAE\n",
       "Model    0.80691  0.331294  0.275276  0.186238  166.647117  113.17276"
      ]
     },
     "execution_count": 122,
     "metadata": {},
     "output_type": "execute_result"
    }
   ],
   "source": [
    "y_pred_denorm_clipped = y_pred_denorm.clip(min=0)\n",
    "y_pred_clipped = output_scaler.transform(y_pred_denorm_clipped) \n",
    "\n",
    "compute_metrics(y_true = y_test.values, \n",
    "                y_pred = y_pred_clipped,\n",
    "                y_true_denorm = y_test_denorm, \n",
    "                y_pred_denorm = y_pred_denorm_clipped,\n",
    "                indices=['Model'])"
   ]
  }
 ],
 "metadata": {
  "kernelspec": {
   "display_name": "Python 3",
   "language": "python",
   "name": "python3"
  },
  "language_info": {
   "codemirror_mode": {
    "name": "ipython",
    "version": 3
   },
   "file_extension": ".py",
   "mimetype": "text/x-python",
   "name": "python",
   "nbconvert_exporter": "python",
   "pygments_lexer": "ipython3",
   "version": "3.6.8"
  }
 },
 "nbformat": 4,
 "nbformat_minor": 2
}
