{
 "cells": [
  {
   "cell_type": "code",
   "execution_count": 19,
   "metadata": {},
   "outputs": [],
   "source": [
    "import pickle as pkl\n",
    "import pandas as pd\n",
    "import numpy as np\n",
    "\n",
    "from sklearn import preprocessing\n",
    "from sklearn.model_selection import train_test_split\n",
    "\n",
    "from IPython.display import clear_output\n",
    "\n",
    "%run utils/utils_metrics.py\n",
    "\n",
    "import tensorflow as tf\n",
    "from tensorflow import keras"
   ]
  },
  {
   "cell_type": "markdown",
   "metadata": {},
   "source": [
    "### 1. Load data"
   ]
  },
  {
   "cell_type": "code",
   "execution_count": 2,
   "metadata": {},
   "outputs": [
    {
     "data": {
      "text/html": [
       "<div>\n",
       "<style scoped>\n",
       "    .dataframe tbody tr th:only-of-type {\n",
       "        vertical-align: middle;\n",
       "    }\n",
       "\n",
       "    .dataframe tbody tr th {\n",
       "        vertical-align: top;\n",
       "    }\n",
       "\n",
       "    .dataframe thead th {\n",
       "        text-align: right;\n",
       "    }\n",
       "</style>\n",
       "<table border=\"1\" class=\"dataframe\">\n",
       "  <thead>\n",
       "    <tr style=\"text-align: right;\">\n",
       "      <th></th>\n",
       "      <th>pu_lon</th>\n",
       "      <th>pu_lat</th>\n",
       "      <th>do_lon</th>\n",
       "      <th>do_lat</th>\n",
       "      <th>vec_dist</th>\n",
       "      <th>grid_trip_dist</th>\n",
       "      <th>avg_hour_sin</th>\n",
       "      <th>avg_hour_cos</th>\n",
       "      <th>week_day_sin</th>\n",
       "      <th>week_day_cos</th>\n",
       "      <th>duration</th>\n",
       "    </tr>\n",
       "  </thead>\n",
       "  <tbody>\n",
       "    <tr>\n",
       "      <th>0</th>\n",
       "      <td>-0.618153</td>\n",
       "      <td>0.438220</td>\n",
       "      <td>1.350339</td>\n",
       "      <td>3.926724</td>\n",
       "      <td>2.505878</td>\n",
       "      <td>1.943777</td>\n",
       "      <td>-0.866025</td>\n",
       "      <td>5.000000e-01</td>\n",
       "      <td>0.781831</td>\n",
       "      <td>0.623490</td>\n",
       "      <td>0.148974</td>\n",
       "    </tr>\n",
       "    <tr>\n",
       "      <th>1</th>\n",
       "      <td>-0.571665</td>\n",
       "      <td>-0.016438</td>\n",
       "      <td>-0.551556</td>\n",
       "      <td>-0.526279</td>\n",
       "      <td>-0.443558</td>\n",
       "      <td>-0.434851</td>\n",
       "      <td>0.500000</td>\n",
       "      <td>-8.660254e-01</td>\n",
       "      <td>0.433884</td>\n",
       "      <td>-0.900969</td>\n",
       "      <td>0.822718</td>\n",
       "    </tr>\n",
       "    <tr>\n",
       "      <th>2</th>\n",
       "      <td>0.022083</td>\n",
       "      <td>0.039781</td>\n",
       "      <td>-0.233493</td>\n",
       "      <td>0.183234</td>\n",
       "      <td>-0.648665</td>\n",
       "      <td>-0.619845</td>\n",
       "      <td>-0.500000</td>\n",
       "      <td>-8.660254e-01</td>\n",
       "      <td>-0.781831</td>\n",
       "      <td>0.623490</td>\n",
       "      <td>-0.503036</td>\n",
       "    </tr>\n",
       "    <tr>\n",
       "      <th>3</th>\n",
       "      <td>-0.491446</td>\n",
       "      <td>-0.228516</td>\n",
       "      <td>-0.339226</td>\n",
       "      <td>-0.690281</td>\n",
       "      <td>-0.467870</td>\n",
       "      <td>-0.452716</td>\n",
       "      <td>-0.500000</td>\n",
       "      <td>8.660254e-01</td>\n",
       "      <td>0.433884</td>\n",
       "      <td>-0.900969</td>\n",
       "      <td>-0.750465</td>\n",
       "    </tr>\n",
       "    <tr>\n",
       "      <th>4</th>\n",
       "      <td>-0.537286</td>\n",
       "      <td>-0.348061</td>\n",
       "      <td>-0.057487</td>\n",
       "      <td>-0.095531</td>\n",
       "      <td>-0.448858</td>\n",
       "      <td>-0.441419</td>\n",
       "      <td>-1.000000</td>\n",
       "      <td>-1.836970e-16</td>\n",
       "      <td>-0.974928</td>\n",
       "      <td>-0.222521</td>\n",
       "      <td>-0.146938</td>\n",
       "    </tr>\n",
       "  </tbody>\n",
       "</table>\n",
       "</div>"
      ],
      "text/plain": [
       "     pu_lon    pu_lat    do_lon    do_lat  vec_dist  grid_trip_dist  \\\n",
       "0 -0.618153  0.438220  1.350339  3.926724  2.505878        1.943777   \n",
       "1 -0.571665 -0.016438 -0.551556 -0.526279 -0.443558       -0.434851   \n",
       "2  0.022083  0.039781 -0.233493  0.183234 -0.648665       -0.619845   \n",
       "3 -0.491446 -0.228516 -0.339226 -0.690281 -0.467870       -0.452716   \n",
       "4 -0.537286 -0.348061 -0.057487 -0.095531 -0.448858       -0.441419   \n",
       "\n",
       "   avg_hour_sin  avg_hour_cos  week_day_sin  week_day_cos  duration  \n",
       "0     -0.866025  5.000000e-01      0.781831      0.623490  0.148974  \n",
       "1      0.500000 -8.660254e-01      0.433884     -0.900969  0.822718  \n",
       "2     -0.500000 -8.660254e-01     -0.781831      0.623490 -0.503036  \n",
       "3     -0.500000  8.660254e-01      0.433884     -0.900969 -0.750465  \n",
       "4     -1.000000 -1.836970e-16     -0.974928     -0.222521 -0.146938  "
      ]
     },
     "execution_count": 2,
     "metadata": {},
     "output_type": "execute_result"
    }
   ],
   "source": [
    "output_scaler = pkl.load(open('../features_extracted/scalers/out_scaler.scl', 'rb'))\n",
    "dataset = pkl.load(open('../features_extracted/taxi_trip_data_normalized_10M.dat', 'rb'))\n",
    "dataset.head()"
   ]
  },
  {
   "cell_type": "code",
   "execution_count": 46,
   "metadata": {},
   "outputs": [
    {
     "data": {
      "text/plain": [
       "10.71153634879715"
      ]
     },
     "execution_count": 46,
     "metadata": {},
     "output_type": "execute_result"
    }
   ],
   "source": [
    "dataset.duration.max()"
   ]
  },
  {
   "cell_type": "code",
   "execution_count": 47,
   "metadata": {},
   "outputs": [
    {
     "data": {
      "text/plain": [
       "-1.3205560167264712"
      ]
     },
     "execution_count": 47,
     "metadata": {},
     "output_type": "execute_result"
    }
   ],
   "source": [
    "dataset.duration.min()"
   ]
  },
  {
   "cell_type": "code",
   "execution_count": 3,
   "metadata": {},
   "outputs": [
    {
     "data": {
      "text/plain": [
       "(9999848, 11)"
      ]
     },
     "execution_count": 3,
     "metadata": {},
     "output_type": "execute_result"
    }
   ],
   "source": [
    "dataset['denorm_duration'] = output_scaler.inverse_transform(dataset.duration)\n",
    "dataset.drop(dataset[dataset.denorm_duration == 0].index, inplace=True)\n",
    "dataset.reset_index(inplace=True)\n",
    "dataset.drop('index', axis=1, inplace=True)\n",
    "dataset.drop('denorm_duration', axis=1, inplace=True)\n",
    "dataset.shape"
   ]
  },
  {
   "cell_type": "markdown",
   "metadata": {},
   "source": [
    "### 2. Splitting data"
   ]
  },
  {
   "cell_type": "code",
   "execution_count": 5,
   "metadata": {},
   "outputs": [],
   "source": [
    "X_train, X_test, y_train, y_test = train_test_split(dataset[dataset.columns[:-1]], \n",
    "                                                    dataset[dataset.columns[[-1]]],\n",
    "                                                    test_size=0.3, random_state=42)\n",
    "test_size = len(y_test)\n",
    "train_size = len(y_train)\n",
    "\n",
    "y_test_denorm = output_scaler.inverse_transform(y_test)"
   ]
  },
  {
   "cell_type": "markdown",
   "metadata": {},
   "source": [
    "### 4. Build model"
   ]
  },
  {
   "cell_type": "code",
   "execution_count": 52,
   "metadata": {},
   "outputs": [
    {
     "name": "stdout",
     "output_type": "stream",
     "text": [
      "_________________________________________________________________\n",
      "Layer (type)                 Output Shape              Param #   \n",
      "=================================================================\n",
      "dense_19 (Dense)             (None, 100)               1100      \n",
      "_________________________________________________________________\n",
      "dense_20 (Dense)             (None, 50)                5050      \n",
      "_________________________________________________________________\n",
      "dense_21 (Dense)             (None, 25)                1275      \n",
      "_________________________________________________________________\n",
      "dense_22 (Dense)             (None, 1)                 26        \n",
      "=================================================================\n",
      "Total params: 7,451\n",
      "Trainable params: 7,451\n",
      "Non-trainable params: 0\n",
      "_________________________________________________________________\n"
     ]
    }
   ],
   "source": [
    "def build_model():\n",
    "    model = keras.Sequential([\n",
    "    keras.layers.Dense(100, activation  = tf.nn.relu,\n",
    "                           input_shape = (X_train.shape[1],)),\n",
    "    keras.layers.Dense(50, activation=tf.nn.relu),\n",
    "    keras.layers.Dense(25, activation=tf.nn.relu),\n",
    "    keras.layers.Dense(1)\n",
    "    ])\n",
    "\n",
    "    optimizer = tf.train.AdamOptimizer(0.01)\n",
    "\n",
    "    model.compile(loss='mse',\n",
    "                  optimizer=optimizer,\n",
    "                  metrics=['mae'])\n",
    "    return model\n",
    "\n",
    "model = build_model()\n",
    "model.summary()"
   ]
  },
  {
   "cell_type": "markdown",
   "metadata": {},
   "source": [
    "### 5. Training"
   ]
  },
  {
   "cell_type": "code",
   "execution_count": 53,
   "metadata": {},
   "outputs": [
    {
     "name": "stdout",
     "output_type": "stream",
     "text": [
      "Train on 5599914 samples, validate on 1399979 samples\n",
      "Epoch 1/10\n",
      "5599914/5599914 [==============================] - 98s 17us/step - loss: 0.2351 - mean_absolute_error: 0.3152 - val_loss: 0.2169 - val_mean_absolute_error: 0.3030\n",
      "Epoch 2/10\n",
      "5599914/5599914 [==============================] - 97s 17us/step - loss: 0.2282 - mean_absolute_error: 0.3113 - val_loss: 0.2229 - val_mean_absolute_error: 0.3048\n",
      "Epoch 3/10\n",
      "5599914/5599914 [==============================] - 100s 18us/step - loss: 0.2267 - mean_absolute_error: 0.3100 - val_loss: 0.2282 - val_mean_absolute_error: 0.2981\n",
      "Epoch 4/10\n",
      "5599914/5599914 [==============================] - 95s 17us/step - loss: 0.2260 - mean_absolute_error: 0.3096 - val_loss: 0.2192 - val_mean_absolute_error: 0.2979\n",
      "Epoch 5/10\n",
      "5599914/5599914 [==============================] - 97s 17us/step - loss: 0.2254 - mean_absolute_error: 0.3092 - val_loss: 0.2397 - val_mean_absolute_error: 0.3546\n",
      "Epoch 6/10\n",
      "5599914/5599914 [==============================] - 102s 18us/step - loss: 0.2253 - mean_absolute_error: 0.3091 - val_loss: 0.2185 - val_mean_absolute_error: 0.3107\n",
      "Epoch 7/10\n",
      "5599914/5599914 [==============================] - 96s 17us/step - loss: 0.2250 - mean_absolute_error: 0.3088 - val_loss: 0.2183 - val_mean_absolute_error: 0.3145\n",
      "Epoch 8/10\n",
      "5599914/5599914 [==============================] - 99s 18us/step - loss: 0.2249 - mean_absolute_error: 0.3090 - val_loss: 0.2323 - val_mean_absolute_error: 0.3387\n",
      "Epoch 9/10\n",
      "5599914/5599914 [==============================] - 96s 17us/step - loss: 0.2249 - mean_absolute_error: 0.3088 - val_loss: 0.2153 - val_mean_absolute_error: 0.3015\n",
      "Epoch 10/10\n",
      "5599914/5599914 [==============================] - 97s 17us/step - loss: 0.2249 - mean_absolute_error: 0.3090 - val_loss: 0.2208 - val_mean_absolute_error: 0.2987\n"
     ]
    }
   ],
   "source": [
    "EPOCHS = 10\n",
    "    \n",
    "# Store training stats\n",
    "history = model.fit(X_train, y_train, \n",
    "                    epochs=EPOCHS,\n",
    "                    validation_split=0.2, \n",
    "                    verbose=1)\n",
    "                    #, callbacks=[PrintDot()])"
   ]
  },
  {
   "cell_type": "code",
   "execution_count": 43,
   "metadata": {},
   "outputs": [
    {
     "data": {
      "text/plain": [
       "35.22210981494661"
      ]
     },
     "execution_count": 43,
     "metadata": {},
     "output_type": "execute_result"
    }
   ],
   "source": [
    "y_pred = model.predict(X_test)\n",
    "y_pred_denorm = output_scaler.inverse_transform(y_pred)\n",
    "\n",
    "np.concatenate((y_pred_denorm, y_test_denorm),axis=1);\n",
    "100*np.mean(np.abs(y_pred_denorm - y_test_denorm)/y_test_denorm)"
   ]
  },
  {
   "cell_type": "markdown",
   "metadata": {},
   "source": [
    "### Load trained models for computing metrics"
   ]
  },
  {
   "cell_type": "code",
   "execution_count": 117,
   "metadata": {},
   "outputs": [],
   "source": [
    "output_scaler = pkl.load(open('../features_extracted/scalers/out_scaler.scl', 'rb'))"
   ]
  },
  {
   "cell_type": "code",
   "execution_count": 149,
   "metadata": {},
   "outputs": [],
   "source": [
    "# model_id = '2018-12-13 22_39_11.523054'      # densenet1\n",
    "# model_id = '2018-12-13 22_51_58.230196'      # densenet2\n",
    "# model_id = '2018-12-14 02_23_45.104542'      # densenet3\n",
    "# model_id = '2018-12-14 11_54_29.011963'      # densenet4.1\n",
    "model_id = '2018-12-14 18_09_28.892350'      # densenet4.2\n",
    "\n",
    "\n",
    "y_test_name = 'y_test.dat'\n",
    "y_pred_name = 'y_pred_' + model_id + '.dat'\n",
    "\n",
    "model_name = 'model_' + model_id + '.json'\n",
    "weights_name = 'model_' + model_id + '.h5'"
   ]
  },
  {
   "cell_type": "code",
   "execution_count": 150,
   "metadata": {},
   "outputs": [],
   "source": [
    "y_test = pkl.load(open('../deep_models/' + y_test_name, 'rb'))\n",
    "y_pred = pkl.load(open('../deep_models/' + y_pred_name, 'rb'))"
   ]
  },
  {
   "cell_type": "code",
   "execution_count": 151,
   "metadata": {},
   "outputs": [],
   "source": [
    "y_test_denorm = output_scaler.inverse_transform(y_test)\n",
    "y_pred_denorm = output_scaler.inverse_transform(y_pred)"
   ]
  },
  {
   "cell_type": "code",
   "execution_count": 152,
   "metadata": {},
   "outputs": [],
   "source": [
    "# Set all negative outputs to zero (we're predicting time)\n",
    "y_pred_denorm[y_pred_denorm < 0] = 0\n",
    "\n",
    "# Transform back again\n",
    "y_pred = output_scaler.transform(y_pred_denorm)"
   ]
  },
  {
   "cell_type": "code",
   "execution_count": 133,
   "metadata": {},
   "outputs": [
    {
     "name": "stdout",
     "output_type": "stream",
     "text": [
      "ID = 2018-12-13 22_39_11.523054\n"
     ]
    },
    {
     "data": {
      "text/html": [
       "<div>\n",
       "<style scoped>\n",
       "    .dataframe tbody tr th:only-of-type {\n",
       "        vertical-align: middle;\n",
       "    }\n",
       "\n",
       "    .dataframe tbody tr th {\n",
       "        vertical-align: top;\n",
       "    }\n",
       "\n",
       "    .dataframe thead th {\n",
       "        text-align: right;\n",
       "    }\n",
       "</style>\n",
       "<table border=\"1\" class=\"dataframe\">\n",
       "  <thead>\n",
       "    <tr style=\"text-align: right;\">\n",
       "      <th></th>\n",
       "      <th>Exp. Var.</th>\n",
       "      <th>R2</th>\n",
       "      <th>MSE</th>\n",
       "      <th>RMSE</th>\n",
       "      <th>nMSE</th>\n",
       "      <th>nRMSE</th>\n",
       "      <th>MSLE</th>\n",
       "      <th>RMSLE</th>\n",
       "      <th>MAPE</th>\n",
       "    </tr>\n",
       "  </thead>\n",
       "  <tbody>\n",
       "    <tr>\n",
       "      <th>0</th>\n",
       "      <td>0.810154</td>\n",
       "      <td>0.810128</td>\n",
       "      <td>68090.369474</td>\n",
       "      <td>260.941314</td>\n",
       "      <td>0.190311</td>\n",
       "      <td>0.436247</td>\n",
       "      <td>0.104263</td>\n",
       "      <td>0.322897</td>\n",
       "      <td>25.916725</td>\n",
       "    </tr>\n",
       "  </tbody>\n",
       "</table>\n",
       "</div>"
      ],
      "text/plain": [
       "   Exp. Var.        R2           MSE        RMSE      nMSE     nRMSE  \\\n",
       "0   0.810154  0.810128  68090.369474  260.941314  0.190311  0.436247   \n",
       "\n",
       "       MSLE     RMSLE       MAPE  \n",
       "0  0.104263  0.322897  25.916725  "
      ]
     },
     "execution_count": 133,
     "metadata": {},
     "output_type": "execute_result"
    }
   ],
   "source": [
    "print('ID =', model_id)\n",
    "compute_metrics(y_true = y_test.values, y_pred = y_pred.reshape(1,-1),\n",
    "                y_true_denorm = y_test_denorm, y_pred_denorm = y_pred_denorm.reshape(1,-1),\n",
    "                indices=[0])"
   ]
  },
  {
   "cell_type": "code",
   "execution_count": 138,
   "metadata": {},
   "outputs": [
    {
     "name": "stdout",
     "output_type": "stream",
     "text": [
      "ID = 2018-12-13 22_51_58.230196\n"
     ]
    },
    {
     "data": {
      "text/html": [
       "<div>\n",
       "<style scoped>\n",
       "    .dataframe tbody tr th:only-of-type {\n",
       "        vertical-align: middle;\n",
       "    }\n",
       "\n",
       "    .dataframe tbody tr th {\n",
       "        vertical-align: top;\n",
       "    }\n",
       "\n",
       "    .dataframe thead th {\n",
       "        text-align: right;\n",
       "    }\n",
       "</style>\n",
       "<table border=\"1\" class=\"dataframe\">\n",
       "  <thead>\n",
       "    <tr style=\"text-align: right;\">\n",
       "      <th></th>\n",
       "      <th>Exp. Var.</th>\n",
       "      <th>R2</th>\n",
       "      <th>MSE</th>\n",
       "      <th>RMSE</th>\n",
       "      <th>nMSE</th>\n",
       "      <th>nRMSE</th>\n",
       "      <th>MSLE</th>\n",
       "      <th>RMSLE</th>\n",
       "      <th>MAPE</th>\n",
       "    </tr>\n",
       "  </thead>\n",
       "  <tbody>\n",
       "    <tr>\n",
       "      <th>0</th>\n",
       "      <td>0.81155</td>\n",
       "      <td>0.8114</td>\n",
       "      <td>67634.355624</td>\n",
       "      <td>260.06606</td>\n",
       "      <td>0.189037</td>\n",
       "      <td>0.434784</td>\n",
       "      <td>0.102288</td>\n",
       "      <td>0.319824</td>\n",
       "      <td>25.700501</td>\n",
       "    </tr>\n",
       "  </tbody>\n",
       "</table>\n",
       "</div>"
      ],
      "text/plain": [
       "   Exp. Var.      R2           MSE       RMSE      nMSE     nRMSE      MSLE  \\\n",
       "0    0.81155  0.8114  67634.355624  260.06606  0.189037  0.434784  0.102288   \n",
       "\n",
       "      RMSLE       MAPE  \n",
       "0  0.319824  25.700501  "
      ]
     },
     "execution_count": 138,
     "metadata": {},
     "output_type": "execute_result"
    }
   ],
   "source": [
    "print('ID =', model_id)\n",
    "compute_metrics(y_true = y_test.values, y_pred = y_pred.reshape(1,-1),\n",
    "                y_true_denorm = y_test_denorm, y_pred_denorm = y_pred_denorm.reshape(1,-1),\n",
    "                indices=[0])"
   ]
  },
  {
   "cell_type": "code",
   "execution_count": 143,
   "metadata": {},
   "outputs": [
    {
     "name": "stdout",
     "output_type": "stream",
     "text": [
      "ID = 2018-12-14 02_23_45.104542\n"
     ]
    },
    {
     "data": {
      "text/html": [
       "<div>\n",
       "<style scoped>\n",
       "    .dataframe tbody tr th:only-of-type {\n",
       "        vertical-align: middle;\n",
       "    }\n",
       "\n",
       "    .dataframe tbody tr th {\n",
       "        vertical-align: top;\n",
       "    }\n",
       "\n",
       "    .dataframe thead th {\n",
       "        text-align: right;\n",
       "    }\n",
       "</style>\n",
       "<table border=\"1\" class=\"dataframe\">\n",
       "  <thead>\n",
       "    <tr style=\"text-align: right;\">\n",
       "      <th></th>\n",
       "      <th>Exp. Var.</th>\n",
       "      <th>R2</th>\n",
       "      <th>MSE</th>\n",
       "      <th>RMSE</th>\n",
       "      <th>nMSE</th>\n",
       "      <th>nRMSE</th>\n",
       "      <th>MSLE</th>\n",
       "      <th>RMSLE</th>\n",
       "      <th>MAPE</th>\n",
       "    </tr>\n",
       "  </thead>\n",
       "  <tbody>\n",
       "    <tr>\n",
       "      <th>0</th>\n",
       "      <td>0.808138</td>\n",
       "      <td>0.806723</td>\n",
       "      <td>69311.553238</td>\n",
       "      <td>263.270874</td>\n",
       "      <td>0.193725</td>\n",
       "      <td>0.440142</td>\n",
       "      <td>0.111982</td>\n",
       "      <td>0.334637</td>\n",
       "      <td>28.616338</td>\n",
       "    </tr>\n",
       "  </tbody>\n",
       "</table>\n",
       "</div>"
      ],
      "text/plain": [
       "   Exp. Var.        R2           MSE        RMSE      nMSE     nRMSE  \\\n",
       "0   0.808138  0.806723  69311.553238  263.270874  0.193725  0.440142   \n",
       "\n",
       "       MSLE     RMSLE       MAPE  \n",
       "0  0.111982  0.334637  28.616338  "
      ]
     },
     "execution_count": 143,
     "metadata": {},
     "output_type": "execute_result"
    }
   ],
   "source": [
    "print('ID =', model_id)\n",
    "compute_metrics(y_true = y_test.values, y_pred = y_pred.reshape(1,-1),\n",
    "                y_true_denorm = y_test_denorm, y_pred_denorm = y_pred_denorm.reshape(1,-1),\n",
    "                indices=[0])"
   ]
  },
  {
   "cell_type": "code",
   "execution_count": 148,
   "metadata": {
    "scrolled": true
   },
   "outputs": [
    {
     "name": "stdout",
     "output_type": "stream",
     "text": [
      "ID = 2018-12-14 11_54_29.011963\n"
     ]
    },
    {
     "data": {
      "text/html": [
       "<div>\n",
       "<style scoped>\n",
       "    .dataframe tbody tr th:only-of-type {\n",
       "        vertical-align: middle;\n",
       "    }\n",
       "\n",
       "    .dataframe tbody tr th {\n",
       "        vertical-align: top;\n",
       "    }\n",
       "\n",
       "    .dataframe thead th {\n",
       "        text-align: right;\n",
       "    }\n",
       "</style>\n",
       "<table border=\"1\" class=\"dataframe\">\n",
       "  <thead>\n",
       "    <tr style=\"text-align: right;\">\n",
       "      <th></th>\n",
       "      <th>Exp. Var.</th>\n",
       "      <th>R2</th>\n",
       "      <th>MSE</th>\n",
       "      <th>RMSE</th>\n",
       "      <th>nMSE</th>\n",
       "      <th>nRMSE</th>\n",
       "      <th>MSLE</th>\n",
       "      <th>RMSLE</th>\n",
       "      <th>MAPE</th>\n",
       "    </tr>\n",
       "  </thead>\n",
       "  <tbody>\n",
       "    <tr>\n",
       "      <th>0</th>\n",
       "      <td>0.807199</td>\n",
       "      <td>0.807113</td>\n",
       "      <td>69171.445522</td>\n",
       "      <td>263.004649</td>\n",
       "      <td>0.193333</td>\n",
       "      <td>0.439697</td>\n",
       "      <td>0.10625</td>\n",
       "      <td>0.32596</td>\n",
       "      <td>26.570978</td>\n",
       "    </tr>\n",
       "  </tbody>\n",
       "</table>\n",
       "</div>"
      ],
      "text/plain": [
       "   Exp. Var.        R2           MSE        RMSE      nMSE     nRMSE     MSLE  \\\n",
       "0   0.807199  0.807113  69171.445522  263.004649  0.193333  0.439697  0.10625   \n",
       "\n",
       "     RMSLE       MAPE  \n",
       "0  0.32596  26.570978  "
      ]
     },
     "execution_count": 148,
     "metadata": {},
     "output_type": "execute_result"
    }
   ],
   "source": [
    "print('ID =', model_id)\n",
    "compute_metrics(y_true = y_test.values, y_pred = y_pred.reshape(1,-1),\n",
    "                y_true_denorm = y_test_denorm, y_pred_denorm = y_pred_denorm.reshape(1,-1),\n",
    "                indices=[0])"
   ]
  },
  {
   "cell_type": "code",
   "execution_count": 153,
   "metadata": {
    "scrolled": true
   },
   "outputs": [
    {
     "name": "stdout",
     "output_type": "stream",
     "text": [
      "ID = 2018-12-14 18_09_28.892350\n"
     ]
    },
    {
     "data": {
      "text/html": [
       "<div>\n",
       "<style scoped>\n",
       "    .dataframe tbody tr th:only-of-type {\n",
       "        vertical-align: middle;\n",
       "    }\n",
       "\n",
       "    .dataframe tbody tr th {\n",
       "        vertical-align: top;\n",
       "    }\n",
       "\n",
       "    .dataframe thead th {\n",
       "        text-align: right;\n",
       "    }\n",
       "</style>\n",
       "<table border=\"1\" class=\"dataframe\">\n",
       "  <thead>\n",
       "    <tr style=\"text-align: right;\">\n",
       "      <th></th>\n",
       "      <th>Exp. Var.</th>\n",
       "      <th>R2</th>\n",
       "      <th>MSE</th>\n",
       "      <th>RMSE</th>\n",
       "      <th>nMSE</th>\n",
       "      <th>nRMSE</th>\n",
       "      <th>MSLE</th>\n",
       "      <th>RMSLE</th>\n",
       "      <th>MAPE</th>\n",
       "    </tr>\n",
       "  </thead>\n",
       "  <tbody>\n",
       "    <tr>\n",
       "      <th>0</th>\n",
       "      <td>0.809009</td>\n",
       "      <td>0.808963</td>\n",
       "      <td>68508.101186</td>\n",
       "      <td>261.740523</td>\n",
       "      <td>0.191479</td>\n",
       "      <td>0.437583</td>\n",
       "      <td>0.105644</td>\n",
       "      <td>0.325028</td>\n",
       "      <td>26.714438</td>\n",
       "    </tr>\n",
       "  </tbody>\n",
       "</table>\n",
       "</div>"
      ],
      "text/plain": [
       "   Exp. Var.        R2           MSE        RMSE      nMSE     nRMSE  \\\n",
       "0   0.809009  0.808963  68508.101186  261.740523  0.191479  0.437583   \n",
       "\n",
       "       MSLE     RMSLE       MAPE  \n",
       "0  0.105644  0.325028  26.714438  "
      ]
     },
     "execution_count": 153,
     "metadata": {},
     "output_type": "execute_result"
    }
   ],
   "source": [
    "print('ID =', model_id)\n",
    "compute_metrics(y_true = y_test.values, y_pred = y_pred.reshape(1,-1),\n",
    "                y_true_denorm = y_test_denorm, y_pred_denorm = y_pred_denorm.reshape(1,-1),\n",
    "                indices=[0])"
   ]
  }
 ],
 "metadata": {
  "kernelspec": {
   "display_name": "Python 3",
   "language": "python",
   "name": "python3"
  },
  "language_info": {
   "codemirror_mode": {
    "name": "ipython",
    "version": 3
   },
   "file_extension": ".py",
   "mimetype": "text/x-python",
   "name": "python",
   "nbconvert_exporter": "python",
   "pygments_lexer": "ipython3",
   "version": "3.6.6"
  }
 },
 "nbformat": 4,
 "nbformat_minor": 2
}
