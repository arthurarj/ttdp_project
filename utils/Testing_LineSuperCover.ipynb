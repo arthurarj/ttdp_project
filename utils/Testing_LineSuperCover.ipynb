{
 "cells": [
  {
   "cell_type": "code",
   "execution_count": 26,
   "metadata": {},
   "outputs": [],
   "source": [
    "%run utils_line_supercover.py"
   ]
  },
  {
   "cell_type": "markdown",
   "metadata": {},
   "source": [
    "### Testing"
   ]
  },
  {
   "cell_type": "code",
   "execution_count": 27,
   "metadata": {},
   "outputs": [],
   "source": [
    "LAT_NORTH = 40.917577\n",
    "LAT_SOUTH = 40.477399 \n",
    "LON_EAST = -73.700272\n",
    "LON_WEST = -74.259090 "
   ]
  },
  {
   "cell_type": "code",
   "execution_count": 28,
   "metadata": {},
   "outputs": [
    {
     "data": {
      "image/png": "[encoded data removed]",
      "text/plain": [
       "<Figure size 360x360 with 1 Axes>"
      ]
     },
     "metadata": {},
     "output_type": "display_data"
    }
   ],
   "source": [
    "gMap = GridMap(size=(10,10), bbox = (LAT_NORTH, LAT_SOUTH, LON_EAST, LON_WEST))\n",
    "\n",
    "p1 = np.array((LON_EAST-0.4,LAT_SOUTH+0.3))\n",
    "p2 = np.array((LON_EAST-0.4,LAT_SOUTH+0.1))\n",
    "\n",
    "covered_cells = gMap.getSuperCover(p1, p2)\n",
    "gMap.plot_path(p1, p2, cells=covered_cells)"
   ]
  }
 ],
 "metadata": {
  "kernelspec": {
   "display_name": "Python 3",
   "language": "python",
   "name": "python3"
  },
  "language_info": {
   "codemirror_mode": {
    "name": "ipython",
    "version": 3
   },
   "file_extension": ".py",
   "mimetype": "text/x-python",
   "name": "python",
   "nbconvert_exporter": "python",
   "pygments_lexer": "ipython3",
   "version": "3.6.6"
  }
 },
 "nbformat": 4,
 "nbformat_minor": 2
}
