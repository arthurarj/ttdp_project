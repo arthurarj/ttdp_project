{
 "cells": [
  {
   "cell_type": "code",
   "execution_count": 33,
   "metadata": {},
   "outputs": [],
   "source": [
    "# Basics\n",
    "import pickle as pkl\n",
    "import pandas as pd\n",
    "import numpy as np\n",
    "import matplotlib.pyplot as plt\n",
    "\n",
    "# Preprocessing\n",
    "from scipy import stats\n",
    "from sklearn import preprocessing\n",
    "from sklearn.model_selection import train_test_split\n",
    "\n",
    "# Models\n",
    "from sklearn import svm\n",
    "from sklearn.ensemble import RandomForestRegressor\n",
    "from sklearn.neural_network import MLPRegressor\n",
    "import xgboost as xgb\n",
    "\n",
    "# Misc\n",
    "import sys\n",
    "from IPython.display import clear_output\n",
    "\n",
    "%run utils/utils_metrics.py\n",
    "%run utils/utils_line_supercover.py"
   ]
  },
  {
   "cell_type": "markdown",
   "metadata": {},
   "source": [
    "### 1. Load data"
   ]
  },
  {
   "cell_type": "code",
   "execution_count": 34,
   "metadata": {},
   "outputs": [
    {
     "name": "stdout",
     "output_type": "stream",
     "text": [
      "Data shape: (48605, 10)\n"
     ]
    },
    {
     "data": {
      "text/html": [
       "<div>\n",
       "<style scoped>\n",
       "    .dataframe tbody tr th:only-of-type {\n",
       "        vertical-align: middle;\n",
       "    }\n",
       "\n",
       "    .dataframe tbody tr th {\n",
       "        vertical-align: top;\n",
       "    }\n",
       "\n",
       "    .dataframe thead th {\n",
       "        text-align: right;\n",
       "    }\n",
       "</style>\n",
       "<table border=\"1\" class=\"dataframe\">\n",
       "  <thead>\n",
       "    <tr style=\"text-align: right;\">\n",
       "      <th></th>\n",
       "      <th>pu_t</th>\n",
       "      <th>do_t</th>\n",
       "      <th>trip_dist</th>\n",
       "      <th>pu_lon</th>\n",
       "      <th>pu_lat</th>\n",
       "      <th>do_lon</th>\n",
       "      <th>do_lat</th>\n",
       "      <th>duration</th>\n",
       "      <th>vec_dist</th>\n",
       "      <th>trip_ratio</th>\n",
       "    </tr>\n",
       "  </thead>\n",
       "  <tbody>\n",
       "    <tr>\n",
       "      <th>0</th>\n",
       "      <td>2016-02-16 19:56:06</td>\n",
       "      <td>2016-02-16 20:10:46</td>\n",
       "      <td>8.53</td>\n",
       "      <td>-73.995750</td>\n",
       "      <td>40.764488</td>\n",
       "      <td>-73.926292</td>\n",
       "      <td>40.867458</td>\n",
       "      <td>880</td>\n",
       "      <td>7.983998</td>\n",
       "      <td>1.068387</td>\n",
       "    </tr>\n",
       "    <tr>\n",
       "      <th>1</th>\n",
       "      <td>2016-02-11 10:23:41</td>\n",
       "      <td>2016-02-11 10:45:04</td>\n",
       "      <td>1.95</td>\n",
       "      <td>-73.994110</td>\n",
       "      <td>40.751068</td>\n",
       "      <td>-73.993401</td>\n",
       "      <td>40.736019</td>\n",
       "      <td>1283</td>\n",
       "      <td>1.039087</td>\n",
       "      <td>1.876648</td>\n",
       "    </tr>\n",
       "    <tr>\n",
       "      <th>2</th>\n",
       "      <td>2016-02-21 14:21:57</td>\n",
       "      <td>2016-02-21 14:30:07</td>\n",
       "      <td>0.50</td>\n",
       "      <td>-73.973160</td>\n",
       "      <td>40.752728</td>\n",
       "      <td>-73.982178</td>\n",
       "      <td>40.756962</td>\n",
       "      <td>490</td>\n",
       "      <td>0.556130</td>\n",
       "      <td>0.899070</td>\n",
       "    </tr>\n",
       "    <tr>\n",
       "      <th>3</th>\n",
       "      <td>2016-02-11 22:51:59</td>\n",
       "      <td>2016-02-11 22:57:41</td>\n",
       "      <td>1.30</td>\n",
       "      <td>-73.991280</td>\n",
       "      <td>40.744808</td>\n",
       "      <td>-73.985909</td>\n",
       "      <td>40.731178</td>\n",
       "      <td>342</td>\n",
       "      <td>0.981839</td>\n",
       "      <td>1.324045</td>\n",
       "    </tr>\n",
       "    <tr>\n",
       "      <th>4</th>\n",
       "      <td>2016-02-13 18:32:08</td>\n",
       "      <td>2016-02-13 18:43:51</td>\n",
       "      <td>1.50</td>\n",
       "      <td>-73.992897</td>\n",
       "      <td>40.741280</td>\n",
       "      <td>-73.975967</td>\n",
       "      <td>40.748734</td>\n",
       "      <td>703</td>\n",
       "      <td>1.026608</td>\n",
       "      <td>1.461123</td>\n",
       "    </tr>\n",
       "  </tbody>\n",
       "</table>\n",
       "</div>"
      ],
      "text/plain": [
       "                 pu_t                do_t  trip_dist     pu_lon     pu_lat  \\\n",
       "0 2016-02-16 19:56:06 2016-02-16 20:10:46       8.53 -73.995750  40.764488   \n",
       "1 2016-02-11 10:23:41 2016-02-11 10:45:04       1.95 -73.994110  40.751068   \n",
       "2 2016-02-21 14:21:57 2016-02-21 14:30:07       0.50 -73.973160  40.752728   \n",
       "3 2016-02-11 22:51:59 2016-02-11 22:57:41       1.30 -73.991280  40.744808   \n",
       "4 2016-02-13 18:32:08 2016-02-13 18:43:51       1.50 -73.992897  40.741280   \n",
       "\n",
       "      do_lon     do_lat  duration  vec_dist  trip_ratio  \n",
       "0 -73.926292  40.867458       880  7.983998    1.068387  \n",
       "1 -73.993401  40.736019      1283  1.039087    1.876648  \n",
       "2 -73.982178  40.756962       490  0.556130    0.899070  \n",
       "3 -73.985909  40.731178       342  0.981839    1.324045  \n",
       "4 -73.975967  40.748734       703  1.026608    1.461123  "
      ]
     },
     "execution_count": 34,
     "metadata": {},
     "output_type": "execute_result"
    }
   ],
   "source": [
    "n_chunks = 1\n",
    "chunks = [pkl.load(open('../data/bin_chunks/ttd_chunk_{0}.pkl'.format(i), 'rb')) for i in range(1, n_chunks + 1)]\n",
    "dataset = pd.concat(chunks)\n",
    "print(\"Data shape:\", dataset.shape)\n",
    "dataset.head()"
   ]
  },
  {
   "cell_type": "markdown",
   "metadata": {},
   "source": [
    "### 2. Preprocessing"
   ]
  },
  {
   "cell_type": "markdown",
   "metadata": {},
   "source": [
    "### 2.1 Augmenting (grid based approach)"
   ]
  },
  {
   "cell_type": "code",
   "execution_count": null,
   "metadata": {},
   "outputs": [],
   "source": [
    "gMap = GridMap(size=(300,300), bbox = (LAT_NORTH, LAT_SOUTH, LON_EAST, LON_WEST))\n",
    "gMap.fitGrid(dataset, func='median');"
   ]
  },
  {
   "cell_type": "code",
   "execution_count": 7,
   "metadata": {
    "scrolled": true
   },
   "outputs": [
    {
     "data": {
      "text/html": [
       "<div>\n",
       "<style scoped>\n",
       "    .dataframe tbody tr th:only-of-type {\n",
       "        vertical-align: middle;\n",
       "    }\n",
       "\n",
       "    .dataframe tbody tr th {\n",
       "        vertical-align: top;\n",
       "    }\n",
       "\n",
       "    .dataframe thead th {\n",
       "        text-align: right;\n",
       "    }\n",
       "</style>\n",
       "<table border=\"1\" class=\"dataframe\">\n",
       "  <thead>\n",
       "    <tr style=\"text-align: right;\">\n",
       "      <th></th>\n",
       "      <th>pu_t</th>\n",
       "      <th>do_t</th>\n",
       "      <th>trip_dist</th>\n",
       "      <th>pu_lon</th>\n",
       "      <th>pu_lat</th>\n",
       "      <th>do_lon</th>\n",
       "      <th>do_lat</th>\n",
       "      <th>duration</th>\n",
       "      <th>vec_dist</th>\n",
       "      <th>trip_ratio</th>\n",
       "      <th>grid_estim_trip_distance</th>\n",
       "    </tr>\n",
       "  </thead>\n",
       "  <tbody>\n",
       "    <tr>\n",
       "      <th>0</th>\n",
       "      <td>2016-02-16 19:56:06</td>\n",
       "      <td>2016-02-16 20:10:46</td>\n",
       "      <td>8.53</td>\n",
       "      <td>-73.995750</td>\n",
       "      <td>40.764488</td>\n",
       "      <td>-73.926292</td>\n",
       "      <td>40.867458</td>\n",
       "      <td>880</td>\n",
       "      <td>7.983998</td>\n",
       "      <td>1.068387</td>\n",
       "      <td>9.272084</td>\n",
       "    </tr>\n",
       "    <tr>\n",
       "      <th>1</th>\n",
       "      <td>2016-02-11 10:23:41</td>\n",
       "      <td>2016-02-11 10:45:04</td>\n",
       "      <td>1.95</td>\n",
       "      <td>-73.994110</td>\n",
       "      <td>40.751068</td>\n",
       "      <td>-73.993401</td>\n",
       "      <td>40.736019</td>\n",
       "      <td>1283</td>\n",
       "      <td>1.039087</td>\n",
       "      <td>1.876648</td>\n",
       "      <td>1.347992</td>\n",
       "    </tr>\n",
       "    <tr>\n",
       "      <th>2</th>\n",
       "      <td>2016-02-21 14:21:57</td>\n",
       "      <td>2016-02-21 14:30:07</td>\n",
       "      <td>0.50</td>\n",
       "      <td>-73.973160</td>\n",
       "      <td>40.752728</td>\n",
       "      <td>-73.982178</td>\n",
       "      <td>40.756962</td>\n",
       "      <td>490</td>\n",
       "      <td>0.556130</td>\n",
       "      <td>0.899070</td>\n",
       "      <td>0.718421</td>\n",
       "    </tr>\n",
       "    <tr>\n",
       "      <th>3</th>\n",
       "      <td>2016-02-11 22:51:59</td>\n",
       "      <td>2016-02-11 22:57:41</td>\n",
       "      <td>1.30</td>\n",
       "      <td>-73.991280</td>\n",
       "      <td>40.744808</td>\n",
       "      <td>-73.985909</td>\n",
       "      <td>40.731178</td>\n",
       "      <td>342</td>\n",
       "      <td>0.981839</td>\n",
       "      <td>1.324045</td>\n",
       "      <td>1.278448</td>\n",
       "    </tr>\n",
       "    <tr>\n",
       "      <th>4</th>\n",
       "      <td>2016-02-13 18:32:08</td>\n",
       "      <td>2016-02-13 18:43:51</td>\n",
       "      <td>1.50</td>\n",
       "      <td>-73.992897</td>\n",
       "      <td>40.741280</td>\n",
       "      <td>-73.975967</td>\n",
       "      <td>40.748734</td>\n",
       "      <td>703</td>\n",
       "      <td>1.026608</td>\n",
       "      <td>1.461123</td>\n",
       "      <td>1.315511</td>\n",
       "    </tr>\n",
       "  </tbody>\n",
       "</table>\n",
       "</div>"
      ],
      "text/plain": [
       "                 pu_t                do_t  trip_dist     pu_lon     pu_lat  \\\n",
       "0 2016-02-16 19:56:06 2016-02-16 20:10:46       8.53 -73.995750  40.764488   \n",
       "1 2016-02-11 10:23:41 2016-02-11 10:45:04       1.95 -73.994110  40.751068   \n",
       "2 2016-02-21 14:21:57 2016-02-21 14:30:07       0.50 -73.973160  40.752728   \n",
       "3 2016-02-11 22:51:59 2016-02-11 22:57:41       1.30 -73.991280  40.744808   \n",
       "4 2016-02-13 18:32:08 2016-02-13 18:43:51       1.50 -73.992897  40.741280   \n",
       "\n",
       "      do_lon     do_lat  duration  vec_dist  trip_ratio  \\\n",
       "0 -73.926292  40.867458       880  7.983998    1.068387   \n",
       "1 -73.993401  40.736019      1283  1.039087    1.876648   \n",
       "2 -73.982178  40.756962       490  0.556130    0.899070   \n",
       "3 -73.985909  40.731178       342  0.981839    1.324045   \n",
       "4 -73.975967  40.748734       703  1.026608    1.461123   \n",
       "\n",
       "   grid_estim_trip_distance  \n",
       "0                  9.272084  \n",
       "1                  1.347992  \n",
       "2                  0.718421  \n",
       "3                  1.278448  \n",
       "4                  1.315511  "
      ]
     },
     "execution_count": 7,
     "metadata": {},
     "output_type": "execute_result"
    }
   ],
   "source": [
    "dataset['grid_estim_trip_distance'] = gMap.predictFactor(dataset) * dataset.vec_dist\n",
    "dataset.head()"
   ]
  },
  {
   "cell_type": "code",
   "execution_count": 10,
   "metadata": {},
   "outputs": [],
   "source": [
    "lat_data = np.array(pd.concat((dataset.pu_lat, dataset.do_lat))).reshape(-1,1)\n",
    "lon_data = np.array(pd.concat((dataset.pu_lon, dataset.do_lon))).reshape(-1,1)\n",
    "dur_data = np.array(dataset.duration.astype(float)).reshape(-1,1)\n",
    "\n",
    "# New feature\n",
    "etd_data = np.array(dataset.grid_estim_trip_distance.astype(float)).reshape(-1,1)\n",
    "\n",
    "scaler_type = 'StandardScaler' # Other options: MinMaxScaler\n",
    "lat_scaler = getattr(preprocessing, scaler_type)()\n",
    "lon_scaler = getattr(preprocessing, scaler_type)()\n",
    "etd_scaler = getattr(preprocessing, scaler_type)()\n",
    "out_scaler = getattr(preprocessing, scaler_type)()\n",
    "\n",
    "# Inputs\n",
    "lat_scaler.fit(lat_data);\n",
    "lon_scaler.fit(lon_data);\n",
    "etd_scaler.fit(etd_data)\n",
    "\n",
    "# Output\n",
    "out_scaler.fit(dur_data);\n",
    "\n",
    "X = np.hstack((lat_scaler.transform(dataset[['pu_lat','do_lat',]]),\n",
    "               lon_scaler.transform(dataset[['pu_lon','do_lon',]]),\n",
    "               etd_scaler.transform(etd_data)))\n",
    "y = out_scaler.transform(dur_data)"
   ]
  },
  {
   "cell_type": "markdown",
   "metadata": {},
   "source": [
    "#### Quick look at inputs and output"
   ]
  },
  {
   "cell_type": "code",
   "execution_count": 9,
   "metadata": {},
   "outputs": [
    {
     "data": {
      "image/png": "[encoded data removed]",
      "text/plain": [
       "<Figure size 1152x360 with 6 Axes>"
      ]
     },
     "metadata": {
      "needs_background": "light"
     },
     "output_type": "display_data"
    }
   ],
   "source": [
    "plt.figure(figsize=(16,5))\n",
    "titles = ['pu_lat', 'do_lat', 'pu_lon', 'do_lon', 'grid_estim_trip_distance', 'duration']\n",
    "for i in range(5):\n",
    "    plt.subplot(2,5,i+1)\n",
    "    plt.hist(X[:,i], bins='auto', log=True)\n",
    "    plt.title(titles[i])\n",
    "plt.subplot(2,5,6)\n",
    "plt.hist(y, bins='auto')\n",
    "plt.title(titles[-1])\n",
    "plt.tight_layout()\n",
    "plt.show()"
   ]
  },
  {
   "cell_type": "markdown",
   "metadata": {},
   "source": [
    "### 3. Splitting data"
   ]
  },
  {
   "cell_type": "code",
   "execution_count": 10,
   "metadata": {},
   "outputs": [],
   "source": [
    "X_train, X_test, y_train, y_test = train_test_split(X, y, test_size=0.3, random_state=42)\n",
    "\n",
    "test_size = len(y_test)\n",
    "train_size = len(y_train)\n",
    "\n",
    "y_test_denorm = out_scaler.inverse_transform(y_test)"
   ]
  },
  {
   "cell_type": "code",
   "execution_count": 31,
   "metadata": {},
   "outputs": [],
   "source": [
    "# # Store splitted data\n",
    "pkl.dump(X_train, open('../splitted_data/fs2/x_train.dat', 'wb'))\n",
    "pkl.dump(y_train, open('../splitted_data/fs2/y_train.dat', 'wb'))\n",
    "pkl.dump(X_test, open('../splitted_data/fs2/x_test.dat', 'wb'))\n",
    "pkl.dump(y_test, open('../splitted_data/fs2/y_test.dat', 'wb'))"
   ]
  },
  {
   "cell_type": "code",
   "execution_count": 11,
   "metadata": {},
   "outputs": [],
   "source": [
    "# Read splitted data\n",
    "X_train = pkl.load(open('../splitted_data/fs2/x_train.dat', 'rb'))\n",
    "y_train = pkl.load(open('../splitted_data/fs2/y_train.dat', 'rb'))\n",
    "X_test = pkl.load(open('../splitted_data/fs2/x_test.dat', 'rb'))\n",
    "y_test = pkl.load(open('../splitted_data/fs2/y_test.dat', 'rb'))\n",
    "\n",
    "test_size = len(y_test)\n",
    "train_size = len(y_train)\n",
    "\n",
    "y_test_denorm = out_scaler.inverse_transform(y_test)"
   ]
  },
  {
   "cell_type": "markdown",
   "metadata": {},
   "source": [
    "### 4. SVM"
   ]
  },
  {
   "cell_type": "code",
   "execution_count": 12,
   "metadata": {},
   "outputs": [],
   "source": [
    "kernels = ['rbf']\n",
    "C_values = [0.1, 1, 10]"
   ]
  },
  {
   "cell_type": "markdown",
   "metadata": {},
   "source": [
    "#### 4.1 Training"
   ]
  },
  {
   "cell_type": "code",
   "execution_count": 37,
   "metadata": {},
   "outputs": [
    {
     "name": "stdout",
     "output_type": "stream",
     "text": [
      "Done."
     ]
    }
   ],
   "source": [
    "for kern in kernels:\n",
    "    for C in C_values:\n",
    "        sys.stdout.write(\"\\rTraining SVM with kernel {0} and C = {1}\".format(kern,C))\n",
    "        svm_reg = svm.SVR(kernel=kern, gamma='auto', C=C)\n",
    "        svm_reg.fit(X_train, y_train.ravel())\n",
    "        pkl.dump(svm_reg, open('../init_models/fs2/svms/svm_reg_{0}_{1}.mdl'.format(kern,C), 'wb'))\n",
    "        sys.stdout.flush()\n",
    "        clear_output()\n",
    "sys.stdout.write(\"Done.\")        "
   ]
  },
  {
   "cell_type": "markdown",
   "metadata": {},
   "source": [
    "#### 4.2 Testing"
   ]
  },
  {
   "cell_type": "code",
   "execution_count": 13,
   "metadata": {},
   "outputs": [
    {
     "name": "stdout",
     "output_type": "stream",
     "text": [
      "Done."
     ]
    }
   ],
   "source": [
    "y_pred_svm = []\n",
    "for kern in kernels:\n",
    "    for C in C_values:\n",
    "        print(\"Running tests on SVM with kernel {0} and C = {1}\".format(kern,C))\n",
    "        svm_reg = pkl.load(open('../init_models/fs2/svms/svm_reg_{0}_{1}.mdl'.format(kern,C), 'rb'))\n",
    "        y_pred_svm.append(svm_reg.predict(X_test))\n",
    "        sys.stdout.flush()\n",
    "        clear_output()\n",
    "sys.stdout.write(\"Done.\")        "
   ]
  },
  {
   "cell_type": "markdown",
   "metadata": {},
   "source": [
    "#### Denormalize predicited data"
   ]
  },
  {
   "cell_type": "code",
   "execution_count": 14,
   "metadata": {},
   "outputs": [],
   "source": [
    "y_pred_svm_denorm = out_scaler.inverse_transform(y_pred_svm)\n",
    "\n",
    "# Set all negative outputs to zero (we're predicting time)\n",
    "y_pred_svm_denorm[y_pred_svm_denorm < 0] = 0\n",
    "\n",
    "# Transform back again\n",
    "y_pred_svm = out_scaler.transform(y_pred_svm_denorm)"
   ]
  },
  {
   "cell_type": "markdown",
   "metadata": {},
   "source": [
    "#### 4.3 Metrics"
   ]
  },
  {
   "cell_type": "code",
   "execution_count": 15,
   "metadata": {},
   "outputs": [
    {
     "data": {
      "text/html": [
       "<div>\n",
       "<style scoped>\n",
       "    .dataframe tbody tr th:only-of-type {\n",
       "        vertical-align: middle;\n",
       "    }\n",
       "\n",
       "    .dataframe tbody tr th {\n",
       "        vertical-align: top;\n",
       "    }\n",
       "\n",
       "    .dataframe thead th {\n",
       "        text-align: right;\n",
       "    }\n",
       "</style>\n",
       "<table border=\"1\" class=\"dataframe\">\n",
       "  <thead>\n",
       "    <tr style=\"text-align: right;\">\n",
       "      <th></th>\n",
       "      <th></th>\n",
       "      <th>Exp. Var.</th>\n",
       "      <th>R2</th>\n",
       "      <th>MSE</th>\n",
       "      <th>RMSE</th>\n",
       "      <th>nMSE</th>\n",
       "      <th>nRMSE</th>\n",
       "      <th>MSLE</th>\n",
       "      <th>RMSLE</th>\n",
       "      <th>MAPE</th>\n",
       "    </tr>\n",
       "    <tr>\n",
       "      <th>Kernel</th>\n",
       "      <th>C</th>\n",
       "      <th></th>\n",
       "      <th></th>\n",
       "      <th></th>\n",
       "      <th></th>\n",
       "      <th></th>\n",
       "      <th></th>\n",
       "      <th></th>\n",
       "      <th></th>\n",
       "      <th></th>\n",
       "    </tr>\n",
       "  </thead>\n",
       "  <tbody>\n",
       "    <tr>\n",
       "      <th rowspan=\"3\" valign=\"top\">rbf</th>\n",
       "      <th>0.1</th>\n",
       "      <td>0.688719</td>\n",
       "      <td>0.681236</td>\n",
       "      <td>107492.321465</td>\n",
       "      <td>327.860216</td>\n",
       "      <td>0.312139</td>\n",
       "      <td>0.558694</td>\n",
       "      <td>0.153747</td>\n",
       "      <td>0.392106</td>\n",
       "      <td>32.811355</td>\n",
       "    </tr>\n",
       "    <tr>\n",
       "      <th>1.0</th>\n",
       "      <td>0.700514</td>\n",
       "      <td>0.694322</td>\n",
       "      <td>103079.559112</td>\n",
       "      <td>321.060055</td>\n",
       "      <td>0.299325</td>\n",
       "      <td>0.547106</td>\n",
       "      <td>0.147407</td>\n",
       "      <td>0.383936</td>\n",
       "      <td>31.398340</td>\n",
       "    </tr>\n",
       "    <tr>\n",
       "      <th>10.0</th>\n",
       "      <td>0.703525</td>\n",
       "      <td>0.697921</td>\n",
       "      <td>101866.067804</td>\n",
       "      <td>319.164641</td>\n",
       "      <td>0.295801</td>\n",
       "      <td>0.543876</td>\n",
       "      <td>0.145728</td>\n",
       "      <td>0.381744</td>\n",
       "      <td>30.850910</td>\n",
       "    </tr>\n",
       "  </tbody>\n",
       "</table>\n",
       "</div>"
      ],
      "text/plain": [
       "             Exp. Var.        R2            MSE        RMSE      nMSE  \\\n",
       "Kernel C                                                                \n",
       "rbf    0.1    0.688719  0.681236  107492.321465  327.860216  0.312139   \n",
       "       1.0    0.700514  0.694322  103079.559112  321.060055  0.299325   \n",
       "       10.0   0.703525  0.697921  101866.067804  319.164641  0.295801   \n",
       "\n",
       "                nRMSE      MSLE     RMSLE       MAPE  \n",
       "Kernel C                                              \n",
       "rbf    0.1   0.558694  0.153747  0.392106  32.811355  \n",
       "       1.0   0.547106  0.147407  0.383936  31.398340  \n",
       "       10.0  0.543876  0.145728  0.381744  30.850910  "
      ]
     },
     "execution_count": 15,
     "metadata": {},
     "output_type": "execute_result"
    }
   ],
   "source": [
    "idx = pd.MultiIndex.from_tuples([(k,C) for k in kernels for C in C_values], names=['Kernel','C'])\n",
    "\n",
    "metrics_svm = compute_metrics(y_true = y_test, y_pred = y_pred_svm, \n",
    "                              y_true_denorm = y_test_denorm, y_pred_denorm = y_pred_svm_denorm, \n",
    "                              indices = idx)  \n",
    "metrics_svm"
   ]
  },
  {
   "cell_type": "code",
   "execution_count": 41,
   "metadata": {},
   "outputs": [
    {
     "data": {
      "image/png": "[encoded data removed]",
      "text/plain": [
       "<Figure size 576x576 with 3 Axes>"
      ]
     },
     "metadata": {
      "needs_background": "light"
     },
     "output_type": "display_data"
    }
   ],
   "source": [
    "fig = plt.figure(figsize=(8,8))\n",
    "for i,kern in enumerate(kernels):\n",
    "    for j,C in enumerate(C_values):\n",
    "        plt.subplot(3, 3, j + 3*i + 1)\n",
    "        plt.scatter(y_test_denorm, y_pred_svm_denorm[j + 3*i], s = 1)\n",
    "        plt.plot((-1,3500),(-1,3500), '--', c='r')\n",
    "        plt.title('{0} (C={1})'.format(kern,C))\n",
    "        plt.xlim((-10,3500))\n",
    "        plt.ylim((-10,3500))\n",
    "plt.tight_layout()\n",
    "plt.show()"
   ]
  },
  {
   "cell_type": "markdown",
   "metadata": {},
   "source": [
    "#### 4.4 Evaluate accuracy agains range of tolerance for best SVM"
   ]
  },
  {
   "cell_type": "code",
   "execution_count": 43,
   "metadata": {},
   "outputs": [
    {
     "data": {
      "image/png": "[encoded data removed]",
      "text/plain": [
       "<Figure size 432x288 with 1 Axes>"
      ]
     },
     "metadata": {
      "needs_background": "light"
     },
     "output_type": "display_data"
    }
   ],
   "source": [
    "y_pred_svm_best = y_pred_svm_denorm[2].reshape(-1,1)\n",
    "\n",
    "tolerance = np.arange(0.1,1,0.1)\n",
    "acc = [np.sum(np.isclose(y_pred_svm_best, y_test_denorm, rtol=tol))/test_size for tol in tolerance]\n",
    "\n",
    "plt.plot(tolerance, acc, c='k')\n",
    "plt.scatter(tolerance, acc, c='k')\n",
    "plt.ylabel('\"TP\" Rate')\n",
    "plt.xlabel('Percentual tolerance')\n",
    "plt.show()"
   ]
  },
  {
   "cell_type": "markdown",
   "metadata": {},
   "source": [
    "### 5. Random Forests"
   ]
  },
  {
   "cell_type": "code",
   "execution_count": 16,
   "metadata": {},
   "outputs": [],
   "source": [
    "forest_size = [100,200, 300]\n",
    "max_feats   = [2,3,4]"
   ]
  },
  {
   "cell_type": "markdown",
   "metadata": {},
   "source": [
    "#### 5.1 Training"
   ]
  },
  {
   "cell_type": "code",
   "execution_count": 45,
   "metadata": {},
   "outputs": [
    {
     "name": "stdout",
     "output_type": "stream",
     "text": [
      "Done."
     ]
    }
   ],
   "source": [
    "for n_trees in forest_size:\n",
    "    for max_feat in max_feats:\n",
    "        sys.stdout.write(\"\\rTraining forest with {0} trees using maximum of {1} features\".format(n_trees, max_feat))\n",
    "        rf_reg = RandomForestRegressor(n_estimators=n_trees, max_features=max_feat, n_jobs=2)\n",
    "        rf_reg.fit(X_train, y_train.ravel())\n",
    "        pkl.dump(rf_reg, open('../init_models/fs2/random_forests/rf_reg_{0}_{1}.mdl'.format(n_trees,max_feat), 'wb'))\n",
    "        sys.stdout.flush()\n",
    "clear_output()\n",
    "sys.stdout.write(\"Done.\")        "
   ]
  },
  {
   "cell_type": "markdown",
   "metadata": {},
   "source": [
    "#### 5.2 Testing"
   ]
  },
  {
   "cell_type": "code",
   "execution_count": 17,
   "metadata": {},
   "outputs": [
    {
     "name": "stdout",
     "output_type": "stream",
     "text": [
      "Done."
     ]
    }
   ],
   "source": [
    "y_pred_rf = []\n",
    "for n_trees in forest_size:\n",
    "    for max_feat in max_feats:\n",
    "        sys.stdout.write(\"\\rTesting forest with {0} trees using maximum of {1} features\".format(n_trees, max_feat))\n",
    "        rf_reg = pkl.load(open('../init_models/fs2/random_forests/rf_reg_{0}_{1}.mdl'.format(n_trees,max_feat), 'rb'))\n",
    "        y_pred_rf.append(rf_reg.predict(X_test));\n",
    "        sys.stdout.flush()\n",
    "clear_output()\n",
    "sys.stdout.write(\"Done.\")        "
   ]
  },
  {
   "cell_type": "markdown",
   "metadata": {},
   "source": [
    "#### Denormalize predicited data"
   ]
  },
  {
   "cell_type": "code",
   "execution_count": 18,
   "metadata": {},
   "outputs": [],
   "source": [
    "y_pred_rf_denorm = out_scaler.inverse_transform(y_pred_rf)\n",
    "\n",
    "# Set all negative outputs to zero (we're predicting time)\n",
    "y_pred_rf_denorm[y_pred_rf_denorm < 0] = 0\n",
    "\n",
    "# Transform back again\n",
    "y_pred_rf = out_scaler.transform(y_pred_rf_denorm)"
   ]
  },
  {
   "cell_type": "markdown",
   "metadata": {},
   "source": [
    "#### 4.3 Metrics"
   ]
  },
  {
   "cell_type": "code",
   "execution_count": 19,
   "metadata": {},
   "outputs": [
    {
     "data": {
      "text/html": [
       "<div>\n",
       "<style scoped>\n",
       "    .dataframe tbody tr th:only-of-type {\n",
       "        vertical-align: middle;\n",
       "    }\n",
       "\n",
       "    .dataframe tbody tr th {\n",
       "        vertical-align: top;\n",
       "    }\n",
       "\n",
       "    .dataframe thead th {\n",
       "        text-align: right;\n",
       "    }\n",
       "</style>\n",
       "<table border=\"1\" class=\"dataframe\">\n",
       "  <thead>\n",
       "    <tr style=\"text-align: right;\">\n",
       "      <th></th>\n",
       "      <th></th>\n",
       "      <th>Exp. Var.</th>\n",
       "      <th>R2</th>\n",
       "      <th>MSE</th>\n",
       "      <th>RMSE</th>\n",
       "      <th>nMSE</th>\n",
       "      <th>nRMSE</th>\n",
       "      <th>MSLE</th>\n",
       "      <th>RMSLE</th>\n",
       "      <th>MAPE</th>\n",
       "    </tr>\n",
       "    <tr>\n",
       "      <th>#Tress</th>\n",
       "      <th>MaxFeat</th>\n",
       "      <th></th>\n",
       "      <th></th>\n",
       "      <th></th>\n",
       "      <th></th>\n",
       "      <th></th>\n",
       "      <th></th>\n",
       "      <th></th>\n",
       "      <th></th>\n",
       "      <th></th>\n",
       "    </tr>\n",
       "  </thead>\n",
       "  <tbody>\n",
       "    <tr>\n",
       "      <th rowspan=\"3\" valign=\"top\">100</th>\n",
       "      <th>2</th>\n",
       "      <td>0.699198</td>\n",
       "      <td>0.698882</td>\n",
       "      <td>101541.836841</td>\n",
       "      <td>318.656299</td>\n",
       "      <td>0.294860</td>\n",
       "      <td>0.543010</td>\n",
       "      <td>0.155149</td>\n",
       "      <td>0.393890</td>\n",
       "      <td>35.334847</td>\n",
       "    </tr>\n",
       "    <tr>\n",
       "      <th>3</th>\n",
       "      <td>0.694592</td>\n",
       "      <td>0.694198</td>\n",
       "      <td>103121.497767</td>\n",
       "      <td>321.125361</td>\n",
       "      <td>0.299447</td>\n",
       "      <td>0.547217</td>\n",
       "      <td>0.158291</td>\n",
       "      <td>0.397858</td>\n",
       "      <td>35.746374</td>\n",
       "    </tr>\n",
       "    <tr>\n",
       "      <th>4</th>\n",
       "      <td>0.695086</td>\n",
       "      <td>0.694663</td>\n",
       "      <td>102964.694343</td>\n",
       "      <td>320.881122</td>\n",
       "      <td>0.298991</td>\n",
       "      <td>0.546801</td>\n",
       "      <td>0.159014</td>\n",
       "      <td>0.398766</td>\n",
       "      <td>35.891947</td>\n",
       "    </tr>\n",
       "    <tr>\n",
       "      <th rowspan=\"3\" valign=\"top\">200</th>\n",
       "      <th>2</th>\n",
       "      <td>0.699504</td>\n",
       "      <td>0.699189</td>\n",
       "      <td>101438.374691</td>\n",
       "      <td>318.493916</td>\n",
       "      <td>0.294559</td>\n",
       "      <td>0.542733</td>\n",
       "      <td>0.154481</td>\n",
       "      <td>0.393040</td>\n",
       "      <td>35.228097</td>\n",
       "    </tr>\n",
       "    <tr>\n",
       "      <th>3</th>\n",
       "      <td>0.697273</td>\n",
       "      <td>0.696848</td>\n",
       "      <td>102227.774907</td>\n",
       "      <td>319.730785</td>\n",
       "      <td>0.296852</td>\n",
       "      <td>0.544841</td>\n",
       "      <td>0.156758</td>\n",
       "      <td>0.395927</td>\n",
       "      <td>35.587729</td>\n",
       "    </tr>\n",
       "    <tr>\n",
       "      <th>4</th>\n",
       "      <td>0.694830</td>\n",
       "      <td>0.694379</td>\n",
       "      <td>103060.502180</td>\n",
       "      <td>321.030376</td>\n",
       "      <td>0.299270</td>\n",
       "      <td>0.547055</td>\n",
       "      <td>0.158347</td>\n",
       "      <td>0.397928</td>\n",
       "      <td>35.769253</td>\n",
       "    </tr>\n",
       "    <tr>\n",
       "      <th rowspan=\"3\" valign=\"top\">300</th>\n",
       "      <th>2</th>\n",
       "      <td>0.701334</td>\n",
       "      <td>0.701037</td>\n",
       "      <td>100815.321836</td>\n",
       "      <td>317.514286</td>\n",
       "      <td>0.292750</td>\n",
       "      <td>0.541064</td>\n",
       "      <td>0.154128</td>\n",
       "      <td>0.392591</td>\n",
       "      <td>35.167756</td>\n",
       "    </tr>\n",
       "    <tr>\n",
       "      <th>3</th>\n",
       "      <td>0.696922</td>\n",
       "      <td>0.696485</td>\n",
       "      <td>102350.269169</td>\n",
       "      <td>319.922286</td>\n",
       "      <td>0.297207</td>\n",
       "      <td>0.545167</td>\n",
       "      <td>0.157010</td>\n",
       "      <td>0.396245</td>\n",
       "      <td>35.598287</td>\n",
       "    </tr>\n",
       "    <tr>\n",
       "      <th>4</th>\n",
       "      <td>0.695554</td>\n",
       "      <td>0.695095</td>\n",
       "      <td>102818.850317</td>\n",
       "      <td>320.653786</td>\n",
       "      <td>0.298568</td>\n",
       "      <td>0.546414</td>\n",
       "      <td>0.158160</td>\n",
       "      <td>0.397694</td>\n",
       "      <td>35.811774</td>\n",
       "    </tr>\n",
       "  </tbody>\n",
       "</table>\n",
       "</div>"
      ],
      "text/plain": [
       "                Exp. Var.        R2            MSE        RMSE      nMSE  \\\n",
       "#Tress MaxFeat                                                             \n",
       "100    2         0.699198  0.698882  101541.836841  318.656299  0.294860   \n",
       "       3         0.694592  0.694198  103121.497767  321.125361  0.299447   \n",
       "       4         0.695086  0.694663  102964.694343  320.881122  0.298991   \n",
       "200    2         0.699504  0.699189  101438.374691  318.493916  0.294559   \n",
       "       3         0.697273  0.696848  102227.774907  319.730785  0.296852   \n",
       "       4         0.694830  0.694379  103060.502180  321.030376  0.299270   \n",
       "300    2         0.701334  0.701037  100815.321836  317.514286  0.292750   \n",
       "       3         0.696922  0.696485  102350.269169  319.922286  0.297207   \n",
       "       4         0.695554  0.695095  102818.850317  320.653786  0.298568   \n",
       "\n",
       "                   nRMSE      MSLE     RMSLE       MAPE  \n",
       "#Tress MaxFeat                                           \n",
       "100    2        0.543010  0.155149  0.393890  35.334847  \n",
       "       3        0.547217  0.158291  0.397858  35.746374  \n",
       "       4        0.546801  0.159014  0.398766  35.891947  \n",
       "200    2        0.542733  0.154481  0.393040  35.228097  \n",
       "       3        0.544841  0.156758  0.395927  35.587729  \n",
       "       4        0.547055  0.158347  0.397928  35.769253  \n",
       "300    2        0.541064  0.154128  0.392591  35.167756  \n",
       "       3        0.545167  0.157010  0.396245  35.598287  \n",
       "       4        0.546414  0.158160  0.397694  35.811774  "
      ]
     },
     "execution_count": 19,
     "metadata": {},
     "output_type": "execute_result"
    }
   ],
   "source": [
    "idx = pd.MultiIndex.from_tuples([(f,m) for f in forest_size for m in max_feats], names=['#Tress','MaxFeat'])\n",
    "\n",
    "metrics_svm = compute_metrics(y_true = y_test, y_pred = y_pred_rf, \n",
    "                              y_true_denorm = y_test_denorm, y_pred_denorm = y_pred_rf_denorm, \n",
    "                              indices = idx)  \n",
    "metrics_svm"
   ]
  },
  {
   "cell_type": "markdown",
   "metadata": {},
   "source": [
    "### 6. XGBoost"
   ]
  },
  {
   "cell_type": "code",
   "execution_count": 24,
   "metadata": {},
   "outputs": [
    {
     "data": {
      "text/plain": [
       "XGBRegressor(base_score=0.5, booster='gbtree', colsample_bylevel=1,\n",
       "       colsample_bytree=1, gamma=0, importance_type='gain',\n",
       "       learning_rate=0.1, max_delta_step=0, max_depth=10,\n",
       "       min_child_weight=1, missing=None, n_estimators=300, n_jobs=1,\n",
       "       nthread=None, objective='reg:linear', random_state=0, reg_alpha=0,\n",
       "       reg_lambda=1, scale_pos_weight=1, seed=None, silent=True,\n",
       "       subsample=1)"
      ]
     },
     "execution_count": 24,
     "metadata": {},
     "output_type": "execute_result"
    }
   ],
   "source": [
    "xgb_reg = xgb.XGBRegressor(n_estimators=300, max_depth=10)\n",
    "xgb_reg.fit(X_train, y_train)"
   ]
  },
  {
   "cell_type": "code",
   "execution_count": 25,
   "metadata": {},
   "outputs": [],
   "source": [
    "y_pred_xgb = xgb_reg.predict(X_test).reshape(1,-1)"
   ]
  },
  {
   "cell_type": "code",
   "execution_count": 26,
   "metadata": {},
   "outputs": [],
   "source": [
    "y_pred_xgb_denorm = out_scaler.inverse_transform(y_pred_xgb)\n",
    "\n",
    "# Set all negative outputs to zero (we're predicting time)\n",
    "y_pred_xgb_denorm[y_pred_xgb_denorm < 0] = 0\n",
    "\n",
    "# Transform back again\n",
    "y_pred_xgb = out_scaler.transform(y_pred_xgb_denorm)"
   ]
  },
  {
   "cell_type": "code",
   "execution_count": 27,
   "metadata": {},
   "outputs": [
    {
     "data": {
      "text/html": [
       "<div>\n",
       "<style scoped>\n",
       "    .dataframe tbody tr th:only-of-type {\n",
       "        vertical-align: middle;\n",
       "    }\n",
       "\n",
       "    .dataframe tbody tr th {\n",
       "        vertical-align: top;\n",
       "    }\n",
       "\n",
       "    .dataframe thead th {\n",
       "        text-align: right;\n",
       "    }\n",
       "</style>\n",
       "<table border=\"1\" class=\"dataframe\">\n",
       "  <thead>\n",
       "    <tr style=\"text-align: right;\">\n",
       "      <th></th>\n",
       "      <th>Exp. Var.</th>\n",
       "      <th>R2</th>\n",
       "      <th>MSE</th>\n",
       "      <th>RMSE</th>\n",
       "      <th>nMSE</th>\n",
       "      <th>nRMSE</th>\n",
       "      <th>MSLE</th>\n",
       "      <th>RMSLE</th>\n",
       "      <th>MAPE</th>\n",
       "    </tr>\n",
       "  </thead>\n",
       "  <tbody>\n",
       "    <tr>\n",
       "      <th>0</th>\n",
       "      <td>0.689065</td>\n",
       "      <td>0.68892</td>\n",
       "      <td>104901.106234</td>\n",
       "      <td>323.884403</td>\n",
       "      <td>0.304614</td>\n",
       "      <td>0.551919</td>\n",
       "      <td>0.158546</td>\n",
       "      <td>0.398178</td>\n",
       "      <td>35.546446</td>\n",
       "    </tr>\n",
       "  </tbody>\n",
       "</table>\n",
       "</div>"
      ],
      "text/plain": [
       "   Exp. Var.       R2            MSE        RMSE      nMSE     nRMSE  \\\n",
       "0   0.689065  0.68892  104901.106234  323.884403  0.304614  0.551919   \n",
       "\n",
       "       MSLE     RMSLE       MAPE  \n",
       "0  0.158546  0.398178  35.546446  "
      ]
     },
     "execution_count": 27,
     "metadata": {},
     "output_type": "execute_result"
    }
   ],
   "source": [
    "compute_metrics(y_true = y_test, y_pred = y_pred_xgb,\n",
    "                y_true_denorm = y_test_denorm, y_pred_denorm = y_pred_xgb_denorm,\n",
    "                indices=[0])"
   ]
  },
  {
   "cell_type": "code",
   "execution_count": 16,
   "metadata": {},
   "outputs": [
    {
     "data": {
      "text/html": [
       "<div>\n",
       "<style scoped>\n",
       "    .dataframe tbody tr th:only-of-type {\n",
       "        vertical-align: middle;\n",
       "    }\n",
       "\n",
       "    .dataframe tbody tr th {\n",
       "        vertical-align: top;\n",
       "    }\n",
       "\n",
       "    .dataframe thead th {\n",
       "        text-align: right;\n",
       "    }\n",
       "</style>\n",
       "<table border=\"1\" class=\"dataframe\">\n",
       "  <thead>\n",
       "    <tr style=\"text-align: right;\">\n",
       "      <th></th>\n",
       "      <th>Exp. Var.</th>\n",
       "      <th>R2</th>\n",
       "      <th>MSE</th>\n",
       "      <th>RMSE</th>\n",
       "      <th>nMSE</th>\n",
       "      <th>nRMSE</th>\n",
       "      <th>MSLE</th>\n",
       "      <th>RMSLE</th>\n",
       "    </tr>\n",
       "  </thead>\n",
       "  <tbody>\n",
       "    <tr>\n",
       "      <th>0</th>\n",
       "      <td>0.689065</td>\n",
       "      <td>0.68892</td>\n",
       "      <td>104901.106234</td>\n",
       "      <td>323.884403</td>\n",
       "      <td>0.304614</td>\n",
       "      <td>0.551919</td>\n",
       "      <td>0.158546</td>\n",
       "      <td>0.398178</td>\n",
       "    </tr>\n",
       "  </tbody>\n",
       "</table>\n",
       "</div>"
      ],
      "text/plain": [
       "   Exp. Var.       R2            MSE        RMSE      nMSE     nRMSE  \\\n",
       "0   0.689065  0.68892  104901.106234  323.884403  0.304614  0.551919   \n",
       "\n",
       "       MSLE     RMSLE  \n",
       "0  0.158546  0.398178  "
      ]
     },
     "execution_count": 16,
     "metadata": {},
     "output_type": "execute_result"
    }
   ],
   "source": [
    "compute_metrics(y_true = y_test, y_pred = y_pred_xgb,\n",
    "                y_true_denorm = y_test_denorm, y_pred_denorm = y_pred_xgb_denorm,\n",
    "                indices=[0])"
   ]
  },
  {
   "cell_type": "markdown",
   "metadata": {},
   "source": [
    "### 7. Neural Network"
   ]
  },
  {
   "cell_type": "code",
   "execution_count": 28,
   "metadata": {},
   "outputs": [],
   "source": [
    "mlp_reg = MLPRegressor(hidden_layer_sizes=(80,40,20,10,1))"
   ]
  },
  {
   "cell_type": "code",
   "execution_count": 29,
   "metadata": {},
   "outputs": [
    {
     "data": {
      "text/plain": [
       "MLPRegressor(activation='relu', alpha=0.0001, batch_size='auto', beta_1=0.9,\n",
       "       beta_2=0.999, early_stopping=False, epsilon=1e-08,\n",
       "       hidden_layer_sizes=(80, 40, 20, 10, 1), learning_rate='constant',\n",
       "       learning_rate_init=0.001, max_iter=200, momentum=0.9,\n",
       "       n_iter_no_change=10, nesterovs_momentum=True, power_t=0.5,\n",
       "       random_state=None, shuffle=True, solver='adam', tol=0.0001,\n",
       "       validation_fraction=0.1, verbose=False, warm_start=False)"
      ]
     },
     "execution_count": 29,
     "metadata": {},
     "output_type": "execute_result"
    }
   ],
   "source": [
    "mlp_reg.fit(X_train, y_train.ravel())"
   ]
  },
  {
   "cell_type": "code",
   "execution_count": 30,
   "metadata": {},
   "outputs": [],
   "source": [
    "y_pred_mlp = mlp_reg.predict(X_test).reshape(1,-1)"
   ]
  },
  {
   "cell_type": "code",
   "execution_count": 31,
   "metadata": {},
   "outputs": [],
   "source": [
    "y_pred_mlp_denorm = out_scaler.inverse_transform(y_pred_mlp)\n",
    "\n",
    "# Set all negative outputs to zero (we're predicting time)\n",
    "y_pred_mlp_denorm[y_pred_mlp_denorm < 0] = 0\n",
    "\n",
    "# Transform back again\n",
    "y_pred_mlp = out_scaler.transform(y_pred_mlp_denorm)"
   ]
  },
  {
   "cell_type": "code",
   "execution_count": 32,
   "metadata": {},
   "outputs": [
    {
     "data": {
      "text/html": [
       "<div>\n",
       "<style scoped>\n",
       "    .dataframe tbody tr th:only-of-type {\n",
       "        vertical-align: middle;\n",
       "    }\n",
       "\n",
       "    .dataframe tbody tr th {\n",
       "        vertical-align: top;\n",
       "    }\n",
       "\n",
       "    .dataframe thead th {\n",
       "        text-align: right;\n",
       "    }\n",
       "</style>\n",
       "<table border=\"1\" class=\"dataframe\">\n",
       "  <thead>\n",
       "    <tr style=\"text-align: right;\">\n",
       "      <th></th>\n",
       "      <th>Exp. Var.</th>\n",
       "      <th>R2</th>\n",
       "      <th>MSE</th>\n",
       "      <th>RMSE</th>\n",
       "      <th>nMSE</th>\n",
       "      <th>nRMSE</th>\n",
       "      <th>MSLE</th>\n",
       "      <th>RMSLE</th>\n",
       "      <th>MAPE</th>\n",
       "    </tr>\n",
       "  </thead>\n",
       "  <tbody>\n",
       "    <tr>\n",
       "      <th>0</th>\n",
       "      <td>0.713771</td>\n",
       "      <td>0.712363</td>\n",
       "      <td>96995.761365</td>\n",
       "      <td>311.441425</td>\n",
       "      <td>0.281659</td>\n",
       "      <td>0.530715</td>\n",
       "      <td>0.14416</td>\n",
       "      <td>0.379684</td>\n",
       "      <td>30.48899</td>\n",
       "    </tr>\n",
       "  </tbody>\n",
       "</table>\n",
       "</div>"
      ],
      "text/plain": [
       "   Exp. Var.        R2           MSE        RMSE      nMSE     nRMSE     MSLE  \\\n",
       "0   0.713771  0.712363  96995.761365  311.441425  0.281659  0.530715  0.14416   \n",
       "\n",
       "      RMSLE      MAPE  \n",
       "0  0.379684  30.48899  "
      ]
     },
     "execution_count": 32,
     "metadata": {},
     "output_type": "execute_result"
    }
   ],
   "source": [
    "compute_metrics(y_true = y_test, y_pred = y_pred_mlp,\n",
    "                y_true_denorm = y_test_denorm, y_pred_denorm = y_pred_mlp_denorm,\n",
    "                indices=[0])"
   ]
  },
  {
   "cell_type": "code",
   "execution_count": 33,
   "metadata": {
    "scrolled": true
   },
   "outputs": [
    {
     "data": {
      "image/png": "[encoded data removed]",
      "text/plain": [
       "<Figure size 288x288 with 1 Axes>"
      ]
     },
     "metadata": {
      "needs_background": "light"
     },
     "output_type": "display_data"
    }
   ],
   "source": [
    "fig = plt.figure(figsize=(4,4))\n",
    "plt.scatter(y_test_denorm, y_pred_mlp_denorm, s = 1)\n",
    "plt.plot((-1,3500),(-1,3500), '--', c='r')\n",
    "plt.xlim((-10,5500))\n",
    "plt.ylim((-10,5500))\n",
    "plt.show()"
   ]
  }
 ],
 "metadata": {
  "kernelspec": {
   "display_name": "Python 3",
   "language": "python",
   "name": "python3"
  },
  "language_info": {
   "codemirror_mode": {
    "name": "ipython",
    "version": 3
   },
   "file_extension": ".py",
   "mimetype": "text/x-python",
   "name": "python",
   "nbconvert_exporter": "python",
   "pygments_lexer": "ipython3",
   "version": "3.6.6"
  }
 },
 "nbformat": 4,
 "nbformat_minor": 2
}
