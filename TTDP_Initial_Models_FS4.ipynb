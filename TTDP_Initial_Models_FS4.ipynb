{
 "cells": [
  {
   "cell_type": "code",
   "execution_count": 234,
   "metadata": {},
   "outputs": [],
   "source": [
    "# Basics\n",
    "import pickle as pkl\n",
    "import pandas as pd\n",
    "import numpy as np\n",
    "import matplotlib.pyplot as plt\n",
    "\n",
    "# Preprocessing\n",
    "from scipy import stats\n",
    "from sklearn import preprocessing\n",
    "from sklearn.model_selection import train_test_split\n",
    "\n",
    "# Models\n",
    "from sklearn import svm\n",
    "from sklearn.ensemble import RandomForestRegressor\n",
    "from sklearn.neural_network import MLPRegressor\n",
    "import xgboost as xgb\n",
    "\n",
    "# Misc\n",
    "import sys\n",
    "from IPython.display import clear_output\n",
    "\n",
    "%run utils/utils_metrics.py\n",
    "%run utils/utils_line_supercover.py\n",
    "\n",
    "%run utils/feature-extractor/feat_extraction.py"
   ]
  },
  {
   "cell_type": "markdown",
   "metadata": {},
   "source": [
    "### 1. Load data"
   ]
  },
  {
   "cell_type": "code",
   "execution_count": 142,
   "metadata": {},
   "outputs": [
    {
     "name": "stdout",
     "output_type": "stream",
     "text": [
      "Data shape: (48605, 10)\n"
     ]
    },
    {
     "data": {
      "text/html": [
       "<div>\n",
       "<style scoped>\n",
       "    .dataframe tbody tr th:only-of-type {\n",
       "        vertical-align: middle;\n",
       "    }\n",
       "\n",
       "    .dataframe tbody tr th {\n",
       "        vertical-align: top;\n",
       "    }\n",
       "\n",
       "    .dataframe thead th {\n",
       "        text-align: right;\n",
       "    }\n",
       "</style>\n",
       "<table border=\"1\" class=\"dataframe\">\n",
       "  <thead>\n",
       "    <tr style=\"text-align: right;\">\n",
       "      <th></th>\n",
       "      <th>pu_t</th>\n",
       "      <th>do_t</th>\n",
       "      <th>trip_dist</th>\n",
       "      <th>pu_lon</th>\n",
       "      <th>pu_lat</th>\n",
       "      <th>do_lon</th>\n",
       "      <th>do_lat</th>\n",
       "      <th>duration</th>\n",
       "      <th>vec_dist</th>\n",
       "      <th>trip_ratio</th>\n",
       "    </tr>\n",
       "  </thead>\n",
       "  <tbody>\n",
       "    <tr>\n",
       "      <th>0</th>\n",
       "      <td>2016-02-16 19:56:06</td>\n",
       "      <td>2016-02-16 20:10:46</td>\n",
       "      <td>8.53</td>\n",
       "      <td>-73.995750</td>\n",
       "      <td>40.764488</td>\n",
       "      <td>-73.926292</td>\n",
       "      <td>40.867458</td>\n",
       "      <td>880</td>\n",
       "      <td>7.983998</td>\n",
       "      <td>1.068387</td>\n",
       "    </tr>\n",
       "    <tr>\n",
       "      <th>1</th>\n",
       "      <td>2016-02-11 10:23:41</td>\n",
       "      <td>2016-02-11 10:45:04</td>\n",
       "      <td>1.95</td>\n",
       "      <td>-73.994110</td>\n",
       "      <td>40.751068</td>\n",
       "      <td>-73.993401</td>\n",
       "      <td>40.736019</td>\n",
       "      <td>1283</td>\n",
       "      <td>1.039087</td>\n",
       "      <td>1.876648</td>\n",
       "    </tr>\n",
       "    <tr>\n",
       "      <th>2</th>\n",
       "      <td>2016-02-21 14:21:57</td>\n",
       "      <td>2016-02-21 14:30:07</td>\n",
       "      <td>0.50</td>\n",
       "      <td>-73.973160</td>\n",
       "      <td>40.752728</td>\n",
       "      <td>-73.982178</td>\n",
       "      <td>40.756962</td>\n",
       "      <td>490</td>\n",
       "      <td>0.556130</td>\n",
       "      <td>0.899070</td>\n",
       "    </tr>\n",
       "    <tr>\n",
       "      <th>3</th>\n",
       "      <td>2016-02-11 22:51:59</td>\n",
       "      <td>2016-02-11 22:57:41</td>\n",
       "      <td>1.30</td>\n",
       "      <td>-73.991280</td>\n",
       "      <td>40.744808</td>\n",
       "      <td>-73.985909</td>\n",
       "      <td>40.731178</td>\n",
       "      <td>342</td>\n",
       "      <td>0.981839</td>\n",
       "      <td>1.324045</td>\n",
       "    </tr>\n",
       "    <tr>\n",
       "      <th>4</th>\n",
       "      <td>2016-02-13 18:32:08</td>\n",
       "      <td>2016-02-13 18:43:51</td>\n",
       "      <td>1.50</td>\n",
       "      <td>-73.992897</td>\n",
       "      <td>40.741280</td>\n",
       "      <td>-73.975967</td>\n",
       "      <td>40.748734</td>\n",
       "      <td>703</td>\n",
       "      <td>1.026608</td>\n",
       "      <td>1.461123</td>\n",
       "    </tr>\n",
       "  </tbody>\n",
       "</table>\n",
       "</div>"
      ],
      "text/plain": [
       "                 pu_t                do_t  trip_dist     pu_lon     pu_lat  \\\n",
       "0 2016-02-16 19:56:06 2016-02-16 20:10:46       8.53 -73.995750  40.764488   \n",
       "1 2016-02-11 10:23:41 2016-02-11 10:45:04       1.95 -73.994110  40.751068   \n",
       "2 2016-02-21 14:21:57 2016-02-21 14:30:07       0.50 -73.973160  40.752728   \n",
       "3 2016-02-11 22:51:59 2016-02-11 22:57:41       1.30 -73.991280  40.744808   \n",
       "4 2016-02-13 18:32:08 2016-02-13 18:43:51       1.50 -73.992897  40.741280   \n",
       "\n",
       "      do_lon     do_lat  duration  vec_dist  trip_ratio  \n",
       "0 -73.926292  40.867458       880  7.983998    1.068387  \n",
       "1 -73.993401  40.736019      1283  1.039087    1.876648  \n",
       "2 -73.982178  40.756962       490  0.556130    0.899070  \n",
       "3 -73.985909  40.731178       342  0.981839    1.324045  \n",
       "4 -73.975967  40.748734       703  1.026608    1.461123  "
      ]
     },
     "execution_count": 142,
     "metadata": {},
     "output_type": "execute_result"
    }
   ],
   "source": [
    "n_chunks = 1\n",
    "chunks = [pkl.load(open('../data/bin_chunks/ttd_chunk_{0}.pkl'.format(i), 'rb')) for i in range(1, n_chunks + 1)]\n",
    "dataset = pd.concat(chunks)\n",
    "print(\"Data shape:\", dataset.shape)\n",
    "\n",
    "dataset.reset_index(inplace=True)\n",
    "dataset.drop('index',axis=1,inplace=True)\n",
    "\n",
    "dataset.head()"
   ]
  },
  {
   "cell_type": "markdown",
   "metadata": {},
   "source": [
    "### 2. Extracting features"
   ]
  },
  {
   "cell_type": "code",
   "execution_count": 143,
   "metadata": {},
   "outputs": [
    {
     "name": "stdout",
     "output_type": "stream",
     "text": [
      "Extracting Coordinates Features...\n",
      "Extracting VectorDistance Features...\n",
      "Extracting GridTripDistance Features...\n",
      "Started prediction on grid of size 300x300\n",
      "Normalizing data...\n",
      "Prediction has started.\n",
      "Finished.\n",
      "\n",
      "Extracting AvgHour Features...\n",
      "Extracting WeekDay Features...\n"
     ]
    },
    {
     "data": {
      "text/html": [
       "<div>\n",
       "<style scoped>\n",
       "    .dataframe tbody tr th:only-of-type {\n",
       "        vertical-align: middle;\n",
       "    }\n",
       "\n",
       "    .dataframe tbody tr th {\n",
       "        vertical-align: top;\n",
       "    }\n",
       "\n",
       "    .dataframe thead th {\n",
       "        text-align: right;\n",
       "    }\n",
       "</style>\n",
       "<table border=\"1\" class=\"dataframe\">\n",
       "  <thead>\n",
       "    <tr style=\"text-align: right;\">\n",
       "      <th></th>\n",
       "      <th>pu_lon</th>\n",
       "      <th>pu_lat</th>\n",
       "      <th>do_lon</th>\n",
       "      <th>do_lat</th>\n",
       "      <th>vec_dist</th>\n",
       "      <th>grid_trip_dist</th>\n",
       "      <th>avg_hour</th>\n",
       "      <th>avg_hour_sin</th>\n",
       "      <th>avg_hour_cos</th>\n",
       "      <th>week_day</th>\n",
       "      <th>week_day_sin</th>\n",
       "      <th>week_day_cos</th>\n",
       "    </tr>\n",
       "  </thead>\n",
       "  <tbody>\n",
       "    <tr>\n",
       "      <th>0</th>\n",
       "      <td>-73.995750</td>\n",
       "      <td>40.764488</td>\n",
       "      <td>-73.926292</td>\n",
       "      <td>40.867458</td>\n",
       "      <td>7.983998</td>\n",
       "      <td>9.256702</td>\n",
       "      <td>20</td>\n",
       "      <td>-0.866025</td>\n",
       "      <td>5.000000e-01</td>\n",
       "      <td>1</td>\n",
       "      <td>0.781831</td>\n",
       "      <td>0.623490</td>\n",
       "    </tr>\n",
       "    <tr>\n",
       "      <th>1</th>\n",
       "      <td>-73.994110</td>\n",
       "      <td>40.751068</td>\n",
       "      <td>-73.993401</td>\n",
       "      <td>40.736019</td>\n",
       "      <td>1.039087</td>\n",
       "      <td>1.336709</td>\n",
       "      <td>10</td>\n",
       "      <td>0.500000</td>\n",
       "      <td>-8.660254e-01</td>\n",
       "      <td>3</td>\n",
       "      <td>0.433884</td>\n",
       "      <td>-0.900969</td>\n",
       "    </tr>\n",
       "    <tr>\n",
       "      <th>2</th>\n",
       "      <td>-73.973160</td>\n",
       "      <td>40.752728</td>\n",
       "      <td>-73.982178</td>\n",
       "      <td>40.756962</td>\n",
       "      <td>0.556130</td>\n",
       "      <td>0.720743</td>\n",
       "      <td>14</td>\n",
       "      <td>-0.500000</td>\n",
       "      <td>-8.660254e-01</td>\n",
       "      <td>6</td>\n",
       "      <td>-0.781831</td>\n",
       "      <td>0.623490</td>\n",
       "    </tr>\n",
       "    <tr>\n",
       "      <th>3</th>\n",
       "      <td>-73.991280</td>\n",
       "      <td>40.744808</td>\n",
       "      <td>-73.985909</td>\n",
       "      <td>40.731178</td>\n",
       "      <td>0.981839</td>\n",
       "      <td>1.277223</td>\n",
       "      <td>22</td>\n",
       "      <td>-0.500000</td>\n",
       "      <td>8.660254e-01</td>\n",
       "      <td>3</td>\n",
       "      <td>0.433884</td>\n",
       "      <td>-0.900969</td>\n",
       "    </tr>\n",
       "    <tr>\n",
       "      <th>4</th>\n",
       "      <td>-73.992897</td>\n",
       "      <td>40.741280</td>\n",
       "      <td>-73.975967</td>\n",
       "      <td>40.748734</td>\n",
       "      <td>1.026608</td>\n",
       "      <td>1.314838</td>\n",
       "      <td>18</td>\n",
       "      <td>-1.000000</td>\n",
       "      <td>-1.836970e-16</td>\n",
       "      <td>5</td>\n",
       "      <td>-0.974928</td>\n",
       "      <td>-0.222521</td>\n",
       "    </tr>\n",
       "  </tbody>\n",
       "</table>\n",
       "</div>"
      ],
      "text/plain": [
       "      pu_lon     pu_lat     do_lon     do_lat  vec_dist  grid_trip_dist  \\\n",
       "0 -73.995750  40.764488 -73.926292  40.867458  7.983998        9.256702   \n",
       "1 -73.994110  40.751068 -73.993401  40.736019  1.039087        1.336709   \n",
       "2 -73.973160  40.752728 -73.982178  40.756962  0.556130        0.720743   \n",
       "3 -73.991280  40.744808 -73.985909  40.731178  0.981839        1.277223   \n",
       "4 -73.992897  40.741280 -73.975967  40.748734  1.026608        1.314838   \n",
       "\n",
       "   avg_hour  avg_hour_sin  avg_hour_cos  week_day  week_day_sin  week_day_cos  \n",
       "0        20     -0.866025  5.000000e-01         1      0.781831      0.623490  \n",
       "1        10      0.500000 -8.660254e-01         3      0.433884     -0.900969  \n",
       "2        14     -0.500000 -8.660254e-01         6     -0.781831      0.623490  \n",
       "3        22     -0.500000  8.660254e-01         3      0.433884     -0.900969  \n",
       "4        18     -1.000000 -1.836970e-16         5     -0.974928     -0.222521  "
      ]
     },
     "execution_count": 143,
     "metadata": {},
     "output_type": "execute_result"
    }
   ],
   "source": [
    "# Instantiate a (concrete) component\n",
    "featExtractor = FeatureExtractor(dataset=dataset)\n",
    "\n",
    "# Decorate with features\n",
    "featExtractor = CoordinatesFeature(featExtractor)\n",
    "featExtractor = VectorDistanceFeature(featExtractor)\n",
    "featExtractor = GridTripDistanceFeature(featExtractor)\n",
    "featExtractor = AvgHourFeature(featExtractor)\n",
    "featExtractor = WeekDayFeature(featExtractor)\n",
    "\n",
    "# Extract them\n",
    "features = featExtractor.getFeatures()\n",
    "features.head()"
   ]
  },
  {
   "cell_type": "code",
   "execution_count": 144,
   "metadata": {},
   "outputs": [
    {
     "data": {
      "text/html": [
       "<div>\n",
       "<style scoped>\n",
       "    .dataframe tbody tr th:only-of-type {\n",
       "        vertical-align: middle;\n",
       "    }\n",
       "\n",
       "    .dataframe tbody tr th {\n",
       "        vertical-align: top;\n",
       "    }\n",
       "\n",
       "    .dataframe thead th {\n",
       "        text-align: right;\n",
       "    }\n",
       "</style>\n",
       "<table border=\"1\" class=\"dataframe\">\n",
       "  <thead>\n",
       "    <tr style=\"text-align: right;\">\n",
       "      <th></th>\n",
       "      <th>pu_lon</th>\n",
       "      <th>pu_lat</th>\n",
       "      <th>do_lon</th>\n",
       "      <th>do_lat</th>\n",
       "      <th>vec_dist</th>\n",
       "      <th>grid_trip_dist</th>\n",
       "      <th>avg_hour_sin</th>\n",
       "      <th>avg_hour_cos</th>\n",
       "      <th>week_day_sin</th>\n",
       "      <th>week_day_cos</th>\n",
       "    </tr>\n",
       "  </thead>\n",
       "  <tbody>\n",
       "    <tr>\n",
       "      <th>0</th>\n",
       "      <td>-73.995750</td>\n",
       "      <td>40.764488</td>\n",
       "      <td>-73.926292</td>\n",
       "      <td>40.867458</td>\n",
       "      <td>7.983998</td>\n",
       "      <td>9.256702</td>\n",
       "      <td>-0.866025</td>\n",
       "      <td>5.000000e-01</td>\n",
       "      <td>0.781831</td>\n",
       "      <td>0.623490</td>\n",
       "    </tr>\n",
       "    <tr>\n",
       "      <th>1</th>\n",
       "      <td>-73.994110</td>\n",
       "      <td>40.751068</td>\n",
       "      <td>-73.993401</td>\n",
       "      <td>40.736019</td>\n",
       "      <td>1.039087</td>\n",
       "      <td>1.336709</td>\n",
       "      <td>0.500000</td>\n",
       "      <td>-8.660254e-01</td>\n",
       "      <td>0.433884</td>\n",
       "      <td>-0.900969</td>\n",
       "    </tr>\n",
       "    <tr>\n",
       "      <th>2</th>\n",
       "      <td>-73.973160</td>\n",
       "      <td>40.752728</td>\n",
       "      <td>-73.982178</td>\n",
       "      <td>40.756962</td>\n",
       "      <td>0.556130</td>\n",
       "      <td>0.720743</td>\n",
       "      <td>-0.500000</td>\n",
       "      <td>-8.660254e-01</td>\n",
       "      <td>-0.781831</td>\n",
       "      <td>0.623490</td>\n",
       "    </tr>\n",
       "    <tr>\n",
       "      <th>3</th>\n",
       "      <td>-73.991280</td>\n",
       "      <td>40.744808</td>\n",
       "      <td>-73.985909</td>\n",
       "      <td>40.731178</td>\n",
       "      <td>0.981839</td>\n",
       "      <td>1.277223</td>\n",
       "      <td>-0.500000</td>\n",
       "      <td>8.660254e-01</td>\n",
       "      <td>0.433884</td>\n",
       "      <td>-0.900969</td>\n",
       "    </tr>\n",
       "    <tr>\n",
       "      <th>4</th>\n",
       "      <td>-73.992897</td>\n",
       "      <td>40.741280</td>\n",
       "      <td>-73.975967</td>\n",
       "      <td>40.748734</td>\n",
       "      <td>1.026608</td>\n",
       "      <td>1.314838</td>\n",
       "      <td>-1.000000</td>\n",
       "      <td>-1.836970e-16</td>\n",
       "      <td>-0.974928</td>\n",
       "      <td>-0.222521</td>\n",
       "    </tr>\n",
       "  </tbody>\n",
       "</table>\n",
       "</div>"
      ],
      "text/plain": [
       "      pu_lon     pu_lat     do_lon     do_lat  vec_dist  grid_trip_dist  \\\n",
       "0 -73.995750  40.764488 -73.926292  40.867458  7.983998        9.256702   \n",
       "1 -73.994110  40.751068 -73.993401  40.736019  1.039087        1.336709   \n",
       "2 -73.973160  40.752728 -73.982178  40.756962  0.556130        0.720743   \n",
       "3 -73.991280  40.744808 -73.985909  40.731178  0.981839        1.277223   \n",
       "4 -73.992897  40.741280 -73.975967  40.748734  1.026608        1.314838   \n",
       "\n",
       "   avg_hour_sin  avg_hour_cos  week_day_sin  week_day_cos  \n",
       "0     -0.866025  5.000000e-01      0.781831      0.623490  \n",
       "1      0.500000 -8.660254e-01      0.433884     -0.900969  \n",
       "2     -0.500000 -8.660254e-01     -0.781831      0.623490  \n",
       "3     -0.500000  8.660254e-01      0.433884     -0.900969  \n",
       "4     -1.000000 -1.836970e-16     -0.974928     -0.222521  "
      ]
     },
     "execution_count": 144,
     "metadata": {},
     "output_type": "execute_result"
    }
   ],
   "source": [
    "features.drop(['avg_hour','week_day'],axis=1,inplace=True)\n",
    "features.head()"
   ]
  },
  {
   "cell_type": "code",
   "execution_count": 147,
   "metadata": {},
   "outputs": [],
   "source": [
    "output = dataset.duration"
   ]
  },
  {
   "cell_type": "code",
   "execution_count": 148,
   "metadata": {},
   "outputs": [],
   "source": [
    "normalized_inputs = features.copy()\n",
    "normalized_output = output.copy()"
   ]
  },
  {
   "cell_type": "code",
   "execution_count": 149,
   "metadata": {},
   "outputs": [],
   "source": [
    "lat_data = np.array(pd.concat((features.pu_lat, features.do_lat))).reshape(-1,1)\n",
    "lon_data = np.array(pd.concat((features.pu_lon, features.do_lon))).reshape(-1,1)\n",
    "dur_data = np.array(dataset.duration.astype(float)).reshape(-1,1)\n",
    "\n",
    "hour_sin_data = np.array(features.avg_hour_sin.astype(float)).reshape(-1,1)\n",
    "hour_cos_data = np.array(features.avg_hour_cos.astype(float)).reshape(-1,1)\n",
    "\n",
    "day_sin_data = np.array(features.week_day_sin.astype(float)).reshape(-1,1)\n",
    "day_cos_data = np.array(features.week_day_cos.astype(float)).reshape(-1,1)\n",
    "\n",
    "vec_dist_data = np.array(features.vec_dist).reshape(-1,1)\n",
    "grid_dist_data = np.array(features.grid_trip_dist).reshape(-1,1)\n",
    "\n",
    "\n",
    "scaler_type = 'StandardScaler' # Other options: MinMaxScaler\n",
    "lat_scaler = getattr(preprocessing, scaler_type)()\n",
    "lon_scaler = getattr(preprocessing, scaler_type)()\n",
    "out_scaler = getattr(preprocessing, scaler_type)()\n",
    "vec_scaler = getattr(preprocessing, scaler_type)()\n",
    "grid_scaler = getattr(preprocessing, scaler_type)()\n",
    "\n",
    "# Inputs\n",
    "lat_scaler.fit(lat_data);\n",
    "lon_scaler.fit(lon_data);\n",
    "vec_scaler.fit(vec_dist_data);\n",
    "grid_scaler.fit(grid_dist_data);\n",
    "\n",
    "# Output\n",
    "out_scaler.fit(dur_data);\n",
    "\n",
    "\n",
    "normalized_inputs.pu_lon = lon_scaler.transform(np.array(features.pu_lon).reshape(-1,1))\n",
    "normalized_inputs.do_lon = lon_scaler.transform(np.array(features.do_lon).reshape(-1,1))\n",
    "normalized_inputs.pu_lat = lat_scaler.transform(np.array(features.pu_lat).reshape(-1,1))\n",
    "normalized_inputs.do_lat = lat_scaler.transform(np.array(features.do_lat).reshape(-1,1))\n",
    "\n",
    "normalized_inputs.vec_dist = vec_scaler.transform(np.array(features.vec_dist).reshape(-1,1))\n",
    "normalized_inputs.grid_trip_dist = grid_scaler.transform(np.array(features.grid_trip_dist).reshape(-1,1))\n",
    "\n",
    "normalized_output = pd.DataFrame(out_scaler.transform(dur_data)).rename(index=int, columns={0: 'duration'})"
   ]
  },
  {
   "cell_type": "code",
   "execution_count": 150,
   "metadata": {},
   "outputs": [
    {
     "data": {
      "text/html": [
       "<div>\n",
       "<style scoped>\n",
       "    .dataframe tbody tr th:only-of-type {\n",
       "        vertical-align: middle;\n",
       "    }\n",
       "\n",
       "    .dataframe tbody tr th {\n",
       "        vertical-align: top;\n",
       "    }\n",
       "\n",
       "    .dataframe thead th {\n",
       "        text-align: right;\n",
       "    }\n",
       "</style>\n",
       "<table border=\"1\" class=\"dataframe\">\n",
       "  <thead>\n",
       "    <tr style=\"text-align: right;\">\n",
       "      <th></th>\n",
       "      <th>pu_lon</th>\n",
       "      <th>pu_lat</th>\n",
       "      <th>do_lon</th>\n",
       "      <th>do_lat</th>\n",
       "      <th>vec_dist</th>\n",
       "      <th>grid_trip_dist</th>\n",
       "      <th>avg_hour_sin</th>\n",
       "      <th>avg_hour_cos</th>\n",
       "      <th>week_day_sin</th>\n",
       "      <th>week_day_cos</th>\n",
       "    </tr>\n",
       "  </thead>\n",
       "  <tbody>\n",
       "    <tr>\n",
       "      <th>0</th>\n",
       "      <td>-0.621402</td>\n",
       "      <td>0.435595</td>\n",
       "      <td>1.397155</td>\n",
       "      <td>3.958248</td>\n",
       "      <td>2.555457</td>\n",
       "      <td>1.988254</td>\n",
       "      <td>-0.866025</td>\n",
       "      <td>5.000000e-01</td>\n",
       "      <td>0.781831</td>\n",
       "      <td>0.623490</td>\n",
       "    </tr>\n",
       "    <tr>\n",
       "      <th>1</th>\n",
       "      <td>-0.573732</td>\n",
       "      <td>-0.023512</td>\n",
       "      <td>-0.553112</td>\n",
       "      <td>-0.538344</td>\n",
       "      <td>-0.439498</td>\n",
       "      <td>-0.430604</td>\n",
       "      <td>0.500000</td>\n",
       "      <td>-8.660254e-01</td>\n",
       "      <td>0.433884</td>\n",
       "      <td>-0.900969</td>\n",
       "    </tr>\n",
       "    <tr>\n",
       "      <th>2</th>\n",
       "      <td>0.035117</td>\n",
       "      <td>0.033256</td>\n",
       "      <td>-0.226959</td>\n",
       "      <td>0.178114</td>\n",
       "      <td>-0.647770</td>\n",
       "      <td>-0.618727</td>\n",
       "      <td>-0.500000</td>\n",
       "      <td>-8.660254e-01</td>\n",
       "      <td>-0.781831</td>\n",
       "      <td>0.623490</td>\n",
       "    </tr>\n",
       "    <tr>\n",
       "      <th>3</th>\n",
       "      <td>-0.491473</td>\n",
       "      <td>-0.237667</td>\n",
       "      <td>-0.335381</td>\n",
       "      <td>-0.703952</td>\n",
       "      <td>-0.464185</td>\n",
       "      <td>-0.448771</td>\n",
       "      <td>-0.500000</td>\n",
       "      <td>8.660254e-01</td>\n",
       "      <td>0.433884</td>\n",
       "      <td>-0.900969</td>\n",
       "    </tr>\n",
       "    <tr>\n",
       "      <th>4</th>\n",
       "      <td>-0.538478</td>\n",
       "      <td>-0.358381</td>\n",
       "      <td>-0.046477</td>\n",
       "      <td>-0.103380</td>\n",
       "      <td>-0.444879</td>\n",
       "      <td>-0.437283</td>\n",
       "      <td>-1.000000</td>\n",
       "      <td>-1.836970e-16</td>\n",
       "      <td>-0.974928</td>\n",
       "      <td>-0.222521</td>\n",
       "    </tr>\n",
       "  </tbody>\n",
       "</table>\n",
       "</div>"
      ],
      "text/plain": [
       "     pu_lon    pu_lat    do_lon    do_lat  vec_dist  grid_trip_dist  \\\n",
       "0 -0.621402  0.435595  1.397155  3.958248  2.555457        1.988254   \n",
       "1 -0.573732 -0.023512 -0.553112 -0.538344 -0.439498       -0.430604   \n",
       "2  0.035117  0.033256 -0.226959  0.178114 -0.647770       -0.618727   \n",
       "3 -0.491473 -0.237667 -0.335381 -0.703952 -0.464185       -0.448771   \n",
       "4 -0.538478 -0.358381 -0.046477 -0.103380 -0.444879       -0.437283   \n",
       "\n",
       "   avg_hour_sin  avg_hour_cos  week_day_sin  week_day_cos  \n",
       "0     -0.866025  5.000000e-01      0.781831      0.623490  \n",
       "1      0.500000 -8.660254e-01      0.433884     -0.900969  \n",
       "2     -0.500000 -8.660254e-01     -0.781831      0.623490  \n",
       "3     -0.500000  8.660254e-01      0.433884     -0.900969  \n",
       "4     -1.000000 -1.836970e-16     -0.974928     -0.222521  "
      ]
     },
     "metadata": {},
     "output_type": "display_data"
    },
    {
     "data": {
      "text/html": [
       "<div>\n",
       "<style scoped>\n",
       "    .dataframe tbody tr th:only-of-type {\n",
       "        vertical-align: middle;\n",
       "    }\n",
       "\n",
       "    .dataframe tbody tr th {\n",
       "        vertical-align: top;\n",
       "    }\n",
       "\n",
       "    .dataframe thead th {\n",
       "        text-align: right;\n",
       "    }\n",
       "</style>\n",
       "<table border=\"1\" class=\"dataframe\">\n",
       "  <thead>\n",
       "    <tr style=\"text-align: right;\">\n",
       "      <th></th>\n",
       "      <th>duration</th>\n",
       "    </tr>\n",
       "  </thead>\n",
       "  <tbody>\n",
       "    <tr>\n",
       "      <th>0</th>\n",
       "      <td>0.157388</td>\n",
       "    </tr>\n",
       "    <tr>\n",
       "      <th>1</th>\n",
       "      <td>0.844124</td>\n",
       "    </tr>\n",
       "    <tr>\n",
       "      <th>2</th>\n",
       "      <td>-0.507196</td>\n",
       "    </tr>\n",
       "    <tr>\n",
       "      <th>3</th>\n",
       "      <td>-0.759397</td>\n",
       "    </tr>\n",
       "    <tr>\n",
       "      <th>4</th>\n",
       "      <td>-0.144231</td>\n",
       "    </tr>\n",
       "  </tbody>\n",
       "</table>\n",
       "</div>"
      ],
      "text/plain": [
       "   duration\n",
       "0  0.157388\n",
       "1  0.844124\n",
       "2 -0.507196\n",
       "3 -0.759397\n",
       "4 -0.144231"
      ]
     },
     "metadata": {},
     "output_type": "display_data"
    }
   ],
   "source": [
    "display(normalized_inputs.head())\n",
    "display(normalized_output.head())"
   ]
  },
  {
   "cell_type": "code",
   "execution_count": 151,
   "metadata": {},
   "outputs": [],
   "source": [
    "X = np.array(normalized_inputs)\n",
    "y = np.array(normalized_output)"
   ]
  },
  {
   "cell_type": "markdown",
   "metadata": {},
   "source": [
    "#### Quick look at inputs and output"
   ]
  },
  {
   "cell_type": "code",
   "execution_count": 181,
   "metadata": {},
   "outputs": [
    {
     "data": {
      "image/png": "[encoded data removed]",
      "text/plain": [
       "<Figure size 1152x360 with 11 Axes>"
      ]
     },
     "metadata": {
      "needs_background": "light"
     },
     "output_type": "display_data"
    }
   ],
   "source": [
    "plt.figure(figsize=(16,5))\n",
    "titles = list(features.columns.values)\n",
    "\n",
    "for i in range(6):\n",
    "    plt.subplot(3,6,i+1)\n",
    "    plt.hist(X[:,i], bins='auto', log=True)\n",
    "    plt.title(titles[i])\n",
    "\n",
    "temp_bins = [50,50,50,50]\n",
    "for i in range(4):\n",
    "    plt.subplot(3,6,i+7)\n",
    "    plt.hist(X[:,i+6], bins=temp_bins[i], log=True)\n",
    "    plt.title(titles[i+6])\n",
    "\n",
    "plt.subplot(3,6,13)\n",
    "plt.hist(y, bins='auto')\n",
    "plt.title('duration')\n",
    "plt.tight_layout(False)\n",
    "plt.show()"
   ]
  },
  {
   "cell_type": "markdown",
   "metadata": {},
   "source": [
    "### 3. Splitting data"
   ]
  },
  {
   "cell_type": "code",
   "execution_count": 182,
   "metadata": {},
   "outputs": [],
   "source": [
    "X_train, X_test, y_train, y_test = train_test_split(X, y, test_size=0.3, random_state=42)\n",
    "\n",
    "test_size = len(y_test)\n",
    "train_size = len(y_train)\n",
    "\n",
    "y_test_denorm = out_scaler.inverse_transform(y_test)"
   ]
  },
  {
   "cell_type": "code",
   "execution_count": 184,
   "metadata": {},
   "outputs": [],
   "source": [
    "# # Store splitted data\n",
    "pkl.dump(X_train, open('../splitted_data/fs4/x_train.dat', 'wb'))\n",
    "pkl.dump(y_train, open('../splitted_data/fs4/y_train.dat', 'wb'))\n",
    "pkl.dump(X_test, open('../splitted_data/fs4/x_test.dat', 'wb'))\n",
    "pkl.dump(y_test, open('../splitted_data/fs4/y_test.dat', 'wb'))"
   ]
  },
  {
   "cell_type": "code",
   "execution_count": 11,
   "metadata": {},
   "outputs": [],
   "source": [
    "# Read splitted data\n",
    "X_train = pkl.load(open('../splitted_data/fs4/x_train.dat', 'rb'))\n",
    "y_train = pkl.load(open('../splitted_data/fs4/y_train.dat', 'rb'))\n",
    "X_test = pkl.load(open('../splitted_data/fs4/x_test.dat', 'rb'))\n",
    "y_test = pkl.load(open('../splitted_data/fs4/y_test.dat', 'rb'))\n",
    "\n",
    "test_size = len(y_test)\n",
    "train_size = len(y_train)\n",
    "\n",
    "y_test_denorm = out_scaler.inverse_transform(y_test)"
   ]
  },
  {
   "cell_type": "markdown",
   "metadata": {},
   "source": [
    "### 4. SVM"
   ]
  },
  {
   "cell_type": "code",
   "execution_count": 185,
   "metadata": {},
   "outputs": [],
   "source": [
    "kernels = ['rbf']\n",
    "C_values = [0.1, 1, 10]"
   ]
  },
  {
   "cell_type": "markdown",
   "metadata": {},
   "source": [
    "#### 4.1 Training"
   ]
  },
  {
   "cell_type": "code",
   "execution_count": 186,
   "metadata": {},
   "outputs": [
    {
     "name": "stdout",
     "output_type": "stream",
     "text": [
      "Done."
     ]
    }
   ],
   "source": [
    "for kern in kernels:\n",
    "    for C in C_values:\n",
    "        sys.stdout.write(\"\\rTraining SVM with kernel {0} and C = {1}\".format(kern,C))\n",
    "        svm_reg = svm.SVR(kernel=kern, gamma='auto', C=C)\n",
    "        svm_reg.fit(X_train, y_train.ravel())\n",
    "        pkl.dump(svm_reg, open('../init_models/fs4/svms/svm_reg_{0}_{1}.mdl'.format(kern,C), 'wb'))\n",
    "        sys.stdout.flush()\n",
    "        clear_output()\n",
    "sys.stdout.write(\"Done.\")        "
   ]
  },
  {
   "cell_type": "markdown",
   "metadata": {},
   "source": [
    "#### 4.2 Testing"
   ]
  },
  {
   "cell_type": "code",
   "execution_count": 187,
   "metadata": {},
   "outputs": [
    {
     "name": "stdout",
     "output_type": "stream",
     "text": [
      "Done."
     ]
    }
   ],
   "source": [
    "y_pred_svm = []\n",
    "for kern in kernels:\n",
    "    for C in C_values:\n",
    "        print(\"Running tests on SVM with kernel {0} and C = {1}\".format(kern,C))\n",
    "        svm_reg = pkl.load(open('../init_models/fs4/svms/svm_reg_{0}_{1}.mdl'.format(kern,C), 'rb'))\n",
    "        y_pred_svm.append(svm_reg.predict(X_test))\n",
    "        sys.stdout.flush()\n",
    "        clear_output()\n",
    "sys.stdout.write(\"Done.\")        "
   ]
  },
  {
   "cell_type": "markdown",
   "metadata": {},
   "source": [
    "#### Denormalize predicited data"
   ]
  },
  {
   "cell_type": "code",
   "execution_count": 188,
   "metadata": {},
   "outputs": [],
   "source": [
    "y_pred_svm_denorm = out_scaler.inverse_transform(y_pred_svm)\n",
    "\n",
    "# Set all negative outputs to zero (we're predicting time)\n",
    "y_pred_svm_denorm[y_pred_svm_denorm < 0] = 0\n",
    "\n",
    "# Transform back again\n",
    "y_pred_svm = out_scaler.transform(y_pred_svm_denorm)"
   ]
  },
  {
   "cell_type": "markdown",
   "metadata": {},
   "source": [
    "#### 4.3 Metrics"
   ]
  },
  {
   "cell_type": "code",
   "execution_count": 194,
   "metadata": {},
   "outputs": [
    {
     "data": {
      "text/html": [
       "<div>\n",
       "<style scoped>\n",
       "    .dataframe tbody tr th:only-of-type {\n",
       "        vertical-align: middle;\n",
       "    }\n",
       "\n",
       "    .dataframe tbody tr th {\n",
       "        vertical-align: top;\n",
       "    }\n",
       "\n",
       "    .dataframe thead th {\n",
       "        text-align: right;\n",
       "    }\n",
       "</style>\n",
       "<table border=\"1\" class=\"dataframe\">\n",
       "  <thead>\n",
       "    <tr style=\"text-align: right;\">\n",
       "      <th></th>\n",
       "      <th></th>\n",
       "      <th>Exp. Var.</th>\n",
       "      <th>R2</th>\n",
       "      <th>MSE</th>\n",
       "      <th>RMSE</th>\n",
       "      <th>nMSE</th>\n",
       "      <th>nRMSE</th>\n",
       "      <th>MSLE</th>\n",
       "      <th>RMSLE</th>\n",
       "      <th>MAPE</th>\n",
       "    </tr>\n",
       "    <tr>\n",
       "      <th>Kernel</th>\n",
       "      <th>C</th>\n",
       "      <th></th>\n",
       "      <th></th>\n",
       "      <th></th>\n",
       "      <th></th>\n",
       "      <th></th>\n",
       "      <th></th>\n",
       "      <th></th>\n",
       "      <th></th>\n",
       "      <th></th>\n",
       "    </tr>\n",
       "  </thead>\n",
       "  <tbody>\n",
       "    <tr>\n",
       "      <th rowspan=\"3\" valign=\"top\">rbf</th>\n",
       "      <th>0.1</th>\n",
       "      <td>0.756256</td>\n",
       "      <td>0.752474</td>\n",
       "      <td>83469.900064</td>\n",
       "      <td>288.911578</td>\n",
       "      <td>0.242382</td>\n",
       "      <td>0.492323</td>\n",
       "      <td>0.128634</td>\n",
       "      <td>0.358655</td>\n",
       "      <td>29.314737</td>\n",
       "    </tr>\n",
       "    <tr>\n",
       "      <th>1.0</th>\n",
       "      <td>0.782370</td>\n",
       "      <td>0.779760</td>\n",
       "      <td>74268.356429</td>\n",
       "      <td>272.522213</td>\n",
       "      <td>0.215662</td>\n",
       "      <td>0.464395</td>\n",
       "      <td>0.117192</td>\n",
       "      <td>0.342333</td>\n",
       "      <td>27.233850</td>\n",
       "    </tr>\n",
       "    <tr>\n",
       "      <th>10.0</th>\n",
       "      <td>0.790524</td>\n",
       "      <td>0.788424</td>\n",
       "      <td>71346.891526</td>\n",
       "      <td>267.108389</td>\n",
       "      <td>0.207179</td>\n",
       "      <td>0.455169</td>\n",
       "      <td>0.114594</td>\n",
       "      <td>0.338518</td>\n",
       "      <td>26.488583</td>\n",
       "    </tr>\n",
       "  </tbody>\n",
       "</table>\n",
       "</div>"
      ],
      "text/plain": [
       "             Exp. Var.        R2           MSE        RMSE      nMSE  \\\n",
       "Kernel C                                                               \n",
       "rbf    0.1    0.756256  0.752474  83469.900064  288.911578  0.242382   \n",
       "       1.0    0.782370  0.779760  74268.356429  272.522213  0.215662   \n",
       "       10.0   0.790524  0.788424  71346.891526  267.108389  0.207179   \n",
       "\n",
       "                nRMSE      MSLE     RMSLE       MAPE  \n",
       "Kernel C                                              \n",
       "rbf    0.1   0.492323  0.128634  0.358655  29.314737  \n",
       "       1.0   0.464395  0.117192  0.342333  27.233850  \n",
       "       10.0  0.455169  0.114594  0.338518  26.488583  "
      ]
     },
     "execution_count": 194,
     "metadata": {},
     "output_type": "execute_result"
    }
   ],
   "source": [
    "idx = pd.MultiIndex.from_tuples([(k,C) for k in kernels for C in C_values], names=['Kernel','C'])\n",
    "\n",
    "metrics_svm = compute_metrics(y_true = y_test, y_pred = y_pred_svm, \n",
    "                              y_true_denorm = y_test_denorm, y_pred_denorm = y_pred_svm_denorm, \n",
    "                              indices = idx)  \n",
    "metrics_svm"
   ]
  },
  {
   "cell_type": "code",
   "execution_count": 190,
   "metadata": {},
   "outputs": [
    {
     "data": {
      "image/png": "[encoded data removed]",
      "text/plain": [
       "<Figure size 576x576 with 3 Axes>"
      ]
     },
     "metadata": {
      "needs_background": "light"
     },
     "output_type": "display_data"
    }
   ],
   "source": [
    "fig = plt.figure(figsize=(8,8))\n",
    "for i,kern in enumerate(kernels):\n",
    "    for j,C in enumerate(C_values):\n",
    "        plt.subplot(3, 3, j + 3*i + 1)\n",
    "        plt.scatter(y_test_denorm, y_pred_svm_denorm[j + 3*i], s = 1)\n",
    "        plt.plot((-1,3500),(-1,3500), '--', c='r')\n",
    "        plt.title('{0} (C={1})'.format(kern,C))\n",
    "        plt.xlim((-10,3500))\n",
    "        plt.ylim((-10,3500))\n",
    "plt.tight_layout()\n",
    "plt.show()"
   ]
  },
  {
   "cell_type": "markdown",
   "metadata": {},
   "source": [
    "#### 4.4 Evaluate accuracy agains range of tolerance for best SVM"
   ]
  },
  {
   "cell_type": "code",
   "execution_count": 191,
   "metadata": {},
   "outputs": [
    {
     "data": {
      "image/png": "[encoded data removed]",
      "text/plain": [
       "<Figure size 432x288 with 1 Axes>"
      ]
     },
     "metadata": {
      "needs_background": "light"
     },
     "output_type": "display_data"
    }
   ],
   "source": [
    "y_pred_svm_best = y_pred_svm_denorm[2].reshape(-1,1)\n",
    "\n",
    "tolerance = np.arange(0.1,1,0.1)\n",
    "acc = [np.sum(np.isclose(y_pred_svm_best, y_test_denorm, rtol=tol))/test_size for tol in tolerance]\n",
    "\n",
    "plt.plot(tolerance, acc, c='k')\n",
    "plt.scatter(tolerance, acc, c='k')\n",
    "plt.ylabel('\"TP\" Rate')\n",
    "plt.xlabel('Percentual tolerance')\n",
    "plt.show()"
   ]
  },
  {
   "cell_type": "markdown",
   "metadata": {},
   "source": [
    "### 5. Random Forests"
   ]
  },
  {
   "cell_type": "code",
   "execution_count": 192,
   "metadata": {},
   "outputs": [],
   "source": [
    "forest_size = [100,200, 300]\n",
    "max_feats   = [2,3,4]"
   ]
  },
  {
   "cell_type": "markdown",
   "metadata": {},
   "source": [
    "#### 5.1 Training"
   ]
  },
  {
   "cell_type": "code",
   "execution_count": 193,
   "metadata": {},
   "outputs": [
    {
     "name": "stdout",
     "output_type": "stream",
     "text": [
      "Done."
     ]
    }
   ],
   "source": [
    "for n_trees in forest_size:\n",
    "    for max_feat in max_feats:\n",
    "        sys.stdout.write(\"\\rTraining forest with {0} trees using maximum of {1} features\".format(n_trees, max_feat))\n",
    "        rf_reg = RandomForestRegressor(n_estimators=n_trees, max_features=max_feat, n_jobs=2)\n",
    "        rf_reg.fit(X_train, y_train.ravel())\n",
    "        pkl.dump(rf_reg, open('../init_models/fs4/random_forests/rf_reg_{0}_{1}.mdl'.format(n_trees,max_feat), 'wb'))\n",
    "        sys.stdout.flush()\n",
    "clear_output()\n",
    "sys.stdout.write(\"Done.\")        "
   ]
  },
  {
   "cell_type": "markdown",
   "metadata": {},
   "source": [
    "#### 5.2 Testing"
   ]
  },
  {
   "cell_type": "code",
   "execution_count": 195,
   "metadata": {},
   "outputs": [
    {
     "name": "stdout",
     "output_type": "stream",
     "text": [
      "Done."
     ]
    }
   ],
   "source": [
    "y_pred_rf = []\n",
    "for n_trees in forest_size:\n",
    "    for max_feat in max_feats:\n",
    "        sys.stdout.write(\"\\rTesting forest with {0} trees using maximum of {1} features\".format(n_trees, max_feat))\n",
    "        rf_reg = pkl.load(open('../init_models/fs4/random_forests/rf_reg_{0}_{1}.mdl'.format(n_trees,max_feat), 'rb'))\n",
    "        y_pred_rf.append(rf_reg.predict(X_test));\n",
    "        sys.stdout.flush()\n",
    "clear_output()\n",
    "sys.stdout.write(\"Done.\")        "
   ]
  },
  {
   "cell_type": "markdown",
   "metadata": {},
   "source": [
    "#### Denormalize predicited data"
   ]
  },
  {
   "cell_type": "code",
   "execution_count": 196,
   "metadata": {},
   "outputs": [],
   "source": [
    "y_pred_rf_denorm = out_scaler.inverse_transform(y_pred_rf)\n",
    "\n",
    "# Set all negative outputs to zero (we're predicting time)\n",
    "y_pred_rf_denorm[y_pred_rf_denorm < 0] = 0\n",
    "\n",
    "# Transform back again\n",
    "y_pred_rf = out_scaler.transform(y_pred_rf_denorm)"
   ]
  },
  {
   "cell_type": "markdown",
   "metadata": {},
   "source": [
    "#### 4.3 Metrics"
   ]
  },
  {
   "cell_type": "code",
   "execution_count": 233,
   "metadata": {},
   "outputs": [
    {
     "data": {
      "text/plain": [
       "(9, 14582)"
      ]
     },
     "execution_count": 233,
     "metadata": {},
     "output_type": "execute_result"
    }
   ],
   "source": [
    "y_pred_rf_denorm.shape"
   ]
  },
  {
   "cell_type": "code",
   "execution_count": 197,
   "metadata": {},
   "outputs": [
    {
     "data": {
      "text/html": [
       "<div>\n",
       "<style scoped>\n",
       "    .dataframe tbody tr th:only-of-type {\n",
       "        vertical-align: middle;\n",
       "    }\n",
       "\n",
       "    .dataframe tbody tr th {\n",
       "        vertical-align: top;\n",
       "    }\n",
       "\n",
       "    .dataframe thead th {\n",
       "        text-align: right;\n",
       "    }\n",
       "</style>\n",
       "<table border=\"1\" class=\"dataframe\">\n",
       "  <thead>\n",
       "    <tr style=\"text-align: right;\">\n",
       "      <th></th>\n",
       "      <th></th>\n",
       "      <th>Exp. Var.</th>\n",
       "      <th>R2</th>\n",
       "      <th>MSE</th>\n",
       "      <th>RMSE</th>\n",
       "      <th>nMSE</th>\n",
       "      <th>nRMSE</th>\n",
       "      <th>MSLE</th>\n",
       "      <th>RMSLE</th>\n",
       "      <th>MAPE</th>\n",
       "    </tr>\n",
       "    <tr>\n",
       "      <th>#Tress</th>\n",
       "      <th>MaxFeat</th>\n",
       "      <th></th>\n",
       "      <th></th>\n",
       "      <th></th>\n",
       "      <th></th>\n",
       "      <th></th>\n",
       "      <th></th>\n",
       "      <th></th>\n",
       "      <th></th>\n",
       "      <th></th>\n",
       "    </tr>\n",
       "  </thead>\n",
       "  <tbody>\n",
       "    <tr>\n",
       "      <th rowspan=\"3\" valign=\"top\">100</th>\n",
       "      <th>2</th>\n",
       "      <td>0.780237</td>\n",
       "      <td>0.779896</td>\n",
       "      <td>74222.734486</td>\n",
       "      <td>272.438497</td>\n",
       "      <td>0.215530</td>\n",
       "      <td>0.464252</td>\n",
       "      <td>0.132570</td>\n",
       "      <td>0.364102</td>\n",
       "      <td>32.321352</td>\n",
       "    </tr>\n",
       "    <tr>\n",
       "      <th>3</th>\n",
       "      <td>0.780808</td>\n",
       "      <td>0.780388</td>\n",
       "      <td>74056.618768</td>\n",
       "      <td>272.133458</td>\n",
       "      <td>0.215047</td>\n",
       "      <td>0.463732</td>\n",
       "      <td>0.131820</td>\n",
       "      <td>0.363070</td>\n",
       "      <td>31.957341</td>\n",
       "    </tr>\n",
       "    <tr>\n",
       "      <th>4</th>\n",
       "      <td>0.779609</td>\n",
       "      <td>0.779110</td>\n",
       "      <td>74487.646557</td>\n",
       "      <td>272.924251</td>\n",
       "      <td>0.216299</td>\n",
       "      <td>0.465080</td>\n",
       "      <td>0.132106</td>\n",
       "      <td>0.363464</td>\n",
       "      <td>31.964412</td>\n",
       "    </tr>\n",
       "    <tr>\n",
       "      <th rowspan=\"3\" valign=\"top\">200</th>\n",
       "      <th>2</th>\n",
       "      <td>0.780899</td>\n",
       "      <td>0.780548</td>\n",
       "      <td>74002.794022</td>\n",
       "      <td>272.034546</td>\n",
       "      <td>0.214891</td>\n",
       "      <td>0.463564</td>\n",
       "      <td>0.131978</td>\n",
       "      <td>0.363288</td>\n",
       "      <td>32.051063</td>\n",
       "    </tr>\n",
       "    <tr>\n",
       "      <th>3</th>\n",
       "      <td>0.782127</td>\n",
       "      <td>0.781686</td>\n",
       "      <td>73619.109539</td>\n",
       "      <td>271.328416</td>\n",
       "      <td>0.213777</td>\n",
       "      <td>0.462360</td>\n",
       "      <td>0.131125</td>\n",
       "      <td>0.362112</td>\n",
       "      <td>31.940239</td>\n",
       "    </tr>\n",
       "    <tr>\n",
       "      <th>4</th>\n",
       "      <td>0.782496</td>\n",
       "      <td>0.782006</td>\n",
       "      <td>73511.155171</td>\n",
       "      <td>271.129407</td>\n",
       "      <td>0.213464</td>\n",
       "      <td>0.462021</td>\n",
       "      <td>0.131595</td>\n",
       "      <td>0.362760</td>\n",
       "      <td>31.944073</td>\n",
       "    </tr>\n",
       "    <tr>\n",
       "      <th rowspan=\"3\" valign=\"top\">300</th>\n",
       "      <th>2</th>\n",
       "      <td>0.781669</td>\n",
       "      <td>0.781347</td>\n",
       "      <td>73733.290491</td>\n",
       "      <td>271.538746</td>\n",
       "      <td>0.214109</td>\n",
       "      <td>0.462719</td>\n",
       "      <td>0.131180</td>\n",
       "      <td>0.362188</td>\n",
       "      <td>31.989337</td>\n",
       "    </tr>\n",
       "    <tr>\n",
       "      <th>3</th>\n",
       "      <td>0.782734</td>\n",
       "      <td>0.782282</td>\n",
       "      <td>73417.969710</td>\n",
       "      <td>270.957505</td>\n",
       "      <td>0.213193</td>\n",
       "      <td>0.461728</td>\n",
       "      <td>0.130784</td>\n",
       "      <td>0.361641</td>\n",
       "      <td>31.821798</td>\n",
       "    </tr>\n",
       "    <tr>\n",
       "      <th>4</th>\n",
       "      <td>0.783317</td>\n",
       "      <td>0.782824</td>\n",
       "      <td>73235.112895</td>\n",
       "      <td>270.619868</td>\n",
       "      <td>0.212662</td>\n",
       "      <td>0.461153</td>\n",
       "      <td>0.131062</td>\n",
       "      <td>0.362024</td>\n",
       "      <td>31.901075</td>\n",
       "    </tr>\n",
       "  </tbody>\n",
       "</table>\n",
       "</div>"
      ],
      "text/plain": [
       "                Exp. Var.        R2           MSE        RMSE      nMSE  \\\n",
       "#Tress MaxFeat                                                            \n",
       "100    2         0.780237  0.779896  74222.734486  272.438497  0.215530   \n",
       "       3         0.780808  0.780388  74056.618768  272.133458  0.215047   \n",
       "       4         0.779609  0.779110  74487.646557  272.924251  0.216299   \n",
       "200    2         0.780899  0.780548  74002.794022  272.034546  0.214891   \n",
       "       3         0.782127  0.781686  73619.109539  271.328416  0.213777   \n",
       "       4         0.782496  0.782006  73511.155171  271.129407  0.213464   \n",
       "300    2         0.781669  0.781347  73733.290491  271.538746  0.214109   \n",
       "       3         0.782734  0.782282  73417.969710  270.957505  0.213193   \n",
       "       4         0.783317  0.782824  73235.112895  270.619868  0.212662   \n",
       "\n",
       "                   nRMSE      MSLE     RMSLE       MAPE  \n",
       "#Tress MaxFeat                                           \n",
       "100    2        0.464252  0.132570  0.364102  32.321352  \n",
       "       3        0.463732  0.131820  0.363070  31.957341  \n",
       "       4        0.465080  0.132106  0.363464  31.964412  \n",
       "200    2        0.463564  0.131978  0.363288  32.051063  \n",
       "       3        0.462360  0.131125  0.362112  31.940239  \n",
       "       4        0.462021  0.131595  0.362760  31.944073  \n",
       "300    2        0.462719  0.131180  0.362188  31.989337  \n",
       "       3        0.461728  0.130784  0.361641  31.821798  \n",
       "       4        0.461153  0.131062  0.362024  31.901075  "
      ]
     },
     "execution_count": 197,
     "metadata": {},
     "output_type": "execute_result"
    }
   ],
   "source": [
    "idx = pd.MultiIndex.from_tuples([(f,m) for f in forest_size for m in max_feats], names=['#Tress','MaxFeat'])\n",
    "\n",
    "metrics_svm = compute_metrics(y_true = y_test, y_pred = y_pred_rf, \n",
    "                              y_true_denorm = y_test_denorm, y_pred_denorm = y_pred_rf_denorm, \n",
    "                              indices = idx)  \n",
    "metrics_svm"
   ]
  },
  {
   "cell_type": "markdown",
   "metadata": {},
   "source": [
    "### 6. XGBoost"
   ]
  },
  {
   "cell_type": "code",
   "execution_count": 198,
   "metadata": {},
   "outputs": [
    {
     "data": {
      "text/plain": [
       "XGBRegressor(base_score=0.5, booster='gbtree', colsample_bylevel=1,\n",
       "       colsample_bytree=1, gamma=0, importance_type='gain',\n",
       "       learning_rate=0.1, max_delta_step=0, max_depth=10,\n",
       "       min_child_weight=1, missing=None, n_estimators=300, n_jobs=1,\n",
       "       nthread=None, objective='reg:linear', random_state=0, reg_alpha=0,\n",
       "       reg_lambda=1, scale_pos_weight=1, seed=None, silent=True,\n",
       "       subsample=1)"
      ]
     },
     "execution_count": 198,
     "metadata": {},
     "output_type": "execute_result"
    }
   ],
   "source": [
    "xgb_reg = xgb.XGBRegressor(n_estimators=300, max_depth=10)\n",
    "xgb_reg.fit(X_train, y_train)"
   ]
  },
  {
   "cell_type": "code",
   "execution_count": 199,
   "metadata": {},
   "outputs": [],
   "source": [
    "y_pred_xgb = xgb_reg.predict(X_test).reshape(1,-1)"
   ]
  },
  {
   "cell_type": "code",
   "execution_count": 200,
   "metadata": {},
   "outputs": [],
   "source": [
    "y_pred_xgb_denorm = out_scaler.inverse_transform(y_pred_xgb)\n",
    "\n",
    "# Set all negative outputs to zero (we're predicting time)\n",
    "y_pred_xgb_denorm[y_pred_xgb_denorm < 0] = 0\n",
    "\n",
    "# Transform back again\n",
    "y_pred_xgb = out_scaler.transform(y_pred_xgb_denorm)"
   ]
  },
  {
   "cell_type": "code",
   "execution_count": 201,
   "metadata": {},
   "outputs": [
    {
     "data": {
      "text/html": [
       "<div>\n",
       "<style scoped>\n",
       "    .dataframe tbody tr th:only-of-type {\n",
       "        vertical-align: middle;\n",
       "    }\n",
       "\n",
       "    .dataframe tbody tr th {\n",
       "        vertical-align: top;\n",
       "    }\n",
       "\n",
       "    .dataframe thead th {\n",
       "        text-align: right;\n",
       "    }\n",
       "</style>\n",
       "<table border=\"1\" class=\"dataframe\">\n",
       "  <thead>\n",
       "    <tr style=\"text-align: right;\">\n",
       "      <th></th>\n",
       "      <th>Exp. Var.</th>\n",
       "      <th>R2</th>\n",
       "      <th>MSE</th>\n",
       "      <th>RMSE</th>\n",
       "      <th>nMSE</th>\n",
       "      <th>nRMSE</th>\n",
       "      <th>MSLE</th>\n",
       "      <th>RMSLE</th>\n",
       "      <th>MAPE</th>\n",
       "    </tr>\n",
       "  </thead>\n",
       "  <tbody>\n",
       "    <tr>\n",
       "      <th>0</th>\n",
       "      <td>0.793776</td>\n",
       "      <td>0.793655</td>\n",
       "      <td>69583.005357</td>\n",
       "      <td>263.785908</td>\n",
       "      <td>0.202057</td>\n",
       "      <td>0.449507</td>\n",
       "      <td>0.122912</td>\n",
       "      <td>0.350588</td>\n",
       "      <td>29.502419</td>\n",
       "    </tr>\n",
       "  </tbody>\n",
       "</table>\n",
       "</div>"
      ],
      "text/plain": [
       "   Exp. Var.        R2           MSE        RMSE      nMSE     nRMSE  \\\n",
       "0   0.793776  0.793655  69583.005357  263.785908  0.202057  0.449507   \n",
       "\n",
       "       MSLE     RMSLE       MAPE  \n",
       "0  0.122912  0.350588  29.502419  "
      ]
     },
     "execution_count": 201,
     "metadata": {},
     "output_type": "execute_result"
    }
   ],
   "source": [
    "compute_metrics(y_true = y_test, y_pred = y_pred_xgb,\n",
    "                y_true_denorm = y_test_denorm, y_pred_denorm = y_pred_xgb_denorm,\n",
    "                indices=[0])"
   ]
  },
  {
   "cell_type": "markdown",
   "metadata": {},
   "source": [
    "### 7. Neural Network"
   ]
  },
  {
   "cell_type": "code",
   "execution_count": 227,
   "metadata": {},
   "outputs": [],
   "source": [
    "mlp_reg = MLPRegressor(hidden_layer_sizes=(80,40,20,10,1))"
   ]
  },
  {
   "cell_type": "code",
   "execution_count": 228,
   "metadata": {},
   "outputs": [
    {
     "data": {
      "text/plain": [
       "MLPRegressor(activation='relu', alpha=0.0001, batch_size='auto', beta_1=0.9,\n",
       "       beta_2=0.999, early_stopping=False, epsilon=1e-08,\n",
       "       hidden_layer_sizes=(80, 40, 20, 10, 1), learning_rate='constant',\n",
       "       learning_rate_init=0.001, max_iter=200, momentum=0.9,\n",
       "       n_iter_no_change=10, nesterovs_momentum=True, power_t=0.5,\n",
       "       random_state=None, shuffle=True, solver='adam', tol=0.0001,\n",
       "       validation_fraction=0.1, verbose=False, warm_start=False)"
      ]
     },
     "execution_count": 228,
     "metadata": {},
     "output_type": "execute_result"
    }
   ],
   "source": [
    "mlp_reg.fit(X_train, y_train.ravel())"
   ]
  },
  {
   "cell_type": "code",
   "execution_count": 229,
   "metadata": {},
   "outputs": [],
   "source": [
    "y_pred_mlp = mlp_reg.predict(X_test).reshape(1,-1)"
   ]
  },
  {
   "cell_type": "code",
   "execution_count": 230,
   "metadata": {},
   "outputs": [],
   "source": [
    "y_pred_mlp_denorm = out_scaler.inverse_transform(y_pred_mlp)\n",
    "\n",
    "# Set all negative outputs to zero (we're predicting time)\n",
    "y_pred_mlp_denorm[y_pred_mlp_denorm < 0] = 0\n",
    "\n",
    "# Transform back again\n",
    "y_pred_mlp = out_scaler.transform(y_pred_mlp_denorm)"
   ]
  },
  {
   "cell_type": "code",
   "execution_count": 231,
   "metadata": {},
   "outputs": [
    {
     "data": {
      "text/html": [
       "<div>\n",
       "<style scoped>\n",
       "    .dataframe tbody tr th:only-of-type {\n",
       "        vertical-align: middle;\n",
       "    }\n",
       "\n",
       "    .dataframe tbody tr th {\n",
       "        vertical-align: top;\n",
       "    }\n",
       "\n",
       "    .dataframe thead th {\n",
       "        text-align: right;\n",
       "    }\n",
       "</style>\n",
       "<table border=\"1\" class=\"dataframe\">\n",
       "  <thead>\n",
       "    <tr style=\"text-align: right;\">\n",
       "      <th></th>\n",
       "      <th>Exp. Var.</th>\n",
       "      <th>R2</th>\n",
       "      <th>MSE</th>\n",
       "      <th>RMSE</th>\n",
       "      <th>nMSE</th>\n",
       "      <th>nRMSE</th>\n",
       "      <th>MSLE</th>\n",
       "      <th>RMSLE</th>\n",
       "      <th>MAPE</th>\n",
       "    </tr>\n",
       "  </thead>\n",
       "  <tbody>\n",
       "    <tr>\n",
       "      <th>0</th>\n",
       "      <td>0.788451</td>\n",
       "      <td>0.788417</td>\n",
       "      <td>71349.189811</td>\n",
       "      <td>267.112691</td>\n",
       "      <td>0.207186</td>\n",
       "      <td>0.455176</td>\n",
       "      <td>0.122665</td>\n",
       "      <td>0.350236</td>\n",
       "      <td>29.921575</td>\n",
       "    </tr>\n",
       "  </tbody>\n",
       "</table>\n",
       "</div>"
      ],
      "text/plain": [
       "   Exp. Var.        R2           MSE        RMSE      nMSE     nRMSE  \\\n",
       "0   0.788451  0.788417  71349.189811  267.112691  0.207186  0.455176   \n",
       "\n",
       "       MSLE     RMSLE       MAPE  \n",
       "0  0.122665  0.350236  29.921575  "
      ]
     },
     "execution_count": 231,
     "metadata": {},
     "output_type": "execute_result"
    }
   ],
   "source": [
    "compute_metrics(y_true = y_test, y_pred = y_pred_mlp,\n",
    "                y_true_denorm = y_test_denorm, y_pred_denorm = y_pred_mlp_denorm,\n",
    "                indices=[0])"
   ]
  },
  {
   "cell_type": "code",
   "execution_count": 33,
   "metadata": {
    "scrolled": true
   },
   "outputs": [
    {
     "data": {
      "image/png": "[encoded data removed]",
      "text/plain": [
       "<Figure size 288x288 with 1 Axes>"
      ]
     },
     "metadata": {
      "needs_background": "light"
     },
     "output_type": "display_data"
    }
   ],
   "source": [
    "fig = plt.figure(figsize=(4,4))\n",
    "plt.scatter(y_test_denorm, y_pred_mlp_denorm, s = 1)\n",
    "plt.plot((-1,3500),(-1,3500), '--', c='r')\n",
    "plt.xlim((-10,5500))\n",
    "plt.ylim((-10,5500))\n",
    "plt.show()"
   ]
  }
 ],
 "metadata": {
  "kernelspec": {
   "display_name": "Python 3",
   "language": "python",
   "name": "python3"
  },
  "language_info": {
   "codemirror_mode": {
    "name": "ipython",
    "version": 3
   },
   "file_extension": ".py",
   "mimetype": "text/x-python",
   "name": "python",
   "nbconvert_exporter": "python",
   "pygments_lexer": "ipython3",
   "version": "3.6.6"
  }
 },
 "nbformat": 4,
 "nbformat_minor": 2
}
