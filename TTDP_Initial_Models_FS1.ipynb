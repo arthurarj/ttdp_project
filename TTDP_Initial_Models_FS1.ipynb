{
 "cells": [
  {
   "cell_type": "code",
   "execution_count": 1,
   "metadata": {},
   "outputs": [],
   "source": [
    "# Basics\n",
    "import pickle as pkl\n",
    "import pandas as pd\n",
    "import numpy as np\n",
    "import matplotlib.pyplot as plt\n",
    "\n",
    "# Preprocessing\n",
    "from scipy import stats\n",
    "from sklearn import preprocessing\n",
    "from sklearn.model_selection import train_test_split\n",
    "\n",
    "# Models\n",
    "from sklearn import svm\n",
    "from sklearn.ensemble import RandomForestRegressor\n",
    "from sklearn.neural_network import MLPRegressor\n",
    "import xgboost as xgb\n",
    "\n",
    "# Misc\n",
    "import sys\n",
    "from IPython.display import clear_output\n",
    "\n",
    "%run utils/utils_metrics.py"
   ]
  },
  {
   "cell_type": "markdown",
   "metadata": {},
   "source": [
    "### 1. Load data"
   ]
  },
  {
   "cell_type": "code",
   "execution_count": 2,
   "metadata": {},
   "outputs": [
    {
     "name": "stdout",
     "output_type": "stream",
     "text": [
      "Data shape: (48605, 10)\n"
     ]
    },
    {
     "data": {
      "text/html": [
       "<div>\n",
       "<style scoped>\n",
       "    .dataframe tbody tr th:only-of-type {\n",
       "        vertical-align: middle;\n",
       "    }\n",
       "\n",
       "    .dataframe tbody tr th {\n",
       "        vertical-align: top;\n",
       "    }\n",
       "\n",
       "    .dataframe thead th {\n",
       "        text-align: right;\n",
       "    }\n",
       "</style>\n",
       "<table border=\"1\" class=\"dataframe\">\n",
       "  <thead>\n",
       "    <tr style=\"text-align: right;\">\n",
       "      <th></th>\n",
       "      <th>pu_t</th>\n",
       "      <th>do_t</th>\n",
       "      <th>trip_dist</th>\n",
       "      <th>pu_lon</th>\n",
       "      <th>pu_lat</th>\n",
       "      <th>do_lon</th>\n",
       "      <th>do_lat</th>\n",
       "      <th>duration</th>\n",
       "      <th>vec_dist</th>\n",
       "      <th>trip_ratio</th>\n",
       "    </tr>\n",
       "  </thead>\n",
       "  <tbody>\n",
       "    <tr>\n",
       "      <th>0</th>\n",
       "      <td>2016-02-16 19:56:06</td>\n",
       "      <td>2016-02-16 20:10:46</td>\n",
       "      <td>8.53</td>\n",
       "      <td>-73.995750</td>\n",
       "      <td>40.764488</td>\n",
       "      <td>-73.926292</td>\n",
       "      <td>40.867458</td>\n",
       "      <td>880</td>\n",
       "      <td>7.983998</td>\n",
       "      <td>1.068387</td>\n",
       "    </tr>\n",
       "    <tr>\n",
       "      <th>1</th>\n",
       "      <td>2016-02-11 10:23:41</td>\n",
       "      <td>2016-02-11 10:45:04</td>\n",
       "      <td>1.95</td>\n",
       "      <td>-73.994110</td>\n",
       "      <td>40.751068</td>\n",
       "      <td>-73.993401</td>\n",
       "      <td>40.736019</td>\n",
       "      <td>1283</td>\n",
       "      <td>1.039087</td>\n",
       "      <td>1.876648</td>\n",
       "    </tr>\n",
       "    <tr>\n",
       "      <th>2</th>\n",
       "      <td>2016-02-21 14:21:57</td>\n",
       "      <td>2016-02-21 14:30:07</td>\n",
       "      <td>0.50</td>\n",
       "      <td>-73.973160</td>\n",
       "      <td>40.752728</td>\n",
       "      <td>-73.982178</td>\n",
       "      <td>40.756962</td>\n",
       "      <td>490</td>\n",
       "      <td>0.556130</td>\n",
       "      <td>0.899070</td>\n",
       "    </tr>\n",
       "    <tr>\n",
       "      <th>3</th>\n",
       "      <td>2016-02-11 22:51:59</td>\n",
       "      <td>2016-02-11 22:57:41</td>\n",
       "      <td>1.30</td>\n",
       "      <td>-73.991280</td>\n",
       "      <td>40.744808</td>\n",
       "      <td>-73.985909</td>\n",
       "      <td>40.731178</td>\n",
       "      <td>342</td>\n",
       "      <td>0.981839</td>\n",
       "      <td>1.324045</td>\n",
       "    </tr>\n",
       "    <tr>\n",
       "      <th>4</th>\n",
       "      <td>2016-02-13 18:32:08</td>\n",
       "      <td>2016-02-13 18:43:51</td>\n",
       "      <td>1.50</td>\n",
       "      <td>-73.992897</td>\n",
       "      <td>40.741280</td>\n",
       "      <td>-73.975967</td>\n",
       "      <td>40.748734</td>\n",
       "      <td>703</td>\n",
       "      <td>1.026608</td>\n",
       "      <td>1.461123</td>\n",
       "    </tr>\n",
       "  </tbody>\n",
       "</table>\n",
       "</div>"
      ],
      "text/plain": [
       "                 pu_t                do_t  trip_dist     pu_lon     pu_lat  \\\n",
       "0 2016-02-16 19:56:06 2016-02-16 20:10:46       8.53 -73.995750  40.764488   \n",
       "1 2016-02-11 10:23:41 2016-02-11 10:45:04       1.95 -73.994110  40.751068   \n",
       "2 2016-02-21 14:21:57 2016-02-21 14:30:07       0.50 -73.973160  40.752728   \n",
       "3 2016-02-11 22:51:59 2016-02-11 22:57:41       1.30 -73.991280  40.744808   \n",
       "4 2016-02-13 18:32:08 2016-02-13 18:43:51       1.50 -73.992897  40.741280   \n",
       "\n",
       "      do_lon     do_lat  duration  vec_dist  trip_ratio  \n",
       "0 -73.926292  40.867458       880  7.983998    1.068387  \n",
       "1 -73.993401  40.736019      1283  1.039087    1.876648  \n",
       "2 -73.982178  40.756962       490  0.556130    0.899070  \n",
       "3 -73.985909  40.731178       342  0.981839    1.324045  \n",
       "4 -73.975967  40.748734       703  1.026608    1.461123  "
      ]
     },
     "execution_count": 2,
     "metadata": {},
     "output_type": "execute_result"
    }
   ],
   "source": [
    "n_chunks = 1\n",
    "chunks = [pkl.load(open('../data/bin_chunks/ttd_chunk_{0}.pkl'.format(i), 'rb')) for i in range(1, n_chunks + 1)]\n",
    "dataset = pd.concat(chunks)\n",
    "print(\"Data shape:\", dataset.shape)\n",
    "dataset.head()"
   ]
  },
  {
   "cell_type": "markdown",
   "metadata": {},
   "source": [
    "### 2. Preprocessing"
   ]
  },
  {
   "cell_type": "markdown",
   "metadata": {},
   "source": [
    "### 2.1 Augmenting"
   ]
  },
  {
   "cell_type": "code",
   "execution_count": 3,
   "metadata": {},
   "outputs": [
    {
     "data": {
      "text/html": [
       "<div>\n",
       "<style scoped>\n",
       "    .dataframe tbody tr th:only-of-type {\n",
       "        vertical-align: middle;\n",
       "    }\n",
       "\n",
       "    .dataframe tbody tr th {\n",
       "        vertical-align: top;\n",
       "    }\n",
       "\n",
       "    .dataframe thead th {\n",
       "        text-align: right;\n",
       "    }\n",
       "</style>\n",
       "<table border=\"1\" class=\"dataframe\">\n",
       "  <thead>\n",
       "    <tr style=\"text-align: right;\">\n",
       "      <th></th>\n",
       "      <th>pu_t</th>\n",
       "      <th>do_t</th>\n",
       "      <th>trip_dist</th>\n",
       "      <th>pu_lon</th>\n",
       "      <th>pu_lat</th>\n",
       "      <th>do_lon</th>\n",
       "      <th>do_lat</th>\n",
       "      <th>duration</th>\n",
       "      <th>vec_dist</th>\n",
       "      <th>trip_ratio</th>\n",
       "      <th>estim_trip_distance</th>\n",
       "    </tr>\n",
       "  </thead>\n",
       "  <tbody>\n",
       "    <tr>\n",
       "      <th>0</th>\n",
       "      <td>2016-02-16 19:56:06</td>\n",
       "      <td>2016-02-16 20:10:46</td>\n",
       "      <td>8.53</td>\n",
       "      <td>-73.995750</td>\n",
       "      <td>40.764488</td>\n",
       "      <td>-73.926292</td>\n",
       "      <td>40.867458</td>\n",
       "      <td>880</td>\n",
       "      <td>7.983998</td>\n",
       "      <td>1.068387</td>\n",
       "      <td>10.458020</td>\n",
       "    </tr>\n",
       "    <tr>\n",
       "      <th>1</th>\n",
       "      <td>2016-02-11 10:23:41</td>\n",
       "      <td>2016-02-11 10:45:04</td>\n",
       "      <td>1.95</td>\n",
       "      <td>-73.994110</td>\n",
       "      <td>40.751068</td>\n",
       "      <td>-73.993401</td>\n",
       "      <td>40.736019</td>\n",
       "      <td>1283</td>\n",
       "      <td>1.039087</td>\n",
       "      <td>1.876648</td>\n",
       "      <td>1.361071</td>\n",
       "    </tr>\n",
       "    <tr>\n",
       "      <th>2</th>\n",
       "      <td>2016-02-21 14:21:57</td>\n",
       "      <td>2016-02-21 14:30:07</td>\n",
       "      <td>0.50</td>\n",
       "      <td>-73.973160</td>\n",
       "      <td>40.752728</td>\n",
       "      <td>-73.982178</td>\n",
       "      <td>40.756962</td>\n",
       "      <td>490</td>\n",
       "      <td>0.556130</td>\n",
       "      <td>0.899070</td>\n",
       "      <td>0.728459</td>\n",
       "    </tr>\n",
       "    <tr>\n",
       "      <th>3</th>\n",
       "      <td>2016-02-11 22:51:59</td>\n",
       "      <td>2016-02-11 22:57:41</td>\n",
       "      <td>1.30</td>\n",
       "      <td>-73.991280</td>\n",
       "      <td>40.744808</td>\n",
       "      <td>-73.985909</td>\n",
       "      <td>40.731178</td>\n",
       "      <td>342</td>\n",
       "      <td>0.981839</td>\n",
       "      <td>1.324045</td>\n",
       "      <td>1.286085</td>\n",
       "    </tr>\n",
       "    <tr>\n",
       "      <th>4</th>\n",
       "      <td>2016-02-13 18:32:08</td>\n",
       "      <td>2016-02-13 18:43:51</td>\n",
       "      <td>1.50</td>\n",
       "      <td>-73.992897</td>\n",
       "      <td>40.741280</td>\n",
       "      <td>-73.975967</td>\n",
       "      <td>40.748734</td>\n",
       "      <td>703</td>\n",
       "      <td>1.026608</td>\n",
       "      <td>1.461123</td>\n",
       "      <td>1.344725</td>\n",
       "    </tr>\n",
       "  </tbody>\n",
       "</table>\n",
       "</div>"
      ],
      "text/plain": [
       "                 pu_t                do_t  trip_dist     pu_lon     pu_lat  \\\n",
       "0 2016-02-16 19:56:06 2016-02-16 20:10:46       8.53 -73.995750  40.764488   \n",
       "1 2016-02-11 10:23:41 2016-02-11 10:45:04       1.95 -73.994110  40.751068   \n",
       "2 2016-02-21 14:21:57 2016-02-21 14:30:07       0.50 -73.973160  40.752728   \n",
       "3 2016-02-11 22:51:59 2016-02-11 22:57:41       1.30 -73.991280  40.744808   \n",
       "4 2016-02-13 18:32:08 2016-02-13 18:43:51       1.50 -73.992897  40.741280   \n",
       "\n",
       "      do_lon     do_lat  duration  vec_dist  trip_ratio  estim_trip_distance  \n",
       "0 -73.926292  40.867458       880  7.983998    1.068387            10.458020  \n",
       "1 -73.993401  40.736019      1283  1.039087    1.876648             1.361071  \n",
       "2 -73.982178  40.756962       490  0.556130    0.899070             0.728459  \n",
       "3 -73.985909  40.731178       342  0.981839    1.324045             1.286085  \n",
       "4 -73.975967  40.748734       703  1.026608    1.461123             1.344725  "
      ]
     },
     "execution_count": 3,
     "metadata": {},
     "output_type": "execute_result"
    }
   ],
   "source": [
    "dataset['estim_trip_distance'] = dataset.trip_ratio.median() * dataset.vec_dist\n",
    "dataset.head()"
   ]
  },
  {
   "cell_type": "code",
   "execution_count": 4,
   "metadata": {},
   "outputs": [],
   "source": [
    "lat_data = np.array(pd.concat((dataset.pu_lat, dataset.do_lat))).reshape(-1,1)\n",
    "lon_data = np.array(pd.concat((dataset.pu_lon, dataset.do_lon))).reshape(-1,1)\n",
    "dur_data = np.array(dataset.duration.astype(float)).reshape(-1,1)\n",
    "\n",
    "# New feature\n",
    "etd_data = np.array(dataset.estim_trip_distance.astype(float)).reshape(-1,1)\n",
    "\n",
    "scaler_type = 'StandardScaler' # Other options: MinMaxScaler\n",
    "lat_scaler = getattr(preprocessing, scaler_type)()\n",
    "lon_scaler = getattr(preprocessing, scaler_type)()\n",
    "etd_scaler = getattr(preprocessing, scaler_type)()\n",
    "out_scaler = getattr(preprocessing, scaler_type)()\n",
    "\n",
    "# Inputs\n",
    "lat_scaler.fit(lat_data);\n",
    "lon_scaler.fit(lon_data);\n",
    "etd_scaler.fit(etd_data)\n",
    "\n",
    "# Output\n",
    "out_scaler.fit(dur_data);\n",
    "\n",
    "X = np.hstack((lat_scaler.transform(dataset[['pu_lat','do_lat',]]),\n",
    "               lon_scaler.transform(dataset[['pu_lon','do_lon',]]),\n",
    "               etd_scaler.transform(etd_data)))\n",
    "y = out_scaler.transform(dur_data)"
   ]
  },
  {
   "cell_type": "markdown",
   "metadata": {},
   "source": [
    "#### Quick look at inputs and output"
   ]
  },
  {
   "cell_type": "code",
   "execution_count": 5,
   "metadata": {},
   "outputs": [
    {
     "data": {
      "image/png": "[encoded data removed]",
      "text/plain": [
       "<Figure size 1152x360 with 6 Axes>"
      ]
     },
     "metadata": {},
     "output_type": "display_data"
    }
   ],
   "source": [
    "plt.figure(figsize=(16,5))\n",
    "titles = ['pu_lat', 'do_lat', 'pu_lon', 'do_lon', 'estim_trip_distance', 'duration']\n",
    "for i in range(5):\n",
    "    plt.subplot(2,5,i+1)\n",
    "    plt.hist(X[:,i], bins='auto', log=True)\n",
    "    plt.title(titles[i])\n",
    "plt.subplot(2,5,6)\n",
    "plt.hist(y, bins='auto')\n",
    "plt.title(titles[-1])\n",
    "plt.tight_layout()\n",
    "plt.show()"
   ]
  },
  {
   "cell_type": "markdown",
   "metadata": {},
   "source": [
    "### 3. Splitting data"
   ]
  },
  {
   "cell_type": "code",
   "execution_count": 6,
   "metadata": {},
   "outputs": [],
   "source": [
    "X_train, X_test, y_train, y_test = train_test_split(X, y, test_size=0.3, random_state=42)\n",
    "\n",
    "test_size = len(y_test)\n",
    "train_size = len(y_train)\n",
    "\n",
    "y_test_denorm = out_scaler.inverse_transform(y_test)"
   ]
  },
  {
   "cell_type": "code",
   "execution_count": 24,
   "metadata": {},
   "outputs": [],
   "source": [
    "# # Store splitted data\n",
    "pkl.dump(X_train, open('../splitted_data/fs1/x_train.dat', 'wb'))\n",
    "pkl.dump(y_train, open('../splitted_data/fs1/y_train.dat', 'wb'))\n",
    "pkl.dump(X_test, open('../splitted_data/fs1/x_test.dat', 'wb'))\n",
    "pkl.dump(y_test, open('../splitted_data/fs1/y_test.dat', 'wb'))"
   ]
  },
  {
   "cell_type": "code",
   "execution_count": 6,
   "metadata": {},
   "outputs": [],
   "source": [
    "# Read splitted data\n",
    "X_train = pkl.load(open('../splitted_data/fs1/x_train.dat', 'rb'))\n",
    "y_train = pkl.load(open('../splitted_data/fs1/y_train.dat', 'rb'))\n",
    "X_test = pkl.load(open('../splitted_data/fs1/x_test.dat', 'rb'))\n",
    "y_test = pkl.load(open('../splitted_data/fs1/y_test.dat', 'rb'))\n",
    "\n",
    "test_size = len(y_test)\n",
    "train_size = len(y_train)\n",
    "\n",
    "y_test_denorm = out_scaler.inverse_transform(y_test)"
   ]
  },
  {
   "cell_type": "markdown",
   "metadata": {},
   "source": [
    "### 4. SVM"
   ]
  },
  {
   "cell_type": "code",
   "execution_count": 11,
   "metadata": {},
   "outputs": [],
   "source": [
    "kernels = ['linear', 'poly', 'rbf']\n",
    "C_values = [0.1, 1, 10]"
   ]
  },
  {
   "cell_type": "markdown",
   "metadata": {},
   "source": [
    "#### 4.1 Training"
   ]
  },
  {
   "cell_type": "code",
   "execution_count": null,
   "metadata": {},
   "outputs": [
    {
     "name": "stdout",
     "output_type": "stream",
     "text": [
      "\r",
      "Training SVM with kernel poly and C = 10"
     ]
    }
   ],
   "source": [
    "for kern in kernels:\n",
    "    for C in C_values:\n",
    "        sys.stdout.write(\"\\rTraining SVM with kernel {0} and C = {1}\".format(kern,C))\n",
    "        svm_reg = svm.SVR(kernel=kern, gamma='auto', C=C)\n",
    "        svm_reg.fit(X_train, y_train.ravel())\n",
    "        pkl.dump(svm_reg, open('../init_models/fs1/svms/svm_reg_{0}_{1}.mdl'.format(kern,C), 'wb'))\n",
    "        sys.stdout.flush()\n",
    "        clear_output()\n",
    "sys.stdout.write(\"Done.\")        "
   ]
  },
  {
   "cell_type": "markdown",
   "metadata": {},
   "source": [
    "#### 4.2 Testing"
   ]
  },
  {
   "cell_type": "code",
   "execution_count": 12,
   "metadata": {},
   "outputs": [
    {
     "name": "stdout",
     "output_type": "stream",
     "text": [
      "Done."
     ]
    }
   ],
   "source": [
    "y_pred_svm = []\n",
    "for kern in kernels:\n",
    "    for C in C_values:\n",
    "        print(\"Running tests on SVM with kernel {0} and C = {1}\".format(kern,C))\n",
    "        svm_reg = pkl.load(open('../init_models/fs1/svms/svm_reg_{0}_{1}.mdl'.format(kern,C), 'rb'))\n",
    "        y_pred_svm.append(svm_reg.predict(X_test))\n",
    "        sys.stdout.flush()\n",
    "        clear_output()\n",
    "sys.stdout.write(\"Done.\")        "
   ]
  },
  {
   "cell_type": "markdown",
   "metadata": {},
   "source": [
    "#### Denormalize predicited data"
   ]
  },
  {
   "cell_type": "code",
   "execution_count": 13,
   "metadata": {},
   "outputs": [],
   "source": [
    "y_pred_svm_denorm = out_scaler.inverse_transform(y_pred_svm)\n",
    "\n",
    "# Set all negative outputs to zero (we're predicting time)\n",
    "y_pred_svm_denorm[y_pred_svm_denorm < 0] = 0\n",
    "\n",
    "# Transform back again\n",
    "y_pred_svm = out_scaler.transform(y_pred_svm_denorm)"
   ]
  },
  {
   "cell_type": "markdown",
   "metadata": {},
   "source": [
    "#### 4.3 Metrics"
   ]
  },
  {
   "cell_type": "code",
   "execution_count": 16,
   "metadata": {},
   "outputs": [
    {
     "data": {
      "text/html": [
       "<div>\n",
       "<style scoped>\n",
       "    .dataframe tbody tr th:only-of-type {\n",
       "        vertical-align: middle;\n",
       "    }\n",
       "\n",
       "    .dataframe tbody tr th {\n",
       "        vertical-align: top;\n",
       "    }\n",
       "\n",
       "    .dataframe thead th {\n",
       "        text-align: right;\n",
       "    }\n",
       "</style>\n",
       "<table border=\"1\" class=\"dataframe\">\n",
       "  <thead>\n",
       "    <tr style=\"text-align: right;\">\n",
       "      <th></th>\n",
       "      <th></th>\n",
       "      <th>Exp. Var.</th>\n",
       "      <th>R2</th>\n",
       "      <th>MSE</th>\n",
       "      <th>RMSE</th>\n",
       "      <th>nMSE</th>\n",
       "      <th>nRMSE</th>\n",
       "      <th>MSLE</th>\n",
       "      <th>RMSLE</th>\n",
       "    </tr>\n",
       "    <tr>\n",
       "      <th>Kernel</th>\n",
       "      <th>C</th>\n",
       "      <th></th>\n",
       "      <th></th>\n",
       "      <th></th>\n",
       "      <th></th>\n",
       "      <th></th>\n",
       "      <th></th>\n",
       "      <th></th>\n",
       "      <th></th>\n",
       "    </tr>\n",
       "  </thead>\n",
       "  <tbody>\n",
       "    <tr>\n",
       "      <th rowspan=\"3\" valign=\"top\">linear</th>\n",
       "      <th>0.1</th>\n",
       "      <td>0.624054</td>\n",
       "      <td>0.616534</td>\n",
       "      <td>129311.100303</td>\n",
       "      <td>359.598527</td>\n",
       "      <td>0.375497</td>\n",
       "      <td>0.612778</td>\n",
       "      <td>0.208027</td>\n",
       "      <td>0.456100</td>\n",
       "    </tr>\n",
       "    <tr>\n",
       "      <th>1.0</th>\n",
       "      <td>0.624039</td>\n",
       "      <td>0.616519</td>\n",
       "      <td>129315.990503</td>\n",
       "      <td>359.605326</td>\n",
       "      <td>0.375511</td>\n",
       "      <td>0.612790</td>\n",
       "      <td>0.208510</td>\n",
       "      <td>0.456629</td>\n",
       "    </tr>\n",
       "    <tr>\n",
       "      <th>10.0</th>\n",
       "      <td>0.624053</td>\n",
       "      <td>0.616545</td>\n",
       "      <td>129307.278791</td>\n",
       "      <td>359.593213</td>\n",
       "      <td>0.375486</td>\n",
       "      <td>0.612769</td>\n",
       "      <td>0.208561</td>\n",
       "      <td>0.456684</td>\n",
       "    </tr>\n",
       "    <tr>\n",
       "      <th rowspan=\"3\" valign=\"top\">poly</th>\n",
       "      <th>0.1</th>\n",
       "      <td>0.482639</td>\n",
       "      <td>0.469903</td>\n",
       "      <td>178757.360997</td>\n",
       "      <td>422.797068</td>\n",
       "      <td>0.519080</td>\n",
       "      <td>0.720472</td>\n",
       "      <td>0.402361</td>\n",
       "      <td>0.634320</td>\n",
       "    </tr>\n",
       "    <tr>\n",
       "      <th>1.0</th>\n",
       "      <td>0.481397</td>\n",
       "      <td>0.468511</td>\n",
       "      <td>179226.711452</td>\n",
       "      <td>423.351759</td>\n",
       "      <td>0.520443</td>\n",
       "      <td>0.721417</td>\n",
       "      <td>0.426354</td>\n",
       "      <td>0.652958</td>\n",
       "    </tr>\n",
       "    <tr>\n",
       "      <th>10.0</th>\n",
       "      <td>0.480066</td>\n",
       "      <td>0.467380</td>\n",
       "      <td>179608.197628</td>\n",
       "      <td>423.802074</td>\n",
       "      <td>0.521551</td>\n",
       "      <td>0.722185</td>\n",
       "      <td>0.439408</td>\n",
       "      <td>0.662878</td>\n",
       "    </tr>\n",
       "    <tr>\n",
       "      <th rowspan=\"3\" valign=\"top\">rbf</th>\n",
       "      <th>0.1</th>\n",
       "      <td>0.687137</td>\n",
       "      <td>0.679690</td>\n",
       "      <td>108013.788297</td>\n",
       "      <td>328.654512</td>\n",
       "      <td>0.313653</td>\n",
       "      <td>0.560047</td>\n",
       "      <td>0.154666</td>\n",
       "      <td>0.393277</td>\n",
       "    </tr>\n",
       "    <tr>\n",
       "      <th>1.0</th>\n",
       "      <td>0.698476</td>\n",
       "      <td>0.692158</td>\n",
       "      <td>103809.199706</td>\n",
       "      <td>322.194351</td>\n",
       "      <td>0.301444</td>\n",
       "      <td>0.549039</td>\n",
       "      <td>0.148271</td>\n",
       "      <td>0.385060</td>\n",
       "    </tr>\n",
       "    <tr>\n",
       "      <th>10.0</th>\n",
       "      <td>0.700869</td>\n",
       "      <td>0.695253</td>\n",
       "      <td>102765.765752</td>\n",
       "      <td>320.571000</td>\n",
       "      <td>0.298414</td>\n",
       "      <td>0.546273</td>\n",
       "      <td>0.146368</td>\n",
       "      <td>0.382580</td>\n",
       "    </tr>\n",
       "  </tbody>\n",
       "</table>\n",
       "</div>"
      ],
      "text/plain": [
       "             Exp. Var.        R2            MSE        RMSE      nMSE  \\\n",
       "Kernel C                                                                \n",
       "linear 0.1    0.624054  0.616534  129311.100303  359.598527  0.375497   \n",
       "       1.0    0.624039  0.616519  129315.990503  359.605326  0.375511   \n",
       "       10.0   0.624053  0.616545  129307.278791  359.593213  0.375486   \n",
       "poly   0.1    0.482639  0.469903  178757.360997  422.797068  0.519080   \n",
       "       1.0    0.481397  0.468511  179226.711452  423.351759  0.520443   \n",
       "       10.0   0.480066  0.467380  179608.197628  423.802074  0.521551   \n",
       "rbf    0.1    0.687137  0.679690  108013.788297  328.654512  0.313653   \n",
       "       1.0    0.698476  0.692158  103809.199706  322.194351  0.301444   \n",
       "       10.0   0.700869  0.695253  102765.765752  320.571000  0.298414   \n",
       "\n",
       "                nRMSE      MSLE     RMSLE  \n",
       "Kernel C                                   \n",
       "linear 0.1   0.612778  0.208027  0.456100  \n",
       "       1.0   0.612790  0.208510  0.456629  \n",
       "       10.0  0.612769  0.208561  0.456684  \n",
       "poly   0.1   0.720472  0.402361  0.634320  \n",
       "       1.0   0.721417  0.426354  0.652958  \n",
       "       10.0  0.722185  0.439408  0.662878  \n",
       "rbf    0.1   0.560047  0.154666  0.393277  \n",
       "       1.0   0.549039  0.148271  0.385060  \n",
       "       10.0  0.546273  0.146368  0.382580  "
      ]
     },
     "execution_count": 16,
     "metadata": {},
     "output_type": "execute_result"
    }
   ],
   "source": [
    "idx = pd.MultiIndex.from_tuples([(k,C) for k in kernels for C in C_values], names=['Kernel','C'])\n",
    "\n",
    "metrics_svm = compute_metrics(y_true = y_test, y_pred = y_pred_svm, \n",
    "                              y_true_denorm = y_test_denorm, y_pred_denorm = y_pred_svm_denorm, \n",
    "                              indices = idx)  \n",
    "metrics_svm"
   ]
  },
  {
   "cell_type": "code",
   "execution_count": 18,
   "metadata": {},
   "outputs": [
    {
     "data": {
      "image/png": "[encoded data removed]",
      "text/plain": [
       "<Figure size 576x576 with 9 Axes>"
      ]
     },
     "metadata": {},
     "output_type": "display_data"
    }
   ],
   "source": [
    "fig = plt.figure(figsize=(8,8))\n",
    "for i,kern in enumerate(kernels):\n",
    "    for j,C in enumerate(C_values):\n",
    "        plt.subplot(3, 3, j + 3*i + 1)\n",
    "        plt.scatter(y_test_denorm, y_pred_svm_denorm[j + 3*i], s = 1)\n",
    "        plt.plot((-1,3500),(-1,3500), '--', c='r')\n",
    "        plt.title('{0} (C={1})'.format(kern,C))\n",
    "        plt.xlim((-10,3500))\n",
    "        plt.ylim((-10,3500))\n",
    "plt.tight_layout()\n",
    "plt.show()"
   ]
  },
  {
   "cell_type": "markdown",
   "metadata": {},
   "source": [
    "#### 4.4 Evaluate accuracy agains range of tolerance for best SVM"
   ]
  },
  {
   "cell_type": "code",
   "execution_count": 19,
   "metadata": {},
   "outputs": [
    {
     "data": {
      "image/png": "[encoded data removed]",
      "text/plain": [
       "<Figure size 432x288 with 1 Axes>"
      ]
     },
     "metadata": {},
     "output_type": "display_data"
    }
   ],
   "source": [
    "y_pred_svm_best = y_pred_svm_denorm[8].reshape(-1,1)\n",
    "\n",
    "tolerance = np.arange(0.1,1,0.1)\n",
    "acc = [np.sum(np.isclose(y_pred_svm_best, y_test_denorm, rtol=tol))/test_size for tol in tolerance]\n",
    "\n",
    "plt.plot(tolerance, acc, c='k')\n",
    "plt.scatter(tolerance, acc, c='k')\n",
    "plt.ylabel('\"TP\" Rate')\n",
    "plt.xlabel('Percentual tolerance')\n",
    "plt.show()"
   ]
  },
  {
   "cell_type": "markdown",
   "metadata": {},
   "source": [
    "### 5. Random Forests"
   ]
  },
  {
   "cell_type": "code",
   "execution_count": 20,
   "metadata": {},
   "outputs": [],
   "source": [
    "forest_size = [50,100,150,200,250, 300]\n",
    "max_feats   = [2,3,4]"
   ]
  },
  {
   "cell_type": "markdown",
   "metadata": {},
   "source": [
    "#### 5.1 Training"
   ]
  },
  {
   "cell_type": "code",
   "execution_count": 8,
   "metadata": {},
   "outputs": [
    {
     "name": "stdout",
     "output_type": "stream",
     "text": [
      "Done."
     ]
    }
   ],
   "source": [
    "for n_trees in forest_size:\n",
    "    for max_feat in max_feats:\n",
    "        sys.stdout.write(\"\\rTraining forest with {0} trees using maximum of {1} features\".format(n_trees, max_feat))\n",
    "        rf_reg = RandomForestRegressor(n_estimators=n_trees, max_features=max_feat, n_jobs=2)\n",
    "        rf_reg.fit(X_train, y_train.ravel())\n",
    "        pkl.dump(rf_reg, open('../init_models/fs1/random_forests/rf_reg_{0}_{1}.mdl'.format(n_trees,max_feat), 'wb'))\n",
    "        sys.stdout.flush()\n",
    "clear_output()\n",
    "sys.stdout.write(\"Done.\")        "
   ]
  },
  {
   "cell_type": "markdown",
   "metadata": {},
   "source": [
    "#### 5.2 Testing"
   ]
  },
  {
   "cell_type": "code",
   "execution_count": 22,
   "metadata": {},
   "outputs": [
    {
     "name": "stdout",
     "output_type": "stream",
     "text": [
      "Done."
     ]
    }
   ],
   "source": [
    "y_pred_rf = []\n",
    "for n_trees in forest_size:\n",
    "    for max_feat in max_feats:\n",
    "        sys.stdout.write(\"\\rTesting forest with {0} trees using maximum of {1} features\".format(n_trees, max_feat))\n",
    "        rf_reg = pkl.load(open('../init_models/fs1/random_forests/rf_reg_{0}_{1}.mdl'.format(n_trees,max_feat), 'rb'))\n",
    "        y_pred_rf.append(rf_reg.predict(X_test));\n",
    "        sys.stdout.flush()\n",
    "clear_output()\n",
    "sys.stdout.write(\"Done.\")        "
   ]
  },
  {
   "cell_type": "markdown",
   "metadata": {},
   "source": [
    "#### Denormalize predicited data"
   ]
  },
  {
   "cell_type": "code",
   "execution_count": 25,
   "metadata": {},
   "outputs": [],
   "source": [
    "y_pred_rf_denorm = out_scaler.inverse_transform(y_pred_rf)\n",
    "\n",
    "# Set all negative outputs to zero (we're predicting time)\n",
    "y_pred_rf_denorm[y_pred_rf_denorm < 0] = 0\n",
    "\n",
    "# Transform back again\n",
    "y_pred_rf = out_scaler.transform(y_pred_rf_denorm)"
   ]
  },
  {
   "cell_type": "markdown",
   "metadata": {},
   "source": [
    "#### 4.3 Metrics"
   ]
  },
  {
   "cell_type": "code",
   "execution_count": 26,
   "metadata": {},
   "outputs": [
    {
     "data": {
      "text/html": [
       "<div>\n",
       "<style scoped>\n",
       "    .dataframe tbody tr th:only-of-type {\n",
       "        vertical-align: middle;\n",
       "    }\n",
       "\n",
       "    .dataframe tbody tr th {\n",
       "        vertical-align: top;\n",
       "    }\n",
       "\n",
       "    .dataframe thead th {\n",
       "        text-align: right;\n",
       "    }\n",
       "</style>\n",
       "<table border=\"1\" class=\"dataframe\">\n",
       "  <thead>\n",
       "    <tr style=\"text-align: right;\">\n",
       "      <th></th>\n",
       "      <th></th>\n",
       "      <th>Exp. Var.</th>\n",
       "      <th>R2</th>\n",
       "      <th>MSE</th>\n",
       "      <th>RMSE</th>\n",
       "      <th>nMSE</th>\n",
       "      <th>nRMSE</th>\n",
       "      <th>MSLE</th>\n",
       "      <th>RMSLE</th>\n",
       "    </tr>\n",
       "    <tr>\n",
       "      <th>#Tress</th>\n",
       "      <th>MaxFeat</th>\n",
       "      <th></th>\n",
       "      <th></th>\n",
       "      <th></th>\n",
       "      <th></th>\n",
       "      <th></th>\n",
       "      <th></th>\n",
       "      <th></th>\n",
       "      <th></th>\n",
       "    </tr>\n",
       "  </thead>\n",
       "  <tbody>\n",
       "    <tr>\n",
       "      <th rowspan=\"3\" valign=\"top\">50</th>\n",
       "      <th>2</th>\n",
       "      <td>0.697101</td>\n",
       "      <td>0.696839</td>\n",
       "      <td>102230.928644</td>\n",
       "      <td>319.735717</td>\n",
       "      <td>0.296861</td>\n",
       "      <td>0.544849</td>\n",
       "      <td>0.156711</td>\n",
       "      <td>0.395867</td>\n",
       "    </tr>\n",
       "    <tr>\n",
       "      <th>3</th>\n",
       "      <td>0.693014</td>\n",
       "      <td>0.692614</td>\n",
       "      <td>103655.608690</td>\n",
       "      <td>321.955911</td>\n",
       "      <td>0.300998</td>\n",
       "      <td>0.548633</td>\n",
       "      <td>0.160905</td>\n",
       "      <td>0.401129</td>\n",
       "    </tr>\n",
       "    <tr>\n",
       "      <th>4</th>\n",
       "      <td>0.690086</td>\n",
       "      <td>0.689594</td>\n",
       "      <td>104673.764187</td>\n",
       "      <td>323.533251</td>\n",
       "      <td>0.303954</td>\n",
       "      <td>0.551321</td>\n",
       "      <td>0.162038</td>\n",
       "      <td>0.402539</td>\n",
       "    </tr>\n",
       "    <tr>\n",
       "      <th rowspan=\"3\" valign=\"top\">100</th>\n",
       "      <th>2</th>\n",
       "      <td>0.698029</td>\n",
       "      <td>0.697677</td>\n",
       "      <td>101948.314275</td>\n",
       "      <td>319.293461</td>\n",
       "      <td>0.296040</td>\n",
       "      <td>0.544096</td>\n",
       "      <td>0.155531</td>\n",
       "      <td>0.394374</td>\n",
       "    </tr>\n",
       "    <tr>\n",
       "      <th>3</th>\n",
       "      <td>0.697214</td>\n",
       "      <td>0.696740</td>\n",
       "      <td>102264.137613</td>\n",
       "      <td>319.787645</td>\n",
       "      <td>0.296957</td>\n",
       "      <td>0.544938</td>\n",
       "      <td>0.157666</td>\n",
       "      <td>0.397072</td>\n",
       "    </tr>\n",
       "    <tr>\n",
       "      <th>4</th>\n",
       "      <td>0.693671</td>\n",
       "      <td>0.693167</td>\n",
       "      <td>103469.214066</td>\n",
       "      <td>321.666309</td>\n",
       "      <td>0.300457</td>\n",
       "      <td>0.548139</td>\n",
       "      <td>0.159798</td>\n",
       "      <td>0.399748</td>\n",
       "    </tr>\n",
       "    <tr>\n",
       "      <th rowspan=\"3\" valign=\"top\">150</th>\n",
       "      <th>2</th>\n",
       "      <td>0.699473</td>\n",
       "      <td>0.699207</td>\n",
       "      <td>101432.149447</td>\n",
       "      <td>318.484143</td>\n",
       "      <td>0.294541</td>\n",
       "      <td>0.542717</td>\n",
       "      <td>0.155474</td>\n",
       "      <td>0.394302</td>\n",
       "    </tr>\n",
       "    <tr>\n",
       "      <th>3</th>\n",
       "      <td>0.696496</td>\n",
       "      <td>0.696064</td>\n",
       "      <td>102492.022662</td>\n",
       "      <td>320.143753</td>\n",
       "      <td>0.297619</td>\n",
       "      <td>0.545545</td>\n",
       "      <td>0.157825</td>\n",
       "      <td>0.397272</td>\n",
       "    </tr>\n",
       "    <tr>\n",
       "      <th>4</th>\n",
       "      <td>0.693702</td>\n",
       "      <td>0.693121</td>\n",
       "      <td>103484.497104</td>\n",
       "      <td>321.690064</td>\n",
       "      <td>0.300501</td>\n",
       "      <td>0.548180</td>\n",
       "      <td>0.160519</td>\n",
       "      <td>0.400648</td>\n",
       "    </tr>\n",
       "    <tr>\n",
       "      <th rowspan=\"3\" valign=\"top\">200</th>\n",
       "      <th>2</th>\n",
       "      <td>0.700150</td>\n",
       "      <td>0.699805</td>\n",
       "      <td>101230.467152</td>\n",
       "      <td>318.167357</td>\n",
       "      <td>0.293956</td>\n",
       "      <td>0.542177</td>\n",
       "      <td>0.155043</td>\n",
       "      <td>0.393755</td>\n",
       "    </tr>\n",
       "    <tr>\n",
       "      <th>3</th>\n",
       "      <td>0.697598</td>\n",
       "      <td>0.697149</td>\n",
       "      <td>102126.086266</td>\n",
       "      <td>319.571723</td>\n",
       "      <td>0.296556</td>\n",
       "      <td>0.544570</td>\n",
       "      <td>0.157931</td>\n",
       "      <td>0.397406</td>\n",
       "    </tr>\n",
       "    <tr>\n",
       "      <th>4</th>\n",
       "      <td>0.695435</td>\n",
       "      <td>0.694910</td>\n",
       "      <td>102881.321754</td>\n",
       "      <td>320.751184</td>\n",
       "      <td>0.298749</td>\n",
       "      <td>0.546580</td>\n",
       "      <td>0.159312</td>\n",
       "      <td>0.399139</td>\n",
       "    </tr>\n",
       "    <tr>\n",
       "      <th rowspan=\"3\" valign=\"top\">250</th>\n",
       "      <th>2</th>\n",
       "      <td>0.700089</td>\n",
       "      <td>0.699760</td>\n",
       "      <td>101245.941555</td>\n",
       "      <td>318.191674</td>\n",
       "      <td>0.294001</td>\n",
       "      <td>0.542218</td>\n",
       "      <td>0.154979</td>\n",
       "      <td>0.393674</td>\n",
       "    </tr>\n",
       "    <tr>\n",
       "      <th>3</th>\n",
       "      <td>0.698538</td>\n",
       "      <td>0.698092</td>\n",
       "      <td>101808.133057</td>\n",
       "      <td>319.073868</td>\n",
       "      <td>0.295633</td>\n",
       "      <td>0.543721</td>\n",
       "      <td>0.157460</td>\n",
       "      <td>0.396812</td>\n",
       "    </tr>\n",
       "    <tr>\n",
       "      <th>4</th>\n",
       "      <td>0.695017</td>\n",
       "      <td>0.694492</td>\n",
       "      <td>103022.074369</td>\n",
       "      <td>320.970519</td>\n",
       "      <td>0.299158</td>\n",
       "      <td>0.546953</td>\n",
       "      <td>0.159006</td>\n",
       "      <td>0.398755</td>\n",
       "    </tr>\n",
       "    <tr>\n",
       "      <th rowspan=\"3\" valign=\"top\">300</th>\n",
       "      <th>2</th>\n",
       "      <td>0.701133</td>\n",
       "      <td>0.700813</td>\n",
       "      <td>100890.769701</td>\n",
       "      <td>317.633074</td>\n",
       "      <td>0.292969</td>\n",
       "      <td>0.541266</td>\n",
       "      <td>0.154722</td>\n",
       "      <td>0.393347</td>\n",
       "    </tr>\n",
       "    <tr>\n",
       "      <th>3</th>\n",
       "      <td>0.697907</td>\n",
       "      <td>0.697432</td>\n",
       "      <td>102030.839556</td>\n",
       "      <td>319.422666</td>\n",
       "      <td>0.296280</td>\n",
       "      <td>0.544316</td>\n",
       "      <td>0.157274</td>\n",
       "      <td>0.396578</td>\n",
       "    </tr>\n",
       "    <tr>\n",
       "      <th>4</th>\n",
       "      <td>0.695196</td>\n",
       "      <td>0.694690</td>\n",
       "      <td>102955.300084</td>\n",
       "      <td>320.866483</td>\n",
       "      <td>0.298964</td>\n",
       "      <td>0.546776</td>\n",
       "      <td>0.158646</td>\n",
       "      <td>0.398303</td>\n",
       "    </tr>\n",
       "  </tbody>\n",
       "</table>\n",
       "</div>"
      ],
      "text/plain": [
       "                Exp. Var.        R2            MSE        RMSE      nMSE  \\\n",
       "#Tress MaxFeat                                                             \n",
       "50     2         0.697101  0.696839  102230.928644  319.735717  0.296861   \n",
       "       3         0.693014  0.692614  103655.608690  321.955911  0.300998   \n",
       "       4         0.690086  0.689594  104673.764187  323.533251  0.303954   \n",
       "100    2         0.698029  0.697677  101948.314275  319.293461  0.296040   \n",
       "       3         0.697214  0.696740  102264.137613  319.787645  0.296957   \n",
       "       4         0.693671  0.693167  103469.214066  321.666309  0.300457   \n",
       "150    2         0.699473  0.699207  101432.149447  318.484143  0.294541   \n",
       "       3         0.696496  0.696064  102492.022662  320.143753  0.297619   \n",
       "       4         0.693702  0.693121  103484.497104  321.690064  0.300501   \n",
       "200    2         0.700150  0.699805  101230.467152  318.167357  0.293956   \n",
       "       3         0.697598  0.697149  102126.086266  319.571723  0.296556   \n",
       "       4         0.695435  0.694910  102881.321754  320.751184  0.298749   \n",
       "250    2         0.700089  0.699760  101245.941555  318.191674  0.294001   \n",
       "       3         0.698538  0.698092  101808.133057  319.073868  0.295633   \n",
       "       4         0.695017  0.694492  103022.074369  320.970519  0.299158   \n",
       "300    2         0.701133  0.700813  100890.769701  317.633074  0.292969   \n",
       "       3         0.697907  0.697432  102030.839556  319.422666  0.296280   \n",
       "       4         0.695196  0.694690  102955.300084  320.866483  0.298964   \n",
       "\n",
       "                   nRMSE      MSLE     RMSLE  \n",
       "#Tress MaxFeat                                \n",
       "50     2        0.544849  0.156711  0.395867  \n",
       "       3        0.548633  0.160905  0.401129  \n",
       "       4        0.551321  0.162038  0.402539  \n",
       "100    2        0.544096  0.155531  0.394374  \n",
       "       3        0.544938  0.157666  0.397072  \n",
       "       4        0.548139  0.159798  0.399748  \n",
       "150    2        0.542717  0.155474  0.394302  \n",
       "       3        0.545545  0.157825  0.397272  \n",
       "       4        0.548180  0.160519  0.400648  \n",
       "200    2        0.542177  0.155043  0.393755  \n",
       "       3        0.544570  0.157931  0.397406  \n",
       "       4        0.546580  0.159312  0.399139  \n",
       "250    2        0.542218  0.154979  0.393674  \n",
       "       3        0.543721  0.157460  0.396812  \n",
       "       4        0.546953  0.159006  0.398755  \n",
       "300    2        0.541266  0.154722  0.393347  \n",
       "       3        0.544316  0.157274  0.396578  \n",
       "       4        0.546776  0.158646  0.398303  "
      ]
     },
     "execution_count": 26,
     "metadata": {},
     "output_type": "execute_result"
    }
   ],
   "source": [
    "idx = pd.MultiIndex.from_tuples([(f,m) for f in forest_size for m in max_feats], names=['#Tress','MaxFeat'])\n",
    "\n",
    "metrics_svm = compute_metrics(y_true = y_test, y_pred = y_pred_rf, \n",
    "                              y_true_denorm = y_test_denorm, y_pred_denorm = y_pred_rf_denorm, \n",
    "                              indices = idx)  \n",
    "metrics_svm"
   ]
  },
  {
   "cell_type": "markdown",
   "metadata": {},
   "source": [
    "### 6. XGBoost"
   ]
  },
  {
   "cell_type": "code",
   "execution_count": 48,
   "metadata": {},
   "outputs": [
    {
     "data": {
      "text/plain": [
       "XGBRegressor(base_score=0.5, booster='gbtree', colsample_bylevel=1,\n",
       "       colsample_bytree=1, gamma=0, learning_rate=0.1, max_delta_step=0,\n",
       "       max_depth=10, min_child_weight=1, missing=None, n_estimators=300,\n",
       "       n_jobs=1, nthread=None, objective='reg:linear', random_state=0,\n",
       "       reg_alpha=0, reg_lambda=1, scale_pos_weight=1, seed=None,\n",
       "       silent=True, subsample=1)"
      ]
     },
     "execution_count": 48,
     "metadata": {},
     "output_type": "execute_result"
    }
   ],
   "source": [
    "xgb_reg = xgb.XGBRegressor(n_estimators=300, max_depth=10)\n",
    "xgb_reg.fit(X_train, y_train)"
   ]
  },
  {
   "cell_type": "code",
   "execution_count": 49,
   "metadata": {},
   "outputs": [],
   "source": [
    "y_pred_xgb = xgb_reg.predict(X_test).reshape(1,-1)"
   ]
  },
  {
   "cell_type": "code",
   "execution_count": 50,
   "metadata": {},
   "outputs": [],
   "source": [
    "y_pred_xgb_denorm = out_scaler.inverse_transform(y_pred_xgb)\n",
    "\n",
    "# Set all negative outputs to zero (we're predicting time)\n",
    "y_pred_xgb_denorm[y_pred_xgb_denorm < 0] = 0\n",
    "\n",
    "# Transform back again\n",
    "y_pred_xgb = out_scaler.transform(y_pred_xgb_denorm)"
   ]
  },
  {
   "cell_type": "code",
   "execution_count": 51,
   "metadata": {},
   "outputs": [
    {
     "data": {
      "text/html": [
       "<div>\n",
       "<style scoped>\n",
       "    .dataframe tbody tr th:only-of-type {\n",
       "        vertical-align: middle;\n",
       "    }\n",
       "\n",
       "    .dataframe tbody tr th {\n",
       "        vertical-align: top;\n",
       "    }\n",
       "\n",
       "    .dataframe thead th {\n",
       "        text-align: right;\n",
       "    }\n",
       "</style>\n",
       "<table border=\"1\" class=\"dataframe\">\n",
       "  <thead>\n",
       "    <tr style=\"text-align: right;\">\n",
       "      <th></th>\n",
       "      <th>Exp. Var.</th>\n",
       "      <th>R2</th>\n",
       "      <th>MSE</th>\n",
       "      <th>RMSE</th>\n",
       "      <th>nMSE</th>\n",
       "      <th>nRMSE</th>\n",
       "      <th>MSLE</th>\n",
       "      <th>RMSLE</th>\n",
       "    </tr>\n",
       "  </thead>\n",
       "  <tbody>\n",
       "    <tr>\n",
       "      <th>0</th>\n",
       "      <td>0.690634</td>\n",
       "      <td>0.690484</td>\n",
       "      <td>104373.769994</td>\n",
       "      <td>323.069296</td>\n",
       "      <td>0.303083</td>\n",
       "      <td>0.55053</td>\n",
       "      <td>0.158994</td>\n",
       "      <td>0.398741</td>\n",
       "    </tr>\n",
       "  </tbody>\n",
       "</table>\n",
       "</div>"
      ],
      "text/plain": [
       "   Exp. Var.        R2            MSE        RMSE      nMSE    nRMSE  \\\n",
       "0   0.690634  0.690484  104373.769994  323.069296  0.303083  0.55053   \n",
       "\n",
       "       MSLE     RMSLE  \n",
       "0  0.158994  0.398741  "
      ]
     },
     "execution_count": 51,
     "metadata": {},
     "output_type": "execute_result"
    }
   ],
   "source": [
    "compute_metrics(y_true = y_test, y_pred = y_pred_xgb,\n",
    "                y_true_denorm = y_test_denorm, y_pred_denorm = y_pred_xgb_denorm,\n",
    "                indices=[0])"
   ]
  },
  {
   "cell_type": "markdown",
   "metadata": {},
   "source": [
    "### 7. Neural Network"
   ]
  },
  {
   "cell_type": "code",
   "execution_count": 52,
   "metadata": {},
   "outputs": [],
   "source": [
    "mlp_reg = MLPRegressor(hidden_layer_sizes=(100,4))"
   ]
  },
  {
   "cell_type": "code",
   "execution_count": 53,
   "metadata": {},
   "outputs": [
    {
     "data": {
      "text/plain": [
       "MLPRegressor(activation='relu', alpha=0.0001, batch_size='auto', beta_1=0.9,\n",
       "       beta_2=0.999, early_stopping=False, epsilon=1e-08,\n",
       "       hidden_layer_sizes=(100, 4), learning_rate='constant',\n",
       "       learning_rate_init=0.001, max_iter=200, momentum=0.9,\n",
       "       n_iter_no_change=10, nesterovs_momentum=True, power_t=0.5,\n",
       "       random_state=None, shuffle=True, solver='adam', tol=0.0001,\n",
       "       validation_fraction=0.1, verbose=False, warm_start=False)"
      ]
     },
     "execution_count": 53,
     "metadata": {},
     "output_type": "execute_result"
    }
   ],
   "source": [
    "mlp_reg.fit(X_train, y_train.ravel())"
   ]
  },
  {
   "cell_type": "code",
   "execution_count": 54,
   "metadata": {},
   "outputs": [],
   "source": [
    "y_pred_mlp = mlp_reg.predict(X_test).reshape(1,-1)"
   ]
  },
  {
   "cell_type": "code",
   "execution_count": 55,
   "metadata": {},
   "outputs": [],
   "source": [
    "y_pred_mlp_denorm = out_scaler.inverse_transform(y_pred_mlp)\n",
    "\n",
    "# Set all negative outputs to zero (we're predicting time)\n",
    "y_pred_mlp_denorm[y_pred_mlp_denorm < 0] = 0\n",
    "\n",
    "# Transform back again\n",
    "y_pred_mlp = out_scaler.transform(y_pred_mlp_denorm)"
   ]
  },
  {
   "cell_type": "code",
   "execution_count": 56,
   "metadata": {},
   "outputs": [
    {
     "data": {
      "text/html": [
       "<div>\n",
       "<style scoped>\n",
       "    .dataframe tbody tr th:only-of-type {\n",
       "        vertical-align: middle;\n",
       "    }\n",
       "\n",
       "    .dataframe tbody tr th {\n",
       "        vertical-align: top;\n",
       "    }\n",
       "\n",
       "    .dataframe thead th {\n",
       "        text-align: right;\n",
       "    }\n",
       "</style>\n",
       "<table border=\"1\" class=\"dataframe\">\n",
       "  <thead>\n",
       "    <tr style=\"text-align: right;\">\n",
       "      <th></th>\n",
       "      <th>Exp. Var.</th>\n",
       "      <th>R2</th>\n",
       "      <th>MSE</th>\n",
       "      <th>RMSE</th>\n",
       "      <th>nMSE</th>\n",
       "      <th>nRMSE</th>\n",
       "      <th>MSLE</th>\n",
       "      <th>RMSLE</th>\n",
       "    </tr>\n",
       "  </thead>\n",
       "  <tbody>\n",
       "    <tr>\n",
       "      <th>0</th>\n",
       "      <td>0.703413</td>\n",
       "      <td>0.703339</td>\n",
       "      <td>100039.040032</td>\n",
       "      <td>316.289488</td>\n",
       "      <td>0.290496</td>\n",
       "      <td>0.538977</td>\n",
       "      <td>0.156782</td>\n",
       "      <td>0.395958</td>\n",
       "    </tr>\n",
       "  </tbody>\n",
       "</table>\n",
       "</div>"
      ],
      "text/plain": [
       "   Exp. Var.        R2            MSE        RMSE      nMSE     nRMSE  \\\n",
       "0   0.703413  0.703339  100039.040032  316.289488  0.290496  0.538977   \n",
       "\n",
       "       MSLE     RMSLE  \n",
       "0  0.156782  0.395958  "
      ]
     },
     "execution_count": 56,
     "metadata": {},
     "output_type": "execute_result"
    }
   ],
   "source": [
    "compute_metrics(y_true = y_test, y_pred = y_pred_mlp,\n",
    "                y_true_denorm = y_test_denorm, y_pred_denorm = y_pred_mlp_denorm,\n",
    "                indices=[0])"
   ]
  },
  {
   "cell_type": "code",
   "execution_count": 57,
   "metadata": {
    "scrolled": true
   },
   "outputs": [
    {
     "data": {
      "image/png": "[encoded data removed]",
      "text/plain": [
       "<Figure size 288x288 with 1 Axes>"
      ]
     },
     "metadata": {},
     "output_type": "display_data"
    }
   ],
   "source": [
    "fig = plt.figure(figsize=(4,4))\n",
    "plt.scatter(y_test_denorm, y_pred_mlp_denorm, s = 1)\n",
    "plt.plot((-1,3500),(-1,3500), '--', c='r')\n",
    "plt.xlim((-10,5500))\n",
    "plt.ylim((-10,5500))\n",
    "plt.show()"
   ]
  }
 ],
 "metadata": {
  "kernelspec": {
   "display_name": "Python 3",
   "language": "python",
   "name": "python3"
  },
  "language_info": {
   "codemirror_mode": {
    "name": "ipython",
    "version": 3
   },
   "file_extension": ".py",
   "mimetype": "text/x-python",
   "name": "python",
   "nbconvert_exporter": "python",
   "pygments_lexer": "ipython3",
   "version": "3.6.6"
  }
 },
 "nbformat": 4,
 "nbformat_minor": 2
}
