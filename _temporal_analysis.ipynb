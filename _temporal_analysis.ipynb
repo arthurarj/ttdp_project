{
 "cells": [
  {
   "cell_type": "markdown",
   "metadata": {},
   "source": [
    "### Setup"
   ]
  },
  {
   "cell_type": "code",
   "execution_count": 9,
   "metadata": {},
   "outputs": [],
   "source": [
    "%run utils/utils_data_cleaning.py\n",
    "\n",
    "import matplotlib.pyplot as plt"
   ]
  },
  {
   "cell_type": "markdown",
   "metadata": {},
   "source": [
    "### Load a subset of the dataset"
   ]
  },
  {
   "cell_type": "code",
   "execution_count": null,
   "metadata": {},
   "outputs": [],
   "source": []
  },
  {
   "cell_type": "code",
   "execution_count": 88,
   "metadata": {},
   "outputs": [
    {
     "name": "stdout",
     "output_type": "stream",
     "text": [
      "Data loaded with 50000 entries and 10 columns\n",
      "Size reduction from 50000 to 48804 (1196 samples dropped for missing data)\n"
     ]
    },
    {
     "data": {
      "text/html": [
       "<div>\n",
       "<style scoped>\n",
       "    .dataframe tbody tr th:only-of-type {\n",
       "        vertical-align: middle;\n",
       "    }\n",
       "\n",
       "    .dataframe tbody tr th {\n",
       "        vertical-align: top;\n",
       "    }\n",
       "\n",
       "    .dataframe thead th {\n",
       "        text-align: right;\n",
       "    }\n",
       "</style>\n",
       "<table border=\"1\" class=\"dataframe\">\n",
       "  <thead>\n",
       "    <tr style=\"text-align: right;\">\n",
       "      <th></th>\n",
       "      <th>pu_t</th>\n",
       "      <th>do_t</th>\n",
       "      <th>trip_dist</th>\n",
       "      <th>pu_lon</th>\n",
       "      <th>pu_lat</th>\n",
       "      <th>do_lon</th>\n",
       "      <th>do_lat</th>\n",
       "      <th>duration</th>\n",
       "      <th>vec_dist</th>\n",
       "      <th>trip_ratio</th>\n",
       "    </tr>\n",
       "  </thead>\n",
       "  <tbody>\n",
       "    <tr>\n",
       "      <th>0</th>\n",
       "      <td>2016-02-16 19:56:06</td>\n",
       "      <td>2016-02-16 20:10:46</td>\n",
       "      <td>8.53</td>\n",
       "      <td>-73.995750</td>\n",
       "      <td>40.764488</td>\n",
       "      <td>-73.926292</td>\n",
       "      <td>40.867458</td>\n",
       "      <td>880</td>\n",
       "      <td>7.983998</td>\n",
       "      <td>1.068387</td>\n",
       "    </tr>\n",
       "    <tr>\n",
       "      <th>1</th>\n",
       "      <td>2016-02-11 10:23:41</td>\n",
       "      <td>2016-02-11 10:45:04</td>\n",
       "      <td>1.95</td>\n",
       "      <td>-73.994110</td>\n",
       "      <td>40.751068</td>\n",
       "      <td>-73.993401</td>\n",
       "      <td>40.736019</td>\n",
       "      <td>1283</td>\n",
       "      <td>1.039087</td>\n",
       "      <td>1.876648</td>\n",
       "    </tr>\n",
       "    <tr>\n",
       "      <th>2</th>\n",
       "      <td>2016-02-21 14:21:57</td>\n",
       "      <td>2016-02-21 14:30:07</td>\n",
       "      <td>0.50</td>\n",
       "      <td>-73.973160</td>\n",
       "      <td>40.752728</td>\n",
       "      <td>-73.982178</td>\n",
       "      <td>40.756962</td>\n",
       "      <td>490</td>\n",
       "      <td>0.556130</td>\n",
       "      <td>0.899070</td>\n",
       "    </tr>\n",
       "    <tr>\n",
       "      <th>3</th>\n",
       "      <td>2016-02-11 22:51:59</td>\n",
       "      <td>2016-02-11 22:57:41</td>\n",
       "      <td>1.30</td>\n",
       "      <td>-73.991280</td>\n",
       "      <td>40.744808</td>\n",
       "      <td>-73.985909</td>\n",
       "      <td>40.731178</td>\n",
       "      <td>342</td>\n",
       "      <td>0.981839</td>\n",
       "      <td>1.324045</td>\n",
       "    </tr>\n",
       "    <tr>\n",
       "      <th>4</th>\n",
       "      <td>2016-02-13 18:32:08</td>\n",
       "      <td>2016-02-13 18:43:51</td>\n",
       "      <td>1.50</td>\n",
       "      <td>-73.992897</td>\n",
       "      <td>40.741280</td>\n",
       "      <td>-73.975967</td>\n",
       "      <td>40.748734</td>\n",
       "      <td>703</td>\n",
       "      <td>1.026608</td>\n",
       "      <td>1.461123</td>\n",
       "    </tr>\n",
       "  </tbody>\n",
       "</table>\n",
       "</div>"
      ],
      "text/plain": [
       "                 pu_t                do_t  trip_dist     pu_lon     pu_lat  \\\n",
       "0 2016-02-16 19:56:06 2016-02-16 20:10:46       8.53 -73.995750  40.764488   \n",
       "1 2016-02-11 10:23:41 2016-02-11 10:45:04       1.95 -73.994110  40.751068   \n",
       "2 2016-02-21 14:21:57 2016-02-21 14:30:07       0.50 -73.973160  40.752728   \n",
       "3 2016-02-11 22:51:59 2016-02-11 22:57:41       1.30 -73.991280  40.744808   \n",
       "4 2016-02-13 18:32:08 2016-02-13 18:43:51       1.50 -73.992897  40.741280   \n",
       "\n",
       "      do_lon     do_lat  duration  vec_dist  trip_ratio  \n",
       "0 -73.926292  40.867458       880  7.983998    1.068387  \n",
       "1 -73.993401  40.736019      1283  1.039087    1.876648  \n",
       "2 -73.982178  40.756962       490  0.556130    0.899070  \n",
       "3 -73.985909  40.731178       342  0.981839    1.324045  \n",
       "4 -73.975967  40.748734       703  1.026608    1.461123  "
      ]
     },
     "execution_count": 88,
     "metadata": {},
     "output_type": "execute_result"
    }
   ],
   "source": [
    "df = load_taxi_data_chunk(chunk=50000)\n",
    "handle_missing_data(df)\n",
    "df.head()"
   ]
  },
  {
   "cell_type": "code",
   "execution_count": 6,
   "metadata": {},
   "outputs": [
    {
     "name": "stdout",
     "output_type": "stream",
     "text": [
      "Number of chunks = 100\n"
     ]
    }
   ],
   "source": [
    "import pickle as pkl\n",
    "\n",
    "file_indices = [i + (616 if i>260 else 0) for i in range(696)][:100]\n",
    "n_files = len(file_indices)\n",
    "print('Number of chunks =',n_files)\n",
    "\n",
    "df = pd.DataFrame()\n",
    "for chunk_id in file_indices:\n",
    "    df = df.append(pkl.load(open('../data/processed_chunks/processed_ttd_chunk_{}.p'.format(chunk_id), 'rb')))\n",
    "\n",
    "#data.drop(data[data.vec_dist > 15].index, inplace=True)\n",
    "\n",
    "# Drop trips with distance exceeding 40 miles\n",
    "df.drop(df[df.trip_dist > 40].index, inplace=True)\n",
    "\n",
    "# This guarantees indices to be unique, which is important for random permutation\n",
    "df.reset_index(drop=True, inplace=True)"
   ]
  },
  {
   "cell_type": "markdown",
   "metadata": {},
   "source": [
    "### Target histogram (duration)"
   ]
  },
  {
   "cell_type": "code",
   "execution_count": 89,
   "metadata": {},
   "outputs": [
    {
     "data": {
      "image/png": "[encoded data removed]",
      "text/plain": [
       "<Figure size 432x288 with 1 Axes>"
      ]
     },
     "metadata": {},
     "output_type": "display_data"
    }
   ],
   "source": [
    "plt.figure()\n",
    "plt.hist(df.duration, bins='auto', log=True)\n",
    "plt.show()"
   ]
  },
  {
   "cell_type": "markdown",
   "metadata": {},
   "source": [
    "Consindering the durations above 80k seconds (22 hours) as noise, let's zoom in a bit:"
   ]
  },
  {
   "cell_type": "code",
   "execution_count": 14,
   "metadata": {},
   "outputs": [
    {
     "data": {
      "image/png": "[encoded data removed]",
      "text/plain": [
       "<Figure size 432x288 with 1 Axes>"
      ]
     },
     "metadata": {
      "needs_background": "light"
     },
     "output_type": "display_data"
    }
   ],
   "source": [
    "plt.figure()\n",
    "plt.hist(df.duration, bins='auto', log=True)\n",
    "plt.xlim(0,10000)\n",
    "plt.plot((7200, 7200),(0,1e3), '--', c='r')\n",
    "plt.show()"
   ]
  },
  {
   "cell_type": "code",
   "execution_count": 90,
   "metadata": {
    "scrolled": true
   },
   "outputs": [
    {
     "data": {
      "image/png": "[encoded data removed]",
      "text/plain": [
       "<Figure size 432x288 with 1 Axes>"
      ]
     },
     "metadata": {},
     "output_type": "display_data"
    }
   ],
   "source": [
    "plt.figure()\n",
    "plt.hist(df.duration, bins='auto', log=True)\n",
    "plt.xlim(0,10000)\n",
    "plt.plot((7200, 7200),(0,1e3), '--', c='r')\n",
    "plt.show()"
   ]
  },
  {
   "cell_type": "markdown",
   "metadata": {},
   "source": [
    "Seems reasonable to filter out any trips taking longer than 2 hours. "
   ]
  },
  {
   "cell_type": "code",
   "execution_count": 91,
   "metadata": {},
   "outputs": [
    {
     "name": "stdout",
     "output_type": "stream",
     "text": [
      "99.83% of the trips last less than 2 hours\n"
     ]
    }
   ],
   "source": [
    "print(\"{0:.2f}% of the trips last less than 2 hours\".format(100*(df.duration < 7200).sum()/df.shape[0]))"
   ]
  },
  {
   "cell_type": "markdown",
   "metadata": {},
   "source": [
    "### Remove samples with too long duration (considered as outliers) "
   ]
  },
  {
   "cell_type": "code",
   "execution_count": 92,
   "metadata": {},
   "outputs": [
    {
     "name": "stdout",
     "output_type": "stream",
     "text": [
      "# of duration outliers = 83\n",
      "Size reduction from 48804 to 48721 (83 samples dropped for having longer duration than 7200 seconds)\n"
     ]
    }
   ],
   "source": [
    "print('# of duration outliers =', df[(df.duration > 7200)].shape[0])\n",
    "handle_duration_outliers(df, 7200)"
   ]
  },
  {
   "cell_type": "markdown",
   "metadata": {},
   "source": [
    "### Replot target histogram (duration) "
   ]
  },
  {
   "cell_type": "code",
   "execution_count": 11,
   "metadata": {},
   "outputs": [
    {
     "data": {
      "image/png": "[encoded data removed]",
      "text/plain": [
       "<Figure size 1008x144 with 2 Axes>"
      ]
     },
     "metadata": {
      "needs_background": "light"
     },
     "output_type": "display_data"
    }
   ],
   "source": [
    "plt.figure(figsize=(14,2))\n",
    "plt.subplot(1,2,1)\n",
    "plt.hist(df.duration, bins='auto', log=True, color='k')\n",
    "plt.subplot(1,2,2)\n",
    "plt.hist(df.duration, bins='auto', log=False, color='k')\n",
    "plt.show()"
   ]
  },
  {
   "cell_type": "markdown",
   "metadata": {},
   "source": [
    "### Fit some distributions"
   ]
  },
  {
   "cell_type": "markdown",
   "metadata": {},
   "source": [
    "- Normalize first:"
   ]
  },
  {
   "cell_type": "code",
   "execution_count": 12,
   "metadata": {},
   "outputs": [
    {
     "data": {
      "image/png": "[encoded data removed]",
      "text/plain": [
       "<Figure size 504x144 with 1 Axes>"
      ]
     },
     "metadata": {
      "needs_background": "light"
     },
     "output_type": "display_data"
    }
   ],
   "source": [
    "normalized_duration = (df.duration - df.duration.mean())/df.duration.std()\n",
    "plt.figure(figsize=(7,2))\n",
    "_,x,_ = plt.hist(normalized_duration, bins='auto', color='k')"
   ]
  },
  {
   "cell_type": "code",
   "execution_count": 24,
   "metadata": {},
   "outputs": [
    {
     "data": {
      "image/png": "[encoded data removed]",
      "text/plain": [
       "<Figure size 720x288 with 1 Axes>"
      ]
     },
     "metadata": {
      "needs_background": "light"
     },
     "output_type": "display_data"
    }
   ],
   "source": [
    "import numpy as np\n",
    "from scipy import stats\n",
    "\n",
    "plt.figure(figsize=(10,4))\n",
    "\n",
    "plt.hist(normalized_duration[::1], bins='auto', alpha=0.5, density=True)\n",
    "\n",
    "# dist_names = ['lognorm', 'gamma', 'norm', 'rayleigh']\n",
    "# parameters = []\n",
    "\n",
    "# left_x = np.linspace(x.min() - 2, x.min(), 1000)\n",
    "# x_axis = np.concatenate((left_x, x))\n",
    "\n",
    "# for dist_name in dist_names:\n",
    "    \n",
    "#     dist = getattr(stats, dist_name)\n",
    "#     param = dist.fit(normalized_duration)\n",
    "#     parameters.append(param)\n",
    "    \n",
    "#     shape = param[:-2]\n",
    "#     loc = param[-2]\n",
    "#     scale = param[-1]\n",
    "\n",
    "#     pdf_fitted = dist.pdf(x_axis, *param[:-2], loc=param[-2], scale=param[-1])\n",
    "#     plt.plot(x_axis, pdf_fitted, label=dist_name, linewidth=2)\n",
    "#     plt.xlim((x_axis.min(),10))\n",
    "#     plt.legend(loc='upper right')\n",
    "plt.show()"
   ]
  },
  {
   "cell_type": "markdown",
   "metadata": {},
   "source": [
    "### Pick-up / drop-off time histograms"
   ]
  },
  {
   "cell_type": "code",
   "execution_count": 8,
   "metadata": {},
   "outputs": [],
   "source": [
    "# Measured in hours of a day\n",
    "df['pu_hour'] = df.pu_t.apply(lambda s: s.hour)\n",
    "df['do_hour'] = df.do_t.apply(lambda s: s.hour)\n",
    "\n",
    "# Measured in seconds of a day\n",
    "df['pu_second'] = df.pu_t.apply(lambda x : x.second + 60 * x.minute + 3600 * x.hour)\n",
    "df['do_second'] = df.do_t.apply(lambda x : x.second + 60 * x.minute + 3600 * x.hour)"
   ]
  },
  {
   "cell_type": "code",
   "execution_count": 9,
   "metadata": {
    "scrolled": true
   },
   "outputs": [
    {
     "data": {
      "image/png": "[encoded data removed]",
      "text/plain": [
       "<Figure size 720x360 with 4 Axes>"
      ]
     },
     "metadata": {},
     "output_type": "display_data"
    }
   ],
   "source": [
    "time_data = [df.pu_hour, df.do_hour, df.pu_second, df.do_second]\n",
    "\n",
    "fig = plt.figure(figsize=(10,5))\n",
    "\n",
    "ax = [fig.add_subplot(2,2,i+1) for i in range(4)]\n",
    "\n",
    "ax[0].hist(time_data[0], bins=24)\n",
    "ax[1].hist(time_data[1], bins=24)\n",
    "ax[2].hist(time_data[2], bins='auto')\n",
    "ax[3].hist(time_data[3], bins='auto')\n",
    "\n",
    "plt.show()  "
   ]
  },
  {
   "cell_type": "code",
   "execution_count": 10,
   "metadata": {},
   "outputs": [
    {
     "data": {
      "image/png": "[encoded data removed]",
      "text/plain": [
       "<Figure size 720x360 with 4 Axes>"
      ]
     },
     "metadata": {},
     "output_type": "display_data"
    }
   ],
   "source": [
    "fig = plt.figure(figsize=(10,5))\n",
    "\n",
    "ax = [fig.add_subplot(2,2,i+1) for i in range(4)]\n",
    "ax[0].scatter(time_data[0], df.duration, s=2)\n",
    "ax[1].scatter(time_data[1], df.duration, s=2)\n",
    "ax[2].scatter(time_data[2], df.duration, s=2)\n",
    "ax[3].scatter(time_data[3], df.duration, s=2)\n",
    "\n",
    "plt.show()"
   ]
  },
  {
   "cell_type": "markdown",
   "metadata": {},
   "source": [
    "--------\n",
    "### Generating plots for project report"
   ]
  },
  {
   "cell_type": "code",
   "execution_count": 3,
   "metadata": {},
   "outputs": [],
   "source": [
    "import pickle as pkl"
   ]
  },
  {
   "cell_type": "code",
   "execution_count": 4,
   "metadata": {},
   "outputs": [
    {
     "data": {
      "text/html": [
       "<div>\n",
       "<style scoped>\n",
       "    .dataframe tbody tr th:only-of-type {\n",
       "        vertical-align: middle;\n",
       "    }\n",
       "\n",
       "    .dataframe tbody tr th {\n",
       "        vertical-align: top;\n",
       "    }\n",
       "\n",
       "    .dataframe thead th {\n",
       "        text-align: right;\n",
       "    }\n",
       "</style>\n",
       "<table border=\"1\" class=\"dataframe\">\n",
       "  <thead>\n",
       "    <tr style=\"text-align: right;\">\n",
       "      <th></th>\n",
       "      <th>pu_t</th>\n",
       "      <th>do_t</th>\n",
       "      <th>trip_dist</th>\n",
       "      <th>pu_lon</th>\n",
       "      <th>pu_lat</th>\n",
       "      <th>do_lon</th>\n",
       "      <th>do_lat</th>\n",
       "      <th>duration</th>\n",
       "      <th>vec_dist</th>\n",
       "      <th>trip_ratio</th>\n",
       "    </tr>\n",
       "  </thead>\n",
       "  <tbody>\n",
       "    <tr>\n",
       "      <th>0</th>\n",
       "      <td>2016-02-18 12:50:37</td>\n",
       "      <td>2016-02-18 13:04:11</td>\n",
       "      <td>2.50</td>\n",
       "      <td>-73.955284</td>\n",
       "      <td>40.782970</td>\n",
       "      <td>-73.984756</td>\n",
       "      <td>40.771740</td>\n",
       "      <td>814</td>\n",
       "      <td>1.729315</td>\n",
       "      <td>1.445659</td>\n",
       "    </tr>\n",
       "    <tr>\n",
       "      <th>1</th>\n",
       "      <td>2016-01-16 17:16:39</td>\n",
       "      <td>2016-01-16 17:43:32</td>\n",
       "      <td>11.10</td>\n",
       "      <td>-73.981873</td>\n",
       "      <td>40.768642</td>\n",
       "      <td>-73.898918</td>\n",
       "      <td>40.895798</td>\n",
       "      <td>1613</td>\n",
       "      <td>9.792312</td>\n",
       "      <td>1.133542</td>\n",
       "    </tr>\n",
       "    <tr>\n",
       "      <th>2</th>\n",
       "      <td>2016-02-05 20:08:49</td>\n",
       "      <td>2016-02-05 20:18:55</td>\n",
       "      <td>1.80</td>\n",
       "      <td>-73.979057</td>\n",
       "      <td>40.781769</td>\n",
       "      <td>-73.954498</td>\n",
       "      <td>40.782463</td>\n",
       "      <td>606</td>\n",
       "      <td>1.289035</td>\n",
       "      <td>1.396394</td>\n",
       "    </tr>\n",
       "    <tr>\n",
       "      <th>3</th>\n",
       "      <td>2016-01-22 02:25:34</td>\n",
       "      <td>2016-01-22 02:28:55</td>\n",
       "      <td>0.81</td>\n",
       "      <td>-73.971748</td>\n",
       "      <td>40.761059</td>\n",
       "      <td>-73.970222</td>\n",
       "      <td>40.752560</td>\n",
       "      <td>201</td>\n",
       "      <td>0.591905</td>\n",
       "      <td>1.368464</td>\n",
       "    </tr>\n",
       "    <tr>\n",
       "      <th>4</th>\n",
       "      <td>2016-01-18 11:24:00</td>\n",
       "      <td>2016-01-18 11:33:42</td>\n",
       "      <td>1.50</td>\n",
       "      <td>-73.971558</td>\n",
       "      <td>40.757938</td>\n",
       "      <td>-73.990356</td>\n",
       "      <td>40.751385</td>\n",
       "      <td>582</td>\n",
       "      <td>1.085142</td>\n",
       "      <td>1.382308</td>\n",
       "    </tr>\n",
       "  </tbody>\n",
       "</table>\n",
       "</div>"
      ],
      "text/plain": [
       "                 pu_t                do_t  trip_dist     pu_lon     pu_lat  \\\n",
       "0 2016-02-18 12:50:37 2016-02-18 13:04:11       2.50 -73.955284  40.782970   \n",
       "1 2016-01-16 17:16:39 2016-01-16 17:43:32      11.10 -73.981873  40.768642   \n",
       "2 2016-02-05 20:08:49 2016-02-05 20:18:55       1.80 -73.979057  40.781769   \n",
       "3 2016-01-22 02:25:34 2016-01-22 02:28:55       0.81 -73.971748  40.761059   \n",
       "4 2016-01-18 11:24:00 2016-01-18 11:33:42       1.50 -73.971558  40.757938   \n",
       "\n",
       "      do_lon     do_lat  duration  vec_dist  trip_ratio  \n",
       "0 -73.984756  40.771740       814  1.729315    1.445659  \n",
       "1 -73.898918  40.895798      1613  9.792312    1.133542  \n",
       "2 -73.954498  40.782463       606  1.289035    1.396394  \n",
       "3 -73.970222  40.752560       201  0.591905    1.368464  \n",
       "4 -73.990356  40.751385       582  1.085142    1.382308  "
      ]
     },
     "execution_count": 4,
     "metadata": {},
     "output_type": "execute_result"
    }
   ],
   "source": [
    "df = pkl.load(open('../data/dataset_10M.pkl', 'rb'))\n",
    "df = df.drop('index',axis=1)\n",
    "\n",
    "#Randomly select 10% of the dataset to raise some statistics\n",
    "df = df.sample(n = int(0.1 * len(df))).reset_index()\n",
    "df = df.drop('index',axis=1)\n",
    "\n",
    "df.head()"
   ]
  },
  {
   "cell_type": "code",
   "execution_count": 5,
   "metadata": {},
   "outputs": [
    {
     "name": "stdout",
     "output_type": "stream",
     "text": [
      "1000000\n"
     ]
    }
   ],
   "source": [
    "print(len(df))"
   ]
  },
  {
   "cell_type": "markdown",
   "metadata": {},
   "source": [
    "### 1) Output distribution"
   ]
  },
  {
   "cell_type": "code",
   "execution_count": 6,
   "metadata": {},
   "outputs": [
    {
     "data": {
      "image/png": "[encoded data removed]",
      "text/plain": [
       "<Figure size 432x288 with 1 Axes>"
      ]
     },
     "metadata": {
      "needs_background": "light"
     },
     "output_type": "display_data"
    }
   ],
   "source": [
    "plt.figure()\n",
    "plt.hist(df.duration, bins='auto', log=False)\n",
    "plt.ylabel('Histogram log counting')\n",
    "plt.xlabel('Trip duration (seconds)')\n",
    "plt.show()"
   ]
  },
  {
   "cell_type": "code",
   "execution_count": 7,
   "metadata": {},
   "outputs": [
    {
     "name": "stdout",
     "output_type": "stream",
     "text": [
      "Computing distributions...\n",
      "Distribution lognorm\n",
      "Distribution gamma\n",
      "Distribution norm\n",
      "Distribution rayleigh\n"
     ]
    },
    {
     "data": {
      "image/png": "[encoded data removed]",
      "text/plain": [
       "<Figure size 576x360 with 1 Axes>"
      ]
     },
     "metadata": {
      "needs_background": "light"
     },
     "output_type": "display_data"
    },
    {
     "name": "stdout",
     "output_type": "stream",
     "text": [
      "Done.\n"
     ]
    }
   ],
   "source": [
    "import numpy as np\n",
    "from scipy import stats\n",
    "\n",
    "normalize = False\n",
    "\n",
    "normalized_duration = (df.duration - df.duration.mean())/df.duration.std()\n",
    "\n",
    "y,x,_ = plt.hist(df.duration, bins='auto', alpha=0.5, density=True)\n",
    "y_normalized,x_normalized,_ = plt.hist(normalized_duration, bins='auto', alpha=0.5, density=True)\n",
    "plt.close()\n",
    "\n",
    "dist_names = ['lognorm', 'gamma', 'norm', 'rayleigh']\n",
    "\n",
    "colors = ['black','blue','red','green']\n",
    "\n",
    "parameters = []\n",
    "\n",
    "#Pick\n",
    "if not normalize:\n",
    "    x_axis = x; y_axis = np.sum(y_normalized)/np.sum(y) * y; left_wing = 0.3 * df.duration.std()\n",
    "else:\n",
    "    x_axis = x_normalized; y_axis = y_normalized; left_wing = 0.3\n",
    "\n",
    "left_x = np.linspace(x_axis.min() - left_wing, x_axis.min(), 1000)\n",
    "\n",
    "x_axis = np.concatenate((left_x, x_axis))\n",
    "y_axis = np.concatenate((np.zeros(len(left_x)+1), y_axis))\n",
    "\n",
    "# Plot distribution\n",
    "plt.figure(figsize=(8,5))\n",
    "plt.fill(x_axis, y_axis, alpha = 0.5)\n",
    "\n",
    "print('Computing distributions...')\n",
    "\n",
    "#distributions = []\n",
    "\n",
    "for index, dist_name in enumerate(dist_names):\n",
    "    \n",
    "    print('Distribution', dist_name)\n",
    "    \n",
    "    dist = getattr(stats, dist_name)\n",
    "    param = dist.fit(normalized_duration)\n",
    "    parameters.append(param)\n",
    "    \n",
    "    shape = param[:-2]\n",
    "    loc = param[-2]\n",
    "    scale = param[-1]\n",
    "    \n",
    "    pdf_fitted = dist.pdf(x_normalized, *param[:-2], loc=param[-2], scale=param[-1])\n",
    "    pdf_fitted = np.concatenate((np.zeros_like(left_x), pdf_fitted))\n",
    "\n",
    "    plt.plot(x_axis, pdf_fitted, label=dist_name, linewidth=2, c=colors[index])\n",
    "    \n",
    "plt.xlim((x_axis.min(), 5 * df.duration.std() + df.duration.mean()))\n",
    "plt.xlabel('Trip duration (seconds)')\n",
    "if normalize:\n",
    "    plt.xlim((x_axis.min(),5))\n",
    "    plt.xlabel('Trip duration (normalized by standard deviation)')\n",
    "\n",
    "plt.ylabel('Density distribution')\n",
    "plt.legend(loc='upper right')\n",
    "\n",
    "plt.tight_layout()\n",
    "\n",
    "if normalize:\n",
    "    plt.savefig('../figures/trip_duration_distribution_norm.png', dpi=500, bbox='tight');    \n",
    "else:\n",
    "    plt.savefig('../figures/trip_duration_distribution.png', dpi=500, bbox='tight');    \n",
    "plt.show()\n",
    "\n",
    "print('Done.')"
   ]
  },
  {
   "cell_type": "code",
   "execution_count": 14,
   "metadata": {},
   "outputs": [
    {
     "data": {
      "text/plain": [
       "95.5263"
      ]
     },
     "execution_count": 14,
     "metadata": {},
     "output_type": "execute_result"
    }
   ],
   "source": [
    "100*len(df[df.duration < 2000])/len(df)"
   ]
  },
  {
   "cell_type": "markdown",
   "metadata": {},
   "source": [
    "### 2) Hour of trip distribution"
   ]
  },
  {
   "cell_type": "code",
   "execution_count": 25,
   "metadata": {},
   "outputs": [
    {
     "data": {
      "text/html": [
       "<div>\n",
       "<style scoped>\n",
       "    .dataframe tbody tr th:only-of-type {\n",
       "        vertical-align: middle;\n",
       "    }\n",
       "\n",
       "    .dataframe tbody tr th {\n",
       "        vertical-align: top;\n",
       "    }\n",
       "\n",
       "    .dataframe thead th {\n",
       "        text-align: right;\n",
       "    }\n",
       "</style>\n",
       "<table border=\"1\" class=\"dataframe\">\n",
       "  <thead>\n",
       "    <tr style=\"text-align: right;\">\n",
       "      <th></th>\n",
       "      <th>original_index</th>\n",
       "      <th>pu_t</th>\n",
       "      <th>do_t</th>\n",
       "      <th>trip_dist</th>\n",
       "      <th>pu_lon</th>\n",
       "      <th>pu_lat</th>\n",
       "      <th>do_lon</th>\n",
       "      <th>do_lat</th>\n",
       "      <th>fare_amount</th>\n",
       "      <th>tip_amount</th>\n",
       "      <th>total_amount</th>\n",
       "      <th>duration</th>\n",
       "      <th>vec_dist</th>\n",
       "      <th>trip_ratio</th>\n",
       "      <th>pu_lon_n</th>\n",
       "      <th>pu_lat_n</th>\n",
       "      <th>do_lon_n</th>\n",
       "      <th>do_lat_n</th>\n",
       "      <th>avg_hour</th>\n",
       "      <th>week_day</th>\n",
       "    </tr>\n",
       "  </thead>\n",
       "  <tbody>\n",
       "    <tr>\n",
       "      <th>0</th>\n",
       "      <td>0</td>\n",
       "      <td>2016-04-16 15:32:19</td>\n",
       "      <td>2016-04-16 15:48:38</td>\n",
       "      <td>1.66</td>\n",
       "      <td>-73.989342</td>\n",
       "      <td>40.734261</td>\n",
       "      <td>-73.973190</td>\n",
       "      <td>40.749870</td>\n",
       "      <td>11.5</td>\n",
       "      <td>1.00</td>\n",
       "      <td>13.30</td>\n",
       "      <td>979</td>\n",
       "      <td>1.370661</td>\n",
       "      <td>1.211095</td>\n",
       "      <td>0.482712</td>\n",
       "      <td>0.565804</td>\n",
       "      <td>0.511615</td>\n",
       "      <td>0.593738</td>\n",
       "      <td>15</td>\n",
       "      <td>5</td>\n",
       "    </tr>\n",
       "    <tr>\n",
       "      <th>1</th>\n",
       "      <td>1</td>\n",
       "      <td>2016-04-23 22:55:51</td>\n",
       "      <td>2016-04-23 23:04:15</td>\n",
       "      <td>3.00</td>\n",
       "      <td>-73.967606</td>\n",
       "      <td>40.762981</td>\n",
       "      <td>-73.939804</td>\n",
       "      <td>40.798103</td>\n",
       "      <td>10.5</td>\n",
       "      <td>0.00</td>\n",
       "      <td>11.80</td>\n",
       "      <td>504</td>\n",
       "      <td>2.828417</td>\n",
       "      <td>1.060664</td>\n",
       "      <td>0.521609</td>\n",
       "      <td>0.617200</td>\n",
       "      <td>0.571359</td>\n",
       "      <td>0.680050</td>\n",
       "      <td>23</td>\n",
       "      <td>5</td>\n",
       "    </tr>\n",
       "    <tr>\n",
       "      <th>2</th>\n",
       "      <td>2</td>\n",
       "      <td>2016-04-03 01:18:07</td>\n",
       "      <td>2016-04-03 01:29:10</td>\n",
       "      <td>4.24</td>\n",
       "      <td>-73.968681</td>\n",
       "      <td>40.754639</td>\n",
       "      <td>-73.994118</td>\n",
       "      <td>40.709721</td>\n",
       "      <td>13.5</td>\n",
       "      <td>0.00</td>\n",
       "      <td>14.80</td>\n",
       "      <td>663</td>\n",
       "      <td>3.374803</td>\n",
       "      <td>1.256370</td>\n",
       "      <td>0.519684</td>\n",
       "      <td>0.602271</td>\n",
       "      <td>0.474166</td>\n",
       "      <td>0.521890</td>\n",
       "      <td>1</td>\n",
       "      <td>6</td>\n",
       "    </tr>\n",
       "    <tr>\n",
       "      <th>3</th>\n",
       "      <td>3</td>\n",
       "      <td>2016-04-27 15:16:36</td>\n",
       "      <td>2016-04-27 15:19:59</td>\n",
       "      <td>0.64</td>\n",
       "      <td>-73.963608</td>\n",
       "      <td>40.777000</td>\n",
       "      <td>-73.972328</td>\n",
       "      <td>40.782280</td>\n",
       "      <td>4.5</td>\n",
       "      <td>0.00</td>\n",
       "      <td>5.30</td>\n",
       "      <td>203</td>\n",
       "      <td>0.584758</td>\n",
       "      <td>1.094470</td>\n",
       "      <td>0.528763</td>\n",
       "      <td>0.642287</td>\n",
       "      <td>0.513158</td>\n",
       "      <td>0.651734</td>\n",
       "      <td>15</td>\n",
       "      <td>2</td>\n",
       "    </tr>\n",
       "    <tr>\n",
       "      <th>4</th>\n",
       "      <td>4</td>\n",
       "      <td>2016-04-26 07:33:33</td>\n",
       "      <td>2016-04-26 07:57:27</td>\n",
       "      <td>5.90</td>\n",
       "      <td>-73.965652</td>\n",
       "      <td>40.754841</td>\n",
       "      <td>-73.990768</td>\n",
       "      <td>40.745171</td>\n",
       "      <td>21.5</td>\n",
       "      <td>4.46</td>\n",
       "      <td>26.76</td>\n",
       "      <td>1434</td>\n",
       "      <td>1.477279</td>\n",
       "      <td>3.993828</td>\n",
       "      <td>0.525104</td>\n",
       "      <td>0.602632</td>\n",
       "      <td>0.480159</td>\n",
       "      <td>0.585328</td>\n",
       "      <td>7</td>\n",
       "      <td>1</td>\n",
       "    </tr>\n",
       "  </tbody>\n",
       "</table>\n",
       "</div>"
      ],
      "text/plain": [
       "   original_index                pu_t                do_t  trip_dist  \\\n",
       "0               0 2016-04-16 15:32:19 2016-04-16 15:48:38       1.66   \n",
       "1               1 2016-04-23 22:55:51 2016-04-23 23:04:15       3.00   \n",
       "2               2 2016-04-03 01:18:07 2016-04-03 01:29:10       4.24   \n",
       "3               3 2016-04-27 15:16:36 2016-04-27 15:19:59       0.64   \n",
       "4               4 2016-04-26 07:33:33 2016-04-26 07:57:27       5.90   \n",
       "\n",
       "      pu_lon     pu_lat     do_lon     do_lat  fare_amount  tip_amount  \\\n",
       "0 -73.989342  40.734261 -73.973190  40.749870         11.5        1.00   \n",
       "1 -73.967606  40.762981 -73.939804  40.798103         10.5        0.00   \n",
       "2 -73.968681  40.754639 -73.994118  40.709721         13.5        0.00   \n",
       "3 -73.963608  40.777000 -73.972328  40.782280          4.5        0.00   \n",
       "4 -73.965652  40.754841 -73.990768  40.745171         21.5        4.46   \n",
       "\n",
       "   total_amount  duration  vec_dist  trip_ratio  pu_lon_n  pu_lat_n  do_lon_n  \\\n",
       "0         13.30       979  1.370661    1.211095  0.482712  0.565804  0.511615   \n",
       "1         11.80       504  2.828417    1.060664  0.521609  0.617200  0.571359   \n",
       "2         14.80       663  3.374803    1.256370  0.519684  0.602271  0.474166   \n",
       "3          5.30       203  0.584758    1.094470  0.528763  0.642287  0.513158   \n",
       "4         26.76      1434  1.477279    3.993828  0.525104  0.602632  0.480159   \n",
       "\n",
       "   do_lat_n  avg_hour  week_day  \n",
       "0  0.593738        15         5  \n",
       "1  0.680050        23         5  \n",
       "2  0.521890         1         6  \n",
       "3  0.651734        15         2  \n",
       "4  0.585328         7         1  "
      ]
     },
     "execution_count": 25,
     "metadata": {},
     "output_type": "execute_result"
    }
   ],
   "source": [
    "df.head()"
   ]
  },
  {
   "cell_type": "code",
   "execution_count": 27,
   "metadata": {},
   "outputs": [
    {
     "data": {
      "text/html": [
       "<div>\n",
       "<style scoped>\n",
       "    .dataframe tbody tr th:only-of-type {\n",
       "        vertical-align: middle;\n",
       "    }\n",
       "\n",
       "    .dataframe tbody tr th {\n",
       "        vertical-align: top;\n",
       "    }\n",
       "\n",
       "    .dataframe thead th {\n",
       "        text-align: right;\n",
       "    }\n",
       "</style>\n",
       "<table border=\"1\" class=\"dataframe\">\n",
       "  <thead>\n",
       "    <tr style=\"text-align: right;\">\n",
       "      <th></th>\n",
       "      <th>original_index</th>\n",
       "      <th>pu_t</th>\n",
       "      <th>do_t</th>\n",
       "      <th>trip_dist</th>\n",
       "      <th>pu_lon</th>\n",
       "      <th>pu_lat</th>\n",
       "      <th>do_lon</th>\n",
       "      <th>do_lat</th>\n",
       "      <th>fare_amount</th>\n",
       "      <th>tip_amount</th>\n",
       "      <th>total_amount</th>\n",
       "      <th>duration</th>\n",
       "      <th>vec_dist</th>\n",
       "      <th>trip_ratio</th>\n",
       "      <th>pu_lon_n</th>\n",
       "      <th>pu_lat_n</th>\n",
       "      <th>do_lon_n</th>\n",
       "      <th>do_lat_n</th>\n",
       "      <th>avg_hour</th>\n",
       "      <th>week_day</th>\n",
       "    </tr>\n",
       "  </thead>\n",
       "  <tbody>\n",
       "    <tr>\n",
       "      <th>0</th>\n",
       "      <td>0</td>\n",
       "      <td>2016-04-16 15:32:19</td>\n",
       "      <td>2016-04-16 15:48:38</td>\n",
       "      <td>1.66</td>\n",
       "      <td>-73.989342</td>\n",
       "      <td>40.734261</td>\n",
       "      <td>-73.973190</td>\n",
       "      <td>40.749870</td>\n",
       "      <td>11.5</td>\n",
       "      <td>1.00</td>\n",
       "      <td>13.30</td>\n",
       "      <td>979</td>\n",
       "      <td>1.370661</td>\n",
       "      <td>1.211095</td>\n",
       "      <td>0.482712</td>\n",
       "      <td>0.565804</td>\n",
       "      <td>0.511615</td>\n",
       "      <td>0.593738</td>\n",
       "      <td>15</td>\n",
       "      <td>5</td>\n",
       "    </tr>\n",
       "    <tr>\n",
       "      <th>1</th>\n",
       "      <td>1</td>\n",
       "      <td>2016-04-23 22:55:51</td>\n",
       "      <td>2016-04-23 23:04:15</td>\n",
       "      <td>3.00</td>\n",
       "      <td>-73.967606</td>\n",
       "      <td>40.762981</td>\n",
       "      <td>-73.939804</td>\n",
       "      <td>40.798103</td>\n",
       "      <td>10.5</td>\n",
       "      <td>0.00</td>\n",
       "      <td>11.80</td>\n",
       "      <td>504</td>\n",
       "      <td>2.828417</td>\n",
       "      <td>1.060664</td>\n",
       "      <td>0.521609</td>\n",
       "      <td>0.617200</td>\n",
       "      <td>0.571359</td>\n",
       "      <td>0.680050</td>\n",
       "      <td>23</td>\n",
       "      <td>5</td>\n",
       "    </tr>\n",
       "    <tr>\n",
       "      <th>2</th>\n",
       "      <td>2</td>\n",
       "      <td>2016-04-03 01:18:07</td>\n",
       "      <td>2016-04-03 01:29:10</td>\n",
       "      <td>4.24</td>\n",
       "      <td>-73.968681</td>\n",
       "      <td>40.754639</td>\n",
       "      <td>-73.994118</td>\n",
       "      <td>40.709721</td>\n",
       "      <td>13.5</td>\n",
       "      <td>0.00</td>\n",
       "      <td>14.80</td>\n",
       "      <td>663</td>\n",
       "      <td>3.374803</td>\n",
       "      <td>1.256370</td>\n",
       "      <td>0.519684</td>\n",
       "      <td>0.602271</td>\n",
       "      <td>0.474166</td>\n",
       "      <td>0.521890</td>\n",
       "      <td>1</td>\n",
       "      <td>6</td>\n",
       "    </tr>\n",
       "    <tr>\n",
       "      <th>3</th>\n",
       "      <td>3</td>\n",
       "      <td>2016-04-27 15:16:36</td>\n",
       "      <td>2016-04-27 15:19:59</td>\n",
       "      <td>0.64</td>\n",
       "      <td>-73.963608</td>\n",
       "      <td>40.777000</td>\n",
       "      <td>-73.972328</td>\n",
       "      <td>40.782280</td>\n",
       "      <td>4.5</td>\n",
       "      <td>0.00</td>\n",
       "      <td>5.30</td>\n",
       "      <td>203</td>\n",
       "      <td>0.584758</td>\n",
       "      <td>1.094470</td>\n",
       "      <td>0.528763</td>\n",
       "      <td>0.642287</td>\n",
       "      <td>0.513158</td>\n",
       "      <td>0.651734</td>\n",
       "      <td>15</td>\n",
       "      <td>2</td>\n",
       "    </tr>\n",
       "    <tr>\n",
       "      <th>4</th>\n",
       "      <td>4</td>\n",
       "      <td>2016-04-26 07:33:33</td>\n",
       "      <td>2016-04-26 07:57:27</td>\n",
       "      <td>5.90</td>\n",
       "      <td>-73.965652</td>\n",
       "      <td>40.754841</td>\n",
       "      <td>-73.990768</td>\n",
       "      <td>40.745171</td>\n",
       "      <td>21.5</td>\n",
       "      <td>4.46</td>\n",
       "      <td>26.76</td>\n",
       "      <td>1434</td>\n",
       "      <td>1.477279</td>\n",
       "      <td>3.993828</td>\n",
       "      <td>0.525104</td>\n",
       "      <td>0.602632</td>\n",
       "      <td>0.480159</td>\n",
       "      <td>0.585328</td>\n",
       "      <td>7</td>\n",
       "      <td>1</td>\n",
       "    </tr>\n",
       "  </tbody>\n",
       "</table>\n",
       "</div>"
      ],
      "text/plain": [
       "   original_index                pu_t                do_t  trip_dist  \\\n",
       "0               0 2016-04-16 15:32:19 2016-04-16 15:48:38       1.66   \n",
       "1               1 2016-04-23 22:55:51 2016-04-23 23:04:15       3.00   \n",
       "2               2 2016-04-03 01:18:07 2016-04-03 01:29:10       4.24   \n",
       "3               3 2016-04-27 15:16:36 2016-04-27 15:19:59       0.64   \n",
       "4               4 2016-04-26 07:33:33 2016-04-26 07:57:27       5.90   \n",
       "\n",
       "      pu_lon     pu_lat     do_lon     do_lat  fare_amount  tip_amount  \\\n",
       "0 -73.989342  40.734261 -73.973190  40.749870         11.5        1.00   \n",
       "1 -73.967606  40.762981 -73.939804  40.798103         10.5        0.00   \n",
       "2 -73.968681  40.754639 -73.994118  40.709721         13.5        0.00   \n",
       "3 -73.963608  40.777000 -73.972328  40.782280          4.5        0.00   \n",
       "4 -73.965652  40.754841 -73.990768  40.745171         21.5        4.46   \n",
       "\n",
       "   total_amount  duration  vec_dist  trip_ratio  pu_lon_n  pu_lat_n  do_lon_n  \\\n",
       "0         13.30       979  1.370661    1.211095  0.482712  0.565804  0.511615   \n",
       "1         11.80       504  2.828417    1.060664  0.521609  0.617200  0.571359   \n",
       "2         14.80       663  3.374803    1.256370  0.519684  0.602271  0.474166   \n",
       "3          5.30       203  0.584758    1.094470  0.528763  0.642287  0.513158   \n",
       "4         26.76      1434  1.477279    3.993828  0.525104  0.602632  0.480159   \n",
       "\n",
       "   do_lat_n  avg_hour  week_day  \n",
       "0  0.593738        15         5  \n",
       "1  0.680050        23         5  \n",
       "2  0.521890         1         6  \n",
       "3  0.651734        15         2  \n",
       "4  0.585328         7         1  "
      ]
     },
     "execution_count": 27,
     "metadata": {},
     "output_type": "execute_result"
    }
   ],
   "source": [
    "df.head()"
   ]
  },
  {
   "cell_type": "code",
   "execution_count": 28,
   "metadata": {},
   "outputs": [],
   "source": [
    "#df['trip_hour'] = df.apply(lambda s: pd.Timestamp(np.mean((s.pu_t.value, s.do_t.value))).hour, axis = 1)"
   ]
  },
  {
   "cell_type": "code",
   "execution_count": 29,
   "metadata": {},
   "outputs": [],
   "source": [
    "# Monday == 0 … Sunday == 6\n",
    "#df['week_day'] = df.apply(lambda s: pd.Timestamp(np.mean((s.pu_t.value, s.do_t.value))).weekday(), axis = 1)"
   ]
  },
  {
   "cell_type": "code",
   "execution_count": 36,
   "metadata": {},
   "outputs": [
    {
     "data": {
      "image/png": "[encoded data removed]",
      "text/plain": [
       "<Figure size 432x288 with 1 Axes>"
      ]
     },
     "metadata": {
      "needs_background": "light"
     },
     "output_type": "display_data"
    }
   ],
   "source": [
    "fig = plt.figure()\n",
    "a1 = fig.gca()"
   ]
  },
  {
   "cell_type": "code",
   "execution_count": 41,
   "metadata": {},
   "outputs": [
    {
     "data": {
      "image/png": "[encoded data removed]",
      "text/plain": [
       "<Figure size 432x288 with 1 Axes>"
      ]
     },
     "metadata": {
      "needs_background": "light"
     },
     "output_type": "display_data"
    }
   ],
   "source": []
  },
  {
   "cell_type": "code",
   "execution_count": 114,
   "metadata": {},
   "outputs": [
    {
     "data": {
      "image/png": "[encoded data removed]",
      "text/plain": [
       "<Figure size 576x576 with 2 Axes>"
      ]
     },
     "metadata": {
      "needs_background": "light"
     },
     "output_type": "display_data"
    }
   ],
   "source": [
    "day = ['MON','TUE','WED','THU','FRI','SAT','SUN']\n",
    "group = ['Weekday', 'Weekend']\n",
    "bins = []\n",
    "\n",
    "fig = plt.figure()\n",
    "ax1 = fig.gca()\n",
    "for d in range(7):\n",
    "    y,x,_ = ax1.hist(df[df.week_day == d].avg_hour, bins=24, density=True)\n",
    "    bins.append(y)\n",
    "plt.close()\n",
    "\n",
    "grouped_bins = [\\\n",
    "    np.mean(np.array(bins[:5]), axis=0),\n",
    "    np.mean(np.array(bins[5:]), axis=0)]\n",
    "\n",
    "fig = plt.figure(figsize=(8,8))\n",
    "x = np.arange(24)\n",
    "max_y = 0.08\n",
    "plt.ylim((0,max_y))\n",
    "\n",
    "ax0 = None\n",
    "for d in range(0,2):\n",
    "    ax1 = plt.subplot(7,1,d+1, sharex = ax0)\n",
    "    bars = ax1.bar(x, grouped_bins[d], width=0.85)\n",
    "    plt.ylim((0,max_y))\n",
    "    ax1.yaxis.set_visible(True)\n",
    "    ax1.set_yticklabels([])\n",
    "    ax1.set_ylabel(group[d])\n",
    "    ax1.tick_params(axis='y', left=False)\n",
    "    if d == 0:\n",
    "        ax0 = ax1\n",
    "    if d > 0:\n",
    "        [bar.set_color('#6bb29e') for bar in bars]\n",
    "\n",
    "fig.suptitle('Average distribution of trips for weekdays and weekends') # or plt.suptitle('Main title')\n",
    "\n",
    "fig.tight_layout()\n",
    "fig.subplots_adjust(top=0.94, bottom = 0.08)\n",
    "\n",
    "ax1.xaxis.set_ticks(np.arange(0,24,3))\n",
    "plt.xlabel('The hours of a day')\n",
    "plt.xlim((-0.6 + 0, 23 + 0.6))\n",
    "plt.subplots_adjust(hspace=.0)\n",
    "\n",
    "plt.savefig('../figures/trip_weekday_weekend_distrib.png', dpi=500);    \n",
    "plt.show()"
   ]
  },
  {
   "cell_type": "code",
   "execution_count": null,
   "metadata": {},
   "outputs": [],
   "source": []
  },
  {
   "cell_type": "code",
   "execution_count": 77,
   "metadata": {},
   "outputs": [
    {
     "data": {
      "image/png": "[encoded data removed]",
      "text/plain": [
       "<Figure size 648x504 with 2 Axes>"
      ]
     },
     "metadata": {
      "needs_background": "light"
     },
     "output_type": "display_data"
    }
   ],
   "source": [
    "fig = plt.figure(figsize=(9,7))\n",
    "x = np.arange(24)\n",
    "max_y = 0.08\n",
    "plt.ylim((0,max_y))\n",
    "\n",
    "ax0 = None\n",
    "for d in range(0,7):\n",
    "    ax1 = plt.subplot(7,1,d+1, sharex = ax0)\n",
    "    bars = ax1.bar(x, bins[d], width=.9)\n",
    "    plt.ylim((0,max_y))\n",
    "    ax1.yaxis.set_visible(True)\n",
    "    ax1.set_yticklabels([])\n",
    "    ax1.set_ylabel(day[d])\n",
    "    ax1.tick_params(axis='y', left=False)\n",
    "    if d == 0:\n",
    "        ax0 = ax1\n",
    "    if d > 4:\n",
    "        [bar.set_color('#6bb29e') for bar in bars]\n",
    "\n",
    "fig.suptitle('Distribution of trips per hour-of-day per day-of-week') # or plt.suptitle('Main title')\n",
    "\n",
    "fig.tight_layout()\n",
    "fig.subplots_adjust(top=0.94, bottom = 0.08)\n",
    "\n",
    "ax1.xaxis.set_ticks(np.arange(0,24,3))\n",
    "plt.xlabel('The hours of a day')\n",
    "plt.xlim((-.5,23.5))\n",
    "plt.subplots_adjust(hspace=.0)\n",
    "\n",
    "#plt.savefig('../figures/trip_per_day_distribution.png', dpi=500);    \n",
    "plt.show()"
   ]
  },
  {
   "cell_type": "code",
   "execution_count": 69,
   "metadata": {},
   "outputs": [
    {
     "data": {
      "text/plain": [
       "[array([0.03177512, 0.01916265, 0.0120879 , 0.00791079, 0.00745522,\n",
       "        0.01062102, 0.02708727, 0.04722288, 0.05668697, 0.05351783,\n",
       "        0.04772608, 0.04748302, 0.04980011, 0.04908032, 0.05274052,\n",
       "        0.05197516, 0.04426328, 0.05253147, 0.06590691, 0.06746381,\n",
       "        0.06431542, 0.06398847, 0.06074528, 0.05193076]),\n",
       " array([0.05938694, 0.05155252, 0.04294346, 0.03246617, 0.02207433,\n",
       "        0.01018817, 0.01168208, 0.01636389, 0.02495575, 0.03592709,\n",
       "        0.04540317, 0.05171955, 0.05557299, 0.05629898, 0.05510413,\n",
       "        0.05273489, 0.04928155, 0.0524236 , 0.05840642, 0.0583507 ,\n",
       "        0.05205666, 0.04974472, 0.05041706, 0.04842345])]"
      ]
     },
     "execution_count": 69,
     "metadata": {},
     "output_type": "execute_result"
    }
   ],
   "source": []
  },
  {
   "cell_type": "code",
   "execution_count": 61,
   "metadata": {},
   "outputs": [
    {
     "name": "stdout",
     "output_type": "stream",
     "text": [
      "[0.02657044 0.01646748 0.01040001 0.00713401 0.00753456 0.01121375\n",
      " 0.02729727 0.0456079  0.05498877 0.05284145 0.04701179 0.04782947\n",
      " 0.05059143 0.05075734 0.05557418 0.05740943 0.05167615 0.06068175\n",
      " 0.07113233 0.06777073 0.06318221 0.06202086 0.05521867 0.04256626]\n",
      "[0.02542715 0.01424367 0.00880215 0.00559317 0.00577344 0.01050392\n",
      " 0.02838934 0.05006315 0.05970653 0.05599968 0.04947229 0.04847798\n",
      " 0.05035501 0.04949232 0.05367915 0.05407973 0.04645502 0.05462195\n",
      " 0.06852155 0.06762667 0.0650293  0.06500355 0.05983099 0.04633055]\n",
      "[0.02979434 0.01668781 0.01020314 0.00662269 0.0065647  0.00983317\n",
      " 0.02712534 0.04929326 0.0584894  0.05453489 0.04825686 0.04838835\n",
      " 0.05031415 0.04933164 0.05249639 0.05050199 0.04207601 0.05001523\n",
      " 0.0646433  0.06767165 0.06699297 0.06753526 0.06369673 0.052409  ]\n",
      "[0.0330315  0.01962713 0.01208643 0.0077088  0.00704035 0.01050805\n",
      " 0.02682453 0.04709722 0.056442   0.05289618 0.04743026 0.04665606\n",
      " 0.04951766 0.04975126 0.05209515 0.04988937 0.04061877 0.04908203\n",
      " 0.06326296 0.06717419 0.06615692 0.06669436 0.06398902 0.05789806]\n",
      "[0.04405214 0.02878717 0.01894777 0.01249526 0.01036303 0.01104622\n",
      " 0.02579989 0.04405287 0.05380815 0.05131693 0.04645923 0.04606325\n",
      " 0.0482223  0.04606905 0.04985773 0.0479953  0.04049046 0.04825639\n",
      " 0.06197441 0.06707579 0.06021569 0.05868832 0.06099098 0.06044994]\n"
     ]
    }
   ],
   "source": [
    "# week day\n",
    "\n",
    "\n",
    "\n",
    "for i in range(5):\n",
    "    print(bins[i])"
   ]
  },
  {
   "cell_type": "code",
   "execution_count": null,
   "metadata": {},
   "outputs": [],
   "source": []
  }
 ],
 "metadata": {
  "kernelspec": {
   "display_name": "Python 3",
   "language": "python",
   "name": "python3"
  },
  "language_info": {
   "codemirror_mode": {
    "name": "ipython",
    "version": 3
   },
   "file_extension": ".py",
   "mimetype": "text/x-python",
   "name": "python",
   "nbconvert_exporter": "python",
   "pygments_lexer": "ipython3",
   "version": "3.6.8"
  }
 },
 "nbformat": 4,
 "nbformat_minor": 2
}
