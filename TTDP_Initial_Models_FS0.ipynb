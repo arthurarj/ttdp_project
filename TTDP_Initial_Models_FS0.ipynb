{
 "cells": [
  {
   "cell_type": "code",
   "execution_count": 1,
   "metadata": {},
   "outputs": [],
   "source": [
    "# Basics\n",
    "import pickle as pkl\n",
    "import pandas as pd\n",
    "import numpy as np\n",
    "import matplotlib.pyplot as plt\n",
    "\n",
    "# Preprocessing\n",
    "from scipy import stats\n",
    "from sklearn import preprocessing\n",
    "from sklearn.model_selection import train_test_split\n",
    "\n",
    "# Models\n",
    "from sklearn import svm\n",
    "from sklearn.ensemble import RandomForestRegressor\n",
    "from sklearn.neural_network import MLPRegressor\n",
    "import xgboost as xgb\n",
    "\n",
    "# Misc\n",
    "import sys\n",
    "from IPython.display import clear_output\n",
    "\n",
    "%run utils/utils_metrics.py"
   ]
  },
  {
   "cell_type": "markdown",
   "metadata": {},
   "source": [
    "### 1. Load data"
   ]
  },
  {
   "cell_type": "code",
   "execution_count": 2,
   "metadata": {},
   "outputs": [
    {
     "name": "stdout",
     "output_type": "stream",
     "text": [
      "Data shape: (48605, 10)\n"
     ]
    },
    {
     "data": {
      "text/html": [
       "<div>\n",
       "<style scoped>\n",
       "    .dataframe tbody tr th:only-of-type {\n",
       "        vertical-align: middle;\n",
       "    }\n",
       "\n",
       "    .dataframe tbody tr th {\n",
       "        vertical-align: top;\n",
       "    }\n",
       "\n",
       "    .dataframe thead th {\n",
       "        text-align: right;\n",
       "    }\n",
       "</style>\n",
       "<table border=\"1\" class=\"dataframe\">\n",
       "  <thead>\n",
       "    <tr style=\"text-align: right;\">\n",
       "      <th></th>\n",
       "      <th>pu_t</th>\n",
       "      <th>do_t</th>\n",
       "      <th>trip_dist</th>\n",
       "      <th>pu_lon</th>\n",
       "      <th>pu_lat</th>\n",
       "      <th>do_lon</th>\n",
       "      <th>do_lat</th>\n",
       "      <th>duration</th>\n",
       "      <th>vec_dist</th>\n",
       "      <th>trip_ratio</th>\n",
       "    </tr>\n",
       "  </thead>\n",
       "  <tbody>\n",
       "    <tr>\n",
       "      <th>0</th>\n",
       "      <td>2016-02-16 19:56:06</td>\n",
       "      <td>2016-02-16 20:10:46</td>\n",
       "      <td>8.53</td>\n",
       "      <td>-73.995750</td>\n",
       "      <td>40.764488</td>\n",
       "      <td>-73.926292</td>\n",
       "      <td>40.867458</td>\n",
       "      <td>880</td>\n",
       "      <td>7.983998</td>\n",
       "      <td>1.068387</td>\n",
       "    </tr>\n",
       "    <tr>\n",
       "      <th>1</th>\n",
       "      <td>2016-02-11 10:23:41</td>\n",
       "      <td>2016-02-11 10:45:04</td>\n",
       "      <td>1.95</td>\n",
       "      <td>-73.994110</td>\n",
       "      <td>40.751068</td>\n",
       "      <td>-73.993401</td>\n",
       "      <td>40.736019</td>\n",
       "      <td>1283</td>\n",
       "      <td>1.039087</td>\n",
       "      <td>1.876648</td>\n",
       "    </tr>\n",
       "    <tr>\n",
       "      <th>2</th>\n",
       "      <td>2016-02-21 14:21:57</td>\n",
       "      <td>2016-02-21 14:30:07</td>\n",
       "      <td>0.50</td>\n",
       "      <td>-73.973160</td>\n",
       "      <td>40.752728</td>\n",
       "      <td>-73.982178</td>\n",
       "      <td>40.756962</td>\n",
       "      <td>490</td>\n",
       "      <td>0.556130</td>\n",
       "      <td>0.899070</td>\n",
       "    </tr>\n",
       "    <tr>\n",
       "      <th>3</th>\n",
       "      <td>2016-02-11 22:51:59</td>\n",
       "      <td>2016-02-11 22:57:41</td>\n",
       "      <td>1.30</td>\n",
       "      <td>-73.991280</td>\n",
       "      <td>40.744808</td>\n",
       "      <td>-73.985909</td>\n",
       "      <td>40.731178</td>\n",
       "      <td>342</td>\n",
       "      <td>0.981839</td>\n",
       "      <td>1.324045</td>\n",
       "    </tr>\n",
       "    <tr>\n",
       "      <th>4</th>\n",
       "      <td>2016-02-13 18:32:08</td>\n",
       "      <td>2016-02-13 18:43:51</td>\n",
       "      <td>1.50</td>\n",
       "      <td>-73.992897</td>\n",
       "      <td>40.741280</td>\n",
       "      <td>-73.975967</td>\n",
       "      <td>40.748734</td>\n",
       "      <td>703</td>\n",
       "      <td>1.026608</td>\n",
       "      <td>1.461123</td>\n",
       "    </tr>\n",
       "  </tbody>\n",
       "</table>\n",
       "</div>"
      ],
      "text/plain": [
       "                 pu_t                do_t  trip_dist     pu_lon     pu_lat  \\\n",
       "0 2016-02-16 19:56:06 2016-02-16 20:10:46       8.53 -73.995750  40.764488   \n",
       "1 2016-02-11 10:23:41 2016-02-11 10:45:04       1.95 -73.994110  40.751068   \n",
       "2 2016-02-21 14:21:57 2016-02-21 14:30:07       0.50 -73.973160  40.752728   \n",
       "3 2016-02-11 22:51:59 2016-02-11 22:57:41       1.30 -73.991280  40.744808   \n",
       "4 2016-02-13 18:32:08 2016-02-13 18:43:51       1.50 -73.992897  40.741280   \n",
       "\n",
       "      do_lon     do_lat  duration  vec_dist  trip_ratio  \n",
       "0 -73.926292  40.867458       880  7.983998    1.068387  \n",
       "1 -73.993401  40.736019      1283  1.039087    1.876648  \n",
       "2 -73.982178  40.756962       490  0.556130    0.899070  \n",
       "3 -73.985909  40.731178       342  0.981839    1.324045  \n",
       "4 -73.975967  40.748734       703  1.026608    1.461123  "
      ]
     },
     "execution_count": 2,
     "metadata": {},
     "output_type": "execute_result"
    }
   ],
   "source": [
    "n_chunks = 1\n",
    "chunks = [pkl.load(open('../data/bin_chunks/ttd_chunk_{0}.pkl'.format(i), 'rb')) for i in range(1, n_chunks + 1)]\n",
    "dataset = pd.concat(chunks)\n",
    "print(\"Data shape:\", dataset.shape)\n",
    "dataset.head()"
   ]
  },
  {
   "cell_type": "markdown",
   "metadata": {},
   "source": [
    "### 2. Preprocessing"
   ]
  },
  {
   "cell_type": "code",
   "execution_count": 3,
   "metadata": {},
   "outputs": [],
   "source": [
    "lat_data = np.array(pd.concat((dataset.pu_lat, dataset.do_lat))).reshape(-1,1)\n",
    "lon_data = np.array(pd.concat((dataset.pu_lon, dataset.do_lon))).reshape(-1,1)\n",
    "dur_data = np.array(dataset.duration.astype(float)).reshape(-1,1)\n",
    "    \n",
    "scaler_type = 'StandardScaler' # Other options: MinMaxScaler\n",
    "lat_scaler = getattr(preprocessing, scaler_type)()\n",
    "lon_scaler = getattr(preprocessing, scaler_type)()\n",
    "out_scaler = getattr(preprocessing, scaler_type)()\n",
    "\n",
    "lat_scaler.fit(lat_data);\n",
    "lon_scaler.fit(lon_data);\n",
    "out_scaler.fit(dur_data);\n",
    "\n",
    "X = np.hstack((lat_scaler.transform(dataset[['pu_lat','do_lat',]]),\n",
    "               lon_scaler.transform(dataset[['pu_lon','do_lon',]])))\n",
    "y = out_scaler.transform(dur_data)"
   ]
  },
  {
   "cell_type": "markdown",
   "metadata": {},
   "source": [
    "#### Quick look at inputs and output"
   ]
  },
  {
   "cell_type": "code",
   "execution_count": 4,
   "metadata": {},
   "outputs": [
    {
     "data": {
      "image/png": "[encoded data removed]",
      "text/plain": [
       "<Figure size 1152x360 with 5 Axes>"
      ]
     },
     "metadata": {},
     "output_type": "display_data"
    }
   ],
   "source": [
    "plt.figure(figsize=(16,5))\n",
    "titles = ['pu_lat', 'do_lat', 'pu_lon', 'do_lon', 'duration']\n",
    "for i in range(4):\n",
    "    plt.subplot(2,4,i+1)\n",
    "    plt.hist(X[:,i], bins='auto', log=True)\n",
    "    plt.title(titles[i])\n",
    "plt.subplot(2,4,5)\n",
    "plt.hist(y, bins='auto')\n",
    "plt.title(titles[4])\n",
    "plt.tight_layout()\n",
    "plt.show()"
   ]
  },
  {
   "cell_type": "markdown",
   "metadata": {},
   "source": [
    "### 3. Splitting data"
   ]
  },
  {
   "cell_type": "code",
   "execution_count": null,
   "metadata": {},
   "outputs": [],
   "source": [
    "X_train, X_test, y_train, y_test = train_test_split(X, y, test_size=0.3, random_state=42)\n",
    "\n",
    "test_size = len(y_test)\n",
    "train_size = len(y_train)\n",
    "\n",
    "y_test_denorm = out_scaler.inverse_transform(y_test)"
   ]
  },
  {
   "cell_type": "code",
   "execution_count": null,
   "metadata": {},
   "outputs": [],
   "source": [
    "# # Store splitted data\n",
    "pkl.dump(X_train, open('../splitted_data/fs0/x_train.dat', 'wb'))\n",
    "pkl.dump(y_train, open('../splitted_data/fs0/y_train.dat', 'wb'))\n",
    "pkl.dump(X_test, open('../splitted_data/fs0/x_test.dat', 'wb'))\n",
    "pkl.dump(y_test, open('../splitted_data/fs0/y_test.dat', 'wb'))"
   ]
  },
  {
   "cell_type": "code",
   "execution_count": 5,
   "metadata": {},
   "outputs": [],
   "source": [
    "# Read splitted data\n",
    "X_train = pkl.load(open('../splitted_data/fs0/x_train.dat', 'rb'))\n",
    "y_train = pkl.load(open('../splitted_data/fs0/y_train.dat', 'rb'))\n",
    "X_test = pkl.load(open('../splitted_data/fs0/x_test.dat', 'rb'))\n",
    "y_test = pkl.load(open('../splitted_data/fs0/y_test.dat', 'rb'))\n",
    "\n",
    "test_size = len(y_test)\n",
    "train_size = len(y_train)\n",
    "\n",
    "y_test_denorm = out_scaler.inverse_transform(y_test)"
   ]
  },
  {
   "cell_type": "markdown",
   "metadata": {},
   "source": [
    "### 4. SVM"
   ]
  },
  {
   "cell_type": "code",
   "execution_count": 6,
   "metadata": {},
   "outputs": [],
   "source": [
    "kernels = ['linear', 'poly', 'rbf']\n",
    "C_values = [0.1, 1, 10]"
   ]
  },
  {
   "cell_type": "markdown",
   "metadata": {},
   "source": [
    "#### 4.1 Training"
   ]
  },
  {
   "cell_type": "code",
   "execution_count": null,
   "metadata": {},
   "outputs": [],
   "source": [
    "for kern in kernels:\n",
    "    for C in C_values:\n",
    "        sys.stdout.write(\"\\rTraining SVM with kernel {0} and C = {1}\".format(kern,C))\n",
    "        svm_reg = svm.SVR(kernel=kern, gamma='auto', C=C)\n",
    "        svm_reg.fit(X_train, y_train.ravel())\n",
    "        pkl.dump(svm_reg, open('../init_models/svms/fs0/svm_reg_{0}_{1}.mdl'.format(kern,C), 'wb'))\n",
    "        sys.stdout.flush()\n",
    "        clear_output()\n",
    "sys.stdout.write(\"Done.\")        "
   ]
  },
  {
   "cell_type": "markdown",
   "metadata": {},
   "source": [
    "#### 4.2 Testing"
   ]
  },
  {
   "cell_type": "code",
   "execution_count": 10,
   "metadata": {},
   "outputs": [
    {
     "name": "stdout",
     "output_type": "stream",
     "text": [
      "Done."
     ]
    }
   ],
   "source": [
    "y_pred_svm = []\n",
    "for kern in kernels:\n",
    "    for C in C_values:\n",
    "        print(\"Running tests on SVM with kernel {0} and C = {1}\".format(kern,C))\n",
    "        svm_reg = pkl.load(open('../init_models/svms/fs0/svm_reg_{0}_{1}.mdl'.format(kern,C), 'rb'))\n",
    "        y_pred_svm.append(svm_reg.predict(X_test))\n",
    "        sys.stdout.flush()\n",
    "        clear_output()\n",
    "sys.stdout.write(\"Done.\")        "
   ]
  },
  {
   "cell_type": "markdown",
   "metadata": {},
   "source": [
    "#### Denormalize predicited data"
   ]
  },
  {
   "cell_type": "code",
   "execution_count": 11,
   "metadata": {},
   "outputs": [],
   "source": [
    "y_pred_svm_denorm = out_scaler.inverse_transform(y_pred_svm)\n",
    "\n",
    "# Set all negative outputs to zero (we're predicting time)\n",
    "y_pred_svm_denorm[y_pred_svm_denorm < 0] = 0\n",
    "\n",
    "# Transform back again\n",
    "y_pred_svm = out_scaler.transform(y_pred_svm_denorm)"
   ]
  },
  {
   "cell_type": "markdown",
   "metadata": {},
   "source": [
    "#### 4.3 Metrics"
   ]
  },
  {
   "cell_type": "code",
   "execution_count": 25,
   "metadata": {},
   "outputs": [
    {
     "data": {
      "text/html": [
       "<div>\n",
       "<style scoped>\n",
       "    .dataframe tbody tr th:only-of-type {\n",
       "        vertical-align: middle;\n",
       "    }\n",
       "\n",
       "    .dataframe tbody tr th {\n",
       "        vertical-align: top;\n",
       "    }\n",
       "\n",
       "    .dataframe thead th {\n",
       "        text-align: right;\n",
       "    }\n",
       "</style>\n",
       "<table border=\"1\" class=\"dataframe\">\n",
       "  <thead>\n",
       "    <tr style=\"text-align: right;\">\n",
       "      <th></th>\n",
       "      <th></th>\n",
       "      <th>Exp. Var.</th>\n",
       "      <th>R2</th>\n",
       "      <th>MSE</th>\n",
       "      <th>RMSE</th>\n",
       "      <th>nMSE</th>\n",
       "      <th>nRMSE</th>\n",
       "      <th>MSLE</th>\n",
       "      <th>RMSLE</th>\n",
       "    </tr>\n",
       "    <tr>\n",
       "      <th>Kernel</th>\n",
       "      <th>C</th>\n",
       "      <th></th>\n",
       "      <th></th>\n",
       "      <th></th>\n",
       "      <th></th>\n",
       "      <th></th>\n",
       "      <th></th>\n",
       "      <th></th>\n",
       "      <th></th>\n",
       "    </tr>\n",
       "  </thead>\n",
       "  <tbody>\n",
       "    <tr>\n",
       "      <th rowspan=\"3\" valign=\"top\">linear</th>\n",
       "      <th>0.1</th>\n",
       "      <td>0.196927</td>\n",
       "      <td>0.171032</td>\n",
       "      <td>279541.417587</td>\n",
       "      <td>528.716765</td>\n",
       "      <td>0.811739</td>\n",
       "      <td>0.900966</td>\n",
       "      <td>0.546432</td>\n",
       "      <td>0.739210</td>\n",
       "    </tr>\n",
       "    <tr>\n",
       "      <th>1.0</th>\n",
       "      <td>0.196874</td>\n",
       "      <td>0.171053</td>\n",
       "      <td>279534.302127</td>\n",
       "      <td>528.710036</td>\n",
       "      <td>0.811719</td>\n",
       "      <td>0.900954</td>\n",
       "      <td>0.546551</td>\n",
       "      <td>0.739291</td>\n",
       "    </tr>\n",
       "    <tr>\n",
       "      <th>10.0</th>\n",
       "      <td>0.196932</td>\n",
       "      <td>0.171063</td>\n",
       "      <td>279531.057536</td>\n",
       "      <td>528.706968</td>\n",
       "      <td>0.811709</td>\n",
       "      <td>0.900949</td>\n",
       "      <td>0.546441</td>\n",
       "      <td>0.739217</td>\n",
       "    </tr>\n",
       "    <tr>\n",
       "      <th rowspan=\"3\" valign=\"top\">poly</th>\n",
       "      <th>0.1</th>\n",
       "      <td>0.295725</td>\n",
       "      <td>0.263299</td>\n",
       "      <td>248427.446267</td>\n",
       "      <td>498.424966</td>\n",
       "      <td>0.721390</td>\n",
       "      <td>0.849347</td>\n",
       "      <td>0.612487</td>\n",
       "      <td>0.782616</td>\n",
       "    </tr>\n",
       "    <tr>\n",
       "      <th>1.0</th>\n",
       "      <td>0.295649</td>\n",
       "      <td>0.263252</td>\n",
       "      <td>248443.169233</td>\n",
       "      <td>498.440738</td>\n",
       "      <td>0.721436</td>\n",
       "      <td>0.849374</td>\n",
       "      <td>0.612975</td>\n",
       "      <td>0.782927</td>\n",
       "    </tr>\n",
       "    <tr>\n",
       "      <th>10.0</th>\n",
       "      <td>0.295680</td>\n",
       "      <td>0.263246</td>\n",
       "      <td>248445.468417</td>\n",
       "      <td>498.443044</td>\n",
       "      <td>0.721442</td>\n",
       "      <td>0.849378</td>\n",
       "      <td>0.612947</td>\n",
       "      <td>0.782909</td>\n",
       "    </tr>\n",
       "    <tr>\n",
       "      <th rowspan=\"3\" valign=\"top\">rbf</th>\n",
       "      <th>0.1</th>\n",
       "      <td>0.678967</td>\n",
       "      <td>0.670438</td>\n",
       "      <td>111133.534751</td>\n",
       "      <td>333.366967</td>\n",
       "      <td>0.322712</td>\n",
       "      <td>0.568078</td>\n",
       "      <td>0.179846</td>\n",
       "      <td>0.424083</td>\n",
       "    </tr>\n",
       "    <tr>\n",
       "      <th>1.0</th>\n",
       "      <td>0.693246</td>\n",
       "      <td>0.686591</td>\n",
       "      <td>105686.453951</td>\n",
       "      <td>325.094531</td>\n",
       "      <td>0.306895</td>\n",
       "      <td>0.553981</td>\n",
       "      <td>0.164408</td>\n",
       "      <td>0.405473</td>\n",
       "    </tr>\n",
       "    <tr>\n",
       "      <th>10.0</th>\n",
       "      <td>0.695185</td>\n",
       "      <td>0.689553</td>\n",
       "      <td>104687.838989</td>\n",
       "      <td>323.555001</td>\n",
       "      <td>0.303995</td>\n",
       "      <td>0.551358</td>\n",
       "      <td>0.164839</td>\n",
       "      <td>0.406004</td>\n",
       "    </tr>\n",
       "  </tbody>\n",
       "</table>\n",
       "</div>"
      ],
      "text/plain": [
       "             Exp. Var.        R2            MSE        RMSE      nMSE  \\\n",
       "Kernel C                                                                \n",
       "linear 0.1    0.196927  0.171032  279541.417587  528.716765  0.811739   \n",
       "       1.0    0.196874  0.171053  279534.302127  528.710036  0.811719   \n",
       "       10.0   0.196932  0.171063  279531.057536  528.706968  0.811709   \n",
       "poly   0.1    0.295725  0.263299  248427.446267  498.424966  0.721390   \n",
       "       1.0    0.295649  0.263252  248443.169233  498.440738  0.721436   \n",
       "       10.0   0.295680  0.263246  248445.468417  498.443044  0.721442   \n",
       "rbf    0.1    0.678967  0.670438  111133.534751  333.366967  0.322712   \n",
       "       1.0    0.693246  0.686591  105686.453951  325.094531  0.306895   \n",
       "       10.0   0.695185  0.689553  104687.838989  323.555001  0.303995   \n",
       "\n",
       "                nRMSE      MSLE     RMSLE  \n",
       "Kernel C                                   \n",
       "linear 0.1   0.900966  0.546432  0.739210  \n",
       "       1.0   0.900954  0.546551  0.739291  \n",
       "       10.0  0.900949  0.546441  0.739217  \n",
       "poly   0.1   0.849347  0.612487  0.782616  \n",
       "       1.0   0.849374  0.612975  0.782927  \n",
       "       10.0  0.849378  0.612947  0.782909  \n",
       "rbf    0.1   0.568078  0.179846  0.424083  \n",
       "       1.0   0.553981  0.164408  0.405473  \n",
       "       10.0  0.551358  0.164839  0.406004  "
      ]
     },
     "execution_count": 25,
     "metadata": {},
     "output_type": "execute_result"
    }
   ],
   "source": [
    "idx = pd.MultiIndex.from_tuples([(k,C) for k in ['linear','poly','rbf'] for C in [0.1, 1, 10]], names=['Kernel','C'])\n",
    "\n",
    "metrics_svm = compute_metrics(y_true = y_test, y_pred = y_pred_svm, \n",
    "                              y_true_denorm = y_test_denorm, y_pred_denorm = y_pred_svm_denorm, \n",
    "                              indices = idx)  \n",
    "metrics_svm"
   ]
  },
  {
   "cell_type": "code",
   "execution_count": 43,
   "metadata": {},
   "outputs": [
    {
     "data": {
      "image/png": "[encoded data removed]",
      "text/plain": [
       "<Figure size 576x576 with 9 Axes>"
      ]
     },
     "metadata": {},
     "output_type": "display_data"
    }
   ],
   "source": [
    "fig = plt.figure(figsize=(8,8))\n",
    "for i,kern in enumerate(kernels):\n",
    "    for j,C in enumerate(C_values):\n",
    "        plt.subplot(3, 3, j + 3*i + 1)\n",
    "        plt.scatter(y_test_denorm, y_pred_svm_denorm[j + 3*i], s = 1)\n",
    "        plt.plot((-1,3500),(-1,3500), '--', c='r')\n",
    "        plt.title('{0} (C={1})'.format(kern,C))\n",
    "        plt.xlim((-10,3500))\n",
    "        plt.ylim((-10,3500))\n",
    "plt.tight_layout()\n",
    "plt.show()"
   ]
  },
  {
   "cell_type": "markdown",
   "metadata": {},
   "source": [
    "#### 4.4 Evaluate accuracy agains range of tolerance for best SVM"
   ]
  },
  {
   "cell_type": "code",
   "execution_count": 49,
   "metadata": {},
   "outputs": [
    {
     "data": {
      "image/png": "[encoded data removed]",
      "text/plain": [
       "<Figure size 432x288 with 1 Axes>"
      ]
     },
     "metadata": {},
     "output_type": "display_data"
    }
   ],
   "source": [
    "y_pred_svm_best = y_pred_svm_denorm[8].reshape(-1,1)\n",
    "\n",
    "tolerance = np.arange(0.1,1,0.1)\n",
    "acc = [np.sum(np.isclose(y_pred_svm_best, y_test_denorm, rtol=tol))/test_size for tol in tolerance]\n",
    "\n",
    "plt.plot(tolerance, acc, c='k')\n",
    "plt.scatter(tolerance, acc, c='k')\n",
    "plt.ylabel('\"TP\" Rate')\n",
    "plt.xlabel('Percentual tolerance')\n",
    "plt.show()"
   ]
  },
  {
   "cell_type": "markdown",
   "metadata": {},
   "source": [
    "### 5. Random Forests"
   ]
  },
  {
   "cell_type": "code",
   "execution_count": 48,
   "metadata": {},
   "outputs": [],
   "source": [
    "forest_size = [50,100,150,200,250, 300]\n",
    "max_feats   = [2,3,4]"
   ]
  },
  {
   "cell_type": "markdown",
   "metadata": {},
   "source": [
    "#### 5.1 Training"
   ]
  },
  {
   "cell_type": "code",
   "execution_count": null,
   "metadata": {},
   "outputs": [],
   "source": [
    "for n_trees in forest_size:\n",
    "    for max_feat in max_feats:\n",
    "        sys.stdout.write(\"\\rTraining forest with {0} trees using maximum of {1} features\".format(n_trees, max_feat))\n",
    "        rf_reg = RandomForestRegressor(n_estimators=n_trees, max_features=max_feat, n_jobs=2)\n",
    "        rf_reg.fit(X_train, y_train.ravel())\n",
    "        pkl.dump(rf_reg, open('../init_models/fs0/random_forests/rf_reg_{0}_{1}.mdl'.format(n_trees,max_feat), 'wb'))\n",
    "        sys.stdout.flush()\n",
    "clear_output()\n",
    "sys.stdout.write(\"Done.\")        "
   ]
  },
  {
   "cell_type": "markdown",
   "metadata": {},
   "source": [
    "#### 5.2 Testing"
   ]
  },
  {
   "cell_type": "code",
   "execution_count": 51,
   "metadata": {},
   "outputs": [
    {
     "name": "stdout",
     "output_type": "stream",
     "text": [
      "Done."
     ]
    }
   ],
   "source": [
    "y_pred_rf = []\n",
    "for n_trees in forest_size:\n",
    "    for max_feat in max_feats:\n",
    "        sys.stdout.write(\"\\rTesting forest with {0} trees using maximum of {1} features\".format(n_trees, max_feat))\n",
    "        rf_reg = pkl.load(open('../init_models/fs0/random_forests/rf_reg_{0}_{1}.mdl'.format(n_trees,max_feat), 'rb'))\n",
    "        y_pred_rf.append(rf_reg.predict(X_test));\n",
    "        sys.stdout.flush()\n",
    "clear_output()\n",
    "sys.stdout.write(\"Done.\")        "
   ]
  },
  {
   "cell_type": "markdown",
   "metadata": {},
   "source": [
    "#### Denormalize predicited data"
   ]
  },
  {
   "cell_type": "code",
   "execution_count": 75,
   "metadata": {},
   "outputs": [],
   "source": [
    "y_pred_rf_denorm = out_scaler.inverse_transform(y_pred_rf)\n",
    "\n",
    "# Set all negative outputs to zero (we're predicting time)\n",
    "y_pred_rf_denorm[y_pred_rf_denorm < 0] = 0\n",
    "\n",
    "# Transform back again\n",
    "y_pred_rf = out_scaler.transform(y_pred_rf_denorm)"
   ]
  },
  {
   "cell_type": "markdown",
   "metadata": {},
   "source": [
    "#### 4.3 Metrics"
   ]
  },
  {
   "cell_type": "code",
   "execution_count": 78,
   "metadata": {},
   "outputs": [
    {
     "data": {
      "text/html": [
       "<div>\n",
       "<style scoped>\n",
       "    .dataframe tbody tr th:only-of-type {\n",
       "        vertical-align: middle;\n",
       "    }\n",
       "\n",
       "    .dataframe tbody tr th {\n",
       "        vertical-align: top;\n",
       "    }\n",
       "\n",
       "    .dataframe thead th {\n",
       "        text-align: right;\n",
       "    }\n",
       "</style>\n",
       "<table border=\"1\" class=\"dataframe\">\n",
       "  <thead>\n",
       "    <tr style=\"text-align: right;\">\n",
       "      <th></th>\n",
       "      <th></th>\n",
       "      <th>Exp. Var.</th>\n",
       "      <th>R2</th>\n",
       "      <th>MSE</th>\n",
       "      <th>RMSE</th>\n",
       "      <th>nMSE</th>\n",
       "      <th>nRMSE</th>\n",
       "      <th>MSLE</th>\n",
       "      <th>RMSLE</th>\n",
       "    </tr>\n",
       "    <tr>\n",
       "      <th>#Tress</th>\n",
       "      <th>MaxFeat</th>\n",
       "      <th></th>\n",
       "      <th></th>\n",
       "      <th></th>\n",
       "      <th></th>\n",
       "      <th></th>\n",
       "      <th></th>\n",
       "      <th></th>\n",
       "      <th></th>\n",
       "    </tr>\n",
       "  </thead>\n",
       "  <tbody>\n",
       "    <tr>\n",
       "      <th rowspan=\"3\" valign=\"top\">50</th>\n",
       "      <th>2</th>\n",
       "      <td>0.694839</td>\n",
       "      <td>0.694687</td>\n",
       "      <td>102956.340628</td>\n",
       "      <td>320.868105</td>\n",
       "      <td>0.298967</td>\n",
       "      <td>0.546779</td>\n",
       "      <td>0.162316</td>\n",
       "      <td>0.402885</td>\n",
       "    </tr>\n",
       "    <tr>\n",
       "      <th>3</th>\n",
       "      <td>0.690971</td>\n",
       "      <td>0.690730</td>\n",
       "      <td>104290.950328</td>\n",
       "      <td>322.941094</td>\n",
       "      <td>0.302843</td>\n",
       "      <td>0.550311</td>\n",
       "      <td>0.162998</td>\n",
       "      <td>0.403730</td>\n",
       "    </tr>\n",
       "    <tr>\n",
       "      <th>4</th>\n",
       "      <td>0.684011</td>\n",
       "      <td>0.683804</td>\n",
       "      <td>106626.245396</td>\n",
       "      <td>326.536744</td>\n",
       "      <td>0.309624</td>\n",
       "      <td>0.556439</td>\n",
       "      <td>0.165172</td>\n",
       "      <td>0.406414</td>\n",
       "    </tr>\n",
       "    <tr>\n",
       "      <th rowspan=\"3\" valign=\"top\">100</th>\n",
       "      <th>2</th>\n",
       "      <td>0.698139</td>\n",
       "      <td>0.698026</td>\n",
       "      <td>101830.526200</td>\n",
       "      <td>319.108957</td>\n",
       "      <td>0.295698</td>\n",
       "      <td>0.543781</td>\n",
       "      <td>0.160908</td>\n",
       "      <td>0.401133</td>\n",
       "    </tr>\n",
       "    <tr>\n",
       "      <th>3</th>\n",
       "      <td>0.696103</td>\n",
       "      <td>0.695904</td>\n",
       "      <td>102546.206694</td>\n",
       "      <td>320.228366</td>\n",
       "      <td>0.297776</td>\n",
       "      <td>0.545689</td>\n",
       "      <td>0.161394</td>\n",
       "      <td>0.401738</td>\n",
       "    </tr>\n",
       "    <tr>\n",
       "      <th>4</th>\n",
       "      <td>0.687535</td>\n",
       "      <td>0.687319</td>\n",
       "      <td>105441.158868</td>\n",
       "      <td>324.717044</td>\n",
       "      <td>0.306183</td>\n",
       "      <td>0.553338</td>\n",
       "      <td>0.163803</td>\n",
       "      <td>0.404726</td>\n",
       "    </tr>\n",
       "    <tr>\n",
       "      <th rowspan=\"3\" valign=\"top\">150</th>\n",
       "      <th>2</th>\n",
       "      <td>0.699542</td>\n",
       "      <td>0.699428</td>\n",
       "      <td>101357.880317</td>\n",
       "      <td>318.367524</td>\n",
       "      <td>0.294326</td>\n",
       "      <td>0.542518</td>\n",
       "      <td>0.161211</td>\n",
       "      <td>0.401511</td>\n",
       "    </tr>\n",
       "    <tr>\n",
       "      <th>3</th>\n",
       "      <td>0.696279</td>\n",
       "      <td>0.696094</td>\n",
       "      <td>102482.106406</td>\n",
       "      <td>320.128266</td>\n",
       "      <td>0.297590</td>\n",
       "      <td>0.545518</td>\n",
       "      <td>0.160340</td>\n",
       "      <td>0.400425</td>\n",
       "    </tr>\n",
       "    <tr>\n",
       "      <th>4</th>\n",
       "      <td>0.687783</td>\n",
       "      <td>0.687584</td>\n",
       "      <td>105351.732463</td>\n",
       "      <td>324.579316</td>\n",
       "      <td>0.305923</td>\n",
       "      <td>0.553103</td>\n",
       "      <td>0.162869</td>\n",
       "      <td>0.403570</td>\n",
       "    </tr>\n",
       "    <tr>\n",
       "      <th rowspan=\"3\" valign=\"top\">200</th>\n",
       "      <th>2</th>\n",
       "      <td>0.701697</td>\n",
       "      <td>0.701579</td>\n",
       "      <td>100632.392338</td>\n",
       "      <td>317.226090</td>\n",
       "      <td>0.292219</td>\n",
       "      <td>0.540573</td>\n",
       "      <td>0.160028</td>\n",
       "      <td>0.400035</td>\n",
       "    </tr>\n",
       "    <tr>\n",
       "      <th>3</th>\n",
       "      <td>0.696486</td>\n",
       "      <td>0.696309</td>\n",
       "      <td>102409.355816</td>\n",
       "      <td>320.014618</td>\n",
       "      <td>0.297379</td>\n",
       "      <td>0.545325</td>\n",
       "      <td>0.160071</td>\n",
       "      <td>0.400089</td>\n",
       "    </tr>\n",
       "    <tr>\n",
       "      <th>4</th>\n",
       "      <td>0.690195</td>\n",
       "      <td>0.689978</td>\n",
       "      <td>104544.267229</td>\n",
       "      <td>323.333059</td>\n",
       "      <td>0.303578</td>\n",
       "      <td>0.550979</td>\n",
       "      <td>0.161984</td>\n",
       "      <td>0.402472</td>\n",
       "    </tr>\n",
       "    <tr>\n",
       "      <th rowspan=\"3\" valign=\"top\">250</th>\n",
       "      <th>2</th>\n",
       "      <td>0.701520</td>\n",
       "      <td>0.701397</td>\n",
       "      <td>100693.605559</td>\n",
       "      <td>317.322558</td>\n",
       "      <td>0.292397</td>\n",
       "      <td>0.540737</td>\n",
       "      <td>0.160079</td>\n",
       "      <td>0.400098</td>\n",
       "    </tr>\n",
       "    <tr>\n",
       "      <th>3</th>\n",
       "      <td>0.698089</td>\n",
       "      <td>0.697925</td>\n",
       "      <td>101864.692669</td>\n",
       "      <td>319.162486</td>\n",
       "      <td>0.295797</td>\n",
       "      <td>0.543872</td>\n",
       "      <td>0.159574</td>\n",
       "      <td>0.399467</td>\n",
       "    </tr>\n",
       "    <tr>\n",
       "      <th>4</th>\n",
       "      <td>0.689732</td>\n",
       "      <td>0.689532</td>\n",
       "      <td>104694.795212</td>\n",
       "      <td>323.565751</td>\n",
       "      <td>0.304015</td>\n",
       "      <td>0.551376</td>\n",
       "      <td>0.162251</td>\n",
       "      <td>0.402804</td>\n",
       "    </tr>\n",
       "    <tr>\n",
       "      <th rowspan=\"3\" valign=\"top\">300</th>\n",
       "      <th>2</th>\n",
       "      <td>0.701110</td>\n",
       "      <td>0.700991</td>\n",
       "      <td>100830.588747</td>\n",
       "      <td>317.538326</td>\n",
       "      <td>0.292794</td>\n",
       "      <td>0.541105</td>\n",
       "      <td>0.160145</td>\n",
       "      <td>0.400181</td>\n",
       "    </tr>\n",
       "    <tr>\n",
       "      <th>3</th>\n",
       "      <td>0.696779</td>\n",
       "      <td>0.696582</td>\n",
       "      <td>102317.333306</td>\n",
       "      <td>319.870807</td>\n",
       "      <td>0.297112</td>\n",
       "      <td>0.545080</td>\n",
       "      <td>0.160061</td>\n",
       "      <td>0.400076</td>\n",
       "    </tr>\n",
       "    <tr>\n",
       "      <th>4</th>\n",
       "      <td>0.689731</td>\n",
       "      <td>0.689529</td>\n",
       "      <td>104695.688793</td>\n",
       "      <td>323.567132</td>\n",
       "      <td>0.304018</td>\n",
       "      <td>0.551378</td>\n",
       "      <td>0.162259</td>\n",
       "      <td>0.402814</td>\n",
       "    </tr>\n",
       "  </tbody>\n",
       "</table>\n",
       "</div>"
      ],
      "text/plain": [
       "                Exp. Var.        R2            MSE        RMSE      nMSE  \\\n",
       "#Tress MaxFeat                                                             \n",
       "50     2         0.694839  0.694687  102956.340628  320.868105  0.298967   \n",
       "       3         0.690971  0.690730  104290.950328  322.941094  0.302843   \n",
       "       4         0.684011  0.683804  106626.245396  326.536744  0.309624   \n",
       "100    2         0.698139  0.698026  101830.526200  319.108957  0.295698   \n",
       "       3         0.696103  0.695904  102546.206694  320.228366  0.297776   \n",
       "       4         0.687535  0.687319  105441.158868  324.717044  0.306183   \n",
       "150    2         0.699542  0.699428  101357.880317  318.367524  0.294326   \n",
       "       3         0.696279  0.696094  102482.106406  320.128266  0.297590   \n",
       "       4         0.687783  0.687584  105351.732463  324.579316  0.305923   \n",
       "200    2         0.701697  0.701579  100632.392338  317.226090  0.292219   \n",
       "       3         0.696486  0.696309  102409.355816  320.014618  0.297379   \n",
       "       4         0.690195  0.689978  104544.267229  323.333059  0.303578   \n",
       "250    2         0.701520  0.701397  100693.605559  317.322558  0.292397   \n",
       "       3         0.698089  0.697925  101864.692669  319.162486  0.295797   \n",
       "       4         0.689732  0.689532  104694.795212  323.565751  0.304015   \n",
       "300    2         0.701110  0.700991  100830.588747  317.538326  0.292794   \n",
       "       3         0.696779  0.696582  102317.333306  319.870807  0.297112   \n",
       "       4         0.689731  0.689529  104695.688793  323.567132  0.304018   \n",
       "\n",
       "                   nRMSE      MSLE     RMSLE  \n",
       "#Tress MaxFeat                                \n",
       "50     2        0.546779  0.162316  0.402885  \n",
       "       3        0.550311  0.162998  0.403730  \n",
       "       4        0.556439  0.165172  0.406414  \n",
       "100    2        0.543781  0.160908  0.401133  \n",
       "       3        0.545689  0.161394  0.401738  \n",
       "       4        0.553338  0.163803  0.404726  \n",
       "150    2        0.542518  0.161211  0.401511  \n",
       "       3        0.545518  0.160340  0.400425  \n",
       "       4        0.553103  0.162869  0.403570  \n",
       "200    2        0.540573  0.160028  0.400035  \n",
       "       3        0.545325  0.160071  0.400089  \n",
       "       4        0.550979  0.161984  0.402472  \n",
       "250    2        0.540737  0.160079  0.400098  \n",
       "       3        0.543872  0.159574  0.399467  \n",
       "       4        0.551376  0.162251  0.402804  \n",
       "300    2        0.541105  0.160145  0.400181  \n",
       "       3        0.545080  0.160061  0.400076  \n",
       "       4        0.551378  0.162259  0.402814  "
      ]
     },
     "execution_count": 78,
     "metadata": {},
     "output_type": "execute_result"
    }
   ],
   "source": [
    "idx = pd.MultiIndex.from_tuples([(f,m) for f in forest_size for m in max_feats], names=['#Tress','MaxFeat'])\n",
    "\n",
    "metrics_svm = compute_metrics(y_true = y_test, y_pred = y_pred_rf, \n",
    "                              y_true_denorm = y_test_denorm, y_pred_denorm = y_pred_rf_denorm, \n",
    "                              indices = idx)  \n",
    "metrics_svm"
   ]
  },
  {
   "cell_type": "markdown",
   "metadata": {},
   "source": [
    "### 6. XGBoost"
   ]
  },
  {
   "cell_type": "code",
   "execution_count": 6,
   "metadata": {},
   "outputs": [
    {
     "data": {
      "text/plain": [
       "XGBRegressor(base_score=0.5, booster='gbtree', colsample_bylevel=1,\n",
       "       colsample_bytree=1, gamma=0, learning_rate=0.1, max_delta_step=0,\n",
       "       max_depth=10, min_child_weight=1, missing=None, n_estimators=300,\n",
       "       n_jobs=1, nthread=None, objective='reg:linear', random_state=0,\n",
       "       reg_alpha=0, reg_lambda=1, scale_pos_weight=1, seed=None,\n",
       "       silent=True, subsample=1)"
      ]
     },
     "execution_count": 6,
     "metadata": {},
     "output_type": "execute_result"
    }
   ],
   "source": [
    "xgb_reg = xgb.XGBRegressor(n_estimators=300, max_depth=10)\n",
    "xgb_reg.fit(X_train, y_train)"
   ]
  },
  {
   "cell_type": "code",
   "execution_count": 7,
   "metadata": {},
   "outputs": [],
   "source": [
    "y_pred_xgb = xgb_reg.predict(X_test).reshape(1,-1)"
   ]
  },
  {
   "cell_type": "code",
   "execution_count": 8,
   "metadata": {},
   "outputs": [],
   "source": [
    "y_pred_xgb_denorm = out_scaler.inverse_transform(y_pred_xgb)\n",
    "\n",
    "# Set all negative outputs to zero (we're predicting time)\n",
    "y_pred_xgb_denorm[y_pred_xgb_denorm < 0] = 0\n",
    "\n",
    "# Transform back again\n",
    "y_pred_xgb = out_scaler.transform(y_pred_xgb_denorm)"
   ]
  },
  {
   "cell_type": "code",
   "execution_count": 9,
   "metadata": {},
   "outputs": [
    {
     "data": {
      "text/html": [
       "<div>\n",
       "<style scoped>\n",
       "    .dataframe tbody tr th:only-of-type {\n",
       "        vertical-align: middle;\n",
       "    }\n",
       "\n",
       "    .dataframe tbody tr th {\n",
       "        vertical-align: top;\n",
       "    }\n",
       "\n",
       "    .dataframe thead th {\n",
       "        text-align: right;\n",
       "    }\n",
       "</style>\n",
       "<table border=\"1\" class=\"dataframe\">\n",
       "  <thead>\n",
       "    <tr style=\"text-align: right;\">\n",
       "      <th></th>\n",
       "      <th>Exp. Var.</th>\n",
       "      <th>R2</th>\n",
       "      <th>MSE</th>\n",
       "      <th>RMSE</th>\n",
       "      <th>nMSE</th>\n",
       "      <th>nRMSE</th>\n",
       "      <th>MSLE</th>\n",
       "      <th>RMSLE</th>\n",
       "    </tr>\n",
       "  </thead>\n",
       "  <tbody>\n",
       "    <tr>\n",
       "      <th>0</th>\n",
       "      <td>0.678408</td>\n",
       "      <td>0.678313</td>\n",
       "      <td>108477.938111</td>\n",
       "      <td>329.359891</td>\n",
       "      <td>0.315001</td>\n",
       "      <td>0.561249</td>\n",
       "      <td>0.168962</td>\n",
       "      <td>0.41105</td>\n",
       "    </tr>\n",
       "  </tbody>\n",
       "</table>\n",
       "</div>"
      ],
      "text/plain": [
       "   Exp. Var.        R2            MSE        RMSE      nMSE     nRMSE  \\\n",
       "0   0.678408  0.678313  108477.938111  329.359891  0.315001  0.561249   \n",
       "\n",
       "       MSLE    RMSLE  \n",
       "0  0.168962  0.41105  "
      ]
     },
     "execution_count": 9,
     "metadata": {},
     "output_type": "execute_result"
    }
   ],
   "source": [
    "compute_metrics(y_true = y_test, y_pred = y_pred_xgb,\n",
    "                y_true_denorm = y_test_denorm, y_pred_denorm = y_pred_xgb_denorm,\n",
    "                indices=[0])"
   ]
  },
  {
   "cell_type": "markdown",
   "metadata": {},
   "source": [
    "### 7. Neural Network"
   ]
  },
  {
   "cell_type": "code",
   "execution_count": 10,
   "metadata": {},
   "outputs": [],
   "source": [
    "mlp_reg = MLPRegressor(hidden_layer_sizes=(100,4))"
   ]
  },
  {
   "cell_type": "code",
   "execution_count": 11,
   "metadata": {},
   "outputs": [
    {
     "data": {
      "text/plain": [
       "MLPRegressor(activation='relu', alpha=0.0001, batch_size='auto', beta_1=0.9,\n",
       "       beta_2=0.999, early_stopping=False, epsilon=1e-08,\n",
       "       hidden_layer_sizes=(100, 4), learning_rate='constant',\n",
       "       learning_rate_init=0.001, max_iter=200, momentum=0.9,\n",
       "       n_iter_no_change=10, nesterovs_momentum=True, power_t=0.5,\n",
       "       random_state=None, shuffle=True, solver='adam', tol=0.0001,\n",
       "       validation_fraction=0.1, verbose=False, warm_start=False)"
      ]
     },
     "execution_count": 11,
     "metadata": {},
     "output_type": "execute_result"
    }
   ],
   "source": [
    "mlp_reg.fit(X_train, y_train.ravel())"
   ]
  },
  {
   "cell_type": "code",
   "execution_count": 12,
   "metadata": {},
   "outputs": [],
   "source": [
    "y_pred_mlp = mlp_reg.predict(X_test).reshape(1,-1)"
   ]
  },
  {
   "cell_type": "code",
   "execution_count": 13,
   "metadata": {},
   "outputs": [],
   "source": [
    "y_pred_mlp_denorm = out_scaler.inverse_transform(y_pred_mlp)\n",
    "\n",
    "# Set all negative outputs to zero (we're predicting time)\n",
    "y_pred_mlp_denorm[y_pred_mlp_denorm < 0] = 0\n",
    "\n",
    "# Transform back again\n",
    "y_pred_mlp = out_scaler.transform(y_pred_mlp_denorm)"
   ]
  },
  {
   "cell_type": "code",
   "execution_count": 14,
   "metadata": {},
   "outputs": [
    {
     "data": {
      "text/html": [
       "<div>\n",
       "<style scoped>\n",
       "    .dataframe tbody tr th:only-of-type {\n",
       "        vertical-align: middle;\n",
       "    }\n",
       "\n",
       "    .dataframe tbody tr th {\n",
       "        vertical-align: top;\n",
       "    }\n",
       "\n",
       "    .dataframe thead th {\n",
       "        text-align: right;\n",
       "    }\n",
       "</style>\n",
       "<table border=\"1\" class=\"dataframe\">\n",
       "  <thead>\n",
       "    <tr style=\"text-align: right;\">\n",
       "      <th></th>\n",
       "      <th>Exp. Var.</th>\n",
       "      <th>R2</th>\n",
       "      <th>MSE</th>\n",
       "      <th>RMSE</th>\n",
       "      <th>nMSE</th>\n",
       "      <th>nRMSE</th>\n",
       "      <th>MSLE</th>\n",
       "      <th>RMSLE</th>\n",
       "    </tr>\n",
       "  </thead>\n",
       "  <tbody>\n",
       "    <tr>\n",
       "      <th>0</th>\n",
       "      <td>0.708305</td>\n",
       "      <td>0.708265</td>\n",
       "      <td>98377.921594</td>\n",
       "      <td>313.652549</td>\n",
       "      <td>0.285672</td>\n",
       "      <td>0.534483</td>\n",
       "      <td>0.15276</td>\n",
       "      <td>0.390845</td>\n",
       "    </tr>\n",
       "  </tbody>\n",
       "</table>\n",
       "</div>"
      ],
      "text/plain": [
       "   Exp. Var.        R2           MSE        RMSE      nMSE     nRMSE     MSLE  \\\n",
       "0   0.708305  0.708265  98377.921594  313.652549  0.285672  0.534483  0.15276   \n",
       "\n",
       "      RMSLE  \n",
       "0  0.390845  "
      ]
     },
     "execution_count": 14,
     "metadata": {},
     "output_type": "execute_result"
    }
   ],
   "source": [
    "compute_metrics(y_true = y_test, y_pred = y_pred_mlp,\n",
    "                y_true_denorm = y_test_denorm, y_pred_denorm = y_pred_mlp_denorm,\n",
    "                indices=[0])"
   ]
  },
  {
   "cell_type": "code",
   "execution_count": 15,
   "metadata": {
    "scrolled": true
   },
   "outputs": [
    {
     "data": {
      "image/png": "[encoded data removed]",
      "text/plain": [
       "<Figure size 288x288 with 1 Axes>"
      ]
     },
     "metadata": {},
     "output_type": "display_data"
    }
   ],
   "source": [
    "fig = plt.figure(figsize=(4,4))\n",
    "plt.scatter(y_test_denorm, y_pred_mlp_denorm, s = 1)\n",
    "plt.plot((-1,3500),(-1,3500), '--', c='r')\n",
    "plt.xlim((-10,5500))\n",
    "plt.ylim((-10,5500))\n",
    "plt.show()"
   ]
  }
 ],
 "metadata": {
  "kernelspec": {
   "display_name": "Python 3",
   "language": "python",
   "name": "python3"
  },
  "language_info": {
   "codemirror_mode": {
    "name": "ipython",
    "version": 3
   },
   "file_extension": ".py",
   "mimetype": "text/x-python",
   "name": "python",
   "nbconvert_exporter": "python",
   "pygments_lexer": "ipython3",
   "version": "3.6.6"
  }
 },
 "nbformat": 4,
 "nbformat_minor": 2
}
