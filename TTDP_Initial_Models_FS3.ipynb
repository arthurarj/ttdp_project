{
 "cells": [
  {
   "cell_type": "code",
   "execution_count": 1,
   "metadata": {},
   "outputs": [],
   "source": [
    "# Basics\n",
    "import pickle as pkl\n",
    "import pandas as pd\n",
    "import numpy as np\n",
    "import matplotlib.pyplot as plt\n",
    "\n",
    "# Preprocessing\n",
    "from scipy import stats\n",
    "from sklearn import preprocessing\n",
    "from sklearn.model_selection import train_test_split\n",
    "\n",
    "# Models\n",
    "from sklearn import svm\n",
    "from sklearn.ensemble import RandomForestRegressor\n",
    "from sklearn.neural_network import MLPRegressor\n",
    "import xgboost as xgb\n",
    "\n",
    "# Misc\n",
    "import sys\n",
    "from IPython.display import clear_output\n",
    "\n",
    "%run utils/utils_metrics.py"
   ]
  },
  {
   "cell_type": "markdown",
   "metadata": {},
   "source": [
    "### 1. Load data"
   ]
  },
  {
   "cell_type": "code",
   "execution_count": 2,
   "metadata": {},
   "outputs": [
    {
     "name": "stdout",
     "output_type": "stream",
     "text": [
      "Data shape: (48605, 10)\n"
     ]
    },
    {
     "data": {
      "text/html": [
       "<div>\n",
       "<style scoped>\n",
       "    .dataframe tbody tr th:only-of-type {\n",
       "        vertical-align: middle;\n",
       "    }\n",
       "\n",
       "    .dataframe tbody tr th {\n",
       "        vertical-align: top;\n",
       "    }\n",
       "\n",
       "    .dataframe thead th {\n",
       "        text-align: right;\n",
       "    }\n",
       "</style>\n",
       "<table border=\"1\" class=\"dataframe\">\n",
       "  <thead>\n",
       "    <tr style=\"text-align: right;\">\n",
       "      <th></th>\n",
       "      <th>pu_t</th>\n",
       "      <th>do_t</th>\n",
       "      <th>trip_dist</th>\n",
       "      <th>pu_lon</th>\n",
       "      <th>pu_lat</th>\n",
       "      <th>do_lon</th>\n",
       "      <th>do_lat</th>\n",
       "      <th>duration</th>\n",
       "      <th>vec_dist</th>\n",
       "      <th>trip_ratio</th>\n",
       "    </tr>\n",
       "  </thead>\n",
       "  <tbody>\n",
       "    <tr>\n",
       "      <th>0</th>\n",
       "      <td>2016-02-16 19:56:06</td>\n",
       "      <td>2016-02-16 20:10:46</td>\n",
       "      <td>8.53</td>\n",
       "      <td>-73.995750</td>\n",
       "      <td>40.764488</td>\n",
       "      <td>-73.926292</td>\n",
       "      <td>40.867458</td>\n",
       "      <td>880</td>\n",
       "      <td>7.983998</td>\n",
       "      <td>1.068387</td>\n",
       "    </tr>\n",
       "    <tr>\n",
       "      <th>1</th>\n",
       "      <td>2016-02-11 10:23:41</td>\n",
       "      <td>2016-02-11 10:45:04</td>\n",
       "      <td>1.95</td>\n",
       "      <td>-73.994110</td>\n",
       "      <td>40.751068</td>\n",
       "      <td>-73.993401</td>\n",
       "      <td>40.736019</td>\n",
       "      <td>1283</td>\n",
       "      <td>1.039087</td>\n",
       "      <td>1.876648</td>\n",
       "    </tr>\n",
       "    <tr>\n",
       "      <th>2</th>\n",
       "      <td>2016-02-21 14:21:57</td>\n",
       "      <td>2016-02-21 14:30:07</td>\n",
       "      <td>0.50</td>\n",
       "      <td>-73.973160</td>\n",
       "      <td>40.752728</td>\n",
       "      <td>-73.982178</td>\n",
       "      <td>40.756962</td>\n",
       "      <td>490</td>\n",
       "      <td>0.556130</td>\n",
       "      <td>0.899070</td>\n",
       "    </tr>\n",
       "    <tr>\n",
       "      <th>3</th>\n",
       "      <td>2016-02-11 22:51:59</td>\n",
       "      <td>2016-02-11 22:57:41</td>\n",
       "      <td>1.30</td>\n",
       "      <td>-73.991280</td>\n",
       "      <td>40.744808</td>\n",
       "      <td>-73.985909</td>\n",
       "      <td>40.731178</td>\n",
       "      <td>342</td>\n",
       "      <td>0.981839</td>\n",
       "      <td>1.324045</td>\n",
       "    </tr>\n",
       "    <tr>\n",
       "      <th>4</th>\n",
       "      <td>2016-02-13 18:32:08</td>\n",
       "      <td>2016-02-13 18:43:51</td>\n",
       "      <td>1.50</td>\n",
       "      <td>-73.992897</td>\n",
       "      <td>40.741280</td>\n",
       "      <td>-73.975967</td>\n",
       "      <td>40.748734</td>\n",
       "      <td>703</td>\n",
       "      <td>1.026608</td>\n",
       "      <td>1.461123</td>\n",
       "    </tr>\n",
       "  </tbody>\n",
       "</table>\n",
       "</div>"
      ],
      "text/plain": [
       "                 pu_t                do_t  trip_dist     pu_lon     pu_lat  \\\n",
       "0 2016-02-16 19:56:06 2016-02-16 20:10:46       8.53 -73.995750  40.764488   \n",
       "1 2016-02-11 10:23:41 2016-02-11 10:45:04       1.95 -73.994110  40.751068   \n",
       "2 2016-02-21 14:21:57 2016-02-21 14:30:07       0.50 -73.973160  40.752728   \n",
       "3 2016-02-11 22:51:59 2016-02-11 22:57:41       1.30 -73.991280  40.744808   \n",
       "4 2016-02-13 18:32:08 2016-02-13 18:43:51       1.50 -73.992897  40.741280   \n",
       "\n",
       "      do_lon     do_lat  duration  vec_dist  trip_ratio  \n",
       "0 -73.926292  40.867458       880  7.983998    1.068387  \n",
       "1 -73.993401  40.736019      1283  1.039087    1.876648  \n",
       "2 -73.982178  40.756962       490  0.556130    0.899070  \n",
       "3 -73.985909  40.731178       342  0.981839    1.324045  \n",
       "4 -73.975967  40.748734       703  1.026608    1.461123  "
      ]
     },
     "execution_count": 2,
     "metadata": {},
     "output_type": "execute_result"
    }
   ],
   "source": [
    "n_chunks = 1\n",
    "chunks = [pkl.load(open('../data/bin_chunks/ttd_chunk_{0}.pkl'.format(i), 'rb')) for i in range(1, n_chunks + 1)]\n",
    "dataset = pd.concat(chunks)\n",
    "print(\"Data shape:\", dataset.shape)\n",
    "dataset.head()"
   ]
  },
  {
   "cell_type": "markdown",
   "metadata": {},
   "source": [
    "### 2. Preprocessing"
   ]
  },
  {
   "cell_type": "code",
   "execution_count": 4,
   "metadata": {},
   "outputs": [],
   "source": [
    "lat_data = np.array(pd.concat((dataset.pu_lat, dataset.do_lat))).reshape(-1,1)\n",
    "lon_data = np.array(pd.concat((dataset.pu_lon, dataset.do_lon))).reshape(-1,1)\n",
    "dur_data = np.array(dataset.duration. astype(float)).reshape(-1,1)\n",
    "\n",
    "# New feature (using the actual distance)\n",
    "etd_data = np.array(dataset.trip_dist. astype(float)).reshape(-1,1)\n",
    "\n",
    "scaler_type = 'StandardScaler' # Other options: MinMaxScaler\n",
    "lat_scaler = getattr(preprocessing, scaler_type)()\n",
    "lon_scaler = getattr(preprocessing, scaler_type)()\n",
    "etd_scaler = getattr(preprocessing, scaler_type)()\n",
    "out_scaler = getattr(preprocessing, scaler_type)()\n",
    "\n",
    "# Inputs\n",
    "lat_scaler.fit(lat_data);\n",
    "lon_scaler.fit(lon_data);\n",
    "etd_scaler.fit(etd_data)\n",
    "\n",
    "# Output\n",
    "out_scaler.fit(dur_data);\n",
    "\n",
    "X = np.hstack((lat_scaler.transform(dataset[['pu_lat','do_lat',]]),\n",
    "               lon_scaler.transform(dataset[['pu_lon','do_lon',]]),\n",
    "               etd_scaler.transform(etd_data)))\n",
    "y = out_scaler.transform(dur_data)"
   ]
  },
  {
   "cell_type": "markdown",
   "metadata": {},
   "source": [
    "#### Quick look at inputs and output"
   ]
  },
  {
   "cell_type": "code",
   "execution_count": 5,
   "metadata": {},
   "outputs": [
    {
     "data": {
      "image/png": "[encoded data removed]",
      "text/plain": [
       "<Figure size 1152x360 with 6 Axes>"
      ]
     },
     "metadata": {
      "needs_background": "light"
     },
     "output_type": "display_data"
    }
   ],
   "source": [
    "plt.figure(figsize=(16,5))\n",
    "titles = ['pu_lat', 'do_lat', 'pu_lon', 'do_lon', 'estim_trip_distance', 'duration']\n",
    "for i in range(5):\n",
    "    plt.subplot(2,5,i+1)\n",
    "    plt.hist(X[:,i], bins='auto', log=True)\n",
    "    plt.title(titles[i])\n",
    "plt.subplot(2,5,6)\n",
    "plt.hist(y, bins='auto')\n",
    "plt.title(titles[-1])\n",
    "plt.tight_layout()\n",
    "plt.show()"
   ]
  },
  {
   "cell_type": "markdown",
   "metadata": {},
   "source": [
    "### 3. Splitting data"
   ]
  },
  {
   "cell_type": "code",
   "execution_count": 6,
   "metadata": {},
   "outputs": [],
   "source": [
    "X_train, X_test, y_train, y_test = train_test_split(X, y, test_size=0.3, random_state=42)\n",
    "\n",
    "test_size = len(y_test)\n",
    "train_size = len(y_train)\n",
    "\n",
    "y_test_denorm = out_scaler.inverse_transform(y_test)"
   ]
  },
  {
   "cell_type": "code",
   "execution_count": 8,
   "metadata": {},
   "outputs": [],
   "source": [
    "# # Store splitted data\n",
    "pkl.dump(X_train, open('../splitted_data/fs3/x_train.dat', 'wb'))\n",
    "pkl.dump(y_train, open('../splitted_data/fs3/y_train.dat', 'wb'))\n",
    "pkl.dump(X_test, open('../splitted_data/fs3/x_test.dat', 'wb'))\n",
    "pkl.dump(y_test, open('../splitted_data/fs3/y_test.dat', 'wb'))"
   ]
  },
  {
   "cell_type": "code",
   "execution_count": 9,
   "metadata": {},
   "outputs": [],
   "source": [
    "# Read splitted data\n",
    "X_train = pkl.load(open('../splitted_data/fs3/x_train.dat', 'rb'))\n",
    "y_train = pkl.load(open('../splitted_data/fs3/y_train.dat', 'rb'))\n",
    "X_test = pkl.load(open('../splitted_data/fs3/x_test.dat', 'rb'))\n",
    "y_test = pkl.load(open('../splitted_data/fs3/y_test.dat', 'rb'))\n",
    "\n",
    "test_size = len(y_test)\n",
    "train_size = len(y_train)\n",
    "\n",
    "y_test_denorm = out_scaler.inverse_transform(y_test)"
   ]
  },
  {
   "cell_type": "markdown",
   "metadata": {},
   "source": [
    "### 4. SVM"
   ]
  },
  {
   "cell_type": "code",
   "execution_count": 10,
   "metadata": {},
   "outputs": [],
   "source": [
    "kernels = ['rbf']\n",
    "C_values = [0.1, 1, 10]"
   ]
  },
  {
   "cell_type": "markdown",
   "metadata": {},
   "source": [
    "#### 4.1 Training"
   ]
  },
  {
   "cell_type": "code",
   "execution_count": 12,
   "metadata": {},
   "outputs": [
    {
     "name": "stdout",
     "output_type": "stream",
     "text": [
      "Done."
     ]
    }
   ],
   "source": [
    "for kern in kernels:\n",
    "    for C in C_values:\n",
    "        sys.stdout.write(\"\\rTraining SVM with kernel {0} and C = {1}\".format(kern,C))\n",
    "        svm_reg = svm.SVR(kernel=kern, gamma='auto', C=C)\n",
    "        svm_reg.fit(X_train, y_train.ravel())\n",
    "        pkl.dump(svm_reg, open('../init_models/fs3/svms/svm_reg_{0}_{1}.mdl'.format(kern,C), 'wb'))\n",
    "        sys.stdout.flush()\n",
    "        clear_output()\n",
    "sys.stdout.write(\"Done.\")        "
   ]
  },
  {
   "cell_type": "markdown",
   "metadata": {},
   "source": [
    "#### 4.2 Testing"
   ]
  },
  {
   "cell_type": "code",
   "execution_count": 13,
   "metadata": {},
   "outputs": [
    {
     "name": "stdout",
     "output_type": "stream",
     "text": [
      "Done."
     ]
    }
   ],
   "source": [
    "y_pred_svm = []\n",
    "for kern in kernels:\n",
    "    for C in C_values:\n",
    "        print(\"Running tests on SVM with kernel {0} and C = {1}\".format(kern,C))\n",
    "        svm_reg = pkl.load(open('../init_models/fs3/svms/svm_reg_{0}_{1}.mdl'.format(kern,C), 'rb'))\n",
    "        y_pred_svm.append(svm_reg.predict(X_test))\n",
    "        sys.stdout.flush()\n",
    "        clear_output()\n",
    "sys.stdout.write(\"Done.\")        "
   ]
  },
  {
   "cell_type": "markdown",
   "metadata": {},
   "source": [
    "#### Denormalize predicited data"
   ]
  },
  {
   "cell_type": "code",
   "execution_count": 14,
   "metadata": {},
   "outputs": [],
   "source": [
    "y_pred_svm_denorm = out_scaler.inverse_transform(y_pred_svm)\n",
    "\n",
    "# Set all negative outputs to zero (we're predicting time)\n",
    "y_pred_svm_denorm[y_pred_svm_denorm < 0] = 0\n",
    "\n",
    "# Transform back again\n",
    "y_pred_svm = out_scaler.transform(y_pred_svm_denorm)"
   ]
  },
  {
   "cell_type": "markdown",
   "metadata": {},
   "source": [
    "#### 4.3 Metrics"
   ]
  },
  {
   "cell_type": "code",
   "execution_count": 15,
   "metadata": {},
   "outputs": [
    {
     "data": {
      "text/html": [
       "<div>\n",
       "<style scoped>\n",
       "    .dataframe tbody tr th:only-of-type {\n",
       "        vertical-align: middle;\n",
       "    }\n",
       "\n",
       "    .dataframe tbody tr th {\n",
       "        vertical-align: top;\n",
       "    }\n",
       "\n",
       "    .dataframe thead th {\n",
       "        text-align: right;\n",
       "    }\n",
       "</style>\n",
       "<table border=\"1\" class=\"dataframe\">\n",
       "  <thead>\n",
       "    <tr style=\"text-align: right;\">\n",
       "      <th></th>\n",
       "      <th></th>\n",
       "      <th>Exp. Var.</th>\n",
       "      <th>R2</th>\n",
       "      <th>MSE</th>\n",
       "      <th>RMSE</th>\n",
       "      <th>nMSE</th>\n",
       "      <th>nRMSE</th>\n",
       "      <th>MSLE</th>\n",
       "      <th>RMSLE</th>\n",
       "    </tr>\n",
       "    <tr>\n",
       "      <th>Kernel</th>\n",
       "      <th>C</th>\n",
       "      <th></th>\n",
       "      <th></th>\n",
       "      <th></th>\n",
       "      <th></th>\n",
       "      <th></th>\n",
       "      <th></th>\n",
       "      <th></th>\n",
       "      <th></th>\n",
       "    </tr>\n",
       "  </thead>\n",
       "  <tbody>\n",
       "    <tr>\n",
       "      <th rowspan=\"3\" valign=\"top\">rbf</th>\n",
       "      <th>0.1</th>\n",
       "      <td>0.718853</td>\n",
       "      <td>0.712424</td>\n",
       "      <td>96975.158011</td>\n",
       "      <td>311.408346</td>\n",
       "      <td>0.281599</td>\n",
       "      <td>0.530659</td>\n",
       "      <td>0.122456</td>\n",
       "      <td>0.349937</td>\n",
       "    </tr>\n",
       "    <tr>\n",
       "      <th>1.0</th>\n",
       "      <td>0.731929</td>\n",
       "      <td>0.726491</td>\n",
       "      <td>92231.774247</td>\n",
       "      <td>303.696846</td>\n",
       "      <td>0.267825</td>\n",
       "      <td>0.517518</td>\n",
       "      <td>0.115233</td>\n",
       "      <td>0.339460</td>\n",
       "    </tr>\n",
       "    <tr>\n",
       "      <th>10.0</th>\n",
       "      <td>0.733875</td>\n",
       "      <td>0.729356</td>\n",
       "      <td>91265.511034</td>\n",
       "      <td>302.101822</td>\n",
       "      <td>0.265019</td>\n",
       "      <td>0.514800</td>\n",
       "      <td>0.112728</td>\n",
       "      <td>0.335750</td>\n",
       "    </tr>\n",
       "  </tbody>\n",
       "</table>\n",
       "</div>"
      ],
      "text/plain": [
       "             Exp. Var.        R2           MSE        RMSE      nMSE  \\\n",
       "Kernel C                                                               \n",
       "rbf    0.1    0.718853  0.712424  96975.158011  311.408346  0.281599   \n",
       "       1.0    0.731929  0.726491  92231.774247  303.696846  0.267825   \n",
       "       10.0   0.733875  0.729356  91265.511034  302.101822  0.265019   \n",
       "\n",
       "                nRMSE      MSLE     RMSLE  \n",
       "Kernel C                                   \n",
       "rbf    0.1   0.530659  0.122456  0.349937  \n",
       "       1.0   0.517518  0.115233  0.339460  \n",
       "       10.0  0.514800  0.112728  0.335750  "
      ]
     },
     "execution_count": 15,
     "metadata": {},
     "output_type": "execute_result"
    }
   ],
   "source": [
    "idx = pd.MultiIndex.from_tuples([(k,C) for k in kernels for C in C_values], names=['Kernel','C'])\n",
    "\n",
    "metrics_svm = compute_metrics(y_true = y_test, y_pred = y_pred_svm, \n",
    "                              y_true_denorm = y_test_denorm, y_pred_denorm = y_pred_svm_denorm, \n",
    "                              indices = idx)  \n",
    "metrics_svm"
   ]
  },
  {
   "cell_type": "code",
   "execution_count": 16,
   "metadata": {},
   "outputs": [
    {
     "data": {
      "image/png": "[encoded data removed]",
      "text/plain": [
       "<Figure size 576x576 with 3 Axes>"
      ]
     },
     "metadata": {
      "needs_background": "light"
     },
     "output_type": "display_data"
    }
   ],
   "source": [
    "fig = plt.figure(figsize=(8,8))\n",
    "for i,kern in enumerate(kernels):\n",
    "    for j,C in enumerate(C_values):\n",
    "        plt.subplot(3, 3, j + 3*i + 1)\n",
    "        plt.scatter(y_test_denorm, y_pred_svm_denorm[j + 3*i], s = 1)\n",
    "        plt.plot((-1,3500),(-1,3500), '--', c='r')\n",
    "        plt.title('{0} (C={1})'.format(kern,C))\n",
    "        plt.xlim((-10,3500))\n",
    "        plt.ylim((-10,3500))\n",
    "plt.tight_layout()\n",
    "plt.show()"
   ]
  },
  {
   "cell_type": "markdown",
   "metadata": {},
   "source": [
    "#### 4.4 Evaluate accuracy agains range of tolerance for best SVM"
   ]
  },
  {
   "cell_type": "code",
   "execution_count": 18,
   "metadata": {},
   "outputs": [
    {
     "data": {
      "image/png": "[encoded data removed]",
      "text/plain": [
       "<Figure size 432x288 with 1 Axes>"
      ]
     },
     "metadata": {
      "needs_background": "light"
     },
     "output_type": "display_data"
    }
   ],
   "source": [
    "y_pred_svm_best = y_pred_svm_denorm[2].reshape(-1,1)\n",
    "\n",
    "tolerance = np.arange(0.1,1,0.1)\n",
    "acc = [np.sum(np.isclose(y_pred_svm_best, y_test_denorm, rtol=tol))/test_size for tol in tolerance]\n",
    "\n",
    "plt.plot(tolerance, acc, c='k')\n",
    "plt.scatter(tolerance, acc, c='k')\n",
    "plt.ylabel('\"TP\" Rate')\n",
    "plt.xlabel('Percentual tolerance')\n",
    "plt.show()"
   ]
  },
  {
   "cell_type": "markdown",
   "metadata": {},
   "source": [
    "### 5. Random Forests"
   ]
  },
  {
   "cell_type": "code",
   "execution_count": 20,
   "metadata": {},
   "outputs": [],
   "source": [
    "forest_size = [100,200, 300]\n",
    "max_feats   = [2,3,4]"
   ]
  },
  {
   "cell_type": "markdown",
   "metadata": {},
   "source": [
    "#### 5.1 Training"
   ]
  },
  {
   "cell_type": "code",
   "execution_count": 21,
   "metadata": {},
   "outputs": [
    {
     "name": "stdout",
     "output_type": "stream",
     "text": [
      "Done."
     ]
    }
   ],
   "source": [
    "for n_trees in forest_size:\n",
    "    for max_feat in max_feats:\n",
    "        sys.stdout.write(\"\\rTraining forest with {0} trees using maximum of {1} features\".format(n_trees, max_feat))\n",
    "        rf_reg = RandomForestRegressor(n_estimators=n_trees, max_features=max_feat, n_jobs=2)\n",
    "        rf_reg.fit(X_train, y_train.ravel())\n",
    "        pkl.dump(rf_reg, open('../init_models/fs3/random_forests/rf_reg_{0}_{1}.mdl'.format(n_trees,max_feat), 'wb'))\n",
    "        sys.stdout.flush()\n",
    "clear_output()\n",
    "sys.stdout.write(\"Done.\")        "
   ]
  },
  {
   "cell_type": "markdown",
   "metadata": {},
   "source": [
    "#### 5.2 Testing"
   ]
  },
  {
   "cell_type": "code",
   "execution_count": 22,
   "metadata": {},
   "outputs": [
    {
     "name": "stdout",
     "output_type": "stream",
     "text": [
      "Done."
     ]
    }
   ],
   "source": [
    "y_pred_rf = []\n",
    "for n_trees in forest_size:\n",
    "    for max_feat in max_feats:\n",
    "        sys.stdout.write(\"\\rTesting forest with {0} trees using maximum of {1} features\".format(n_trees, max_feat))\n",
    "        rf_reg = pkl.load(open('../init_models/fs3/random_forests/rf_reg_{0}_{1}.mdl'.format(n_trees,max_feat), 'rb'))\n",
    "        y_pred_rf.append(rf_reg.predict(X_test));\n",
    "        sys.stdout.flush()\n",
    "clear_output()\n",
    "sys.stdout.write(\"Done.\")        "
   ]
  },
  {
   "cell_type": "markdown",
   "metadata": {},
   "source": [
    "#### Denormalize predicited data"
   ]
  },
  {
   "cell_type": "code",
   "execution_count": 23,
   "metadata": {},
   "outputs": [],
   "source": [
    "y_pred_rf_denorm = out_scaler.inverse_transform(y_pred_rf)\n",
    "\n",
    "# Set all negative outputs to zero (we're predicting time)\n",
    "y_pred_rf_denorm[y_pred_rf_denorm < 0] = 0\n",
    "\n",
    "# Transform back again\n",
    "y_pred_rf = out_scaler.transform(y_pred_rf_denorm)"
   ]
  },
  {
   "cell_type": "markdown",
   "metadata": {},
   "source": [
    "#### 4.3 Metrics"
   ]
  },
  {
   "cell_type": "code",
   "execution_count": 24,
   "metadata": {},
   "outputs": [
    {
     "data": {
      "text/html": [
       "<div>\n",
       "<style scoped>\n",
       "    .dataframe tbody tr th:only-of-type {\n",
       "        vertical-align: middle;\n",
       "    }\n",
       "\n",
       "    .dataframe tbody tr th {\n",
       "        vertical-align: top;\n",
       "    }\n",
       "\n",
       "    .dataframe thead th {\n",
       "        text-align: right;\n",
       "    }\n",
       "</style>\n",
       "<table border=\"1\" class=\"dataframe\">\n",
       "  <thead>\n",
       "    <tr style=\"text-align: right;\">\n",
       "      <th></th>\n",
       "      <th></th>\n",
       "      <th>Exp. Var.</th>\n",
       "      <th>R2</th>\n",
       "      <th>MSE</th>\n",
       "      <th>RMSE</th>\n",
       "      <th>nMSE</th>\n",
       "      <th>nRMSE</th>\n",
       "      <th>MSLE</th>\n",
       "      <th>RMSLE</th>\n",
       "    </tr>\n",
       "    <tr>\n",
       "      <th>#Tress</th>\n",
       "      <th>MaxFeat</th>\n",
       "      <th></th>\n",
       "      <th></th>\n",
       "      <th></th>\n",
       "      <th></th>\n",
       "      <th></th>\n",
       "      <th></th>\n",
       "      <th></th>\n",
       "      <th></th>\n",
       "    </tr>\n",
       "  </thead>\n",
       "  <tbody>\n",
       "    <tr>\n",
       "      <th rowspan=\"3\" valign=\"top\">100</th>\n",
       "      <th>2</th>\n",
       "      <td>0.734136</td>\n",
       "      <td>0.734006</td>\n",
       "      <td>89697.615571</td>\n",
       "      <td>299.495602</td>\n",
       "      <td>0.260466</td>\n",
       "      <td>0.510359</td>\n",
       "      <td>0.120366</td>\n",
       "      <td>0.346938</td>\n",
       "    </tr>\n",
       "    <tr>\n",
       "      <th>3</th>\n",
       "      <td>0.732488</td>\n",
       "      <td>0.732297</td>\n",
       "      <td>90273.781987</td>\n",
       "      <td>300.455957</td>\n",
       "      <td>0.262139</td>\n",
       "      <td>0.511995</td>\n",
       "      <td>0.121396</td>\n",
       "      <td>0.348419</td>\n",
       "    </tr>\n",
       "    <tr>\n",
       "      <th>4</th>\n",
       "      <td>0.728365</td>\n",
       "      <td>0.728086</td>\n",
       "      <td>91693.917176</td>\n",
       "      <td>302.810035</td>\n",
       "      <td>0.266263</td>\n",
       "      <td>0.516007</td>\n",
       "      <td>0.123076</td>\n",
       "      <td>0.350823</td>\n",
       "    </tr>\n",
       "    <tr>\n",
       "      <th rowspan=\"3\" valign=\"top\">200</th>\n",
       "      <th>2</th>\n",
       "      <td>0.736051</td>\n",
       "      <td>0.735923</td>\n",
       "      <td>89051.076502</td>\n",
       "      <td>298.414270</td>\n",
       "      <td>0.258589</td>\n",
       "      <td>0.508516</td>\n",
       "      <td>0.119710</td>\n",
       "      <td>0.345991</td>\n",
       "    </tr>\n",
       "    <tr>\n",
       "      <th>3</th>\n",
       "      <td>0.733351</td>\n",
       "      <td>0.733131</td>\n",
       "      <td>89992.591831</td>\n",
       "      <td>299.987653</td>\n",
       "      <td>0.261323</td>\n",
       "      <td>0.511197</td>\n",
       "      <td>0.120814</td>\n",
       "      <td>0.347584</td>\n",
       "    </tr>\n",
       "    <tr>\n",
       "      <th>4</th>\n",
       "      <td>0.731714</td>\n",
       "      <td>0.731490</td>\n",
       "      <td>90545.922208</td>\n",
       "      <td>300.908495</td>\n",
       "      <td>0.262930</td>\n",
       "      <td>0.512767</td>\n",
       "      <td>0.121698</td>\n",
       "      <td>0.348853</td>\n",
       "    </tr>\n",
       "    <tr>\n",
       "      <th rowspan=\"3\" valign=\"top\">300</th>\n",
       "      <th>2</th>\n",
       "      <td>0.735584</td>\n",
       "      <td>0.735452</td>\n",
       "      <td>89209.740281</td>\n",
       "      <td>298.679996</td>\n",
       "      <td>0.259050</td>\n",
       "      <td>0.508969</td>\n",
       "      <td>0.119445</td>\n",
       "      <td>0.345608</td>\n",
       "    </tr>\n",
       "    <tr>\n",
       "      <th>3</th>\n",
       "      <td>0.733477</td>\n",
       "      <td>0.733271</td>\n",
       "      <td>89945.464593</td>\n",
       "      <td>299.909094</td>\n",
       "      <td>0.261186</td>\n",
       "      <td>0.511064</td>\n",
       "      <td>0.120851</td>\n",
       "      <td>0.347636</td>\n",
       "    </tr>\n",
       "    <tr>\n",
       "      <th>4</th>\n",
       "      <td>0.730689</td>\n",
       "      <td>0.730442</td>\n",
       "      <td>90899.312989</td>\n",
       "      <td>301.495129</td>\n",
       "      <td>0.263956</td>\n",
       "      <td>0.513766</td>\n",
       "      <td>0.121942</td>\n",
       "      <td>0.349201</td>\n",
       "    </tr>\n",
       "  </tbody>\n",
       "</table>\n",
       "</div>"
      ],
      "text/plain": [
       "                Exp. Var.        R2           MSE        RMSE      nMSE  \\\n",
       "#Tress MaxFeat                                                            \n",
       "100    2         0.734136  0.734006  89697.615571  299.495602  0.260466   \n",
       "       3         0.732488  0.732297  90273.781987  300.455957  0.262139   \n",
       "       4         0.728365  0.728086  91693.917176  302.810035  0.266263   \n",
       "200    2         0.736051  0.735923  89051.076502  298.414270  0.258589   \n",
       "       3         0.733351  0.733131  89992.591831  299.987653  0.261323   \n",
       "       4         0.731714  0.731490  90545.922208  300.908495  0.262930   \n",
       "300    2         0.735584  0.735452  89209.740281  298.679996  0.259050   \n",
       "       3         0.733477  0.733271  89945.464593  299.909094  0.261186   \n",
       "       4         0.730689  0.730442  90899.312989  301.495129  0.263956   \n",
       "\n",
       "                   nRMSE      MSLE     RMSLE  \n",
       "#Tress MaxFeat                                \n",
       "100    2        0.510359  0.120366  0.346938  \n",
       "       3        0.511995  0.121396  0.348419  \n",
       "       4        0.516007  0.123076  0.350823  \n",
       "200    2        0.508516  0.119710  0.345991  \n",
       "       3        0.511197  0.120814  0.347584  \n",
       "       4        0.512767  0.121698  0.348853  \n",
       "300    2        0.508969  0.119445  0.345608  \n",
       "       3        0.511064  0.120851  0.347636  \n",
       "       4        0.513766  0.121942  0.349201  "
      ]
     },
     "execution_count": 24,
     "metadata": {},
     "output_type": "execute_result"
    }
   ],
   "source": [
    "idx = pd.MultiIndex.from_tuples([(f,m) for f in forest_size for m in max_feats], names=['#Tress','MaxFeat'])\n",
    "\n",
    "metrics_svm = compute_metrics(y_true = y_test, y_pred = y_pred_rf, \n",
    "                              y_true_denorm = y_test_denorm, y_pred_denorm = y_pred_rf_denorm, \n",
    "                              indices = idx)  \n",
    "metrics_svm"
   ]
  },
  {
   "cell_type": "markdown",
   "metadata": {},
   "source": [
    "### 6. XGBoost"
   ]
  },
  {
   "cell_type": "code",
   "execution_count": 25,
   "metadata": {},
   "outputs": [
    {
     "data": {
      "text/plain": [
       "XGBRegressor(base_score=0.5, booster='gbtree', colsample_bylevel=1,\n",
       "       colsample_bytree=1, gamma=0, importance_type='gain',\n",
       "       learning_rate=0.1, max_delta_step=0, max_depth=10,\n",
       "       min_child_weight=1, missing=None, n_estimators=300, n_jobs=1,\n",
       "       nthread=None, objective='reg:linear', random_state=0, reg_alpha=0,\n",
       "       reg_lambda=1, scale_pos_weight=1, seed=None, silent=True,\n",
       "       subsample=1)"
      ]
     },
     "execution_count": 25,
     "metadata": {},
     "output_type": "execute_result"
    }
   ],
   "source": [
    "xgb_reg = xgb.XGBRegressor(n_estimators=300, max_depth=10)\n",
    "xgb_reg.fit(X_train, y_train)"
   ]
  },
  {
   "cell_type": "code",
   "execution_count": 26,
   "metadata": {},
   "outputs": [],
   "source": [
    "y_pred_xgb = xgb_reg.predict(X_test).reshape(1,-1)"
   ]
  },
  {
   "cell_type": "code",
   "execution_count": 27,
   "metadata": {},
   "outputs": [],
   "source": [
    "y_pred_xgb_denorm = out_scaler.inverse_transform(y_pred_xgb)\n",
    "\n",
    "# Set all negative outputs to zero (we're predicting time)\n",
    "y_pred_xgb_denorm[y_pred_xgb_denorm < 0] = 0\n",
    "\n",
    "# Transform back again\n",
    "y_pred_xgb = out_scaler.transform(y_pred_xgb_denorm)"
   ]
  },
  {
   "cell_type": "code",
   "execution_count": 28,
   "metadata": {},
   "outputs": [
    {
     "data": {
      "text/html": [
       "<div>\n",
       "<style scoped>\n",
       "    .dataframe tbody tr th:only-of-type {\n",
       "        vertical-align: middle;\n",
       "    }\n",
       "\n",
       "    .dataframe tbody tr th {\n",
       "        vertical-align: top;\n",
       "    }\n",
       "\n",
       "    .dataframe thead th {\n",
       "        text-align: right;\n",
       "    }\n",
       "</style>\n",
       "<table border=\"1\" class=\"dataframe\">\n",
       "  <thead>\n",
       "    <tr style=\"text-align: right;\">\n",
       "      <th></th>\n",
       "      <th>Exp. Var.</th>\n",
       "      <th>R2</th>\n",
       "      <th>MSE</th>\n",
       "      <th>RMSE</th>\n",
       "      <th>nMSE</th>\n",
       "      <th>nRMSE</th>\n",
       "      <th>MSLE</th>\n",
       "      <th>RMSLE</th>\n",
       "    </tr>\n",
       "  </thead>\n",
       "  <tbody>\n",
       "    <tr>\n",
       "      <th>0</th>\n",
       "      <td>0.722234</td>\n",
       "      <td>0.722173</td>\n",
       "      <td>93687.669103</td>\n",
       "      <td>306.084415</td>\n",
       "      <td>0.272053</td>\n",
       "      <td>0.521587</td>\n",
       "      <td>0.122125</td>\n",
       "      <td>0.349465</td>\n",
       "    </tr>\n",
       "  </tbody>\n",
       "</table>\n",
       "</div>"
      ],
      "text/plain": [
       "   Exp. Var.        R2           MSE        RMSE      nMSE     nRMSE  \\\n",
       "0   0.722234  0.722173  93687.669103  306.084415  0.272053  0.521587   \n",
       "\n",
       "       MSLE     RMSLE  \n",
       "0  0.122125  0.349465  "
      ]
     },
     "execution_count": 28,
     "metadata": {},
     "output_type": "execute_result"
    }
   ],
   "source": [
    "compute_metrics(y_true = y_test, y_pred = y_pred_xgb,\n",
    "                y_true_denorm = y_test_denorm, y_pred_denorm = y_pred_xgb_denorm,\n",
    "                indices=[0])"
   ]
  },
  {
   "cell_type": "markdown",
   "metadata": {},
   "source": [
    "### 7. Neural Network"
   ]
  },
  {
   "cell_type": "code",
   "execution_count": 75,
   "metadata": {},
   "outputs": [],
   "source": [
    "mlp_reg = MLPRegressor(hidden_layer_sizes=(100,4))"
   ]
  },
  {
   "cell_type": "code",
   "execution_count": 76,
   "metadata": {},
   "outputs": [
    {
     "data": {
      "text/plain": [
       "MLPRegressor(activation='relu', alpha=0.0001, batch_size='auto', beta_1=0.9,\n",
       "       beta_2=0.999, early_stopping=False, epsilon=1e-08,\n",
       "       hidden_layer_sizes=(100, 4), learning_rate='constant',\n",
       "       learning_rate_init=0.001, max_iter=200, momentum=0.9,\n",
       "       n_iter_no_change=10, nesterovs_momentum=True, power_t=0.5,\n",
       "       random_state=None, shuffle=True, solver='adam', tol=0.0001,\n",
       "       validation_fraction=0.1, verbose=False, warm_start=False)"
      ]
     },
     "execution_count": 76,
     "metadata": {},
     "output_type": "execute_result"
    }
   ],
   "source": [
    "mlp_reg.fit(X_train, y_train.ravel())"
   ]
  },
  {
   "cell_type": "code",
   "execution_count": 77,
   "metadata": {},
   "outputs": [],
   "source": [
    "y_pred_mlp = mlp_reg.predict(X_test).reshape(1,-1)"
   ]
  },
  {
   "cell_type": "code",
   "execution_count": 78,
   "metadata": {},
   "outputs": [],
   "source": [
    "y_pred_mlp_denorm = out_scaler.inverse_transform(y_pred_mlp)\n",
    "\n",
    "# Set all negative outputs to zero (we're predicting time)\n",
    "y_pred_mlp_denorm[y_pred_mlp_denorm < 0] = 0\n",
    "\n",
    "# Transform back again\n",
    "y_pred_mlp = out_scaler.transform(y_pred_mlp_denorm)"
   ]
  },
  {
   "cell_type": "code",
   "execution_count": 79,
   "metadata": {},
   "outputs": [
    {
     "data": {
      "text/html": [
       "<div>\n",
       "<style scoped>\n",
       "    .dataframe tbody tr th:only-of-type {\n",
       "        vertical-align: middle;\n",
       "    }\n",
       "\n",
       "    .dataframe tbody tr th {\n",
       "        vertical-align: top;\n",
       "    }\n",
       "\n",
       "    .dataframe thead th {\n",
       "        text-align: right;\n",
       "    }\n",
       "</style>\n",
       "<table border=\"1\" class=\"dataframe\">\n",
       "  <thead>\n",
       "    <tr style=\"text-align: right;\">\n",
       "      <th></th>\n",
       "      <th>Exp. Var.</th>\n",
       "      <th>R2</th>\n",
       "      <th>MSE</th>\n",
       "      <th>RMSE</th>\n",
       "      <th>nMSE</th>\n",
       "      <th>nRMSE</th>\n",
       "      <th>MSLE</th>\n",
       "      <th>RMSLE</th>\n",
       "    </tr>\n",
       "  </thead>\n",
       "  <tbody>\n",
       "    <tr>\n",
       "      <th>0</th>\n",
       "      <td>0.740337</td>\n",
       "      <td>0.739747</td>\n",
       "      <td>87761.494385</td>\n",
       "      <td>296.245666</td>\n",
       "      <td>0.254844</td>\n",
       "      <td>0.504821</td>\n",
       "      <td>0.129627</td>\n",
       "      <td>0.360038</td>\n",
       "    </tr>\n",
       "  </tbody>\n",
       "</table>\n",
       "</div>"
      ],
      "text/plain": [
       "   Exp. Var.        R2           MSE        RMSE      nMSE     nRMSE  \\\n",
       "0   0.740337  0.739747  87761.494385  296.245666  0.254844  0.504821   \n",
       "\n",
       "       MSLE     RMSLE  \n",
       "0  0.129627  0.360038  "
      ]
     },
     "execution_count": 79,
     "metadata": {},
     "output_type": "execute_result"
    }
   ],
   "source": [
    "compute_metrics(y_true = y_test, y_pred = y_pred_mlp,\n",
    "                y_true_denorm = y_test_denorm, y_pred_denorm = y_pred_mlp_denorm,\n",
    "                indices=[0])"
   ]
  },
  {
   "cell_type": "code",
   "execution_count": 39,
   "metadata": {
    "scrolled": true
   },
   "outputs": [
    {
     "data": {
      "image/png": "[encoded data removed]",
      "text/plain": [
       "<Figure size 288x288 with 1 Axes>"
      ]
     },
     "metadata": {
      "needs_background": "light"
     },
     "output_type": "display_data"
    }
   ],
   "source": [
    "fig = plt.figure(figsize=(4,4))\n",
    "plt.scatter(y_test_denorm, y_pred_mlp_denorm, s = 1)\n",
    "plt.plot((-1,3500),(-1,3500), '--', c='r')\n",
    "plt.xlim((-10,5500))\n",
    "plt.ylim((-10,5500))\n",
    "plt.show()"
   ]
  }
 ],
 "metadata": {
  "kernelspec": {
   "display_name": "Python 3",
   "language": "python",
   "name": "python3"
  },
  "language_info": {
   "codemirror_mode": {
    "name": "ipython",
    "version": 3
   },
   "file_extension": ".py",
   "mimetype": "text/x-python",
   "name": "python",
   "nbconvert_exporter": "python",
   "pygments_lexer": "ipython3",
   "version": "3.6.6"
  }
 },
 "nbformat": 4,
 "nbformat_minor": 2
}
